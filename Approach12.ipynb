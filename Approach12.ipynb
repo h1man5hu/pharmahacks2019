{
  "nbformat": 4,
  "nbformat_minor": 0,
  "metadata": {
    "kernelspec": {
      "name": "python3",
      "display_name": "Python 3"
    },
    "language_info": {
      "codemirror_mode": {
        "name": "ipython",
        "version": 3
      },
      "file_extension": ".py",
      "mimetype": "text/x-python",
      "name": "python",
      "nbconvert_exporter": "python",
      "pygments_lexer": "ipython3",
      "version": "3.7.3"
    },
    "colab": {
      "name": "Approach12.ipynb",
      "provenance": [],
      "collapsed_sections": []
    },
    "accelerator": "GPU"
  },
  "cells": [
    {
      "cell_type": "code",
      "metadata": {
        "id": "BL3a7tgmDPew",
        "colab_type": "code",
        "colab": {}
      },
      "source": [
        "# !pip install tensorflow==2.0.0\n",
        "# !pip install tensorflow==1.15.0\n",
        "# !pip install keras==2.3.1\n",
        "# !pip install tensorflow-gpu\n",
        "import keras\n",
        "import keras.backend as K\n",
        "from keras.layers import Dense, LSTM, concatenate, Input, CuDNNLSTM\n",
        "from keras.models import Model\n",
        "from keras.utils import plot_model, to_categorical\n",
        "from keras.optimizers import Adam, SGD\n",
        "from keras import metrics\n",
        "from keras.callbacks import ModelCheckpoint\n",
        "import numpy as np\n",
        "import pandas as pd\n",
        "from sklearn.model_selection import train_test_split"
      ],
      "execution_count": 0,
      "outputs": []
    },
    {
      "cell_type": "code",
      "metadata": {
        "id": "xdso6j73DPe5",
        "colab_type": "code",
        "colab": {}
      },
      "source": [
        "# feature_matrix = np.random.normal(size=(1000, 20))\n",
        "# vocab = ['START', 'C', 'O', '=', '1', '-', 'H', 'END']\n",
        "# vocab_size = len(vocab)+1"
      ],
      "execution_count": 0,
      "outputs": []
    },
    {
      "cell_type": "code",
      "metadata": {
        "id": "TonhfZXiDPe-",
        "colab_type": "code",
        "colab": {}
      },
      "source": [
        "# feature_matrix = []\n",
        "# for i in range(1000):\n",
        "#     feature = []\n",
        "#     feature_values = np.random.normal(size=(20))\n",
        "#     for j in range(10):\n",
        "#         feature.append(feature_values)\n",
        "#     feature = np.array(feature)\n",
        "#     feature_matrix.append(feature)\n",
        "# feature_matrix = np.array(feature_matrix).astype(int)\n",
        "# feature_matrix = feature_matrix.reshape(10000, 20)"
      ],
      "execution_count": 0,
      "outputs": []
    },
    {
      "cell_type": "code",
      "metadata": {
        "id": "CKN2MWykDPfC",
        "colab_type": "code",
        "colab": {}
      },
      "source": [
        "feature_matrix = pd.read_csv(\"descriptors.csv\")\n",
        "y_smiles_text = feature_matrix[\"molecule_smile\"]\n",
        "max_len = y_smiles_text.apply(len).max() #97\n",
        "feature_matrix = feature_matrix.drop(\"molecule_smile\", axis=1)\n",
        "n_features = feature_matrix.shape[1]\n",
        "X = y_smiles_text.apply(lambda x: '%' + x + '^')\n",
        "X_padded = X.apply(lambda x: x + '~'*(max_len-len(x)+2)) #99\n",
        "X = pd.Series(list(X_padded.sum()))\n",
        "Y_padded = y_smiles_text.apply(lambda x: x + '^' + '~'*(max_len-len(x)+1))\n",
        "Y = pd.Series(list(Y_padded.sum()))\n",
        "# print(len(X))\n",
        "# print(len(Y))\n",
        "# print(X.shape, Y.shape)\n",
        "# print(X.apply(len).min(), Y.apply(len).min())\n",
        "# print(X.apply(len).max(), Y.apply(len).max())"
      ],
      "execution_count": 0,
      "outputs": []
    },
    {
      "cell_type": "code",
      "metadata": {
        "id": "krQK11yPlVEm",
        "colab_type": "code",
        "outputId": "475e5227-7ba6-470a-b2e4-610db3f4e21e",
        "colab": {
          "base_uri": "https://localhost:8080/",
          "height": 34
        }
      },
      "source": [
        "# repeated_feature_matrix = []\n",
        "# for idx, row in feature_matrix.iterrows():\n",
        "#   for j in range(99):\n",
        "#     repeated_feature_matrix.append(row)\n",
        "# repeated_feature_matrix = np.array(repeated_feature_matrix)\n",
        "# print(repeated_feature_matrix.shape)"
      ],
      "execution_count": 7,
      "outputs": [
        {
          "output_type": "stream",
          "text": [
            "(333927, 90)\n"
          ],
          "name": "stdout"
        }
      ]
    },
    {
      "cell_type": "code",
      "metadata": {
        "id": "pofpJP1RomBD",
        "colab_type": "code",
        "colab": {
          "base_uri": "https://localhost:8080/",
          "height": 68
        },
        "outputId": "98430f41-3a77-4fe8-bf0c-6815bbb5bb40"
      },
      "source": [
        "# data = pd.concat([X, Y, pd.DataFrame(repeated_feature_matrix)], axis=1)\n",
        "# data.columns = ['X', 'Y']+list(data.columns[2:])\n",
        "# data_train, data_test = train_test_split(data, test_size=0.2)\n",
        "# data_train, data_val = train_test_split(data_train, test_size=0.2)\n",
        "# X_train = data_train['X']\n",
        "# Y_train = data_train['Y']\n",
        "# F_train = data_train.drop(['X', 'Y'], axis=1)\n",
        "# X_val = data_val['X']\n",
        "# Y_val = data_val['Y']\n",
        "# F_val = data_val.drop(['X', 'Y'], axis=1)\n",
        "# X_test = data_test['X']\n",
        "# Y_test = data_test['Y']\n",
        "# F_test = data_test.drop(['X', 'Y'], axis=1)\n",
        "# print(X_train.shape, Y_train.shape, F_train.shape)\n",
        "# print(X_val.shape, Y_val.shape, F_val.shape)\n",
        "# print(X_test.shape, Y_test.shape, F_test.shape)"
      ],
      "execution_count": 8,
      "outputs": [
        {
          "output_type": "stream",
          "text": [
            "(213712,) (213712,) (213712, 90)\n",
            "(53429,) (53429,) (53429, 90)\n",
            "(66786,) (66786,) (66786, 90)\n"
          ],
          "name": "stdout"
        }
      ]
    },
    {
      "cell_type": "code",
      "metadata": {
        "id": "IwlWyxuzWDXU",
        "colab_type": "code",
        "colab": {}
      },
      "source": [
        "data = pd.concat([X_padded, Y_padded, feature_matrix], axis=1)\n",
        "data.columns = ['X', 'Y']+list(data.columns[2:])\n",
        "data_train, data_test = train_test_split(data, test_size=0.2)\n",
        "data_train, data_val = train_test_split(data_train, test_size=0.2)\n",
        "X_train = data_train['X']\n",
        "Y_train = data_train['Y']\n",
        "F_train = data_train.drop(['X', 'Y'], axis=1)\n",
        "X_val = data_val['X']\n",
        "Y_val = data_val['Y']\n",
        "F_val = data_val.drop(['X', 'Y'], axis=1)\n",
        "X_test = data_test['X']\n",
        "Y_test = data_test['Y']\n",
        "F_test = data_test.drop(['X', 'Y'], axis=1)"
      ],
      "execution_count": 0,
      "outputs": []
    },
    {
      "cell_type": "code",
      "metadata": {
        "id": "waGnbhnaDPfH",
        "colab_type": "code",
        "outputId": "ec5f22e9-5a9b-4d1c-8fa6-337d9410b58f",
        "colab": {
          "base_uri": "https://localhost:8080/",
          "height": 34
        }
      },
      "source": [
        "F_W_train = []\n",
        "for idx, row in F_train.iterrows():\n",
        "    feature = []\n",
        "    feature_values = np.array(row)\n",
        "    for j in range(max_len+2):\n",
        "        feature.append(feature_values)\n",
        "    feature = np.array(feature)\n",
        "    F_W_train.append(feature)\n",
        "F_W_train = np.array(F_W_train)\n",
        "F_W_train = F_W_train.reshape(F_W_train.shape[0]*F_W_train.shape[1], F_W_train.shape[2])\n",
        "print(X_train.shape, Y_train.shape, F_W_train.shape)"
      ],
      "execution_count": 24,
      "outputs": [
        {
          "output_type": "stream",
          "text": [
            "(2158,) (2158,) (213642, 90)\n"
          ],
          "name": "stdout"
        }
      ]
    },
    {
      "cell_type": "code",
      "metadata": {
        "id": "c5qAkrvqavuf",
        "colab_type": "code",
        "outputId": "645d7e7f-656d-4ed2-a7cd-672dca7b8d04",
        "colab": {
          "base_uri": "https://localhost:8080/",
          "height": 34
        }
      },
      "source": [
        "F_W_val = []\n",
        "for idx, row in F_val.iterrows():\n",
        "    feature = []\n",
        "    feature_values = np.array(row)\n",
        "    for j in range(max_len+2):\n",
        "        feature.append(feature_values)\n",
        "    feature = np.array(feature)\n",
        "    F_W_val.append(feature)\n",
        "F_W_val = np.array(F_W_val)\n",
        "F_W_val = F_W_val.reshape(F_W_val.shape[0]*F_W_val.shape[1], F_W_val.shape[2])\n",
        "F_W_val.shape"
      ],
      "execution_count": 25,
      "outputs": [
        {
          "output_type": "execute_result",
          "data": {
            "text/plain": [
              "(53460, 90)"
            ]
          },
          "metadata": {
            "tags": []
          },
          "execution_count": 25
        }
      ]
    },
    {
      "cell_type": "code",
      "metadata": {
        "id": "smn6AOCO7zia",
        "colab_type": "code",
        "outputId": "685121c1-21e9-4233-cff6-a86196d6452f",
        "colab": {
          "base_uri": "https://localhost:8080/",
          "height": 34
        }
      },
      "source": [
        "F_W_test = []\n",
        "for idx, row in F_test.iterrows():\n",
        "    feature = []\n",
        "    feature_values = np.array(row)\n",
        "    for j in range(max_len+2):\n",
        "        feature.append(feature_values)\n",
        "    feature = np.array(feature)\n",
        "    F_W_test.append(feature)\n",
        "F_W_test = np.array(F_W_test)\n",
        "F_W_test = F_W_test.reshape(F_W_test.shape[0]*F_W_test.shape[1], F_W_test.shape[2])\n",
        "F_W_test.shape"
      ],
      "execution_count": 26,
      "outputs": [
        {
          "output_type": "execute_result",
          "data": {
            "text/plain": [
              "(66825, 90)"
            ]
          },
          "metadata": {
            "tags": []
          },
          "execution_count": 26
        }
      ]
    },
    {
      "cell_type": "code",
      "metadata": {
        "id": "yP7nW5IG-6F7",
        "colab_type": "code",
        "outputId": "5bd8593e-3e3d-4493-d3e1-c25d98d62e10",
        "colab": {
          "base_uri": "https://localhost:8080/",
          "height": 272
        }
      },
      "source": [
        "X_train_str = X_train\n",
        "X_val_str = X_val\n",
        "X_test_str = X_test\n",
        "Y_train_str = Y_train\n",
        "Y_val_str = Y_val\n",
        "Y_test_str = Y_test\n",
        "Y_test_str = Y_test\n",
        "print(X_train_str.shape, Y_train_str.shape)\n",
        "print(X_val_str.shape, Y_val_str.shape)\n",
        "print(X_test_str.shape, Y_test_str.shape)\n",
        "X_test_str"
      ],
      "execution_count": 28,
      "outputs": [
        {
          "output_type": "stream",
          "text": [
            "(2158,) (2158,)\n",
            "(540,) (540,)\n",
            "(675,) (675,)\n"
          ],
          "name": "stdout"
        },
        {
          "output_type": "execute_result",
          "data": {
            "text/plain": [
              "1820    %Cc1c(CC#N)cccc1-c1cccc(NS(=O)(=O)c2ccccc2)c1C...\n",
              "1746    %O=C(O)c1cc(Cl)c(Br)c(N2CCC(COc3ccc(C(=O)N4CCO...\n",
              "683     %CCOC(=O)C1(C(=O)Cc2ccccc2)CCCN(C(C)C)C1^~~~~~...\n",
              "1527    %CSc1ccc(OCCNc2cc(O)ncn2)cc1^~~~~~~~~~~~~~~~~~...\n",
              "1173    %O=C1CCC[C@@H](C(=O)N(c2c(Cl)cccc2Cl)S(=O)(=O)...\n",
              "                              ...                        \n",
              "277     %CN1CCN(c2ccc(C(=O)NCCCOc3c(F)c(F)c(F)c(F)c3F)...\n",
              "182     %C[C@H](CCC(=O)O)CC(=O)N1CCc2c(c(COCc3ccccc3F)...\n",
              "443     %CC1(C)CC1Nc1ccc(OCCN2CCCC2)cc1^~~~~~~~~~~~~~~...\n",
              "2848    %CC(C)(O)c1ccncc1NCc1nc(-c2cccc(Cl)c2)cs1^~~~~...\n",
              "3101    %O=c1c(S(=O)(=O)N2CCCCCC2)cccn1-c1cccc(Cl)c1C1...\n",
              "Name: X, Length: 675, dtype: object"
            ]
          },
          "metadata": {
            "tags": []
          },
          "execution_count": 28
        }
      ]
    },
    {
      "cell_type": "code",
      "metadata": {
        "id": "4dFfpqvKbCtP",
        "colab_type": "code",
        "outputId": "4f9e31b0-277f-42c9-f151-b7ed8c0c72dd",
        "colab": {
          "base_uri": "https://localhost:8080/",
          "height": 68
        }
      },
      "source": [
        "# X_train_str = X_train.sum()\n",
        "# X_val_str = X_val.sum()\n",
        "# X_test_str = X_test.sum()\n",
        "# Y_train_str = Y_train.sum()\n",
        "# Y_val_str = Y_val.sum()\n",
        "# Y_test_str = Y_test.sum()\n",
        "# Y_test_str = Y_test.sum()\n",
        "# print(len(X_train_str), len(Y_train_str))\n",
        "# print(len(X_val_str), len(Y_val_str))\n",
        "# print(len(X_test_str), len(Y_test_str))"
      ],
      "execution_count": 0,
      "outputs": [
        {
          "output_type": "stream",
          "text": [
            "213642 213642\n",
            "53460 53460\n",
            "66825 66825\n"
          ],
          "name": "stdout"
        }
      ]
    },
    {
      "cell_type": "code",
      "metadata": {
        "id": "RHcBNUFPDPfK",
        "colab_type": "code",
        "colab": {}
      },
      "source": [
        "# X = []\n",
        "# Y = []\n",
        "# sample_lengths = np.random.randint(low=5, high=max_sequence_length, size=1000)\n",
        "# for sample_length in sample_lengths:\n",
        "#     start_index = 1\n",
        "#     content = np.random.randint(low=2, high=vocab_size, size=sample_length-1)\n",
        "#     padding_x = np.zeros(max_sequence_length-sample_length-1)\n",
        "#     padding_y = np.zeros(max_sequence_length-sample_length)\n",
        "#     end_index = len(vocab)\n",
        "#     x = np.append(np.append(np.append(start_index, content), end_index), padding_x)\n",
        "#     y = np.append(np.append(content, end_index), padding_y)\n",
        "#     X.append(x)\n",
        "#     Y.append(y)\n",
        "# X = np.array(X).astype(int)\n",
        "# Y = np.array(Y).astype(int)"
      ],
      "execution_count": 0,
      "outputs": []
    },
    {
      "cell_type": "code",
      "metadata": {
        "id": "OxutyxLjDPfN",
        "colab_type": "code",
        "colab": {}
      },
      "source": [
        "# X_onehot = []\n",
        "# Y_onehot = []\n",
        "# for x, y in zip(X, Y):\n",
        "#     X_onehot.append(np.eye(9)[x])\n",
        "#     Y_onehot.append(np.eye(9)[y])\n",
        "# X_onehot = np.array(X_onehot).astype(int)\n",
        "# Y_onehot = np.array(Y_onehot).astype(int)"
      ],
      "execution_count": 0,
      "outputs": []
    },
    {
      "cell_type": "code",
      "metadata": {
        "id": "cJrs_vM6DPfO",
        "colab_type": "code",
        "colab": {}
      },
      "source": [
        "# X_final = X_onehot.reshape(X_onehot.shape[0]*X_onehot.shape[1], X_onehot.shape[2], 1)\n",
        "# Y_final = Y_onehot.reshape(Y_onehot.shape[0]*Y_onehot.shape[1], Y_onehot.shape[2])"
      ],
      "execution_count": 0,
      "outputs": []
    },
    {
      "cell_type": "code",
      "metadata": {
        "id": "E2SIXGMhDPfQ",
        "colab_type": "code",
        "outputId": "df24425c-59e1-462b-a2ad-1d7f3ae254be",
        "colab": {
          "base_uri": "https://localhost:8080/",
          "height": 34
        }
      },
      "source": [
        "# vocab = list(set(X_train_str+X_val_str+Y_train_str+Y_val_str+X_test_str+Y_test_str))\n",
        "# vocab_size = len(vocab)\n",
        "# vocab_size"
      ],
      "execution_count": 0,
      "outputs": [
        {
          "output_type": "execute_result",
          "data": {
            "text/plain": [
              "38"
            ]
          },
          "metadata": {
            "tags": []
          },
          "execution_count": 12
        }
      ]
    },
    {
      "cell_type": "code",
      "metadata": {
        "id": "9ULoOlNNp4oS",
        "colab_type": "code",
        "colab": {
          "base_uri": "https://localhost:8080/",
          "height": 34
        },
        "outputId": "fc44d84e-46c7-4c04-ca86-b6ec96619a52"
      },
      "source": [
        "vocab = list(set(list(list(X_train) + list(Y_train) + list(X_val))))\n",
        "vocab_size = len(vocab)\n",
        "vocab_size"
      ],
      "execution_count": 16,
      "outputs": [
        {
          "output_type": "execute_result",
          "data": {
            "text/plain": [
              "38"
            ]
          },
          "metadata": {
            "tags": []
          },
          "execution_count": 16
        }
      ]
    },
    {
      "cell_type": "code",
      "metadata": {
        "id": "uSyFzpe0DPfS",
        "colab_type": "code",
        "colab": {}
      },
      "source": [
        "# X_train_idx = [vocab.index(x) for x in X_train_str]\n",
        "# Y_train_idx = [vocab.index(x) for x in Y_train_str]\n",
        "# X_val_idx = [vocab.index(x) for x in X_val_str]\n",
        "# Y_val_idx = [vocab.index(x) for x in Y_val_str]\n",
        "# X_test_idx = [vocab.index(x) for x in X_test_str]\n",
        "# Y_test_idx = [vocab.index(x) for x in Y_test_str]"
      ],
      "execution_count": 0,
      "outputs": []
    },
    {
      "cell_type": "code",
      "metadata": {
        "id": "CDE4cQsdBuyI",
        "colab_type": "code",
        "outputId": "591414a7-9b59-4986-99bb-bb819ca066dd",
        "colab": {
          "base_uri": "https://localhost:8080/",
          "height": 68
        }
      },
      "source": [
        "X_train_idx = []\n",
        "for row in X_train_str:\n",
        "  row_idx = [vocab.index(x) for x in row]\n",
        "  X_train_idx.append(row_idx)\n",
        "X_val_idx = []\n",
        "for row in X_val_str:\n",
        "  row_idx = [vocab.index(x) for x in row]\n",
        "  X_val_idx.append(row_idx)\n",
        "X_test_idx = []\n",
        "for row in X_test_str:\n",
        "  row_idx = [vocab.index(x) for x in row]\n",
        "  X_test_idx.append(row_idx)\n",
        "Y_train_idx = []\n",
        "for row in Y_train_str:\n",
        "  row_idx = [vocab.index(x) for x in row]\n",
        "  Y_train_idx.append(row_idx)\n",
        "Y_val_idx = []\n",
        "for row in Y_val_str:\n",
        "  row_idx = [vocab.index(x) for x in row]\n",
        "  Y_val_idx.append(row_idx)\n",
        "Y_test_idx = []\n",
        "for row in Y_test_str:\n",
        "  row_idx = [vocab.index(x) for x in row]\n",
        "  Y_test_idx.append(row_idx)\n",
        "# Y_train_idx = [vocab.index(x) for x in Y_train_str]\n",
        "# X_val_idx = [vocab.index(x) for x in X_val_str]\n",
        "# Y_val_idx = [vocab.index(x) for x in Y_val_str]\n",
        "# X_test_idx = [vocab.index(x) for x in X_test_str]\n",
        "# Y_test_idx = [vocab.index(x) for x in Y_test_str]\n",
        "X_train_idx = np.array(X_train_idx)\n",
        "X_val_idx = np.array(X_val_idx)\n",
        "X_test_idx = np.array(X_test_idx)\n",
        "Y_train_idx = np.array(Y_train_idx)\n",
        "Y_val_idx = np.array(Y_val_idx)\n",
        "Y_test_idx = np.array(Y_test_idx)\n",
        "print(X_train_idx.shape, Y_train_idx.shape)\n",
        "print(X_val_idx.shape, Y_val_idx.shape)\n",
        "print(X_test_idx.shape, Y_test_idx.shape)"
      ],
      "execution_count": 29,
      "outputs": [
        {
          "output_type": "stream",
          "text": [
            "(2158, 99) (2158, 99)\n",
            "(540, 99) (540, 99)\n",
            "(675, 99) (675, 99)\n"
          ],
          "name": "stdout"
        }
      ]
    },
    {
      "cell_type": "code",
      "metadata": {
        "id": "mxIvlHb6q_8f",
        "colab_type": "code",
        "colab": {
          "base_uri": "https://localhost:8080/",
          "height": 221
        },
        "outputId": "ec616b67-4e8d-4a41-c30c-7ccdd7e51db3"
      },
      "source": [
        "X_train"
      ],
      "execution_count": 13,
      "outputs": [
        {
          "output_type": "execute_result",
          "data": {
            "text/plain": [
              "254281    c\n",
              "250627    ~\n",
              "190173    ~\n",
              "254346    N\n",
              "101303    C\n",
              "         ..\n",
              "270504    3\n",
              "74687     c\n",
              "156038    2\n",
              "262121    ~\n",
              "266710    n\n",
              "Name: X, Length: 213712, dtype: object"
            ]
          },
          "metadata": {
            "tags": []
          },
          "execution_count": 13
        }
      ]
    },
    {
      "cell_type": "code",
      "metadata": {
        "id": "JTVjltiEq4h1",
        "colab_type": "code",
        "colab": {
          "base_uri": "https://localhost:8080/",
          "height": 34
        },
        "outputId": "cb4348f5-bfc7-48ad-b9e9-f38647134342"
      },
      "source": [
        "# X_train_idx = []\n",
        "# for row in X_train:\n",
        "#   row_idx = vocab.index(row)\n",
        "#   X_train_idx.append(row_idx)\n",
        "# X_val_idx = []\n",
        "# for row in X_val_str:\n",
        "#   row_idx = [vocab.index(x) for x in row]\n",
        "#   X_val_idx.append(row_idx)\n",
        "# X_test_idx = []\n",
        "# for row in X_test_str:\n",
        "#   row_idx = [vocab.index(x) for x in row]\n",
        "#   X_test_idx.append(row_idx)\n",
        "# Y_train_idx = []\n",
        "# for row in Y_train_str:\n",
        "#   row_idx = [vocab.index(x) for x in row]\n",
        "#   Y_train_idx.append(row_idx)\n",
        "# Y_val_idx = []\n",
        "# for row in Y_val_str:\n",
        "#   row_idx = [vocab.index(x) for x in row]\n",
        "#   Y_val_idx.append(row_idx)\n",
        "# Y_test_idx = []\n",
        "# for row in Y_test_str:\n",
        "#   row_idx = [vocab.index(x) for x in row]\n",
        "#   Y_test_idx.append(row_idx)\n",
        "# # Y_train_idx = [vocab.index(x) for x in Y_train_str]\n",
        "# # X_val_idx = [vocab.index(x) for x in X_val_str]\n",
        "# # Y_val_idx = [vocab.index(x) for x in Y_val_str]\n",
        "# # X_test_idx = [vocab.index(x) for x in X_test_str]\n",
        "# # Y_test_idx = [vocab.index(x) for x in Y_test_str]\n",
        "# X_train_idx = np.array(X_train_idx)\n",
        "# X_val_idx = np.array(X_val_idx)\n",
        "# X_test_idx = np.array(X_test_idx)\n",
        "# Y_train_idx = np.array(Y_train_idx)\n",
        "# Y_val_idx = np.array(Y_val_idx)\n",
        "# Y_test_idx = np.array(Y_test_idx)\n",
        "# print(X_train_idx.shape, Y_train_idx.shape)\n",
        "# print(X_val_idx.shape, Y_val_idx.shape)\n",
        "# print(X_test_idx.shape, Y_test_idx.shape)\n",
        "X_train.values"
      ],
      "execution_count": 19,
      "outputs": [
        {
          "output_type": "execute_result",
          "data": {
            "text/plain": [
              "array(['c', '~', '~', ..., '2', '~', 'n'], dtype=object)"
            ]
          },
          "metadata": {
            "tags": []
          },
          "execution_count": 19
        }
      ]
    },
    {
      "cell_type": "code",
      "metadata": {
        "id": "t9lULlFVDPfU",
        "colab_type": "code",
        "outputId": "4ba7099b-dfc2-4e5f-af43-f20906e31c23",
        "colab": {
          "base_uri": "https://localhost:8080/",
          "height": 68
        }
      },
      "source": [
        "X_train_onehot = to_categorical(X_train_idx)\n",
        "X_val_onehot = to_categorical(X_val_idx)\n",
        "X_test_onehot = to_categorical(X_test_idx)\n",
        "\n",
        "Y_train_onehot = to_categorical(Y_train_idx)\n",
        "Y_val_onehot = to_categorical(Y_val_idx)\n",
        "Y_test_onehot = to_categorical(Y_test_idx)\n",
        "print(X_train_onehot.shape, Y_train_onehot.shape)\n",
        "print(X_val_onehot.shape, Y_val_onehot.shape)\n",
        "print(X_test_onehot.shape, Y_test_onehot.shape)"
      ],
      "execution_count": 30,
      "outputs": [
        {
          "output_type": "stream",
          "text": [
            "(2158, 99, 38) (2158, 99, 38)\n",
            "(540, 99, 38) (540, 99, 38)\n",
            "(675, 99, 38) (675, 99, 38)\n"
          ],
          "name": "stdout"
        }
      ]
    },
    {
      "cell_type": "code",
      "metadata": {
        "id": "WaPzQPskDu05",
        "colab_type": "code",
        "outputId": "8216e0f5-3871-4e29-d7e1-349844352851",
        "colab": {
          "base_uri": "https://localhost:8080/",
          "height": 34
        }
      },
      "source": [
        "F_train = np.array(F_train).reshape(F_train.shape[0], 1, F_train.shape[1]).repeat(99, axis=1)\n",
        "F_val = np.array(F_val).reshape(F_val.shape[0], 1, F_val.shape[1]).repeat(99, axis=1)\n",
        "F_test = np.array(F_test).reshape(F_test.shape[0], 1, F_test.shape[1]).repeat(99, axis=1)\n",
        "print(F_train.shape, F_val.shape, F_test.shape)"
      ],
      "execution_count": 31,
      "outputs": [
        {
          "output_type": "stream",
          "text": [
            "(2158, 99, 90) (540, 99, 90) (675, 99, 90)\n"
          ],
          "name": "stdout"
        }
      ]
    },
    {
      "cell_type": "code",
      "metadata": {
        "id": "lgItdGERE2ML",
        "colab_type": "code",
        "outputId": "9ce1ac22-d5a2-4fb7-b818-35811d7cdaf0",
        "colab": {
          "base_uri": "https://localhost:8080/",
          "height": 34
        }
      },
      "source": [
        "print(X_train_onehot.shape, F_train.shape)"
      ],
      "execution_count": 0,
      "outputs": [
        {
          "output_type": "stream",
          "text": [
            "(2158, 99, 38) (2158, 99, 90)\n"
          ],
          "name": "stdout"
        }
      ]
    },
    {
      "cell_type": "code",
      "metadata": {
        "id": "6pYUbdLy8lZe",
        "colab_type": "code",
        "outputId": "0da4662f-906c-4239-e893-dc542c7b3383",
        "colab": {
          "base_uri": "https://localhost:8080/",
          "height": 68
        }
      },
      "source": [
        "X_F_train = np.concatenate([X_train_onehot, F_train], axis=2)\n",
        "X_F_val = np.concatenate([X_val_onehot, F_val], axis=2)\n",
        "X_F_test = np.concatenate([X_test_onehot, F_test], axis=2)\n",
        "print(X_F_train.shape, Y_train_onehot.shape)\n",
        "print(X_F_val.shape, Y_val_onehot.shape)\n",
        "print(X_F_test.shape, Y_test_onehot.shape)"
      ],
      "execution_count": 32,
      "outputs": [
        {
          "output_type": "stream",
          "text": [
            "(2158, 99, 128) (2158, 99, 38)\n",
            "(540, 99, 128) (540, 99, 38)\n",
            "(675, 99, 128) (675, 99, 38)\n"
          ],
          "name": "stdout"
        }
      ]
    },
    {
      "cell_type": "code",
      "metadata": {
        "id": "2TNsQRXcKq4_",
        "colab_type": "code",
        "outputId": "3b208ddf-0548-4a35-e937-2ca7922880b9",
        "colab": {
          "base_uri": "https://localhost:8080/",
          "height": 68
        }
      },
      "source": [
        "encoder_inputs_train = X_F_train\n",
        "decoder_inputs_train = X_train_onehot\n",
        "decoder_outputs_train = Y_train_onehot\n",
        "encoder_inputs_val = X_F_val\n",
        "decoder_inputs_val = X_val_onehot\n",
        "decoder_outputs_val = Y_val_onehot\n",
        "encoder_inputs_test = X_F_test\n",
        "decoder_inputs_test = X_test_onehot\n",
        "decoder_outputs_test = Y_test_onehot\n",
        "print(encoder_inputs_train.shape, decoder_inputs_train.shape, decoder_outputs_train.shape)\n",
        "print(encoder_inputs_val.shape, decoder_inputs_val.shape, decoder_outputs_val.shape)\n",
        "print(encoder_inputs_test.shape, decoder_inputs_test.shape, decoder_outputs_test.shape)"
      ],
      "execution_count": 33,
      "outputs": [
        {
          "output_type": "stream",
          "text": [
            "(2158, 99, 128) (2158, 99, 38) (2158, 99, 38)\n",
            "(540, 99, 128) (540, 99, 38) (540, 99, 38)\n",
            "(675, 99, 128) (675, 99, 38) (675, 99, 38)\n"
          ],
          "name": "stdout"
        }
      ]
    },
    {
      "cell_type": "code",
      "metadata": {
        "id": "kB5Z2PI48qvH",
        "colab_type": "code",
        "colab": {}
      },
      "source": [
        "# X_F_train_onehot = X_F_train.reshape(X_F_train.shape[0], X_F_train.shape[1], 1)\n",
        "# X_F_val_onehot = X_F_val.reshape(X_F_val.shape[0], X_F_val.shape[1], 1)\n",
        "# X_F_test_onehot = X_F_test.reshape(X_F_test.shape[0], X_F_test.shape[1], 1)"
      ],
      "execution_count": 0,
      "outputs": []
    },
    {
      "cell_type": "code",
      "metadata": {
        "id": "LWRJEtkB-leO",
        "colab_type": "code",
        "outputId": "6d984130-9891-4c66-dd76-bfbc27fd2a2c",
        "colab": {
          "base_uri": "https://localhost:8080/",
          "height": 357
        }
      },
      "source": [
        "encoder_inputs = Input(shape=(None, 128))\n",
        "encoder = CuDNNLSTM(64, return_state=True)\n",
        "encoder_outputs, state_h, state_c = encoder(encoder_inputs)\n",
        "encoder_states = [state_h, state_c]\n",
        "\n",
        "decoder_inputs = Input(shape=(None, 38))\n",
        "decoder_lstm = CuDNNLSTM(64, return_sequences=True, return_state=True)\n",
        "decoder_outputs, _, _ = decoder_lstm(decoder_inputs,\n",
        "                                     initial_state=encoder_states)\n",
        "decoder_dense = Dense(38, activation='softmax')\n",
        "decoder_outputs = decoder_dense(decoder_outputs)\n",
        "\n",
        "\n",
        "model = Model([encoder_inputs, decoder_inputs], decoder_outputs)\n",
        "model.summary()"
      ],
      "execution_count": 36,
      "outputs": [
        {
          "output_type": "stream",
          "text": [
            "Model: \"model_2\"\n",
            "__________________________________________________________________________________________________\n",
            "Layer (type)                    Output Shape         Param #     Connected to                     \n",
            "==================================================================================================\n",
            "input_3 (InputLayer)            (None, None, 128)    0                                            \n",
            "__________________________________________________________________________________________________\n",
            "input_4 (InputLayer)            (None, None, 38)     0                                            \n",
            "__________________________________________________________________________________________________\n",
            "cu_dnnlstm_1 (CuDNNLSTM)        [(None, 64), (None,  49664       input_3[0][0]                    \n",
            "__________________________________________________________________________________________________\n",
            "cu_dnnlstm_2 (CuDNNLSTM)        [(None, None, 64), ( 26624       input_4[0][0]                    \n",
            "                                                                 cu_dnnlstm_1[0][1]               \n",
            "                                                                 cu_dnnlstm_1[0][2]               \n",
            "__________________________________________________________________________________________________\n",
            "dense_2 (Dense)                 (None, None, 38)     2470        cu_dnnlstm_2[0][0]               \n",
            "==================================================================================================\n",
            "Total params: 78,758\n",
            "Trainable params: 78,758\n",
            "Non-trainable params: 0\n",
            "__________________________________________________________________________________________________\n"
          ],
          "name": "stdout"
        }
      ]
    },
    {
      "cell_type": "code",
      "metadata": {
        "id": "O1yN24HXLkJv",
        "colab_type": "code",
        "outputId": "46c3843a-2b8d-4923-c4a9-9b4e8186294f",
        "colab": {
          "base_uri": "https://localhost:8080/",
          "height": 1000
        }
      },
      "source": [
        "optimizer = Adam(lr=0.001, beta_1=0.9, beta_2=0.999, amsgrad=False)\n",
        "model.compile(optimizer=optimizer, loss='categorical_crossentropy', metrics=[metrics.categorical_accuracy])\n",
        "checkpoint = ModelCheckpoint(\"model\", monitor='val_categorical_accuracy', verbose=1, save_best_only=True, save_weights_only=False, mode='auto', period=5)\n",
        "history = model.fit([encoder_inputs_train, decoder_inputs_train], decoder_outputs_train,\n",
        "          batch_size=64,\n",
        "          epochs=100,\n",
        "          validation_data=([encoder_inputs_val, decoder_inputs_val], decoder_outputs_val),\n",
        "          callbacks=[checkpoint])"
      ],
      "execution_count": 53,
      "outputs": [
        {
          "output_type": "stream",
          "text": [
            "Train on 2158 samples, validate on 540 samples\n",
            "Epoch 1/100\n",
            "2158/2158 [==============================] - 2s 845us/step - loss: 0.4898 - categorical_accuracy: 0.8324 - val_loss: 0.4895 - val_categorical_accuracy: 0.8329\n",
            "Epoch 2/100\n",
            "2158/2158 [==============================] - 1s 328us/step - loss: 0.4568 - categorical_accuracy: 0.8436 - val_loss: 0.4796 - val_categorical_accuracy: 0.8350\n",
            "Epoch 3/100\n",
            "2158/2158 [==============================] - 1s 330us/step - loss: 0.4513 - categorical_accuracy: 0.8455 - val_loss: 0.4774 - val_categorical_accuracy: 0.8372\n",
            "Epoch 4/100\n",
            "2158/2158 [==============================] - 1s 325us/step - loss: 0.4490 - categorical_accuracy: 0.8462 - val_loss: 0.4764 - val_categorical_accuracy: 0.8383\n",
            "Epoch 5/100\n",
            "2158/2158 [==============================] - 1s 332us/step - loss: 0.4451 - categorical_accuracy: 0.8477 - val_loss: 0.4711 - val_categorical_accuracy: 0.8391\n",
            "\n",
            "Epoch 00005: val_categorical_accuracy improved from -inf to 0.83913, saving model to model\n",
            "Epoch 6/100\n",
            "2158/2158 [==============================] - 1s 333us/step - loss: 0.4415 - categorical_accuracy: 0.8491 - val_loss: 0.4713 - val_categorical_accuracy: 0.8389\n",
            "Epoch 7/100\n",
            "2158/2158 [==============================] - 1s 339us/step - loss: 0.4406 - categorical_accuracy: 0.8488 - val_loss: 0.4692 - val_categorical_accuracy: 0.8388\n",
            "Epoch 8/100\n",
            "2158/2158 [==============================] - 1s 337us/step - loss: 0.4376 - categorical_accuracy: 0.8503 - val_loss: 0.4647 - val_categorical_accuracy: 0.8403\n",
            "Epoch 9/100\n",
            "2158/2158 [==============================] - 1s 330us/step - loss: 0.4352 - categorical_accuracy: 0.8507 - val_loss: 0.4642 - val_categorical_accuracy: 0.8411\n",
            "Epoch 10/100\n",
            "2158/2158 [==============================] - 1s 337us/step - loss: 0.4332 - categorical_accuracy: 0.8514 - val_loss: 0.4638 - val_categorical_accuracy: 0.8408\n",
            "\n",
            "Epoch 00010: val_categorical_accuracy improved from 0.83913 to 0.84082, saving model to model\n",
            "Epoch 11/100\n",
            "2158/2158 [==============================] - 1s 328us/step - loss: 0.4302 - categorical_accuracy: 0.8520 - val_loss: 0.4606 - val_categorical_accuracy: 0.8416\n",
            "Epoch 12/100\n",
            "2158/2158 [==============================] - 1s 337us/step - loss: 0.4289 - categorical_accuracy: 0.8533 - val_loss: 0.4600 - val_categorical_accuracy: 0.8413\n",
            "Epoch 13/100\n",
            "2158/2158 [==============================] - 1s 332us/step - loss: 0.4261 - categorical_accuracy: 0.8540 - val_loss: 0.4602 - val_categorical_accuracy: 0.8426\n",
            "Epoch 14/100\n",
            "2158/2158 [==============================] - 1s 332us/step - loss: 0.4232 - categorical_accuracy: 0.8545 - val_loss: 0.4575 - val_categorical_accuracy: 0.8422\n",
            "Epoch 15/100\n",
            "2158/2158 [==============================] - 1s 338us/step - loss: 0.4215 - categorical_accuracy: 0.8550 - val_loss: 0.4556 - val_categorical_accuracy: 0.8421\n",
            "\n",
            "Epoch 00015: val_categorical_accuracy improved from 0.84082 to 0.84205, saving model to model\n",
            "Epoch 16/100\n",
            "2158/2158 [==============================] - 1s 321us/step - loss: 0.4187 - categorical_accuracy: 0.8560 - val_loss: 0.4532 - val_categorical_accuracy: 0.8448\n",
            "Epoch 17/100\n",
            "2158/2158 [==============================] - 1s 337us/step - loss: 0.4168 - categorical_accuracy: 0.8563 - val_loss: 0.4489 - val_categorical_accuracy: 0.8447\n",
            "Epoch 18/100\n",
            "2158/2158 [==============================] - 1s 337us/step - loss: 0.4136 - categorical_accuracy: 0.8579 - val_loss: 0.4486 - val_categorical_accuracy: 0.8440\n",
            "Epoch 19/100\n",
            "2158/2158 [==============================] - 1s 328us/step - loss: 0.4108 - categorical_accuracy: 0.8586 - val_loss: 0.4469 - val_categorical_accuracy: 0.8468\n",
            "Epoch 20/100\n",
            "2158/2158 [==============================] - 1s 346us/step - loss: 0.4098 - categorical_accuracy: 0.8588 - val_loss: 0.4474 - val_categorical_accuracy: 0.8468\n",
            "\n",
            "Epoch 00020: val_categorical_accuracy improved from 0.84205 to 0.84680, saving model to model\n",
            "Epoch 21/100\n",
            "2158/2158 [==============================] - 1s 334us/step - loss: 0.4075 - categorical_accuracy: 0.8596 - val_loss: 0.4424 - val_categorical_accuracy: 0.8465\n",
            "Epoch 22/100\n",
            "2158/2158 [==============================] - 1s 343us/step - loss: 0.4053 - categorical_accuracy: 0.8603 - val_loss: 0.4446 - val_categorical_accuracy: 0.8477\n",
            "Epoch 23/100\n",
            "2158/2158 [==============================] - 1s 342us/step - loss: 0.4059 - categorical_accuracy: 0.8601 - val_loss: 0.4378 - val_categorical_accuracy: 0.8485\n",
            "Epoch 24/100\n",
            "2158/2158 [==============================] - 1s 342us/step - loss: 0.4012 - categorical_accuracy: 0.8619 - val_loss: 0.4412 - val_categorical_accuracy: 0.8480\n",
            "Epoch 25/100\n",
            "2158/2158 [==============================] - 1s 340us/step - loss: 0.3993 - categorical_accuracy: 0.8623 - val_loss: 0.4378 - val_categorical_accuracy: 0.8498\n",
            "\n",
            "Epoch 00025: val_categorical_accuracy improved from 0.84680 to 0.84981, saving model to model\n",
            "Epoch 26/100\n",
            "2158/2158 [==============================] - 1s 345us/step - loss: 0.3979 - categorical_accuracy: 0.8628 - val_loss: 0.4371 - val_categorical_accuracy: 0.8493\n",
            "Epoch 27/100\n",
            "2158/2158 [==============================] - 1s 338us/step - loss: 0.3965 - categorical_accuracy: 0.8633 - val_loss: 0.4337 - val_categorical_accuracy: 0.8488\n",
            "Epoch 28/100\n",
            "2158/2158 [==============================] - 1s 346us/step - loss: 0.3930 - categorical_accuracy: 0.8646 - val_loss: 0.4310 - val_categorical_accuracy: 0.8505\n",
            "Epoch 29/100\n",
            "2158/2158 [==============================] - 1s 348us/step - loss: 0.3902 - categorical_accuracy: 0.8653 - val_loss: 0.4376 - val_categorical_accuracy: 0.8476\n",
            "Epoch 30/100\n",
            "2158/2158 [==============================] - 1s 354us/step - loss: 0.3923 - categorical_accuracy: 0.8642 - val_loss: 0.4310 - val_categorical_accuracy: 0.8510\n",
            "\n",
            "Epoch 00030: val_categorical_accuracy improved from 0.84981 to 0.85097, saving model to model\n",
            "Epoch 31/100\n",
            "2158/2158 [==============================] - 1s 362us/step - loss: 0.3883 - categorical_accuracy: 0.8663 - val_loss: 0.4255 - val_categorical_accuracy: 0.8528\n",
            "Epoch 32/100\n",
            "2158/2158 [==============================] - 1s 334us/step - loss: 0.3856 - categorical_accuracy: 0.8672 - val_loss: 0.4247 - val_categorical_accuracy: 0.8539\n",
            "Epoch 33/100\n",
            "2158/2158 [==============================] - 1s 347us/step - loss: 0.3840 - categorical_accuracy: 0.8675 - val_loss: 0.4273 - val_categorical_accuracy: 0.8526\n",
            "Epoch 34/100\n",
            "2158/2158 [==============================] - 1s 337us/step - loss: 0.3807 - categorical_accuracy: 0.8691 - val_loss: 0.4262 - val_categorical_accuracy: 0.8524\n",
            "Epoch 35/100\n",
            "2158/2158 [==============================] - 1s 334us/step - loss: 0.3815 - categorical_accuracy: 0.8682 - val_loss: 0.4225 - val_categorical_accuracy: 0.8546\n",
            "\n",
            "Epoch 00035: val_categorical_accuracy improved from 0.85097 to 0.85464, saving model to model\n",
            "Epoch 36/100\n",
            "2158/2158 [==============================] - 1s 353us/step - loss: 0.3783 - categorical_accuracy: 0.8698 - val_loss: 0.4233 - val_categorical_accuracy: 0.8533\n",
            "Epoch 37/100\n",
            "2158/2158 [==============================] - 1s 367us/step - loss: 0.3764 - categorical_accuracy: 0.8705 - val_loss: 0.4226 - val_categorical_accuracy: 0.8522\n",
            "Epoch 38/100\n",
            "2158/2158 [==============================] - 1s 336us/step - loss: 0.3776 - categorical_accuracy: 0.8699 - val_loss: 0.4177 - val_categorical_accuracy: 0.8561\n",
            "Epoch 39/100\n",
            "2158/2158 [==============================] - 1s 337us/step - loss: 0.3726 - categorical_accuracy: 0.8717 - val_loss: 0.4165 - val_categorical_accuracy: 0.8553\n",
            "Epoch 40/100\n",
            "2158/2158 [==============================] - 1s 332us/step - loss: 0.3711 - categorical_accuracy: 0.8718 - val_loss: 0.4157 - val_categorical_accuracy: 0.8564\n",
            "\n",
            "Epoch 00040: val_categorical_accuracy improved from 0.85464 to 0.85640, saving model to model\n",
            "Epoch 41/100\n",
            "2158/2158 [==============================] - 1s 337us/step - loss: 0.3733 - categorical_accuracy: 0.8714 - val_loss: 0.4168 - val_categorical_accuracy: 0.8564\n",
            "Epoch 42/100\n",
            "2158/2158 [==============================] - 1s 332us/step - loss: 0.3682 - categorical_accuracy: 0.8731 - val_loss: 0.4137 - val_categorical_accuracy: 0.8569\n",
            "Epoch 43/100\n",
            "2158/2158 [==============================] - 1s 340us/step - loss: 0.3652 - categorical_accuracy: 0.8741 - val_loss: 0.4117 - val_categorical_accuracy: 0.8576\n",
            "Epoch 44/100\n",
            "2158/2158 [==============================] - 1s 331us/step - loss: 0.3668 - categorical_accuracy: 0.8735 - val_loss: 0.4119 - val_categorical_accuracy: 0.8572\n",
            "Epoch 45/100\n",
            "2158/2158 [==============================] - 1s 334us/step - loss: 0.3644 - categorical_accuracy: 0.8743 - val_loss: 0.4094 - val_categorical_accuracy: 0.8584\n",
            "\n",
            "Epoch 00045: val_categorical_accuracy improved from 0.85640 to 0.85838, saving model to model\n",
            "Epoch 46/100\n",
            "2158/2158 [==============================] - 1s 334us/step - loss: 0.3611 - categorical_accuracy: 0.8758 - val_loss: 0.4114 - val_categorical_accuracy: 0.8586\n",
            "Epoch 47/100\n",
            "2158/2158 [==============================] - 1s 342us/step - loss: 0.3590 - categorical_accuracy: 0.8764 - val_loss: 0.4097 - val_categorical_accuracy: 0.8585\n",
            "Epoch 48/100\n",
            "2158/2158 [==============================] - 1s 330us/step - loss: 0.3604 - categorical_accuracy: 0.8761 - val_loss: 0.4103 - val_categorical_accuracy: 0.8578\n",
            "Epoch 49/100\n",
            "2158/2158 [==============================] - 1s 344us/step - loss: 0.3573 - categorical_accuracy: 0.8772 - val_loss: 0.4045 - val_categorical_accuracy: 0.8612\n",
            "Epoch 50/100\n",
            "2158/2158 [==============================] - 1s 338us/step - loss: 0.3548 - categorical_accuracy: 0.8781 - val_loss: 0.4109 - val_categorical_accuracy: 0.8572\n",
            "\n",
            "Epoch 00050: val_categorical_accuracy did not improve from 0.85838\n",
            "Epoch 51/100\n",
            "2158/2158 [==============================] - 1s 349us/step - loss: 0.3548 - categorical_accuracy: 0.8777 - val_loss: 0.4046 - val_categorical_accuracy: 0.8595\n",
            "Epoch 52/100\n",
            "2158/2158 [==============================] - 1s 335us/step - loss: 0.3534 - categorical_accuracy: 0.8783 - val_loss: 0.4081 - val_categorical_accuracy: 0.8587\n",
            "Epoch 53/100\n",
            "2158/2158 [==============================] - 1s 346us/step - loss: 0.3501 - categorical_accuracy: 0.8801 - val_loss: 0.4025 - val_categorical_accuracy: 0.8603\n",
            "Epoch 54/100\n",
            "2158/2158 [==============================] - 1s 346us/step - loss: 0.3468 - categorical_accuracy: 0.8807 - val_loss: 0.4046 - val_categorical_accuracy: 0.8605\n",
            "Epoch 55/100\n",
            "2158/2158 [==============================] - 1s 344us/step - loss: 0.3473 - categorical_accuracy: 0.8807 - val_loss: 0.4061 - val_categorical_accuracy: 0.8591\n",
            "\n",
            "Epoch 00055: val_categorical_accuracy improved from 0.85838 to 0.85907, saving model to model\n",
            "Epoch 56/100\n",
            "2158/2158 [==============================] - 1s 330us/step - loss: 0.3497 - categorical_accuracy: 0.8794 - val_loss: 0.3974 - val_categorical_accuracy: 0.8630\n",
            "Epoch 57/100\n",
            "2158/2158 [==============================] - 1s 337us/step - loss: 0.3453 - categorical_accuracy: 0.8812 - val_loss: 0.4003 - val_categorical_accuracy: 0.8615\n",
            "Epoch 58/100\n",
            "2158/2158 [==============================] - 1s 336us/step - loss: 0.3530 - categorical_accuracy: 0.8778 - val_loss: 0.4003 - val_categorical_accuracy: 0.8606\n",
            "Epoch 59/100\n",
            "2158/2158 [==============================] - 1s 327us/step - loss: 0.3463 - categorical_accuracy: 0.8803 - val_loss: 0.3969 - val_categorical_accuracy: 0.8619\n",
            "Epoch 60/100\n",
            "2158/2158 [==============================] - 1s 340us/step - loss: 0.3407 - categorical_accuracy: 0.8828 - val_loss: 0.3968 - val_categorical_accuracy: 0.8634\n",
            "\n",
            "Epoch 00060: val_categorical_accuracy improved from 0.85907 to 0.86339, saving model to model\n",
            "Epoch 61/100\n",
            "2158/2158 [==============================] - 1s 337us/step - loss: 0.3403 - categorical_accuracy: 0.8825 - val_loss: 0.3960 - val_categorical_accuracy: 0.8623\n",
            "Epoch 62/100\n",
            "2158/2158 [==============================] - 1s 327us/step - loss: 0.3390 - categorical_accuracy: 0.8834 - val_loss: 0.3970 - val_categorical_accuracy: 0.8625\n",
            "Epoch 63/100\n",
            "2158/2158 [==============================] - 1s 339us/step - loss: 0.3387 - categorical_accuracy: 0.8835 - val_loss: 0.3954 - val_categorical_accuracy: 0.8630\n",
            "Epoch 64/100\n",
            "2158/2158 [==============================] - 1s 343us/step - loss: 0.3368 - categorical_accuracy: 0.8838 - val_loss: 0.3928 - val_categorical_accuracy: 0.8648\n",
            "Epoch 65/100\n",
            "2158/2158 [==============================] - 1s 347us/step - loss: 0.3376 - categorical_accuracy: 0.8836 - val_loss: 0.3953 - val_categorical_accuracy: 0.8638\n",
            "\n",
            "Epoch 00065: val_categorical_accuracy improved from 0.86339 to 0.86380, saving model to model\n",
            "Epoch 66/100\n",
            "2158/2158 [==============================] - 1s 342us/step - loss: 0.3351 - categorical_accuracy: 0.8846 - val_loss: 0.3925 - val_categorical_accuracy: 0.8653\n",
            "Epoch 67/100\n",
            "2158/2158 [==============================] - 1s 346us/step - loss: 0.3314 - categorical_accuracy: 0.8864 - val_loss: 0.3897 - val_categorical_accuracy: 0.8662\n",
            "Epoch 68/100\n",
            "2158/2158 [==============================] - 1s 341us/step - loss: 0.3291 - categorical_accuracy: 0.8871 - val_loss: 0.4035 - val_categorical_accuracy: 0.8622\n",
            "Epoch 69/100\n",
            "2158/2158 [==============================] - 1s 335us/step - loss: 0.3322 - categorical_accuracy: 0.8853 - val_loss: 0.3925 - val_categorical_accuracy: 0.8646\n",
            "Epoch 70/100\n",
            "2158/2158 [==============================] - 1s 339us/step - loss: 0.3285 - categorical_accuracy: 0.8870 - val_loss: 0.3910 - val_categorical_accuracy: 0.8659\n",
            "\n",
            "Epoch 00070: val_categorical_accuracy improved from 0.86380 to 0.86592, saving model to model\n",
            "Epoch 71/100\n",
            "2158/2158 [==============================] - 1s 329us/step - loss: 0.3270 - categorical_accuracy: 0.8873 - val_loss: 0.3966 - val_categorical_accuracy: 0.8636\n",
            "Epoch 72/100\n",
            "2158/2158 [==============================] - 1s 347us/step - loss: 0.3265 - categorical_accuracy: 0.8878 - val_loss: 0.3928 - val_categorical_accuracy: 0.8648\n",
            "Epoch 73/100\n",
            "2158/2158 [==============================] - 1s 348us/step - loss: 0.3279 - categorical_accuracy: 0.8868 - val_loss: 0.3921 - val_categorical_accuracy: 0.8663\n",
            "Epoch 74/100\n",
            "2158/2158 [==============================] - 1s 347us/step - loss: 0.3237 - categorical_accuracy: 0.8886 - val_loss: 0.3834 - val_categorical_accuracy: 0.8676\n",
            "Epoch 75/100\n",
            "2158/2158 [==============================] - 1s 337us/step - loss: 0.3238 - categorical_accuracy: 0.8880 - val_loss: 0.3863 - val_categorical_accuracy: 0.8668\n",
            "\n",
            "Epoch 00075: val_categorical_accuracy improved from 0.86592 to 0.86680, saving model to model\n",
            "Epoch 76/100\n",
            "2158/2158 [==============================] - 1s 350us/step - loss: 0.3211 - categorical_accuracy: 0.8896 - val_loss: 0.3873 - val_categorical_accuracy: 0.8661\n",
            "Epoch 77/100\n",
            "2158/2158 [==============================] - 1s 331us/step - loss: 0.3199 - categorical_accuracy: 0.8902 - val_loss: 0.3849 - val_categorical_accuracy: 0.8694\n",
            "Epoch 78/100\n",
            "2158/2158 [==============================] - 1s 340us/step - loss: 0.3185 - categorical_accuracy: 0.8903 - val_loss: 0.3886 - val_categorical_accuracy: 0.8665\n",
            "Epoch 79/100\n",
            "2158/2158 [==============================] - 1s 324us/step - loss: 0.3233 - categorical_accuracy: 0.8882 - val_loss: 0.3831 - val_categorical_accuracy: 0.8680\n",
            "Epoch 80/100\n",
            "2158/2158 [==============================] - 1s 340us/step - loss: 0.3158 - categorical_accuracy: 0.8908 - val_loss: 0.3824 - val_categorical_accuracy: 0.8691\n",
            "\n",
            "Epoch 00080: val_categorical_accuracy improved from 0.86680 to 0.86908, saving model to model\n",
            "Epoch 81/100\n",
            "2158/2158 [==============================] - 1s 336us/step - loss: 0.3149 - categorical_accuracy: 0.8911 - val_loss: 0.3812 - val_categorical_accuracy: 0.8687\n",
            "Epoch 82/100\n",
            "2158/2158 [==============================] - 1s 331us/step - loss: 0.3134 - categorical_accuracy: 0.8918 - val_loss: 0.3832 - val_categorical_accuracy: 0.8692\n",
            "Epoch 83/100\n",
            "2158/2158 [==============================] - 1s 336us/step - loss: 0.3128 - categorical_accuracy: 0.8923 - val_loss: 0.3840 - val_categorical_accuracy: 0.8680\n",
            "Epoch 84/100\n",
            "2158/2158 [==============================] - 1s 331us/step - loss: 0.3095 - categorical_accuracy: 0.8938 - val_loss: 0.3835 - val_categorical_accuracy: 0.8684\n",
            "Epoch 85/100\n",
            "2158/2158 [==============================] - 1s 328us/step - loss: 0.3092 - categorical_accuracy: 0.8938 - val_loss: 0.3810 - val_categorical_accuracy: 0.8694\n",
            "\n",
            "Epoch 00085: val_categorical_accuracy improved from 0.86908 to 0.86944, saving model to model\n",
            "Epoch 86/100\n",
            "2158/2158 [==============================] - 1s 340us/step - loss: 0.3089 - categorical_accuracy: 0.8935 - val_loss: 0.3810 - val_categorical_accuracy: 0.8687\n",
            "Epoch 87/100\n",
            "2158/2158 [==============================] - 1s 332us/step - loss: 0.3065 - categorical_accuracy: 0.8949 - val_loss: 0.3797 - val_categorical_accuracy: 0.8700\n",
            "Epoch 88/100\n",
            "2158/2158 [==============================] - 1s 332us/step - loss: 0.3053 - categorical_accuracy: 0.8951 - val_loss: 0.3806 - val_categorical_accuracy: 0.8694\n",
            "Epoch 89/100\n",
            "2158/2158 [==============================] - 1s 327us/step - loss: 0.3102 - categorical_accuracy: 0.8928 - val_loss: 0.3844 - val_categorical_accuracy: 0.8691\n",
            "Epoch 90/100\n",
            "2158/2158 [==============================] - 1s 352us/step - loss: 0.3054 - categorical_accuracy: 0.8952 - val_loss: 0.3855 - val_categorical_accuracy: 0.8679\n",
            "\n",
            "Epoch 00090: val_categorical_accuracy did not improve from 0.86944\n",
            "Epoch 91/100\n",
            "2158/2158 [==============================] - 1s 331us/step - loss: 0.3065 - categorical_accuracy: 0.8939 - val_loss: 0.3792 - val_categorical_accuracy: 0.8703\n",
            "Epoch 92/100\n",
            "2158/2158 [==============================] - 1s 330us/step - loss: 0.3033 - categorical_accuracy: 0.8949 - val_loss: 0.3817 - val_categorical_accuracy: 0.8687\n",
            "Epoch 93/100\n",
            "2158/2158 [==============================] - 1s 330us/step - loss: 0.3030 - categorical_accuracy: 0.8952 - val_loss: 0.3751 - val_categorical_accuracy: 0.8722\n",
            "Epoch 94/100\n",
            "2158/2158 [==============================] - 1s 354us/step - loss: 0.3006 - categorical_accuracy: 0.8965 - val_loss: 0.3754 - val_categorical_accuracy: 0.8720\n",
            "Epoch 95/100\n",
            "2158/2158 [==============================] - 1s 334us/step - loss: 0.2999 - categorical_accuracy: 0.8968 - val_loss: 0.3719 - val_categorical_accuracy: 0.8726\n",
            "\n",
            "Epoch 00095: val_categorical_accuracy improved from 0.86944 to 0.87263, saving model to model\n",
            "Epoch 96/100\n",
            "2158/2158 [==============================] - 1s 330us/step - loss: 0.2993 - categorical_accuracy: 0.8966 - val_loss: 0.3747 - val_categorical_accuracy: 0.8721\n",
            "Epoch 97/100\n",
            "2158/2158 [==============================] - 1s 330us/step - loss: 0.3011 - categorical_accuracy: 0.8965 - val_loss: 0.3742 - val_categorical_accuracy: 0.8732\n",
            "Epoch 98/100\n",
            "2158/2158 [==============================] - 1s 335us/step - loss: 0.2983 - categorical_accuracy: 0.8977 - val_loss: 0.3782 - val_categorical_accuracy: 0.8721\n",
            "Epoch 99/100\n",
            "2158/2158 [==============================] - 1s 337us/step - loss: 0.2962 - categorical_accuracy: 0.8983 - val_loss: 0.3729 - val_categorical_accuracy: 0.8727\n",
            "Epoch 100/100\n",
            "2158/2158 [==============================] - 1s 330us/step - loss: 0.2916 - categorical_accuracy: 0.9002 - val_loss: 0.3733 - val_categorical_accuracy: 0.8730\n",
            "\n",
            "Epoch 00100: val_categorical_accuracy improved from 0.87263 to 0.87305, saving model to model\n"
          ],
          "name": "stdout"
        }
      ]
    },
    {
      "cell_type": "code",
      "metadata": {
        "id": "SzZFpMRQDPfV",
        "colab_type": "code",
        "outputId": "5303cde9-aacf-45c8-fc23-15d4cb4a864e",
        "colab": {
          "base_uri": "https://localhost:8080/",
          "height": 340
        }
      },
      "source": [
        "# # max_sequence_length = 10\n",
        "# # n_features = 20\n",
        "# feature_input = Input(shape=(n_features,), name='feature_input')\n",
        "# # features_dense = Dense(64, activation='relu')(feature_input)\n",
        "\n",
        "# lstm_input = Input(shape=(vocab_size,1), name='lstm_input')\n",
        "# lstm_output = CuDNNLSTM(units=16)(lstm_input)\n",
        "# # lstm_output_1 = CuDNNLSTM(units=64)(lstm_output)\n",
        "# concat = concatenate([feature_input, lstm_output])\n",
        "# # dense_concat = Dense(64, activation='relu')(concat)\n",
        "# model_output = Dense(vocab_size, activation='softmax')(concat)\n",
        "\n",
        "# model = Model(inputs=[feature_input, lstm_input], outputs=model_output)\n",
        "# model.summary()"
      ],
      "execution_count": 0,
      "outputs": [
        {
          "output_type": "stream",
          "text": [
            "Model: \"model_12\"\n",
            "__________________________________________________________________________________________________\n",
            "Layer (type)                    Output Shape         Param #     Connected to                     \n",
            "==================================================================================================\n",
            "lstm_input (InputLayer)         (None, 38, 1)        0                                            \n",
            "__________________________________________________________________________________________________\n",
            "feature_input (InputLayer)      (None, 90)           0                                            \n",
            "__________________________________________________________________________________________________\n",
            "cu_dnnlstm_19 (CuDNNLSTM)       (None, 16)           1216        lstm_input[0][0]                 \n",
            "__________________________________________________________________________________________________\n",
            "concatenate_12 (Concatenate)    (None, 106)          0           feature_input[0][0]              \n",
            "                                                                 cu_dnnlstm_19[0][0]              \n",
            "__________________________________________________________________________________________________\n",
            "dense_23 (Dense)                (None, 38)           4066        concatenate_12[0][0]             \n",
            "==================================================================================================\n",
            "Total params: 5,282\n",
            "Trainable params: 5,282\n",
            "Non-trainable params: 0\n",
            "__________________________________________________________________________________________________\n"
          ],
          "name": "stdout"
        }
      ]
    },
    {
      "cell_type": "code",
      "metadata": {
        "id": "kEPZtNa7DPfX",
        "colab_type": "code",
        "colab": {}
      },
      "source": [
        "optimizer = Adam(lr=0.001, beta_1=0.9, beta_2=0.999, amsgrad=False)\n",
        "# optimizer = SGD(lr=0.001, momentum=0.01, nesterov=True)\n",
        "checkpoint = ModelCheckpoint(\"model\", monitor='val_categorical_accuracy', verbose=1, save_best_only=True, save_weights_only=False, mode='auto', period=5)\n",
        "model.compile(loss='categorical_crossentropy', optimizer=optimizer, metrics=[metrics.categorical_accuracy])\n",
        "history = model.fit(x={'lstm_input': X_train_onehot, 'feature_input': F_W_train}, \n",
        "          y=Y_train_onehot, \n",
        "          validation_data=([F_W_val, X_val_onehot], Y_val_onehot),\n",
        "          epochs=100, batch_size=128, callbacks=[checkpoint])"
      ],
      "execution_count": 0,
      "outputs": []
    },
    {
      "cell_type": "code",
      "metadata": {
        "id": "nbLM7o_APE7z",
        "colab_type": "code",
        "colab": {}
      },
      "source": [
        "starting_char = np.zeros(vocab_size)\n",
        "starting_char[vocab.index('%')] = 1"
      ],
      "execution_count": 0,
      "outputs": []
    },
    {
      "cell_type": "code",
      "metadata": {
        "id": "XgzB_u6bgBjo",
        "colab_type": "code",
        "colab": {}
      },
      "source": [
        "predictions = model.predict([F_W_val, X_val_onehot])"
      ],
      "execution_count": 0,
      "outputs": []
    },
    {
      "cell_type": "code",
      "metadata": {
        "id": "53mNYBbOnde6",
        "colab_type": "code",
        "outputId": "b608b1b3-3bc3-487d-bfa5-22eaecb9917d",
        "colab": {
          "base_uri": "https://localhost:8080/",
          "height": 54
        }
      },
      "source": [
        "prediction_str = ''\n",
        "for prediction_idx in np.argmax(predictions, axis=1):\n",
        "  prediction_str += vocab[prediction_idx]\n",
        "print(prediction_str)"
      ],
      "execution_count": 0,
      "outputs": [
        {
          "output_type": "stream",
          "text": [
            "CC)ccccccC)cccCCCcCCCO)c)CCCcCCcC~~~~~~~~~~~~~~~~~~~~~~~~~~~~~~~~~~~~~~~~~~~~~~~~~~~~~~~~~~~~~~~~~~C(ccccCcccccCcc)ccccC)cc)cc3cccccc((CC(CO)cn(@@](cn(@]()((n(@](C()cn(@@](cCc(c~~~~~~~~~~~~~~~~~~~~~CC)c^ccC)ccCCCccCCCcCCCCcCCcCcCCccc^~~~~~~~~~~~~~~~~~~~~~~~~~~~~~~~~~~~~~~~~~~~~~~~~~~~~~~~~~~~~~~~C)OCCCCCCccccccccccccccCr)cccccCcCCCC)cCCc~~~~~~~~~~~~~~~~~~~~~~~~~~~~~~~~~~~~~~~~~~~~~~~~~~~~~~~~~CCCCCCCCC)CCO)CCCCH](CCC)CCO)CCCCCCCCCCCCO)C)CCCCCCCCC1C11111C~~~~~~~~~~~~~~~~~~~~~~~~~~~~~~~~~~~~~C(()(=O)cccccccc=cccccc=()((=(=O)c)c(()O)cccc(ccccccc(~~~~~~~~~~~~~~~~~~~~~~~~~~~~~~~~~~~~~~~~~~~~~C(cccccC(((CO)ccccccC()cccc()ccc~~~~~~~~~~~~~~~~~~~~~~~~~~~~~~~~~~~~~~~~~~~~~~~~~~~~~~~~~~~~~~~~~~~C)O(C(((CO)cCc(((cC((cc(CCcccccC()cccc)c(CO)c)cccccccCr)cccc~~~~~~~~~~~~~~~~~~~~~~~~~~~~~~~~~~~~~~~Cl)ccccCr)ccC)cccc(ccccccCll)ccc~~~~~~~~~~~~~~~~~~~~~~~~~~~~~~~~~~~~~~~~~~~~~~~~~~~~~~~~~~~~~~~~~~~CCCCCCCCCCCCCO)C)CcCccccC)CCcC)C~~~~~~~~~~~~~~~~~~~~~~~~~~~~~~~~~~~~~~~~~~~~~~~~~~~~~~~~~~~~~~~~~~~CCCCCCCCCCCCCCCCCCO)CCC)CCO)CCC)CCCCCO)Cc)ccccc)Cc)ccccc))CCCCCCC~~~~~~~~~~~~~~~~~~~~~~~~~~~~~~~~~~C(ccccCccccccC(c)cnc]ccC((cc)cccccccc~~~~~~~~~~~~~~~~~~~~~~~~~~~~~~~~~~~~~~~~~~~~~~~~~~~~~~~~~~~~~~CC)CCCcCC=CcOCC=O)cccccccccCcO)cCCCc~~~~~~~~~~~~~~~~~~~~~~~~~~~~~~~~~~~~~~~~~~~~~~~~~~~~~~~~~~~~~~~C)CcccccCcccccccccCC)CCCCC)cccccc)ccc~~~~~~~~~~~~~~~~~~~~~~~~~~~~~~~~~~~~~~~~~~~~~~~~~~~~~~~~~~~~~~C()1^c1C(c1C(C(cC)c()((((()O)c11^r)~~~~~~~~~~~~~~~~~~~~~~~~~~~~~~~~~~~~~~~~~~~~~~~~~~~~~~~~~~~~~~~~C(cccccC(ccC(C((((CO)c(C(c)Hc)cccC()ccc)CH]()c(C(c(c)C(cCO)cO)ccc~~~~~~~~~~~~~~~~~~~~~~~~~~~~~~~~~~C)OCCCC)CCCCCO)CCCCCCCCCCO)CCCCCCCC~~~~~~~~~~~~~~~~~~~~~~~~~~~~~~~~~~~~~~~~~~~~~~~~~~~~~~~~~~~~~~~~C(cccC)cccC(CO)c)cccccccccccC(c(((C)c((cccc~~~~~~~~~~~~~~~~~~~~~~~~~~~~~~~~~~~~~~~~~~~~~~~~~~~~~~~~CCC)CCO)ccccccCCCCCO)cCCccccCCCcCC)CCccccccccccccccccccccCcccc~~~~~~~~~~~~~~~~~~~~~~~~~~~~~~~~~~~~~CCCCCccccCC)ccccC)cccCcCCCCCCCcOCcCCOCCccccccccc)CcO)~~~~~~~~~~~~~~~~~~~~~~~~~~~~~~~~~~~~~~~~~~~~~~C()ccccc=c=O)c=O)c(=ccccc=(c(((=O)c(ccccccccccc=()cccc(cccc~~~~~~~~~~~~~~~~~~~~~~~~~~~~~~~~~~~~~~~~C)1cc1c1c1Cr)c11C(c((((c)((()c1C()c1cc~~~~~~~~~~~~~~~~~~~~~~~~~~~~~~~~~~~~~~~~~~~~~~~~~~~~~~~~~~~~~CCCCO)CCCCCCCCCCO)CCC)CCCCO)C)CCCCCCC)CCCC~~~~~~~~~~~~~~~~~~~~~~~~~~~~~~~~~~~~~~~~~~~~~~~~~~~~~~~~~CCC)CCO)C1C11C1C1CCCO)CCCCCC)CC)CC)CCC1C)CCCCCC~~~~~~~~~~~~~~~~~~~~~~~~~~~~~~~~~~~~~~~~~~~~~~~~~~~~C)O(F()cccccF()ccccc(ccc1cF(F)cF)c)ccc~~~~~~~~~~~~~~~~~~~~~~~~~~~~~~~~~~~~~~~~~~~~~~~~~~~~~~~~~~~~~CCccccccccCCCCCCcCCO)ccccccCCcCCc)ccccc)CcccccC~~~~~~~~~~~~~~~~~~~~~~~~~~~~~~~~~~~~~~~~~~~~~~~~~~~~CCCCC)ccccC)ccCCCCO)ccccccCccccccccccccccC)ccc~~~~~~~~~~~~~~~~~~~~~~~~~~~~~~~~~~~~~~~~~~~~~~~~~~~~~C(c^cC((c((cC(c(ccCO)ccccccC)cccc^c~~~~~~~~~~~~~~~~~~~~~~~~~~~~~~~~~~~~~~~~~~~~~~~~~~~~~~~~~~~~~~~~C((=O)cccc=)cccc=)ccc(=O)c(=ccccc=()cc=(=O)c)cccc(=O)c=O)cccccc=(cccc~~~~~~~~~~~~~~~~~~~~~~~~~~~~~~C((-(c-(c((-O)cccccc-cccccccccccccccccccccccc~~~~~~~~~~~~~~~~~~~~~~~~~~~~~~~~~~~~~~~~~~~~~~~~~~~~~~C()(=O)c((=cccccc=cccccc=()=(=O)c)c(((()cccccccc)=O)c=O)cccccc=(cccc~~~~~~~~~~~~~~~~~~~~~~~~~~~~~~~CCCCCCCO)ccccccC)ccccccCC)cccccccCCHH](cCCCCCCH](c)~~~~~~~~~~~~~~~~~~~~~~~~~~~~~~~~~~~~~~~~~~~~~~~~CCCCCCCCO)cCcccccC)ccCC)cccC)~~~~~~~~~~~~~~~~~~~~~~~~~~~~~~~~~~~~~~~~~~~~~~~~~~~~~~~~~~~~~~~~~~~~~~CCc^c)ccccCCc)ccccCCCO)cCC)CCcCCCCCCcC)cc)cc)cc^C~~~~~~~~~~~~~~~~~~~~~~~~~~~~~~~~~~~~~~~~~~~~~~~~~~C((C(cC(CO)ccccccCcccccC((cHnH](ccccccccccC)cccc~~~~~~~~~~~~~~~~~~~~~~~~~~~~~~~~~~~~~~~~~~~~~~~~~~~CCCcOCCC=O)cC=)C=O)c1c11=c1)c11c)c1cccCccCCCCCc~~~~~~~~~~~~~~~~~~~~~~~~~~~~~~~~~~~~~~~~~~~~~~~~~~~~CC1^c1C)CCCCCCCCC1CCCCCCCc1^CC^CC^~~~~~~~~~~~~~~~~~~~~~~~~~~~~~~~~~~~~~~~~~~~~~~~~~~~~~~~~~~~~~~~~~OOOOCO)cccccC)ccccc)OCO)cOcC)cccccC)OcccccOOOOOc~~~~~~~~~~~~~~~~~~~~~~~~~~~~~~~~~~~~~~~~~~~~~~~~~~~C()cccccC(ccccccC()cccC(ccccccccC(ccc(~~~~~~~~~~~~~~~~~~~~~~~~~~~~~~~~~~~~~~~~~~~~~~~~~~~~~~~~~~~~~O()(CO)ccccccCccccccccc)(ccc((cccC)(ccccC)ccc)~~~~~~~~~~~~~~~~~~~~~~~~~~~~~~~~~~~~~~~~~~~~~~~~~~~~~CCCF)cF)cccccccccCcCCCF)cF)cCFC)cCc~~~~~~~~~~~~~~~~~~~~~~~~~~~~~~~~~~~~~~~~~~~~~~~~~~~~~~~~~~~~~~~~C)O[=[[ccccccnH]cccc=OccnH]ccHccccccc[ccccc=[[=O)cccccccccccc~~~~~~~~~~~~~~~~~~~~~~~~~~~~~~~~~~~~~~C((=(c=(c)(=O)c(^(=O)c((=O)c(^=(c(=(c=)c(=O)c1^11111^~~~~~~~~~~~~~~~~~~~~~~~~~~~~~~~~~~~~~~~~~~~~~~C(ccccCcccccccC)ccc((C((CO)c)c(CO)cCO)ccccccC()cccccccC(ccc(N(~~~~~~~~~~~~~~~~~~~~~~~~~~~~~~~~~~~~~CCCCCCCCC)CCO)CC^CCCCCCCC)C1)1c1CC)C1)CCCCCC^~~~~~~~~~~~~~~~~~~~~~~~~~~~~~~~~~~~~~~~~~~~~~~~~~~~~~~CCccccccccCCCCCCCcc)ccccCr)cc)ccCCccccc~~~~~~~~~~~~~~~~~~~~~~~~~~~~~~~~~~~~~~~~~~~~~~~~~~~~~~~~~~~~C#ccccccccccccccCcccccccccC#N#cccccccccccc~~~~~~~~~~~~~~~~~~~~~~~~~~~~~~~~~~~~~~~~~~~~~~~~~~~~~~~~~C(()(=O)ccccccc=(=cccccc=)cccc(=O)c=O)ccccccccccccccccc~~~~~~~~~~~~~~~~~~~~~~~~~~~~~~~~~~~~~~~~~~~~CCCCCccccccCCcCCCCccccCCC)cCH]1HccCccccc~~~~~~~~~~~~~~~~~~~~~~~~~~~~~~~~~~~~~~~~~~~~~~~~~~~~~~~~~~~C(()(()cccccC(CO)cccccC(cccc(C)cC)c)cccc~~~~~~~~~~~~~~~~~~~~~~~~~~~~~~~~~~~~~~~~~~~~~~~~~~~~~~~~~~~CCC)CCO)CCCCCCO)CCCCCCO)CcCcccccCCCCCCCCCCCCCCCCCCCCCCCCcCcccccCC~~~~~~~~~~~~~~~~~~~~~~~~~~~~~~~~~~C((F(c)ccccFccccccF((F(cFO)cO)cccc()ccccc(F)cF)c)~~~~~~~~~~~~~~~~~~~~~~~~~~~~~~~~~~~~~~~~~~~~~~~~~~C()ccccccccccFccccccF((F(cO)ccF(F)cF)c)ccccccc(~~~~~~~~~~~~~~~~~~~~~~~~~~~~~~~~~~~~~~~~~~~~~~~~~~~~C()ccccC(cccCccccccC)(ccccccccccC(cccccc)~~~~~~~~~~~~~~~~~~~~~~~~~~~~~~~~~~~~~~~~~~~~~~~~~~~~~~~~~~C(ccccC()(cccccccc)ccccc((cC(CO)cccccnc]ccc()ccccccccccccccc(c~~~~~~~~~~~~~~~~~~~~~~~~~~~~~~~~~~~~~CCccccccCCCCCCO)ccccccC)Cccccccccccccccc~~~~~~~~~~~~~~~~~~~~~~~~~~~~~~~~~~~~~~~~~~~~~~~~~~~~~~~~~~~C(c-cc-cccccc-cccccccccccccccc-cc-ccccccccccc-~~~~~~~~~~~~~~~~~~~~~~~~~~~~~~~~~~~~~~~~~~~~~~~~~~~~~O()(CO)ccccccCcccccC(cccccC(N(cccc)ccccc)(cccc~~~~~~~~~~~~~~~~~~~~~~~~~~~~~~~~~~~~~~~~~~~~~~~~~~~~~CCC^CCCCCCcCCCCO)cccccc)cCcccCCCCO)cC)cC^~~~~~~~~~~~~~~~~~~~~~~~~~~~~~~~~~~~~~~~~~~~~~~~~~~~~~~~~~~C)OCC)cccccCCcCCCCccCCCccccccccccccCC)ccccC)~~~~~~~~~~~~~~~~~~~~~~~~~~~~~~~~~~~~~~~~~~~~~~~~~~~~~~~CCCCCC=O)cc^ccccc^C^CCC=CC=O)c)CcCC^~~~~~~~~~~~~~~~~~~~~~~~~~~~~~~~~~~~~~~~~~~~~~~~~~~~~~~~~~~~~~~~C(H[ccccc-[-([[ccHnH]cc-O)cnH]ccccccccc-)ccccccc~~~~~~~~~~~~~~~~~~~~~~~~~~~~~~~~~~~~~~~~~~~~~~~~~~~CNCcNNCNNcccccNCNNO)cc)cccNCNNO)cc)cccc)c)ccc)NccNCcc)cccccNNc~~~~~~~~~~~~~~~~~~~~~~~~~~~~~~~~~~~~~C((C(cC(c(((CO)ccccC)cccccccccccc~~~~~~~~~~~~~~~~~~~~~~~~~~~~~~~~~~~~~~~~~~~~~~~~~~~~~~~~~~~~~~~~~~O((C((ccccccC(CO)c)cccccccccC)cccc)~~~~~~~~~~~~~~~~~~~~~~~~~~~~~~~~~~~~~~~~~~~~~~~~~~~~~~~~~~~~~~~~C(cccc-cccccc-cc)ccccc)ccccccccccccccccc)-(c-O)cO)~~~~~~~~~~~~~~~~~~~~~~~~~~~~~~~~~~~~~~~~~~~~~~~~~C(cccccC(C()((((((()c)CO)cCO)cc)ccc)cccc)c)cccc)~~~~~~~~~~~~~~~~~~~~~~~~~~~~~~~~~~~~~~~~~~~~~~~~~~~C(ccccc=(=O)c(ccccc=(ccccccccccc=(=O)c(=(c(ccccccc~~~~~~~~~~~~~~~~~~~~~~~~~~~~~~~~~~~~~~~~~~~~~~~~~CCC)c^cCCCcCCcCCCCCCcCcccccCCCNCcc^)~~~~~~~~~~~~~~~~~~~~~~~~~~~~~~~~~~~~~~~~~~~~~~~~~~~~~~~~~~~~~~~C((ccccc)cC)CO)cCO)c(C(CO)c(C)c((N(cc)cccC(C(c(ccc)cccccc)~~~~~~~~~~~~~~~~~~~~~~~~~~~~~~~~~~~~~~~~~CCcccccCCcccCCCCc)Ccccccccccccccc~~~~~~~~~~~~~~~~~~~~~~~~~~~~~~~~~~~~~~~~~~~~~~~~~~~~~~~~~~~~~~~~~~CCCCCCCCCCCCCCCCCCO)CC)CCCCc)ccccc)CCCCCCCCCCCCCC~~~~~~~~~~~~~~~~~~~~~~~~~~~~~~~~~~~~~~~~~~~~~~~~~~C(()ccccc=(=((=O)c)c(=O)c=O)cccccc=ccccc=()ccccc((=(cO)cccccccc~~~~~~~~~~~~~~~~~~~~~~~~~~~~~~~~~~~~CCC)CCO)cCCCCcccccccCcccCCCCCcccccccCr)ccccC~~~~~~~~~~~~~~~~~~~~~~~~~~~~~~~~~~~~~~~~~~~~~~~~~~~~~~~C(cccccccc-cccc-O)cccc)ccc-()ccc)ccccccccO)~~~~~~~~~~~~~~~~~~~~~~~~~~~~~~~~~~~~~~~~~~~~~~~~~~~~~~~~C(c^cccC(cc^((C(c)((c^cCO)cnc](ccccccccc^O)~~~~~~~~~~~~~~~~~~~~~~~~~~~~~~~~~~~~~~~~~~~~~~~~~~~~~~~~C((=O)c(cccc=()ccccccccccc=)=O)c=O)c(((ccccc=(ccccccc~~~~~~~~~~~~~~~~~~~~~~~~~~~~~~~~~~~~~~~~~~~~~~CCCCCCCcCCO)cccccCCcccccCC)CC)CC)ccccCccC)ccC)Cccc~~~~~~~~~~~~~~~~~~~~~~~~~~~~~~~~~~~~~~~~~~~~~~~~~C((ccccc=(=cccc=()ccccc((=O)c)cc=O)c=O)cccccccccccccccccc~~~~~~~~~~~~~~~~~~~~~~~~~~~~~~~~~~~~~~~~~~C((=((=O)c)(cccccccccccccc=ccccc=(=(cO)ccccccc~~~~~~~~~~~~~~~~~~~~~~~~~~~~~~~~~~~~~~~~~~~~~~~~~~~~~C(()ccccCr)ccccc(CO)c(C(c)cccccC(ccC(ccc~~~~~~~~~~~~~~~~~~~~~~~~~~~~~~~~~~~~~~~~~~~~~~~~~~~~~~~~~~~@@@@@[[@@@C@CO)[)[[[[[C@CO)[)[[[[@[@CO)[)@@[C@@[[@@[~~~~~~~~~~~~~~~~~~~~~~~~~~~~~~~~~~~~~~~~~~~~~~~C()(CO)ccccccC(C(CO)ccccccC)ccC(cccc(c(((((cccC(ccc~~~~~~~~~~~~~~~~~~~~~~~~~~~~~~~~~~~~~~~~~~~~~~~~C(()ccccc=(=(=(cO)c)=O)c=O)ccccccccc(cccc~~~~~~~~~~~~~~~~~~~~~~~~~~~~~~~~~~~~~~~~~~~~~~~~~~~~~~~~~~CC)CCO)CcCcccC)CCcC)CCCCCCCCCCCcCcCCCcCC~~~~~~~~~~~~~~~~~~~~~~~~~~~~~~~~~~~~~~~~~~~~~~~~~~~~~~~~~~~CCCCCCcccccCC)cccccccCcccCCCccccccccccC)ccccC)~~~~~~~~~~~~~~~~~~~~~~~~~~~~~~~~~~~~~~~~~~~~~~~~~~~~~C((ccccccc=c=O)c=O)c(=cccc=)ccc=)cccccccccc=(=O)c(c)ccccc)cccccccccc~~~~~~~~~~~~~~~~~~~~~~~~~~~~~~~CCCCCCCCCCCCCCCO)CC)1C111CCCCCCCCCC11CCCC~~~~~~~~~~~~~~~~~~~~~~~~~~~~~~~~~~~~~~~~~~~~~~~~~~~~~~~~~~OcccccCcOCOCO)c)cccccccC)cccccccc)cccccccc~~~~~~~~~~~~~~~~~~~~~~~~~~~~~~~~~~~~~~~~~~~~~~~~~~~~~~~~~O(ll)cccF)ccF)ccF)ccF)ccc(FccccccccccccccccFO)cFO)ccccccccc)~~~~~~~~~~~~~~~~~~~~~~~~~~~~~~~~~~~~~~~C((=O)c=O)c(=(c(((=(=O)c)c(=(=)c=)c)c(cc(c((=()c(((c(=O)c=O)c((N(~~~~~~~~~~~~~~~~~~~~~~~~~~~~~~~~~~C)OCCCCCCO)c)Cccccccccc)CccccCCcCCccccc~~~~~~~~~~~~~~~~~~~~~~~~~~~~~~~~~~~~~~~~~~~~~~~~~~~~~~~~~~~~CCOCcCcC=)CC=O)c)CcOC=C=O)cCcccccccccC=ccccccccccCc=CcC~~~~~~~~~~~~~~~~~~~~~~~~~~~~~~~~~~~~~~~~~~~~C(ccc=)cccccccccccccc=ccc(=O)c((=O)c(c~~~~~~~~~~~~~~~~~~~~~~~~~~~~~~~~~~~~~~~~~~~~~~~~~~~~~~~~~~~~~O((F(c)ccccFccccccccFcc()c)(()cccccc(F)cF)c)~~~~~~~~~~~~~~~~~~~~~~~~~~~~~~~~~~~~~~~~~~~~~~~~~~~~~~~C(C(@(C(cC(cccccC)ccC)cccc(CO)c(C(ccccccccc(c((c~~~~~~~~~~~~~~~~~~~~~~~~~~~~~~~~~~~~~~~~~~~~~~~~~~~CCC)C=O)cccccc=CC=O)cCcCcCC=COCccccc=)ccc=)ccc)cCcC=O)c)cccc~~~~~~~~~~~~~~~~~~~~~~~~~~~~~~~~~~~~~~~CCC)CCO)CCCCNCC1^c11CCC)CC)C)C11^CC^CCCCCCCCCCCC^~~~~~~~~~~~~~~~~~~~~~~~~~~~~~~~~~~~~~~~~~~~~~~~~~~CCCCCCCCC)CCO)CCCCH]1CC)C1C11111CCCCCO)CCCCCCCCC)CCCCC~~~~~~~~~~~~~~~~~~~~~~~~~~~~~~~~~~~~~~~~~~~~~C)O(C)cccccccccccccccccccccC()ccccccc)(()c~~~~~~~~~~~~~~~~~~~~~~~~~~~~~~~~~~~~~~~~~~~~~~~~~~~~~~~~~O)O(F)(cc((F(FO)c)c(F)cccc(c(((F(F)cF)c(F)cF)c)c((c~~~~~~~~~~~~~~~~~~~~~~~~~~~~~~~~~~~~~~~~~~~~~~~~C)((c(CCccccC)ccccCccc((()cc(((cC)c)~~~~~~~~~~~~~~~~~~~~~~~~~~~~~~~~~~~~~~~~~~~~~~~~~~~~~~~~~~~~~~~C)O(CcccccccCr)cccccccc(c(((cC((cc((CcccccC()cccc)c(CO)c)c~~~~~~~~~~~~~~~~~~~~~~~~~~~~~~~~~~~~~~~~~C((C(cC(cc^cccC(CO)cCc)ccC()cccc)Cccc^~~~~~~~~~~~~~~~~~~~~~~~~~~~~~~~~~~~~~~~~~~~~~~~~~~~~~~~~~~~~~Cccccccccc-cccccc-r)cccc(ccccc-)ccccccccccc~~~~~~~~~~~~~~~~~~~~~~~~~~~~~~~~~~~~~~~~~~~~~~~~~~~~~~~~C()(=O)c(=(=O)c(c=(c(((cc(=cccccc=(cccc)=O)c=O)cccccc=(cccc~~~~~~~~~~~~~~~~~~~~~~~~~~~~~~~~~~~~~~~~C(cccccc=(=(=O)c((c)=O)c=O)cccccc)cccc)ccccc~~~~~~~~~~~~~~~~~~~~~~~~~~~~~~~~~~~~~~~~~~~~~~~~~~~~~~~CcNNNccccccccccccccNcNNNO)cccccccNcNNO)cccccccccccccccc~~~~~~~~~~~~~~~~~~~~~~~~~~~~~~~~~~~~~~~~~~~~C((=O((c=((=O)ccccccccc(=O)c(ccccc=()cccccc((ccccc=)(=)c=)c)cccc~~~~~~~~~~~~~~~~~~~~~~~~~~~~~~~~~~~C((C(c(CccccccccC((CO)c)cccccccccccccCr)ccc(N(~~~~~~~~~~~~~~~~~~~~~~~~~~~~~~~~~~~~~~~~~~~~~~~~~~~~~C((ccccc=c=cccccccccc=O)cnc]cccccc=O)c=O)cccccccccc=(ccccccccc~~~~~~~~~~~~~~~~~~~~~~~~~~~~~~~~~~~~~CC)ccccccccCC=O)cCcC=C=O)cCccccccccccccccC=O)c)CccCCCCCc~~~~~~~~~~~~~~~~~~~~~~~~~~~~~~~~~~~~~~~~~~~CCC)1^1CCCCC)cCCO)cC)CCCcCCcC)CCcCc1CO)c1^O)~~~~~~~~~~~~~~~~~~~~~~~~~~~~~~~~~~~~~~~~~~~~~~~~~~~~~~~O()ccccc=)(cc=((=O)c(((=O)c(ccccc=ccccc=)ccc=(=O)c)cccccccccc~~~~~~~~~~~~~~~~~~~~~~~~~~~~~~~~~~~~~~CCC^CcCCC^CCCCCO)cCC1^H1CH]1H^cCc~~~~~~~~~~~~~~~~~~~~~~~~~~~~~~~~~~~~~~~~~~~~~~~~~~~~~~~~~~~~~~~~~~CCC)1^1CCCCC)cCCO)cC)CCCcCCcC)CCcCc1CO)c1^O)~~~~~~~~~~~~~~~~~~~~~~~~~~~~~~~~~~~~~~~~~~~~~~~~~~~~~~~CCCCCCCO)cccccCCccccccccccccCCHH](cCCCCCCH](c)~~~~~~~~~~~~~~~~~~~~~~~~~~~~~~~~~~~~~~~~~~~~~~~~~~~~~CC)CccccccCCcccccC)CCCCCCcO)ccC)CCCCCCcO)cccccc~~~~~~~~~~~~~~~~~~~~~~~~~~~~~~~~~~~~~~~~~~~~~~~~~~~~O(((CO)cccccC()ccccc)(CO)cccccCccccccC)(ccC)(cccccCO)cccccccccc~~~~~~~~~~~~~~~~~~~~~~~~~~~~~~~~~~~~C(ccccBr)ccBr)cccc(cccccBcccccccc(cccc~~~~~~~~~~~~~~~~~~~~~~~~~~~~~~~~~~~~~~~~~~~~~~~~~~~~~~~~~~~~~CllClc(ClccccccccCl)ccccnc]ccclCO)cccccC)cccCccccccccc)ccc~~~~~~~~~~~~~~~~~~~~~~~~~~~~~~~~~~~~~~~~~CCCCCCBCCcCBO)cCccccBr)ccB)ccccC)~~~~~~~~~~~~~~~~~~~~~~~~~~~~~~~~~~~~~~~~~~~~~~~~~~~~~~~~~~~~~~~~~~C((ccccccccC(CO)c)ccccC(ccc)cCr)ccC(cccc)cnc](cccc~~~~~~~~~~~~~~~~~~~~~~~~~~~~~~~~~~~~~~~~~~~~~~~~~CCCCO)ccccccccCCCO)cCCCC)CC)cccCr)ccccc~~~~~~~~~~~~~~~~~~~~~~~~~~~~~~~~~~~~~~~~~~~~~~~~~~~~~~~~~~~~C(()ccccF)(F)cF)c)cccFcccccccF(((FO)cccccccFO)cCH](ccccccc)~~~~~~~~~~~~~~~~~~~~~~~~~~~~~~~~~~~~~~~~C((=(c=(c)(=O)cCc((((c(((=O)c)ccccccccc=(=O)c)cccccc~~~~~~~~~~~~~~~~~~~~~~~~~~~~~~~~~~~~~~~~~~~~~~~C)O(FC(HH](c(((cccccccccc(c((F)cccccF(F)cF)c)ccccc(c~~~~~~~~~~~~~~~~~~~~~~~~~~~~~~~~~~~~~~~~~~~~~~~CCCCCCCCO)CCcCccC)CcCCCCCCCCCO)C)CCCCCCCCCCCCCcC)CcC~~~~~~~~~~~~~~~~~~~~~~~~~~~~~~~~~~~~~~~~~~~~~~~ClcccccBllclllCBccccBC~c(r)cccB)ccc)clccccc~~~~~~~~~~~~~~~~~~~~~~~~~~~~~~~~~~~~~~~~~~~~~~~~~~~~~~~~C((=(cccccc=(c((=O)cc)ccc=((=O)cc)cc=O)cnc](c)cc=((=)c)ccc))ccc)(ccccc~~~~~~~~~~~~~~~~~~~~~~~~~~~~~C((C(CO)c)(C(cC(c(cc^ccccC((CO)c((c)cccC(cc)cc^~~~~~~~~~~~~~~~~~~~~~~~~~~~~~~~~~~~~~~~~~~~~~~~~~~~~CCCCCCCCCCCCOCCCCCCCCCCCOCCCCCCCCCCCCCCCCCCCCCCCCCCCCCCCC~~~~~~~~~~~~~~~~~~~~~~~~~~~~~~~~~~~~~~~~~~CC)cccCCcCCCCcccccCC)ccCcc5cccCC)CCCCc)ccccc)cCC)ccc5ccccCCcccCO)cccO)~~~~~~~~~~~~~~~~~~~~~~~~~~~~~C(ccccC(CO)c)cccccC(c((C)cC()(()c(cccC()cccccc~~~~~~~~~~~~~~~~~~~~~~~~~~~~~~~~~~~~~~~~~~~~~~~~~~~~~C((C(cC)ccccccccc((ccccCcccccccC()ccccccc~~~~~~~~~~~~~~~~~~~~~~~~~~~~~~~~~~~~~~~~~~~~~~~~~~~~~~~~~~C(()(=O)C((=)C=(1C111=()C11C()C(=(=(CO)CC=(=(CO)C(=(CO)~~~~~~~~~~~~~~~~~~~~~~~~~~~~~~~~~~~~~~~~~~~~C(()ccc=C(=(ccccc=)ccccc(=O)cC((c=cccccc=r)cccc((ccc=O)cccO)~~~~~~~~~~~~~~~~~~~~~~~~~~~~~~~~~~~~~~~C()(FO)ccccccFccccccccc)ccc(ccccF)ccF)ccF)ccc(~~~~~~~~~~~~~~~~~~~~~~~~~~~~~~~~~~~~~~~~~~~~~~~~~~~~~CcN(cccccCcccCcccccccccccccccCr)ccccccccc~~~~~~~~~~~~~~~~~~~~~~~~~~~~~~~~~~~~~~~~~~~~~~~~~~~~~~~~~~C(()ccccc=(=((=O)c)cc=O)c=O)cccccc=ccccccc=()((((()O)ccccccccccc~~~~~~~~~~~~~~~~~~~~~~~~~~~~~~~~~~~CCccccccCCCCCcCCCCcccccccccCcccccccccC)Ccccc~~~~~~~~~~~~~~~~~~~~~~~~~~~~~~~~~~~~~~~~~~~~~~~~~~~~~~~C(cccc-cccccc-ccccnc]ccccccccccccccccccc~~~~~~~~~~~~~~~~~~~~~~~~~~~~~~~~~~~~~~~~~~~~~~~~~~~~~~~~~~~C)O(=((c((=((=)c)c(ccccccccCH](c=(=O)c)cHcccc~~~~~~~~~~~~~~~~~~~~~~~~~~~~~~~~~~~~~~~~~~~~~~~~~~~~~~C((c=)c((=ccccc=((=((=O)c)c(=O)c=O)cc)ccccc)ccccc(c~~~~~~~~~~~~~~~~~~~~~~~~~~~~~~~~~~~~~~~~~~~~~~~~Cl)ccccccccc-ccccccccc-)ccc-)cccccr)ccccc~~~~~~~~~~~~~~~~~~~~~~~~~~~~~~~~~~~~~~~~~~~~~~~~~~~~~~~~~~CCCCCCO)C1C111CCCC]1cCCCC]]1)CCC]]1CCCC]1CCCCC)CCcCCCC11C~~~~~~~~~~~~~~~~~~~~~~~~~~~~~~~~~~~~~~~~~~CCC)CCO)cCCCCO)cc^cccCcccccCCCccCc](ccc^~~~~~~~~~~~~~~~~~~~~~~~~~~~~~~~~~~~~~~~~~~~~~~~~~~~~~~~~~~~CCCCCO)CC^CCCCCO)C)CCCCCCCCCCCC^c^ccccCCCHH](CCCCCCc^~~~~~~~~~~~~~~~~~~~~~~~~~~~~~~~~~~~~~~~~~~~~~~C((((=O)ccccccccccccccc=)=O)c=O)c(((ccccc=(ccccccc~~~~~~~~~~~~~~~~~~~~~~~~~~~~~~~~~~~~~~~~~~~~~~~~~C()(-O)cccccccc-ccccc-cccc-cccccc-)ccccccccc(ccc(c(((((c~~~~~~~~~~~~~~~~~~~~~~~~~~~~~~~~~~~~~~~~~~~C)O(c(O(=)c((=ccccc=(=O)ccccc=(=O)c)ccccc)c1cc(c~~~~~~~~~~~~~~~~~~~~~~~~~~~~~~~~~~~~~~~~~~~~~~~~~~~CC1cc111CC)c1cCCO)cCcCCCCCO)cCcCC)CCccCc~~~~~~~~~~~~~~~~~~~~~~~~~~~~~~~~~~~~~~~~~~~~~~~~~~~~~~~~~~~C)O(=)ccccccc=ccc(((=(=O)c(=cccccccccccccccccc(c~~~~~~~~~~~~~~~~~~~~~~~~~~~~~~~~~~~~~~~~~~~~~~~~~~~CCCCCHH]ccCCcCCCCH]ccCCCHH]ccCCH]cCCCCO)cccccCCcccCCCO)c)CccccccccccccccC)Cccccc~~~~~~~~~~~~~~~~~~~C(ccccccF(((FO)ccccccF((c(FO)c(F(cc)cccccc)(F)cF)c)ccccccc~~~~~~~~~~~~~~~~~~~~~~~~~~~~~~~~~~~~~~~~~C)O(=)cccccc=(=ccccccHc=(()cCH]ccccccc=O)c=O)ccccccccccccc()~~~~~~~~~~~~~~~~~~~~~~~~~~~~~~~~~~~~~~~C)O(F1cc1F()c11c()c(c((c(F)cF)c)~~~~~~~~~~~~~~~~~~~~~~~~~~~~~~~~~~~~~~~~~~~~~~~~~~~~~~~~~~~~~~~~~~~CCC)C=O)ccccccccc=C=O)cCcccc=r)cccccCCC)cnc](cccc~~~~~~~~~~~~~~~~~~~~~~~~~~~~~~~~~~~~~~~~~~~~~~~~~~CC)ccccccCC)cccCCCO)cC)cccccccc~~~~~~~~~~~~~~~~~~~~~~~~~~~~~~~~~~~~~~~~~~~~~~~~~~~~~~~~~~~~~~~~~~~~CC)CCC^CCCCcccccCCCCCCCCCcccCCCC^~~~~~~~~~~~~~~~~~~~~~~~~~~~~~~~~~~~~~~~~~~~~~~~~~~~~~~~~~~~~~~~~~~CCCc^ccCCCCO)cCCHH](CCcCc)cccC)CCCcCCcCccc)ccc^C)~~~~~~~~~~~~~~~~~~~~~~~~~~~~~~~~~~~~~~~~~~~~~~~~~~C((=(c=(c)(=O)c(ccc=(=O)ccccnH]cccHcc=r)ccccccnH]cccccccccc~~~~~~~~~~~~~~~~~~~~~~~~~~~~~~~~~~~~~~~~C((C(CO)ccccccC(cccc(CO)c(C(c(C)ccccccC)(CO)ccccccc)cccccc)cccc~~~~~~~~~~~~~~~~~~~~~~~~~~~~~~~~~~~~CCCCOCCCO)CCCCC)CCCH]()CCCCCCCCH]()CCCO)C)CCCCCCCCC)C~~~~~~~~~~~~~~~~~~~~~~~~~~~~~~~~~~~~~~~~~~~~~~C((c=)c((=ccccc=((=((=O)c)c(=O)c=O)cc)ccccc)ccccc(c~~~~~~~~~~~~~~~~~~~~~~~~~~~~~~~~~~~~~~~~~~~~~~~~C)OCCCCCCCCCCH]1CCCCCCCO)CCCC)CCCC)CCO)CCC~~~~~~~~~~~~~~~~~~~~~~~~~~~~~~~~~~~~~~~~~~~~~~~~~~~~~~~~~C(()(=O)cccc=(cCH](c=(=O)cC((=O)cCccccc=C(=O)cc)cccc)ccccccc(~~~~~~~~~~~~~~~~~~~~~~~~~~~~~~~~~~~~~~C((=c^cccc=((=O)cC(H]()((=(=O)c)(=(c=(c(c(C(HH]()c)cccc)cc^c(=(c=O)cO)~~~~~~~~~~~~~~~~~~~~~~~~~~~~~CCC)CCO)cccccccCCcCCCCcCCCO)c)ccccccccccccccccc~~~~~~~~~~~~~~~~~~~~~~~~~~~~~~~~~~~~~~~~~~~~~~~~~~~~C(()ccc=()cccc=(=O)c(=(ccccccc=ccc(=O)ccccccccc(cO)ccc)~~~~~~~~~~~~~~~~~~~~~~~~~~~~~~~~~~~~~~~~~~~~C(N(cccccC(cccccCcccccccC(CO)c)cccccC)cccccC)ccc~~~~~~~~~~~~~~~~~~~~~~~~~~~~~~~~~~~~~~~~~~~~~~~~~~~C)OCCO)cCCCCC^CCCH]1cCOCCCHH]1^Ccc1^1111^~~~~~~~~~~~~~~~~~~~~~~~~~~~~~~~~~~~~~~~~~~~~~~~~~~~~~~~~~~CCCcOCCCOCCCcCCCCcccccccccCcccccccccC)CccCCCc~~~~~~~~~~~~~~~~~~~~~~~~~~~~~~~~~~~~~~~~~~~~~~~~~~~~~~C(ccccc=)ccccccccc=((=((=O)c)c(=O)c=O)cccccc=()cccccccc()~~~~~~~~~~~~~~~~~~~~~~~~~~~~~~~~~~~~~~~~~~CCCCO)cCccccccC)CCO)cCcCc)cccc)cCCCCCcccc~~~~~~~~~~~~~~~~~~~~~~~~~~~~~~~~~~~~~~~~~~~~~~~~~~~~~~~~~~C(()ccccCr)ccCr)ccC((C(()c(CO)ccccccCccccccccccccccc)~~~~~~~~~~~~~~~~~~~~~~~~~~~~~~~~~~~~~~~~~~~~~~CCCC=O)cCcCCCC=C)=CC=O)cc)cccc)cC=O)cC=C=CcCcc)ccccc))cCCc~~~~~~~~~~~~~~~~~~~~~~~~~~~~~~~~~~~~~~~~~CCCCCcc^cccCCCCcCCCO)cCCCHH]()CCCCH](C)cC)ccc^~~~~~~~~~~~~~~~~~~~~~~~~~~~~~~~~~~~~~~~~~~~~~~~~~~~~~C((cccccC(C(CO)cccccC)cc)cCccc)(C(cC(c()cccHcC(ccC((ccCO)cCH](ccccc~~~~~~~~~~~~~~~~~~~~~~~~~~~~~~~~C(cccCr)ccccC(CO)cCccccC((()ccccc(NCccc)~~~~~~~~~~~~~~~~~~~~~~~~~~~~~~~~~~~~~~~~~~~~~~~~~~~~~~~~~~~C((=O)c(ccccc=ccccccc=(=((((=O)c)c(=(c=O)cO)ccccc=)ccc~~~~~~~~~~~~~~~~~~~~~~~~~~~~~~~~~~~~~~~~~~~~~CCCCO)ccccccCCcCCCCCcCCCCO)cc)ccc)cCc)c)CC))cCCO)cCCCcc)ccccc)ccCCccccc~~~~~~~~~~~~~~~~~~~~~~~~~~~~C@C@COC[@[C[@COC[@[@@@CC[@@[[@C@C@[@[@[[@@[[[CCH][[C[[[[[[C[@[@@[[~~~~~~~~~~~~~~~~~~~~~~~~~~~~~~~~~C(()(=O)c((ccccc=)cc=ccccc=(=O)c)ccc=)ccc(ccc~~~~~~~~~~~~~~~~~~~~~~~~~~~~~~~~~~~~~~~~~~~~~~~~~~~~~~C()(=O)cccccc=ccccccc=)(cccccc(cccc=(=)c=)c)ccccc(=(c=O)cO)~~~~~~~~~~~~~~~~~~~~~~~~~~~~~~~~~~~~~~~~C(N(cccccC(ccC(cccccC(c)cccC(CO)c)cc)cccccc~~~~~~~~~~~~~~~~~~~~~~~~~~~~~~~~~~~~~~~~~~~~~~~~~~~~~~~~CCCcCccccc=CcCCC=C=O)cc)cc)ccccc)c)CcCCcccccCcO)~~~~~~~~~~~~~~~~~~~~~~~~~~~~~~~~~~~~~~~~~~~~~~~~~~~CCccHcCCccccCC)cccCccccHccCC)CCCC)cccccccnH]ccCO)cccC~~~~~~~~~~~~~~~~~~~~~~~~~~~~~~~~~~~~~~~~~~~~~~C)O(=(((=O)cccccccc=)cccccCH]ccc(ccccc=((=O)cccccccccccc~~~~~~~~~~~~~~~~~~~~~~~~~~~~~~~~~~~~~~~~~~~C)OC=ccccccccC=O)c=O)cCcCCCCCccCcCCCc=CCccCC=ccccc=C)cccc)cC=O)c)c~~~~~~~~~~~~~~~~~~~~~~~~~~~~~~~~~C()(=O)c(=(c=(=O)c((c(=O)c(=(c(c)ccccc)cc(=ccccc=)(ccccc(=(c=O)cO)~~~~~~~~~~~~~~~~~~~~~~~~~~~~~~~~~C)O(CCccccCO)cCH](cCC(c(((((ccHccccccC()cccC()ccc~~~~~~~~~~~~~~~~~~~~~~~~~~~~~~~~~~~~~~~~~~~~~~~~~~CC)CCO)ccccccCCcCC)CCcccCcccccccC)cccccc~~~~~~~~~~~~~~~~~~~~~~~~~~~~~~~~~~~~~~~~~~~~~~~~~~~~~~~~~~~C((c^ccC(CO)cCc)ccC(cccC()(cc)ccCCcc^(NC~~~~~~~~~~~~~~~~~~~~~~~~~~~~~~~~~~~~~~~~~~~~~~~~~~~~~~~~~~~C)OC=CCC=O)cCcCCC=C)ccccc=C=O)cCcCC)CCccccccCCccccccc=)cccc~~~~~~~~~~~~~~~~~~~~~~~~~~~~~~~~~~~~~~~~C(c^ccC(CO)c)()(((C(N(c(()cccc^(C(c)C(cCO)cO)~~~~~~~~~~~~~~~~~~~~~~~~~~~~~~~~~~~~~~~~~~~~~~~~~~~~~~C(ccccCccccccCr)cccccccc(CO)c(c((cccCcC()(cccccccc)cccc(c(c~~~~~~~~~~~~~~~~~~~~~~~~~~~~~~~~~~~~~~~~C(((cc(=((=(S(S((=(=()(((=(=O)S)S(=(=)S=)S)S()S(=(S=O)SO)Scc~~~~~~~~~~~~~~~~~~~~~~~~~~~~~~~~~~~~~~~C((F(c(F(c(FO)c(1^c11F(F)cF)c)cc^~~~~~~~~~~~~~~~~~~~~~~~~~~~~~~~~~~~~~~~~~~~~~~~~~~~~~~~~~~~~~~~~~~C()cccccC(C(cCcccccC)cccccC(NCcccccccccC)ccc~~~~~~~~~~~~~~~~~~~~~~~~~~~~~~~~~~~~~~~~~~~~~~~~~~~~~~~CCCCCCccccccccC=O)c)Cc=CC=O)cccccccccC=O)cC=Ccccccccccc~~~~~~~~~~~~~~~~~~~~~~~~~~~~~~~~~~~~~~~~~~~~CCC)ccccccCCCO)cCCCH]cCCCCCcCcccccccccccc)~~~~~~~~~~~~~~~~~~~~~~~~~~~~~~~~~~~~~~~~~~~~~~~~~~~~~~~~~Cccccc-cccccc-((cccccc)cccccc)ccccccc~~~~~~~~~~~~~~~~~~~~~~~~~~~~~~~~~~~~~~~~~~~~~~~~~~~~~~~~~~~~~~C((C(c((()CO)cCO)cc^cccC(C(((c(c)ccC()(()ccc)cc)c1cc^)~~~~~~~~~~~~~~~~~~~~~~~~~~~~~~~~~~~~~~~~~~~~~OO)cccccCOOCCcOCO)cCcccccC)OcO)OcccC)Occccccc~~~~~~~~~~~~~~~~~~~~~~~~~~~~~~~~~~~~~~~~~~~~~~~~~~~~~~CCCCCCc^c=C)C=O)cCCCC=c)cccc=C)cc)Cc)=Cc=O)cO)cccc^)=Cc=O)cO)~~~~~~~~~~~~~~~~~~~~~~~~~~~~~~~~~~~~~~C(cccccC(CO)cCO)c(C((CO)c()((C)cC()(()c()cc)ccC()cccc)(cccc~~~~~~~~~~~~~~~~~~~~~~~~~~~~~~~~~~~~~~~~CCcccccCclccccCl)ccccccccccccccccc~~~~~~~~~~~~~~~~~~~~~~~~~~~~~~~~~~~~~~~~~~~~~~~~~~~~~~~~~~~~~~~~~C((F)ccccccccFccc((F(cccccF)cccc)(F)cF)c)c(()c~~~~~~~~~~~~~~~~~~~~~~~~~~~~~~~~~~~~~~~~~~~~~~~~~~~~~C()(CO)c(c(((ccccC)ccccC(ccc)cCr)ccC(cccc)cccccc~~~~~~~~~~~~~~~~~~~~~~~~~~~~~~~~~~~~~~~~~~~~~~~~~~~C(((=cccc=cc)cccc=(=O)c)(cc)ccccc(N(c)=O)c=O)cccccc)c=cccc=O)cc=(cc=O)cc)(~~~~~~~~~~~~~~~~~~~~~~~~~CCCCCH3CCCCCCCCC)CCC=C)CCCC)CCCCH]3CCCHH]3CCCCCHH3C=)CCCC3C33=C)C33C~~~~~~~~~~~~~~~~~~~~~~~~~~~~~~~C)OZ(O(-)cc^ccc-cccccccccc-)cccccccc^~~~~~~~~~~~~~~~~~~~~~~~~~~~~~~~~~~~~~~~~~~~~~~~~~~~~~~~~~~~~~~CCCccccCCCO)cCccccCCcccCC)CcccccCCCCO)cccccccccccc~~~~~~~~~~~~~~~~~~~~~~~~~~~~~~~~~~~~~~~~~~~~~~~~~C(cccC()cCH]ccccccCCCccccccCr)ccc(NCc(c((cccccc~~~~~~~~~~~~~~~~~~~~~~~~~~~~~~~~~~~~~~~~~~~~~~~~~~~~C(c^ccc)cCr)ccC(CO)c((C((CO)c)c(C(cC(c(ccc)c^~~~~~~~~~~~~~~~~~~~~~~~~~~~~~~~~~~~~~~~~~~~~~~~~~~~~~~CCcccccC)CcccccCCccC)ccccccccCCCcO)~~~~~~~~~~~~~~~~~~~~~~~~~~~~~~~~~~~~~~~~~~~~~~~~~~~~~~~~~~~~~~~~C()(=O)ccccccccc=r)cccccc((=O)cC(H](=()(=(c=(c(c((=(cO)~~~~~~~~~~~~~~~~~~~~~~~~~~~~~~~~~~~~~~~~~~~~CCCcccccCCCO)cCCCcCCcCCCC)cCCccccc)ccc)cCc)cccCCCC)cccc~~~~~~~~~~~~~~~~~~~~~~~~~~~~~~~~~~~~~~~~~~~~C()ccccccFcccccF(F)cF)c)cc)cccF(FO)c(c)ccccF(cc)cc)ccccc~~~~~~~~~~~~~~~~~~~~~~~~~~~~~~~~~~~~~~~~~~~C(cccc-(c((cnc-c-cc)cc-cc)ccccc)ccc)cccn(c(ccc-cccccccccccc~~~~~~~~~~~~~~~~~~~~~~~~~~~~~~~~~~~~~~~~C(ccCH]cccccc=(=O)cccccc=()((=O)c(O(=)c()ccccccccc(~~~~~~~~~~~~~~~~~~~~~~~~~~~~~~~~~~~~~~~~~~~~~~~~CCCCCcc^cccCCCO)cc)cccc)CCCcCCcCccc^~~~~~~~~~~~~~~~~~~~~~~~~~~~~~~~~~~~~~~~~~~~~~~~~~~~~~~~~~~~~~~~CllFO)ccccF)ccF)ccF)ccFccccccccccccccccccccccc)~~~~~~~~~~~~~~~~~~~~~~~~~~~~~~~~~~~~~~~~~~~~~~~~~~~~C()cccccC)ccC((CO)c)(cccccC(ccC)cccccc)~~~~~~~~~~~~~~~~~~~~~~~~~~~~~~~~~~~~~~~~~~~~~~~~~~~~~~~~~~~~C(((CO)cccccCcccccc)cCcccccc)((((CO)c)(C(cC(c(ccccc)~~~~~~~~~~~~~~~~~~~~~~~~~~~~~~~~~~~~~~~~~~~~~~~CCCCCcCCcCCCCO)cCc^cccCr)ccc^~~~~~~~~~~~~~~~~~~~~~~~~~~~~~~~~~~~~~~~~~~~~~~~~~~~~~~~~~~~~~~~~~~~~~~C()cccccC()O()(C(cC(CO)cc)cC()cc)ccC(cccc)c)(CO)c)(C(cC(c(c()cccc~~~~~~~~~~~~~~~~~~~~~~~~~~~~~~~~~~CCCCc^cccCCccc^CCCO)cCCCHH](CCcCCO)c)~~~~~~~~~~~~~~~~~~~~~~~~~~~~~~~~~~~~~~~~~~~~~~~~~~~~~~~~~~~~~~C(N(ccccF((FO)cccccF()cccF()ccccccF)ccc)~~~~~~~~~~~~~~~~~~~~~~~~~~~~~~~~~~~~~~~~~~~~~~~~~~~~~~~~~~~C()ccccc-ccccc-(cccccc-(ccc-)ccccccccccccccc~~~~~~~~~~~~~~~~~~~~~~~~~~~~~~~~~~~~~~~~~~~~~~~~~~~~~~~O(()cccB(ccccBr)ccBr)cccc(cccB(BO)c)cccc)(~~~~~~~~~~~~~~~~~~~~~~~~~~~~~~~~~~~~~~~~~~~~~~~~~~~~~~~~~C(cccccC(cccCccccccCc(CO)ccccC(c()c)ccccc))cccccccccccccc~~~~~~~~~~~~~~~~~~~~~~~~~~~~~~~~~~~~~~~~~~C()ccccc=(=O)c)cccc((=O)c((=O)cccccc=()cc=(c)Cc](cc=(cc)(=(cO)ccc~~~~~~~~~~~~~~~~~~~~~~~~~~~~~~~~~~C(c^cc=cc)ccc=()=O)c=O)c()((((=(=O)c)c()ccc)ccc^(~~~~~~~~~~~~~~~~~~~~~~~~~~~~~~~~~~~~~~~~~~~~~~~~~~C(ccccc=(ccccc=(=((=O)c)c(=(c=O)cO)cccc(=)c=)c)ccc~~~~~~~~~~~~~~~~~~~~~~~~~~~~~~~~~~~~~~~~~~~~~~~~~C()(CO)c(C(ccccccC(C(CO)cc)ccccC)cc)c()C(CO)c)c(((((()cccc~~~~~~~~~~~~~~~~~~~~~~~~~~~~~~~~~~~~~~~~~CCCCFCCCCCCCCF)CC)CF)CF)CCF)CC)~~~~~~~~~~~~~~~~~~~~~~~~~~~~~~~~~~~~~~~~~~~~~~~~~~~~~~~~~~~~~~~~~~~~CCcccccC)CcccccCCCO)cCcCCCCCO)cC)CC)CC)cCcc1cccCCccc~~~~~~~~~~~~~~~~~~~~~~~~~~~~~~~~~~~~~~~~~~~~~~~C()ccccC(()(CO)ccccccccCcccc(C(c(cccccccc)~~~~~~~~~~~~~~~~~~~~~~~~~~~~~~~~~~~~~~~~~~~~~~~~~~~~~~~~~C(cccccc=((=O)ccccccccccccccc=r)cc=((=O)c)cccccc(~~~~~~~~~~~~~~~~~~~~~~~~~~~~~~~~~~~~~~~~~~~~~~~~~~CC)C=O)cccccc=CCcCCCCCccc=CC=O)cCCC=O)cCcCCc)ccccc)cccc~~~~~~~~~~~~~~~~~~~~~~~~~~~~~~~~~~~~~~~~~~~~C)1cc1c1c1Cr)c11C(c((((c)((()c1C()c1cc~~~~~~~~~~~~~~~~~~~~~~~~~~~~~~~~~~~~~~~~~~~~~~~~~~~~~~~~~~~~~Cl)cccccClCcccccCr)ccccClClCccccccccc)cccc~~~~~~~~~~~~~~~~~~~~~~~~~~~~~~~~~~~~~~~~~~~~~~~~~~~~~~~~~CCC)CCO)cccccCccccccCC)ccccccccCCCcccccccccCcCCc~~~~~~~~~~~~~~~~~~~~~~~~~~~~~~~~~~~~~~~~~~~~~~~~~~~C((C(CO)c)(C(cC(c(cc^ccccC((CO)cc)ccccCr)cc)(cc^~~~~~~~~~~~~~~~~~~~~~~~~~~~~~~~~~~~~~~~~~~~~~~~~~~~Clcccc=cccccc=r)cccc(=(c=O)cO)ccccc=)cc=l)cccccc~~~~~~~~~~~~~~~~~~~~~~~~~~~~~~~~~~~~~~~~~~~~~~~~~~~C)O(=(cccccc=(=O)ccccccc=)cccccccccccccc=c(=O)cccccccccccc~~~~~~~~~~~~~~~~~~~~~~~~~~~~~~~~~~~~~~~~~C(()ccccF)(F)cF)c)cccFcccccccF()ccc((FO)ccccccccc(ccc)~~~~~~~~~~~~~~~~~~~~~~~~~~~~~~~~~~~~~~~~~~~~~C)CCCCCCcccccCCCccccccccccc~~~~~~~~~~~~~~~~~~~~~~~~~~~~~~~~~~~~~~~~~~~~~~~~~~~~~~~~~~~~~~~~~~~~~~~~C(((c((=(=O)c(=ccccc=)(cccccc=O)c=O)cccccccHHc=(cHcccc(ccccnH]cccccccccc~~~~~~~~~~~~~~~~~~~~~~~~~~~C()(CO)ccccccccCccccccC(ccccC)ccc(c(((C(ccccccccc(c~~~~~~~~~~~~~~~~~~~~~~~~~~~~~~~~~~~~~~~~~~~~~~~~CCNCcccccCCCC)ccccCCCO)cCCHH](cCCCCcCCO)c)Ccccccccc~~~~~~~~~~~~~~~~~~~~~~~~~~~~~~~~~~~~~~~~~~~~~~~~CCCCc^cCCCccCCCc^CCO)CC^CCCCCC)CCCCCCCC)CCC^~~~~~~~~~~~~~~~~~~~~~~~~~~~~~~~~~~~~~~~~~~~~~~~~~~~~~~~C((C(CO)ccccccCcccccCr)ccC()ccccC)cccccccccccccccccccc~~~~~~~~~~~~~~~~~~~~~~~~~~~~~~~~~~~~~~~~~~~~~CCCcCCCO)cCcccccCcccccCCc)cccc)ccnc]cccccccCCCc~~~~~~~~~~~~~~~~~~~~~~~~~~~~~~~~~~~~~~~~~~~~~~~~~~~~C(cccc=)ccc=((=O)c)(=O)cccccc=(=(c)ccccc)c)=(c=O)cO)ccccccc~~~~~~~~~~~~~~~~~~~~~~~~~~~~~~~~~~~~~~~~C(cnncC)(CO)n(cncC()ncnnn(C(n(nnnncC(ncCr)ncnnn~~~~~~~~~~~~~~~~~~~~~~~~~~~~~~~~~~~~~~~~~~~~~~~~~~~~C()(CO)ccccccC(C(CO)ccccccC)ccC(cccc(c(((((cccC(ccc~~~~~~~~~~~~~~~~~~~~~~~~~~~~~~~~~~~~~~~~~~~~~~~~C#)ccccccC#cCcccc)cccC#N#ccc)ccc##)##cccc~~~~~~~~~~~~~~~~~~~~~~~~~~~~~~~~~~~~~~~~~~~~~~~~~~~~~~~~~~C()(=O)cccccccccccccccc=(=O)c(=ccccc=(=O)c)cc=(=)c=)c)cccc(=(c=O)cO)ccc~~~~~~~~~~~~~~~~~~~~~~~~~~~~C)Occnc](ccccc=(cccc=)cc)ccccc)ccccccc=O)ccc~~~~~~~~~~~~~~~~~~~~~~~~~~~~~~~~~~~~~~~~~~~~~~~~~~~~~~~CCCCCCCcCCC)cccccC)ccC)ccccCc~~~~~~~~~~~~~~~~~~~~~~~~~~~~~~~~~~~~~~~~~~~~~~~~~~~~~~~~~~~~~~~~~~~~~~CCC)C=O)cccc=CC=O)cccccccccC)ccccccCCCCc=)cCcOC=Cc)CCcO)~~~~~~~~~~~~~~~~~~~~~~~~~~~~~~~~~~~~~~~~~~~CCcccccCCCCcccccCCCcCCCCCCcCCcCcCccccccccc~~~~~~~~~~~~~~~~~~~~~~~~~~~~~~~~~~~~~~~~~~~~~~~~~~~~~~~~~C()ccccccF)ccc(F(c(FO)cccccccFcccccF(F)cF)c)cccF(F(c(cccccc~~~~~~~~~~~~~~~~~~~~~~~~~~~~~~~~~~~~~~~~C()(=O)c(=(=O)c(=(cccccccccc(=cccc=()ccccc(c)=O)c=O)cccccc=(cccc~~~~~~~~~~~~~~~~~~~~~~~~~~~~~~~~~~~C((=(c=(c)(=O)cCc((((c(((=O)c)ccccccccc=(=O)c)cccccc~~~~~~~~~~~~~~~~~~~~~~~~~~~~~~~~~~~~~~~~~~~~~~~CCC)ccccCr)ccccccccccccCCCCO)ccccccccc)Cccc~~~~~~~~~~~~~~~~~~~~~~~~~~~~~~~~~~~~~~~~~~~~~~~~~~~~~~~~C((ccccccc=(=O)c=O)c(=cccc=)ccc=)cccccccc=(=O)c)(ccc)ccnc](cc)ccccccc~~~~~~~~~~~~~~~~~~~~~~~~~~~~~~C(ccccccccc=c=O)c=O)c(ccccc=cc)cc=()ccc)ccccccccc~~~~~~~~~~~~~~~~~~~~~~~~~~~~~~~~~~~~~~~~~~~~~~~~~~CcCcccCCCCCC)CCCCCCCCCCCCCcCCCCCCCCCCCcC~~~~~~~~~~~~~~~~~~~~~~~~~~~~~~~~~~~~~~~~~~~~~~~~~~~~~~~~~~~CCCCCCCCCCCCCO)CCCCCCCCcCccCcccccCcCCC~~~~~~~~~~~~~~~~~~~~~~~~~~~~~~~~~~~~~~~~~~~~~~~~~~~~~~~~~~~~~CCC)C=O)C(^c()CH](((=C=O)CC)CCC=C=O)C)C=CC=CCCCCCH](=CC)CCC)C(=O)C()(^C~~~~~~~~~~~~~~~~~~~~~~~~~~~~C((FO)c(cccccF(F)cF)c)cccc(FcccccF)cccccccccccFccc(FO)ccccccccc(cO)~~~~~~~~~~~~~~~~~~~~~~~~~~~~~~~~C()ccccc=cccccc=ccccc)cc=(cccc)cccccccc=(=((=O)c)cc=(c=O)cO)ccc~~~~~~~~~~~~~~~~~~~~~~~~~~~~~~~~~~~~C)OCC)cCcCCCCCCO)cCO)cC1c111CC)c1CC)CCC)cCC)CC)cC)c1ccCCc~~~~~~~~~~~~~~~~~~~~~~~~~~~~~~~~~~~~~~~~~~C()ccccc=(=O)c)cccc((=O)c((=O)cccccc=()cc=(c)Cc](cc=(cc)(=(cO)ccc~~~~~~~~~~~~~~~~~~~~~~~~~~~~~~~~~~C()(c((((C)(C(cc(c((C)(CO)C((c((CC(CO)C)(C(CC(C(C((cC)C)C1cc~~~~~~~~~~~~~~~~~~~~~~~~~~~~~~~~~~~~~~~C(ccccc=((=O)ccccc=)ccc=ccccccc)cc((=O)c()ccccc=r)ccc~~~~~~~~~~~~~~~~~~~~~~~~~~~~~~~~~~~~~~~~~~~~~~CC)CCO)cCCCCO)cCCCCC)cCCccccCC)cccccCc)CO)cCO)ccccccCCcccc~~~~~~~~~~~~~~~~~~~~~~~~~~~~~~~~~~~~~~~~~CC(C(((CCC)CC)C)C(CC)CCO)CCCC)CCCC)CCO)C)CCCCCCCCC(C~~~~~~~~~~~~~~~~~~~~~~~~~~~~~~~~~~~~~~~~~~~~~~~C(cccccCCccc((C(c)(cccccC)ccC)ccc~~~~~~~~~~~~~~~~~~~~~~~~~~~~~~~~~~~~~~~~~~~~~~~~~~~~~~~~~~~~~~~~~~C(ccccccC(cccccccCcccccccccccr)~~~~~~~~~~~~~~~~~~~~~~~~~~~~~~~~~~~~~~~~~~~~~~~~~~~~~~~~~~~~~~~~~~~~CCC)CCO)CCCHH]1CCCH]1CCCCCCH]1CCCCCCCO)CCCCCCC1C11111CCCCC~~~~~~~~~~~~~~~~~~~~~~~~~~~~~~~~~~~~~~~~~C(ccccc=(=O)c(ccccc=(cccccccccc)c=ccc((())=(c=O)cO)cccc~~~~~~~~~~~~~~~~~~~~~~~~~~~~~~~~~~~~~~~~~~~~CCCccccccccCcc)ccccc)C)CCOCcCcccccccCNC~~~~~~~~~~~~~~~~~~~~~~~~~~~~~~~~~~~~~~~~~~~~~~~~~~~~~~~~~~~~CCC)C=O)CCC=C=O)CCCHH](CCCC=O)CCCCC=O)C)C=CC=CCCCCCCC=C=CCCCCC~~~~~~~~~~~~~~~~~~~~~~~~~~~~~~~~~~~~~O((=O)ccccccccc)((=O)c(=ccccccc=ccc)(()cc(=O)c=O)cccccccccccccc~~~~~~~~~~~~~~~~~~~~~~~~~~~~~~~~~~~~C((CC((c(CO)cccccCCc)cccCC(H]()((C(HH](C(CO)c)cC)(C(cO)ccc)ccC)ccC)(ccc~~~~~~~~~~~~~~~~~~~~~~~~~~~~C(N(ccccc=((=O)cccccccccc(ccccc=)cccccc=(=O)c)ccc~~~~~~~~~~~~~~~~~~~~~~~~~~~~~~~~~~~~~~~~~~~~~~~~~~CCC)cCcCCCCCCCCO)C)CC)CC)CCCCCCCCcCO)CcCO)~~~~~~~~~~~~~~~~~~~~~~~~~~~~~~~~~~~~~~~~~~~~~~~~~~~~~~~~~C)O(=((c=ccccc=(=O)c)ccc(cccccc=)cccc(=O)c(ccccc=()ccccccccccccc~~~~~~~~~~~~~~~~~~~~~~~~~~~~~~~~~~~CCNCcccccCCCC)ccccCCCO)cCCH](CCCCO)c)cCCCO)c)Ccccccccc~~~~~~~~~~~~~~~~~~~~~~~~~~~~~~~~~~~~~~~~~~~~~C((ccccc)cC)CO)cCO)c(C(CO)c(C)c((N(cc)cccC(C(c(ccc)cccccc)~~~~~~~~~~~~~~~~~~~~~~~~~~~~~~~~~~~~~~~~~C(ccccc=(((c=O)c=O)cccccc=cccccc)c=)ccccc)ccccccccc~~~~~~~~~~~~~~~~~~~~~~~~~~~~~~~~~~~~~~~~~~~~~~~~CCC)CCO)cc^ccCCccCCCO)cCCCHH]()CCCCH](C)cC)cc^C~~~~~~~~~~~~~~~~~~~~~~~~~~~~~~~~~~~~~~~~~~~~~~~~~~~~C(()ccccc=(=((=O)c)c(=O)c=O)cccccc=cc)cc=(=O)c)(cc=(cc)cccccccc~~~~~~~~~~~~~~~~~~~~~~~~~~~~~~~~~~~~CCc^ccCCccc^CCO)cCc^ccc)cCc^cCCCc^cccCCCCcCccc^cCC)O)~~~~~~~~~~~~~~~~~~~~~~~~~~~~~~~~~~~~~~~~~~~~~~C(cccccccc((FcccccFcccccF(FO)c(F)cF)c)ccccc)ccccc(F(cFO)cO)~~~~~~~~~~~~~~~~~~~~~~~~~~~~~~~~~~~~~~~~CCCCCCCCC)CCO)CCCCCCC)CC)C)CCCO)CCCCCCCCCCCCCCC1)11111)CCCC~~~~~~~~~~~~~~~~~~~~~~~~~~~~~~~~~~~~~~~~C(cccccC)(C)cC)c)cccc((CC(CO)cC(HH](c((O(C(HH](cCc(CO)c)~~~~~~~~~~~~~~~~~~~~~~~~~~~~~~~~~~~~~~~~~~~C((FO)cFO)c(FcccccF(FO)c)ccF(F)cF)c)ccccccccccccccFr)ccccc~~~~~~~~~~~~~~~~~~~~~~~~~~~~~~~~~~~~~~~~~C(cccc=((=O)cccccccccc=cccccccccc=(=O)c)ccccccccc(~~~~~~~~~~~~~~~~~~~~~~~~~~~~~~~~~~~~~~~~~~~~~~~~~O)cccccO)ccOcccccOr)ccOl)ccccO)cccccccccc~~~~~~~~~~~~~~~~~~~~~~~~~~~~~~~~~~~~~~~~~~~~~~~~~~~~~~~~~~C(ccccccccC(C(c(ccccC(cccc()cccC()ccccc~~~~~~~~~~~~~~~~~~~~~~~~~~~~~~~~~~~~~~~~~~~~~~~~~~~~~~~~~~~~C((CO)cccccC)ccccc(c((C)cccccC)ccC)cccc(c~~~~~~~~~~~~~~~~~~~~~~~~~~~~~~~~~~~~~~~~~~~~~~~~~~~~~~~~~~C()(=O)ccccCH](c=O)cc=(cccc=)cc=r)cccc)(ccc~~~~~~~~~~~~~~~~~~~~~~~~~~~~~~~~~~~~~~~~~~~~~~~~~~~~~~~~C(cccccc=(=(=O)cc)c=(ccc=(ccc)(c)=O)c=O)cc)ccc)cccc)c)ccc~~~~~~~~~~~~~~~~~~~~~~~~~~~~~~~~~~~~~~~~~~C(cccc=(=O)c)ccccc(ccccc=()cccc(=O)c=O)c(c(()((c~~~~~~~~~~~~~~~~~~~~~~~~~~~~~~~~~~~~~~~~~~~~~~~~~~~CCCc^ccccCCCCO)cCc)cccc)CCCCCCCO)c)CCCcCCcCcc^~~~~~~~~~~~~~~~~~~~~~~~~~~~~~~~~~~~~~~~~~~~~~~~~~~~~~C((FO)c(cccccF)cccccccc(cccc(F)cF)c)~~~~~~~~~~~~~~~~~~~~~~~~~~~~~~~~~~~~~~~~~~~~~~~~~~~~~~~~~~~~~~~C((=O)c=O)cC=((=O)c)cccccc=Cccccc=C)(((()O)ccccCc((((cO)cccc~~~~~~~~~~~~~~~~~~~~~~~~~~~~~~~~~~~~~~~C((N(NO)c(c^HcN(ccN(ccNO)cnH](^cc^ccccc^~~~~~~~~~~~~~~~~~~~~~~~~~~~~~~~~~~~~~~~~~~~~~~~~~~~~~~~~~~~O)O(=)cccc=)ccccc(=O)c)ccccc=ccccccccc1cc~~~~~~~~~~~~~~~~~~~~~~~~~~~~~~~~~~~~~~~~~~~~~~~~~~~~~~~~~~CC)cCcccC)CCcCCCCO)CCCCCO)CCCCCCO)C)CCCCCCCCCCCCCCCcC~~~~~~~~~~~~~~~~~~~~~~~~~~~~~~~~~~~~~~~~~~~~~~CC)C=O)cCcOC=CCCcOC=CNCcccccccccCccCC=O)cCCcccccc=Ccccc~~~~~~~~~~~~~~~~~~~~~~~~~~~~~~~~~~~~~~~~~~~~CCCCCCC@@](CCCCCCCO)C)CCCCCCCCCCC@@](CCCO)C)CC@](CCCO)C)CCC@@](CCCCC~~~~~~~~~~~~~~~~~~~~~~~~~~~~~~~C()ccccFr)ccF)cccc(cccccF(cccF()ccF(F)cF)c)cccc(cccc~~~~~~~~~~~~~~~~~~~~~~~~~~~~~~~~~~~~~~~~~~~~~~~C(((=(=O)c)c(=ccccc=)cc=ccccc=(ccc=)(ccc)cccc(=(c=O)cO)~~~~~~~~~~~~~~~~~~~~~~~~~~~~~~~~~~~~~~~~~~~~CCCCO)cCCCCCcCCCCO)cCcccccCcccccCCcccccC)cccccC)Cc~~~~~~~~~~~~~~~~~~~~~~~~~~~~~~~~~~~~~~~~~~~~~~~~~C((=(c(C(HH](=(=O)c(=(c(((=(=O)c)c(=(=)c=)c)c(cc(=(c=O)cO)c(=(c(=O)c)((c(((((c~~~~~~~~~~~~~~~~~~~~~C()cccccC)(ccccccC(cccCO)ccc((CO)c(ccccC()(((C)cC)c)ccC(ccc~~~~~~~~~~~~~~~~~~~~~~~~~~~~~~~~~~~~~~~~CCCCCCCcccccC)CcCCCCcccccCcCCO)cCO)cccccccccC~~~~~~~~~~~~~~~~~~~~~~~~~~~~~~~~~~~~~~~~~~~~~~~~~~~~~~C)O(C)cccccccccccccccccccccC()ccccccc)(()c~~~~~~~~~~~~~~~~~~~~~~~~~~~~~~~~~~~~~~~~~~~~~~~~~~~~~~~~~C()(CO)cC(HH](c((C(()(((C)c(C()c()()c(((c(CO)c)(C(cC(c(~~~~~~~~~~~~~~~~~~~~~~~~~~~~~~~~~~~~~~~~~~~~C((()1c11Cr)c1C(CO)c(C(c((C)cC)c(CO)c)c11c)(~~~~~~~~~~~~~~~~~~~~~~~~~~~~~~~~~~~~~~~~~~~~~~~~~~~~~~~CCC(HH]c=(ccccccccccccccc(=O)cCc((((c=(=O)c)ccccccccc~~~~~~~~~~~~~~~~~~~~~~~~~~~~~~~~~~~~~~~~~~~~~~C((FccccF)cccF)(F)cF)c)ccccccccccFccc(FO)ccccccccc(cO)~~~~~~~~~~~~~~~~~~~~~~~~~~~~~~~~~~~~~~~~~~~~~CCccccccCCCCO)cccccccccccccccccCcccCCCcCC)ccccC~~~~~~~~~~~~~~~~~~~~~~~~~~~~~~~~~~~~~~~~~~~~~~~~~~~~CCC)1^1=C=CC)CC=O)CC)CC=O)CC=C=CCCCCC)C1=O)C1^O)~~~~~~~~~~~~~~~~~~~~~~~~~~~~~~~~~~~~~~~~~~~~~~~~~~~C(()(=O)C((=)C=(1C111=()C11C()C(=(=(CO)CC=(=(CO)C(=(CO)~~~~~~~~~~~~~~~~~~~~~~~~~~~~~~~~~~~~~~~~~~~~CCCcccCCcCCCCcCCO)cCcCc)cccc)cCCCCCcccccccccccc~~~~~~~~~~~~~~~~~~~~~~~~~~~~~~~~~~~~~~~~~~~~~~~~~~~~CCCc^ccccCCCCO)cCc)cccc)CCCCCCCO)c)CCCcCCcCcc^~~~~~~~~~~~~~~~~~~~~~~~~~~~~~~~~~~~~~~~~~~~~~~~~~~~~~C(N(cccccC(CO)c(ccccccC(CO)c((C)ccccccCcc)cccc)cccccccccC)ccc~~~~~~~~~~~~~~~~~~~~~~~~~~~~~~~~~~~~~~CCCcCCcC)ccccccccCCCCcccccC)ccccccccccCCNCcccccCcO)~~~~~~~~~~~~~~~~~~~~~~~~~~~~~~~~~~~~~~~~~~~~~~~~C(((=O)ccccccc=cccccc=(=((=O)c)(c)=O)c=O)cc)ccccc)ccccccc~~~~~~~~~~~~~~~~~~~~~~~~~~~~~~~~~~~~~~~~~~CCC1^c1CCC)OCCCO)CCCCCO)C)CCCCCCCCCCCH]()CCc1^C~~~~~~~~~~~~~~~~~~~~~~~~~~~~~~~~~~~~~~~~~~~~~~~~~~~~C(cccCr)ccccC(CO)cCccccC((()ccccc(NCccc)~~~~~~~~~~~~~~~~~~~~~~~~~~~~~~~~~~~~~~~~~~~~~~~~~~~~~~~~~~~C((ccccc=(=O)c)ccccccccccc=(c=O)c=O)cccccccccccc(~~~~~~~~~~~~~~~~~~~~~~~~~~~~~~~~~~~~~~~~~~~~~~~~~~CCC)1C1CCCCCCCCO)C)CCCCCC)CCCCCCCCCCC1CO)C1CO)~~~~~~~~~~~~~~~~~~~~~~~~~~~~~~~~~~~~~~~~~~~~~~~~~~~~~CCC)CCO)cccccccccCCcCCCCC)c)cccCCCO)cCC)CC)ccc)cCCcccccccC~~~~~~~~~~~~~~~~~~~~~~~~~~~~~~~~~~~~~~~~~CCC)C=O)CC=C=O)CCCCC=CCCCCC=C=O)C)CCC1C111=)CCc1C~~~~~~~~~~~~~~~~~~~~~~~~~~~~~~~~~~~~~~~~~~~~~~~~~~C(((()cccccCcccccC)ccCr)cccc(cccc~~~~~~~~~~~~~~~~~~~~~~~~~~~~~~~~~~~~~~~~~~~~~~~~~~~~~~~~~~~~~~~~~~CC)CCO)ccccccCCCCO)cCCCcCCcCccCCCCcCCCCcccccccccCcccccccccC)Ccccc~~~~~~~~~~~~~~~~~~~~~~~~~~~~~~~~~~C)O(c(((=O)ccccccc=(ccccc=r)cccccc(c~~~~~~~~~~~~~~~~~~~~~~~~~~~~~~~~~~~~~~~~~~~~~~~~~~~~~~~~~~~~~~~CCC)CCO)cCCCH](^CCCCCccccc)ccCCccCO)c1c)cccC^~~~~~~~~~~~~~~~~~~~~~~~~~~~~~~~~~~~~~~~~~~~~~~~~~~~~~~O()ccccc=(=(=O)cccc=)cccccc)c(=O)c=O)cccccccccc=(ccccccccc~~~~~~~~~~~~~~~~~~~~~~~~~~~~~~~~~~~~~~~~~CCnnnnCCnnCnnnnnnCCCCC)nCC)nCCnCCCCCnCCnnnnnnnCnnnnnnn~~~~~~~~~~~~~~~~~~~~~~~~~~~~~~~~~~~~~~~~~~~~~C(ccccc-cccccccccc-)ccccccccc(~~~~~~~~~~~~~~~~~~~~~~~~~~~~~~~~~~~~~~~~~~~~~~~~~~~~~~~~~~~~~~~~~~~~~C()(=O)c(=(c=(=O)cccc=(cHCH](ccccccccc=()cccc(=cccc=)(ccccc)(c(=(c=O)cO)~~~~~~~~~~~~~~~~~~~~~~~~~~~CC1^HCH](11^CCO)CC^CCCCCCO)C)CCCCCCCCCCCCCCCCC^~~~~~~~~~~~~~~~~~~~~~~~~~~~~~~~~~~~~~~~~~~~~~~~~~~~~CCC)CCO)CCCCCCO)CC)1C111c1CCCCCCCCCCCCCCC~~~~~~~~~~~~~~~~~~~~~~~~~~~~~~~~~~~~~~~~~~~~~~~~~~~~~~~~~~C((ccccc=(=ccccc=(=O)c)cc=)(cccc(=O)c=O)cccccc)ccc=(cc)cccccc~~~~~~~~~~~~~~~~~~~~~~~~~~~~~~~~~~~~~~CCccccCcccccCccccccccccccccccccCCCCcccccCcCC)cccccCc~~~~~~~~~~~~~~~~~~~~~~~~~~~~~~~~~~~~~~~~~~~~~~~CCCCCCO)cCCc^cccCCCccc^cc^HcCCccCCCccCO)cCH](^~~~~~~~~~~~~~~~~~~~~~~~~~~~~~~~~~~~~~~~~~~~~~~~~~~~~~C()(CO)ccccccccCcccccCcccccc)cC()cccc)ccccc((((CO)c)(C(cC(c(~~~~~~~~~~~~~~~~~~~~~~~~~~~~~~~~~~~~~~~CCCcOCC=O)cC=Ccccccc=CcCCCCc=C=O)c)ccccccccccccc=cccccccccCc~~~~~~~~~~~~~~~~~~~~~~~~~~~~~~~~~~~~~~~CC)CCC^CCCCC^C^CCCC1Cc1c11CCCC^~~~~~~~~~~~~~~~~~~~~~~~~~~~~~~~~~~~~~~~~~~~~~~~~~~~~~~~~~~~~~~~~~~~~C)O(C(ccccCr)cccccr)c(cccccCcccccC(cccccccccnc]cccccc~~~~~~~~~~~~~~~~~~~~~~~~~~~~~~~~~~~~~~~~~~~~~~CCC)1C1CCCCCCCCO)C)CCCCCC)CCCCCCCCCCC1CO)C1CO)~~~~~~~~~~~~~~~~~~~~~~~~~~~~~~~~~~~~~~~~~~~~~~~~~~~~~C(ccccCcccccC()cccccccccccC)ccC(CO)c)cccccC((N(ccc~~~~~~~~~~~~~~~~~~~~~~~~~~~~~~~~~~~~~~~~~~~~~~~~~C()(=O)c(=(c=(=O)c(=)c)c(=1c111=)(c11cc(=(c=O)cO)~~~~~~~~~~~~~~~~~~~~~~~~~~~~~~~~~~~~~~~~~~~~~~~~~~CCCC)c1c111c1C1ccCCCCCcCCCCCC)cC)c)cCCccCC)c~~~~~~~~~~~~~~~~~~~~~~~~~~~~~~~~~~~~~~~~~~~~~~~~~~~~~~~C)OCCCCcCCccccccccC)CCcCCCCCcccccCr)cc)cccccc)cCcccc~~~~~~~~~~~~~~~~~~~~~~~~~~~~~~~~~~~~~~~~~~~~~~~C()cncc-ccccccccccccn)((-O)c((cnccccnc]cc-(cccccn~~~~~~~~~~~~~~~~~~~~~~~~~~~~~~~~~~~~~~~~~~~~~~~~~~CCCcccCr)cccCr)cccCcCCCCCC)ccccccCCCO)cCCCCCCccccCc~~~~~~~~~~~~~~~~~~~~~~~~~~~~~~~~~~~~~~~~~~~~~~~~C(cccc=()ccccc=)ccccccccc(((=(=O)cccccc=(ccc=O)cnc](c)cccc)ccO)ccccc(c~~~~~~~~~~~~~~~~~~~~~~~~~~~~~C(cccccccccCcCO)cCO)c(C(cccccccc)(((C(c(cccccC)cccC)cccccccc~~~~~~~~~~~~~~~~~~~~~~~~~~~~~~~~~~~~~~~C(()cccccnc](cCO(ccC(c)cccCcc)cccC(CO)c)ccc)(N(ccc)ccCO)cccccc)((~~~~~~~~~~~~~~~~~~~~~~~~~~~~~~~~~~C((=(c=(c(=((=O)c)cC(=O)cccccc=C(=O)c()(=O)cc)ccc=Cccc)cccc~~~~~~~~~~~~~~~~~~~~~~~~~~~~~~~~~~~~~~~~CC(=O)cCc^ccc=C(cO((c)ccc=(=O)c)cc)(ccc=()cc^~~~~~~~~~~~~~~~~~~~~~~~~~~~~~~~~~~~~~~~~~~~~~~~~~~~~~~CC)CCCccccCCcccCCCO)c)Ccccccccccccccc)ccccc~~~~~~~~~~~~~~~~~~~~~~~~~~~~~~~~~~~~~~~~~~~~~~~~~~~~~~~~CCc^ccCO)cCH](cCCCCCO)cC)OCc)ccccc)C)cC)CCCCC)cH^~~~~~~~~~~~~~~~~~~~~~~~~~~~~~~~~~~~~~~~~~~~~~~~~~~CCccccccccCCcCCcccCC)ccCCCO)cCcCCCCCCCcCc)ccccc)cCccccc~~~~~~~~~~~~~~~~~~~~~~~~~~~~~~~~~~~~~~~~~~~~C)cnnc-(cnnccccnccncncc-r)ncnnncnnccncnn~~~~~~~~~~~~~~~~~~~~~~~~~~~~~~~~~~~~~~~~~~~~~~~~~~~~~~~~~~~CCCCCccccccCcccccCCC)CCCNCccnc]cccccc~~~~~~~~~~~~~~~~~~~~~~~~~~~~~~~~~~~~~~~~~~~~~~~~~~~~~~~~~~~~~~C(ccccccccc=c((=O)ccccccc=c(=O)cc)cccc)cccccccccc~~~~~~~~~~~~~~~~~~~~~~~~~~~~~~~~~~~~~~~~~~~~~~~~~~C((ccccc=(=cccccc=(c((=(=O)c)c((cO)ccccc=O)c=O)cccccccccccccccccc~~~~~~~~~~~~~~~~~~~~~~~~~~~~~~~~~~O()ccccc=(=O)c)cccc)(=O)cccccc=((=cccccccccc=O)c=O)ccccccccccccc~~~~~~~~~~~~~~~~~~~~~~~~~~~~~~~~~~~C(((((CccccccCcccr)c)(()cc(CO)cCO)ccccccccc(~~~~~~~~~~~~~~~~~~~~~~~~~~~~~~~~~~~~~~~~~~~~~~~~~~~~~~~C((FO)cFO)c(F(c(((F(FO)c)c(F(F)cF)c)c(cc(c(F()c((F(N(c((c()~~~~~~~~~~~~~~~~~~~~~~~~~~~~~~~~~~~~~~~~CC)c^ccccCcc)ccc)cCc)cCCCcOCCCCcCCcC)CCO)c)CCCcCCcCcc^CNC~~~~~~~~~~~~~~~~~~~~~~~~~~~~~~~~~~~~~~~~~~O((F((ccccccF(FO)c)ccccccccF)ccccc)(F)cF)c)~~~~~~~~~~~~~~~~~~~~~~~~~~~~~~~~~~~~~~~~~~~~~~~~~~~~~~~~OOO)cccccO((OO)cOO)ccccccccccOOOO)cc)ccO)OccO)OccO)Occ)ccccccccc~~~~~~~~~~~~~~~~~~~~~~~~~~~~~~~~~~~C((F(cccccF)cccccF(FO)c((ccccF(F)cF)c)cccccO)c(FO)c)(cccccccc~~~~~~~~~~~~~~~~~~~~~~~~~~~~~~~~~~~~~~CCC)CCOCccccccC)ccCCcCCCCCCO)ccccc)ccccc)ccCcCCcccc~~~~~~~~~~~~~~~~~~~~~~~~~~~~~~~~~~~~~~~~~~~~~~~~C((FO)cFO)c(FcccccF(FO)c)ccF(F)cF)c)ccccccccF((c(((((cccccc()~~~~~~~~~~~~~~~~~~~~~~~~~~~~~~~~~~~~~~CCCccccccCcccccccCCCCC)cCCCO)c)CCCcCCcCccccccCNC~~~~~~~~~~~~~~~~~~~~~~~~~~~~~~~~~~~~~~~~~~~~~~~~~~~C((C(cC(c)(CO)c(^(((C(CO)c(c)HcC(ccC(ccCO)cCH]()cCc)cccC()ccc)c((^~~~~~~~~~~~~~~~~~~~~~~~~~~~~~~~~~C)OCcCCCccccccCccccccccc)CcCCCCCccccc~~~~~~~~~~~~~~~~~~~~~~~~~~~~~~~~~~~~~~~~~~~~~~~~~~~~~~~~~~~~~~CC)CCCcCCCCC)cccccccccCCCc~~~~~~~~~~~~~~~~~~~~~~~~~~~~~~~~~~~~~~~~~~~~~~~~~~~~~~~~~~~~~~~~~~~~~~~~~C(((cccccccccccccc-r)cccc(ccccc-)cccc~~~~~~~~~~~~~~~~~~~~~~~~~~~~~~~~~~~~~~~~~~~~~~~~~~~~~~~~~~~~~~CCCCCCCCCCCCH]1CCCCCO)C)CCCC)CCCCCCCCCCCC~~~~~~~~~~~~~~~~~~~~~~~~~~~~~~~~~~~~~~~~~~~~~~~~~~~~~~~~~~CCccc=C)ccccccC=CCCC=O)c)CCCCCC=O)c)cC=Cc=O)cO)~~~~~~~~~~~~~~~~~~~~~~~~~~~~~~~~~~~~~~~~~~~~~~~~~~~~CCC=CC=O)c)Ccccccccccccccc=C=O)cCccccc=CcCCCCcO)ccccCcCCCCcO)ccc~~~~~~~~~~~~~~~~~~~~~~~~~~~~~~~~~~~C(()(CO)ccccccccCcc)ccccc)(C)c(C(C(cC(c(cccccccC~~~~~~~~~~~~~~~~~~~~~~~~~~~~~~~~~~~~~~~~~~~~~~~~~~~C((((=(((c(=O)ccccccc=(=ccccc=(=O)c)cc=()cccc)=O)c=O)cccccccccccc~~~~~~~~~~~~~~~~~~~~~~~~~~~~~~~~~~C((=(ccccc=(=)c=)c)cccc(=(ccccccc=ccc(=O)ccccccccc(cO)c(=O)c)~~~~~~~~~~~~~~~~~~~~~~~~~~~~~~~~~~~~~~O)(ccccc-ccccccc-cccccc-)ccccccccc~~~~~~~~~~~~~~~~~~~~~~~~~~~~~~~~~~~~~~~~~~~~~~~~~~~~~~~~~~~~~~~~~C(()ccccc=(=(=O)c((=(c=(c(c)=O)c=O)cc)ccccc)(cccc~~~~~~~~~~~~~~~~~~~~~~~~~~~~~~~~~~~~~~~~~~~~~~~~~~C()(=O)c(=(c=((=O)cccccc=cccccc1cccccc(=)c=)c)~~~~~~~~~~~~~~~~~~~~~~~~~~~~~~~~~~~~~~~~~~~~~~~~~~~~~C(cccccC)ccC(ccccccccccccC(((cccccc~~~~~~~~~~~~~~~~~~~~~~~~~~~~~~~~~~~~~~~~~~~~~~~~~~~~~~~~~~~~~~~~C)O(=)cccccc=()ccccccccc=((=O)c=O)c(cccccccc)ccc~~~~~~~~~~~~~~~~~~~~~~~~~~~~~~~~~~~~~~~~~~~~~~~~~~~C()(=O)c(=(c=(=(cO)c(=1c111=)(c1=()c1cc(=(c=O)cO)~~~~~~~~~~~~~~~~~~~~~~~~~~~~~~~~~~~~~~~~~~~~~~~~~~C(ccc=((N(ccccccccccccc=(c=O)c=O)cccccccccccc(~~~~~~~~~~~~~~~~~~~~~~~~~~~~~~~~~~~~~~~~~~~~~~~~~~~~~C@)1C111C@C11CCC@@C@CO)CCC@@1CC@C@@]1)@C@@]1C@C@@1C@CC@)C@CC@CC@@CO)~~~~~~~~~~~~~~~~~~~~~~~~~~~~~~~C(()1c111C(CO)c(c((C)cC(C)cC)c)c(ccc1c~~~~~~~~~~~~~~~~~~~~~~~~~~~~~~~~~~~~~~~~~~~~~~~~~~~~~~~~~~~~~C((C(cC)ccccccccc((ccccCcccccccC()ccccccc~~~~~~~~~~~~~~~~~~~~~~~~~~~~~~~~~~~~~~~~~~~~~~~~~~~~~~~~~~C(((F(c((F)c(((c(F)cF)c)c(FO)cFO)c(c((()(F(cc(FO)ccF(c(FO)cc)(~~~~~~~~~~~~~~~~~~~~~~~~~~~~~~~~~~~~~CCC)ccccCr)cccccccccccCCCO)cCccccccccCCcccc~~~~~~~~~~~~~~~~~~~~~~~~~~~~~~~~~~~~~~~~~~~~~~~~~~~~~~~~CCC)C=O)CC=C=O)CCCCC=CCCCCC=C=O)C)CCC1C111=)CCc1C~~~~~~~~~~~~~~~~~~~~~~~~~~~~~~~~~~~~~~~~~~~~~~~~~~CC)CCCcCCCCC)cccccccccCCCc~~~~~~~~~~~~~~~~~~~~~~~~~~~~~~~~~~~~~~~~~~~~~~~~~~~~~~~~~~~~~~~~~~~~~~~~~CCCCCCCO)ccccccCCCc)ccccCr)cc)CNCcCCCcCccCCccc~~~~~~~~~~~~~~~~~~~~~~~~~~~~~~~~~~~~~~~~~~~~~~~~~~~~~CCC)ccccCr)ccccccccccccCCCCcCccc~~~~~~~~~~~~~~~~~~~~~~~~~~~~~~~~~~~~~~~~~~~~~~~~~~~~~~~~~~~~~~~~~~~CCCC)cccccccccccccccC)CcCCCcccc~~~~~~~~~~~~~~~~~~~~~~~~~~~~~~~~~~~~~~~~~~~~~~~~~~~~~~~~~~~~~~~~~~~~C(ccccCr)ccC)ccCccccccC(CO)cCO)c(((c)cccC(cc)ccccccc~~~~~~~~~~~~~~~~~~~~~~~~~~~~~~~~~~~~~~~~~~~~~~~O(((C((c(CO)cccccC(cccccccccC)ccccccccC)ccC)(ccc~~~~~~~~~~~~~~~~~~~~~~~~~~~~~~~~~~~~~~~~~~~~~~~~~~~CCCCCCCCCcO)cCCO)cCCCcCCc^cccCC)c)cccCCccc)Ccc^~~~~~~~~~~~~~~~~~~~~~~~~~~~~~~~~~~~~~~~~~~~~~~~~~~~~C(ccccc=(=((=O)c)c)=(c=O)cO)cccccccccc=(=O)c((=(c=(c(cc)cccccc)~~~~~~~~~~~~~~~~~~~~~~~~~~~~~~~~~~~~C(ccccccccc=(=O)c=O)c(=c)cc=)ccc=)cc)c()=((=O)c)c((((()ccccc~~~~~~~~~~~~~~~~~~~~~~~~~~~~~~~~~~~~~~~C(cccc=(=O)c)ccccc(=(=O)ccccccc=(ccc)c(=O)c=O)ccccccccc~~~~~~~~~~~~~~~~~~~~~~~~~~~~~~~~~~~~~~~~~~~~C)OC=CCcCCccccccc=)CCcCCCCcC=O)cccHcccccCH]1ccHccccc~~~~~~~~~~~~~~~~~~~~~~~~~~~~~~~~~~~~~~~~~~~~~~~C()ccccc=(=(=O)cn(nn](=(c(c)cccc)c)=O)c=O)cc)ccc)ccc=(cc)c)cccc~~~~~~~~~~~~~~~~~~~~~~~~~~~~~~~~~~~~CCCCO)cCO)cCCCCCcCCCCCccccccccCC)ccc~~~~~~~~~~~~~~~~~~~~~~~~~~~~~~~~~~~~~~~~~~~~~~~~~~~~~~~~~~~~~~~C()cccccC(C(cCcccccC)cccccC(NCcccccccccC)ccc~~~~~~~~~~~~~~~~~~~~~~~~~~~~~~~~~~~~~~~~~~~~~~~~~~~~~~~C(cccccc=(=(=O)cccccc=(cccc(c)=O)c=O)cccccc)cccc)ccccc~~~~~~~~~~~~~~~~~~~~~~~~~~~~~~~~~~~~~~~~~~~~~C()(CO)c((C1c1111C()c1c(c((C)cC(c((cc(cc(CO)cCO)c1c11111c~~~~~~~~~~~~~~~~~~~~~~~~~~~~~~~~~~~~~~~~~~C((C((CO)c)c(cccccCcccccC(C)cC)c(cccccc)cccccc)cccC(C(c(ccccccc~~~~~~~~~~~~~~~~~~~~~~~~~~~~~~~~~~~~C(((CO)c(^((C(CO)c)(C(cC(c(c(((^(^((Cr)c(Cr)c((^(~~~~~~~~~~~~~~~~~~~~~~~~~~~~~~~~~~~~~~~~~~~~~~~~~~CCC)ccccCCCO)cCCcCC)CcCCCCCCc)ccccc)cCCccCccccccCCcccC)ccccc~~~~~~~~~~~~~~~~~~~~~~~~~~~~~~~~~~~~~~~C((()cccC)(cccCr)ccccccccccccccC(CO)c)ccccc~~~~~~~~~~~~~~~~~~~~~~~~~~~~~~~~~~~~~~~~~~~~~~~~~~~~~~~~C)OC=CCC=O)cc^ccccc^cCCCH](^CCCCCCH](^C=O)c)~~~~~~~~~~~~~~~~~~~~~~~~~~~~~~~~~~~~~~~~~~~~~~~~~~~~~~~C)O(C)c((C((CO)c(c(((C)c((cc1c1C)c111C)c1c()~~~~~~~~~~~~~~~~~~~~~~~~~~~~~~~~~~~~~~~~~~~~~~~~~~~~~~~C(ccccCccccccCr)cccccccc(CO)c(c((cccCcC()(cccccccc)cccc(c(c~~~~~~~~~~~~~~~~~~~~~~~~~~~~~~~~~~~~~~~~C)O[C[cccCH]1ccccccccccCC[HH]1c[[C[H]1C)c[c~~~~~~~~~~~~~~~~~~~~~~~~~~~~~~~~~~~~~~~~~~~~~~~~~~~~~~~~C(ccccCO)cnc](cC(cccccCcccccccC)()((((()ccc()cccc()ccc~~~~~~~~~~~~~~~~~~~~~~~~~~~~~~~~~~~~~~~~~~~~~CCC^CCCCCCccccc)ccCCccCO)c1c)cccCcCCccCC^~~~~~~~~~~~~~~~~~~~~~~~~~~~~~~~~~~~~~~~~~~~~~~~~~~~~~~~~~~C((C)(CO)c(c(c(CO)c(C((CO)c(C(cc)cccC)ccc)c(c((cC(c(ccccccC)cccc~~~~~~~~~~~~~~~~~~~~~~~~~~~~~~~~~~~CCCcccCCCO)cCCCCH](C)cCCcCC)CCccccccccccccccCccc)CC)c~~~~~~~~~~~~~~~~~~~~~~~~~~~~~~~~~~~~~~~~~~~~~~CCCCCcCCcCCCCCO)c)cCCCO)cCCCCcc^cccC)Cc)ccccc)ccc^~~~~~~~~~~~~~~~~~~~~~~~~~~~~~~~~~~~~~~~~~~~~~~~~~O(()(=O)cccccccc=ccccccc)c=(=O)c)cHnH]ccc)ccccccc(~~~~~~~~~~~~~~~~~~~~~~~~~~~~~~~~~~~~~~~~~~~~~~~~~C()(=O)c(=(=O)c(ccccccccc(=cccc=(ccccc(c)=O)c=O)cccccc=(cccc~~~~~~~~~~~~~~~~~~~~~~~~~~~~~~~~~~~~~~~C)O(=cccccc=ccccc=(cccccccccnc]cccccccccccc=c(=O)cccccccccccc~~~~~~~~~~~~~~~~~~~~~~~~~~~~~~~~~~~~~~C((ccccF(F)cF)c)cccF(ccccccF()cccF(ccccccccc~~~~~~~~~~~~~~~~~~~~~~~~~~~~~~~~~~~~~~~~~~~~~~~~~~~~~~~OO)ccccCccccccCCOOC)cccccccccccccccC)Occcc)O~~~~~~~~~~~~~~~~~~~~~~~~~~~~~~~~~~~~~~~~~~~~~~~~~~~~~~~C()cccccCcCO)cCO)c(ccccccCccccccC(cccc()ccc(cccc~~~~~~~~~~~~~~~~~~~~~~~~~~~~~~~~~~~~~~~~~~~~~~~~~~~CCCC=OCcCCCcOC=C=OCcCcccccccccCcccccccccCcCc=CCcCCCOCCcc~~~~~~~~~~~~~~~~~~~~~~~~~~~~~~~~~~~~~~~~~~~CCc^ccccccCCCC)CC)CCCCCCCO)c)CCCcCCcCcCC)c))ccCCcccc^~~~~~~~~~~~~~~~~~~~~~~~~~~~~~~~~~~~~~~~~~~~~~~C(ccccc-ccccccccc(ccc-(cHnH]ccc)cccc(~~~~~~~~~~~~~~~~~~~~~~~~~~~~~~~~~~~~~~~~~~~~~~~~~~~~~~~~~~~~~~C()ccccC)(C(c(cccCcccccC(CO)c)cccC)ccc(ccc~~~~~~~~~~~~~~~~~~~~~~~~~~~~~~~~~~~~~~~~~~~~~~~~~~~~~~~~~CCCCCCCCC)CCCCCCCCCCccccccCCCCCCCCccCCC~~~~~~~~~~~~~~~~~~~~~~~~~~~~~~~~~~~~~~~~~~~~~~~~~~~~~~~~~~~~C((CO)cc^ccC(CO)c((c)cccC(ccC)cc)ccC(cc^~~~~~~~~~~~~~~~~~~~~~~~~~~~~~~~~~~~~~~~~~~~~~~~~~~~~~~~~~~~C(ccccc=(ccccc=(=((=O)c)c(=(c=O)cO)cccc(=)c=)c)ccc~~~~~~~~~~~~~~~~~~~~~~~~~~~~~~~~~~~~~~~~~~~~~~~~~CCcccccccccCccnH]cHcCCcccCCCcO)~~~~~~~~~~~~~~~~~~~~~~~~~~~~~~~~~~~~~~~~~~~~~~~~~~~~~~~~~~~~~~~~~~~~CCC)CCO)ccccccccCcc)cccCCCCNCcCCCCcCCccc)C)cccCCccccc~~~~~~~~~~~~~~~~~~~~~~~~~~~~~~~~~~~~~~~~~~~~~~CCCCCCO)cCCCCO)cCCcCC)CcCCCCCCcCcccccCcCCccCcccccccccc~~~~~~~~~~~~~~~~~~~~~~~~~~~~~~~~~~~~~~~~~~~~~CCCCCCCCC)CCO)CCC^CCCCCCO)CCC)C1)11c1)CCC)CCC^~~~~~~~~~~~~~~~~~~~~~~~~~~~~~~~~~~~~~~~~~~~~~~~~~~~~~CCC)CCO)cCCCCO)c)CCccccC)cccC)ccccCCCcCCcccccCC)cccccccCcccCCCcccc~~~~~~~~~~~~~~~~~~~~~~~~~~~~~~~~~CCCCCCCCCCCCCCCCC)CCCCCCCCCCcCccCCCCCCCCCCCcccC~~~~~~~~~~~~~~~~~~~~~~~~~~~~~~~~~~~~~~~~~~~~~~~~~~~~C)OC=1C11111CC=O)CCCCC=)CC)CCCCCC=C=O)CCcCC)CCcCCC~~~~~~~~~~~~~~~~~~~~~~~~~~~~~~~~~~~~~~~~~~~~~~~~~C)O(-(ccccc-ccccc-(cccccccccnc](cccccccccccccc-(-)c-)c)cccccc~~~~~~~~~~~~~~~~~~~~~~~~~~~~~~~~~~~~~~CCccccccC)CCCcccccCCccccccc~~~~~~~~~~~~~~~~~~~~~~~~~~~~~~~~~~~~~~~~~~~~~~~~~~~~~~~~~~~~~~~~~~~~~~~~OOO)OCO)cOcccccCcccccC)OccC)Occcc)OccCO)ccc~~~~~~~~~~~~~~~~~~~~~~~~~~~~~~~~~~~~~~~~~~~~~~~~~~~~~~~~C)O(F)ccccccccc((F(cccccF)cccc(F)cF)c)cO((c~~~~~~~~~~~~~~~~~~~~~~~~~~~~~~~~~~~~~~~~~~~~~~~~~~~~~~~~C(N(ccccc=((=O)cccccccccc(ccccc=)cccccc=(=O)c)ccc~~~~~~~~~~~~~~~~~~~~~~~~~~~~~~~~~~~~~~~~~~~~~~~~~~CC)CCO)CC)CCOCCCCO)CCccccccccCCccCcccccCCCCCcCCCCCCCCCCCCC)CCC~~~~~~~~~~~~~~~~~~~~~~~~~~~~~~~~~~~~~C(ccccFccccccF(cccc)ccF(F)cF)c)cccc)cc(cccccccc(FO)c)~~~~~~~~~~~~~~~~~~~~~~~~~~~~~~~~~~~~~~~~~~~~~~CCCCCCCccccccCcccccCCCCO)cCc)ccccC)Ccc)cccccccc~~~~~~~~~~~~~~~~~~~~~~~~~~~~~~~~~~~~~~~~~~~~~~~~~~~~C()(=O)c(=(((=ccccc=)ccccc(=(c=O)cO)c(=O)c(=(c)ccccc=()cccc()~~~~~~~~~~~~~~~~~~~~~~~~~~~~~~~~~~~~~~OO)OCO)ccccccCO)cccccccc(ccccC)ccCr)cccc)Occc~~~~~~~~~~~~~~~~~~~~~~~~~~~~~~~~~~~~~~~~~~~~~~~~~~~~~~CCCCO)cCCcccccCcccHccccccccnH]ccccc~~~~~~~~~~~~~~~~~~~~~~~~~~~~~~~~~~~~~~~~~~~~~~~~~~~~~~~~~~~~~~~~C((((cccCO)cnc]cccccC(ccC(Cc)cccC)ccc)cc)cccC(NCccc)cccccO)~~~~~~~~~~~~~~~~~~~~~~~~~~~~~~~~~~~~~~~~C(ccccC()cccccC(ccccC()ccccc(N((CO)c)cccccc~~~~~~~~~~~~~~~~~~~~~~~~~~~~~~~~~~~~~~~~~~~~~~~~~~~~~~~~CCc^cccC)Cc)cccCCCO)cCnCn](CCCCCcCcc)ccccc)cc)cc^~~~~~~~~~~~~~~~~~~~~~~~~~~~~~~~~~~~~~~~~~~~~~~~~~~C()(CO)cccccC(CO)ccC(cccccccCcccc(cccc(cccccccCcccc(cccccC(ccccccccccc~~~~~~~~~~~~~~~~~~~~~~~~~~~~~CCC)CCO)cCcCCCO)cC1)11111)cCCCCCCCCcCcCc~~~~~~~~~~~~~~~~~~~~~~~~~~~~~~~~~~~~~~~~~~~~~~~~~~~~~~~~~~~CCccc=C=O)cCccccc=C)CCC=C=O)cc)ccccc)cCC)ccccccccccccccccc~~~~~~~~~~~~~~~~~~~~~~~~~~~~~~~~~~~~~~~~~CCCCccccCcccccccccccnc]cccCCC)ccccccC)ccccCcCCc~~~~~~~~~~~~~~~~~~~~~~~~~~~~~~~~~~~~~~~~~~~~~~~~~~~~C((C(cC(c)(CO)ccccccC((CO)cCc(((C)(c)cccC)ccc))c((cccc~~~~~~~~~~~~~~~~~~~~~~~~~~~~~~~~~~~~~~~~~~~~~C()(=O)ccccccccc=r)cccccc((=O)ccccccccc(=(c(~~~~~~~~~~~~~~~~~~~~~~~~~~~~~~~~~~~~~~~~~~~~~~~~~~~~~~~C)O(=O)c=(ccc=)cccccc()ccccc1cc~~~~~~~~~~~~~~~~~~~~~~~~~~~~~~~~~~~~~~~~~~~~~~~~~~~~~~~~~~~~~~~~~~~~C((FO)c(cccccF)cccccccc(cccccccccccc(F)cF)c)~~~~~~~~~~~~~~~~~~~~~~~~~~~~~~~~~~~~~~~~~~~~~~~~~~~~~~~C((^C(N((C)cCC1)1c11)c1C(C(cC(c(c11))c)(C(cC(c(c()(^~~~~~~~~~~~~~~~~~~~~~~~~~~~~~~~~~~~~~~~~~~~~~~~C((CO)ccccccC(cccccC(N(cccc)cccc(~~~~~~~~~~~~~~~~~~~~~~~~~~~~~~~~~~~~~~~~~~~~~~~~~~~~~~~~~~~~~~~~~~C(ccccF(N(ccF(F(c(ccccF(cccc()cccc(F)cF)c)~~~~~~~~~~~~~~~~~~~~~~~~~~~~~~~~~~~~~~~~~~~~~~~~~~~~~~~~~OO)cccccCOCCOCO)cOOCOH]cCCcOCO)cCcccccC)OcO)OcccccccccccC)Occcccccc~~~~~~~~~~~~~~~~~~~~~~~~~~~~~~~~CC)CCO)cCCCCO)cCCCCC)cCCccccCC)cccccCc)CO)cCO)ccccccCCcccc~~~~~~~~~~~~~~~~~~~~~~~~~~~~~~~~~~~~~~~~~C)(1c1F)c1Fr)c11F()c1c(F)cF)c)~~~~~~~~~~~~~~~~~~~~~~~~~~~~~~~~~~~~~~~~~~~~~~~~~~~~~~~~~~~~~~~~~~~~~CCC)CCO)ccccccCCCcccccCC)cccccccccccccCC)ccccC~~~~~~~~~~~~~~~~~~~~~~~~~~~~~~~~~~~~~~~~~~~~~~~~~~~~~CCccccccccCccccccCC)444C4)c)cccC4CO)cC)44)44)ccc)c44)cccccccccc~~~~~~~~~~~~~~~~~~~~~~~~~~~~~~~~~~~~OOO)OOO)cccccO)ccO)OcccccOOccO)cccccO)ccc~~~~~~~~~~~~~~~~~~~~~~~~~~~~~~~~~~~~~~~~~~~~~~~~~~~~~~~~~~C(ccccc=(=O)c=O)c(=(=O)c(ccccccccccccc=()cc=(=O)c)ccccccc~~~~~~~~~~~~~~~~~~~~~~~~~~~~~~~~~~~~~~~~~~CCNCCcOC=CCCCHH]c=)cCC=O)c)cCccccccccc~~~~~~~~~~~~~~~~~~~~~~~~~~~~~~~~~~~~~~~~~~~~~~~~~~~~~~~~~~~~~C(((C(c(CccccC)cccC)cccc(CO)cCO)ccccccccccC(ccccc~~~~~~~~~~~~~~~~~~~~~~~~~~~~~~~~~~~~~~~~~~~~~~~~~~C((C(cC(cCc((CCccccC()cccCccccccC(CO)c)cccccccc(c~~~~~~~~~~~~~~~~~~~~~~~~~~~~~~~~~~~~~~~~~~~~~~~~~~C(cccc-cccccccccccc()(-ccccc-(Ncccccccccccc-)ccc~~~~~~~~~~~~~~~~~~~~~~~~~~~~~~~~~~~~~~~~~~~~~~~~~~~C(N(cccccCccccccC()cccc(ccccccC(ccccccc~~~~~~~~~~~~~~~~~~~~~~~~~~~~~~~~~~~~~~~~~~~~~~~~~~~~~~~~~~~~C)OCCCCCCCCCCCO)CCCCCCC)CC)CCCCCCCCCCC~~~~~~~~~~~~~~~~~~~~~~~~~~~~~~~~~~~~~~~~~~~~~~~~~~~~~~~~~~~~~C)O@C)c@c@c@@@C@cc@c@CO)cCC@1c11111cc@c@@c~~~~~~~~~~~~~~~~~~~~~~~~~~~~~~~~~~~~~~~~~~~~~~~~~~~~~~~~~C(N((cccccccccccccc-r)cccc(ccccc-)cccc~~~~~~~~~~~~~~~~~~~~~~~~~~~~~~~~~~~~~~~~~~~~~~~~~~~~~~~~~~~~~C)O(=)(cccccccccccccccccccc=(c=O)c=O)c(cccccccc)ccc~~~~~~~~~~~~~~~~~~~~~~~~~~~~~~~~~~~~~~~~~~~~~~~~C(N((((=O)c(=ccccc=(=O)c)cccc(c)=O)c=O)cccccc=(cccc~~~~~~~~~~~~~~~~~~~~~~~~~~~~~~~~~~~~~~~~~~~~~~~~C(ccccccccc=c=O)c=O)c(c)cccc=cc)cccc=)cc)(((=(c=(c(cc)ccccc~~~~~~~~~~~~~~~~~~~~~~~~~~~~~~~~~~~~~~~~C(()cccccCr)ccccccccccccC(CO)c)(ccccccc((C(CO)c)(C(cC(c(~~~~~~~~~~~~~~~~~~~~~~~~~~~~~~~~~~~~~~~~~~~C(ccccc-(cccc-cccccc-(-O)c)ccccccccccccccccc(ccc~~~~~~~~~~~~~~~~~~~~~~~~~~~~~~~~~~~~~~~~~~~~~~~~~~~CC)cccccCCCCcCccccccccCcCCCcCCCCcccC)ccc~~~~~~~~~~~~~~~~~~~~~~~~~~~~~~~~~~~~~~~~~~~~~~~~~~~~~~~~~~~CllN)cccccccN(cccccN(cll(Nc)cccN(ccc)l)cllcccNl)cccccc)~~~~~~~~~~~~~~~~~~~~~~~~~~~~~~~~~~~~~~~~~~~~C(cccccccccC(CO)cccnc](c)ccccc)cc((CO)c)(C(cC(c(ccC)cccc~~~~~~~~~~~~~~~~~~~~~~~~~~~~~~~~~~~~~~~~~~~C)OCFCcCCF)cccccFCF)cF)c)cccccCccCcFcccccccccCCCCc~~~~~~~~~~~~~~~~~~~~~~~~~~~~~~~~~~~~~~~~~~~~~~~~~CCC)CCO)cC^CCCO)c1)111CCNCc11)cCCCCCCCCcCcC^~~~~~~~~~~~~~~~~~~~~~~~~~~~~~~~~~~~~~~~~~~~~~~~~~~~~~~~C(((c^ccC(CO)c(ccccccC(cccccc^r)~~~~~~~~~~~~~~~~~~~~~~~~~~~~~~~~~~~~~~~~~~~~~~~~~~~~~~~~~~~~~~~~~~~C(((=O)c(=(c((=O)cccccccccc=)ccccc~~~~~~~~~~~~~~~~~~~~~~~~~~~~~~~~~~~~~~~~~~~~~~~~~~~~~~~~~~~~~~~~~C((ccccF(cccccF()cccc)(F)cF)c)ccF)cccc(~~~~~~~~~~~~~~~~~~~~~~~~~~~~~~~~~~~~~~~~~~~~~~~~~~~~~~~~~~~~C[[[[[=ccccccnH]cccc=OccnH]ccHcccccccc=O)c=O)ccccccccc[~~~~~~~~~~~~~~~~~~~~~~~~~~~~~~~~~~~~~~~~~~~~CCccccccCCCCCCO)cCcccccCccccccC)ccccccccccc~~~~~~~~~~~~~~~~~~~~~~~~~~~~~~~~~~~~~~~~~~~~~~~~~~~~~~~~Cll)ccccc=(=cccc=r)ccc=)ccclcc=O)c=O)cccccccccccccccccc~~~~~~~~~~~~~~~~~~~~~~~~~~~~~~~~~~~~~~~~~~~~C)OCCCCcCCCCCcccccccccCcccccccccc)~~~~~~~~~~~~~~~~~~~~~~~~~~~~~~~~~~~~~~~~~~~~~~~~~~~~~~~~~~~~~~~~~C(cccccC)ccC(cccccccccC(CO)c)ccC(c((((cccc~~~~~~~~~~~~~~~~~~~~~~~~~~~~~~~~~~~~~~~~~~~~~~~~~~~~~~~~~C()(((((=(c(=O)c(=ccccc=(=O)c)cccc(c)=O)c=O)ccccccccc~~~~~~~~~~~~~~~~~~~~~~~~~~~~~~~~~~~~~~~~~~~~~~C()(=O)ccccc=c=O)c=O)cccccccc)c=ccccc)c(=O)c(ccnc]ccc~~~~~~~~~~~~~~~~~~~~~~~~~~~~~~~~~~~~~~~~~~~~~~CCccccccCCCO)cCCcccccCCcCCCC)cC)cCCC)cCcccccccc~~~~~~~~~~~~~~~~~~~~~~~~~~~~~~~~~~~~~~~~~~~~~~~~~~~~CCc^ccccccC)CCCCCcCCCCCCccccccc^O)~~~~~~~~~~~~~~~~~~~~~~~~~~~~~~~~~~~~~~~~~~~~~~~~~~~~~~~~~~~~~~~~~C(()(CO)c((C)cC((CO)cccccccC((CO)ccccccC(N(cccc)cccccccccccc~~~~~~~~~~~~~~~~~~~~~~~~~~~~~~~~~~~~~~~C()ccccccccc-ccccc-)cc-(cccc(ccccc~~~~~~~~~~~~~~~~~~~~~~~~~~~~~~~~~~~~~~~~~~~~~~~~~~~~~~~~~~~~~~~~~CC)ccccc=)Ccc=CC=O)cCCC=O)cCccccc=cc)ccc=C=O)cC)CCCCC)ccc)ccccccc~~~~~~~~~~~~~~~~~~~~~~~~~~~~~~~~~~CC)CCO)ccccccCCCCCO)cCcCc)ccccc)cCCCCccCcCCCCCcccCCccc~~~~~~~~~~~~~~~~~~~~~~~~~~~~~~~~~~~~~~~~~~~~~CCCCCCO)cC^CCCCCcCCCO)cCc)ccC)ccC)ccCCNCcc)cC^CCcC~~~~~~~~~~~~~~~~~~~~~~~~~~~~~~~~~~~~~~~~~~~~~~~~~C(((C(CO)ccccccccCcc)cccC()ccC()cc)ccccCH](ccC(HH](c((((C(H](c)~~~~~~~~~~~~~~~~~~~~~~~~~~~~~~~~~~~~C()ccccF)cccFccccccF(FO)c(c((F)cF(F)cF)c)c(cccF)cccccc~~~~~~~~~~~~~~~~~~~~~~~~~~~~~~~~~~~~~~~~~~~~~CCccCH]cccccccccccCc=)C=O)cCCcCCC=C=O)c)cCCccC=O)cCccccc=C)ccccc~~~~~~~~~~~~~~~~~~~~~~~~~~~~~~~~~~~CCCCcCCCO)c)ccccccccccccccCCCCCc~~~~~~~~~~~~~~~~~~~~~~~~~~~~~~~~~~~~~~~~~~~~~~~~~~~~~~~~~~~~~~~~~~~C()(FO)c((cccnc](cF)(FccccccF)cccc(F)cF)c)ccc~~~~~~~~~~~~~~~~~~~~~~~~~~~~~~~~~~~~~~~~~~~~~~~~~~~~~~C(ccccc=(c=O)c=O)cccc=(=O)c((((c((cccccccccccccccc(~~~~~~~~~~~~~~~~~~~~~~~~~~~~~~~~~~~~~~~~~~~~~~~~C((=O)c=O)cC=((=O)c)cccccc=Cccccc=C)(((()O)ccccCc((((cO)cccc~~~~~~~~~~~~~~~~~~~~~~~~~~~~~~~~~~~~~~~C(1^1C(CO)c(c(n(@@](C)c(n(@](c(CO)c)c1c1c11C)ccc^c~~~~~~~~~~~~~~~~~~~~~~~~~~~~~~~~~~~~~~~~~~~~~~~~~C((N(NO)c(c^HcN(ccN(ccNO)cnH](^cc^ccccc^~~~~~~~~~~~~~~~~~~~~~~~~~~~~~~~~~~~~~~~~~~~~~~~~~~~~~~~~~~~O()(-O)ccccnc]ccccccc-ccccc)cccc-)cc)cccccc~~~~~~~~~~~~~~~~~~~~~~~~~~~~~~~~~~~~~~~~~~~~~~~~~~~~~~~~CC)ccccccCccccccCCCccccccccCCCcCCCCccccccc~~~~~~~~~~~~~~~~~~~~~~~~~~~~~~~~~~~~~~~~~~~~~~~~~~~~~~~~~CCccccccccCccccccCC)444C4)c)cccC4CO)cC)44)44)ccc)c44)cccccccccc~~~~~~~~~~~~~~~~~~~~~~~~~~~~~~~~~~~~CN)ccccccnH]cccc=()NN(=c)ccc=()(ON=(cNN)O)ccc)cNN)cHcHcccccc~~~~~~~~~~~~~~~~~~~~~~~~~~~~~~~~~~~~~~~C()(CO)c(C(CO)cC(HH](C)c((N)c)Cc)ccC(cccc)(c)CO)cCO)cc)cccC(ccc)~~~~~~~~~~~~~~~~~~~~~~~~~~~~~~~~~~~CllBlcBlclBO)c(cccccB)ccB)ccclBO)c(ccccBr)ccBr)cccc(~~~~~~~~~~~~~~~~~~~~~~~~~~~~~~~~~~~~~~~~~~~~~~~C((C(ccccccC)ccC(C(cC)c((CO)cccccccC((CO)cc)cccC(N(ccc))cccccc~~~~~~~~~~~~~~~~~~~~~~~~~~~~~~~~~~~~~C(((=(=O)C)C(=O)C((=(C=(=O)C)(C(=)C=)C)~~~~~~~~~~~~~~~~~~~~~~~~~~~~~~~~~~~~~~~~~~~~~~~~~~~~~~~~~~~~OO)ccccC)ccC)ccccO)OCO)ccccCO)ccccccc)OO)c~~~~~~~~~~~~~~~~~~~~~~~~~~~~~~~~~~~~~~~~~~~~~~~~~~~~~~~~~CCccccccC)CCCccccC)ccccccccc~~~~~~~~~~~~~~~~~~~~~~~~~~~~~~~~~~~~~~~~~~~~~~~~~~~~~~~~~~~~~~~~~~~~~~~C((((((=O)ccccc=)ccccccccccc=(=O)c=O)c(=((=O)c)cccccc=)((cccccccc~~~~~~~~~~~~~~~~~~~~~~~~~~~~~~~~~~CCccccC)CCcccccC)ccccccccccCCNCcccccccCCCCcCccc~~~~~~~~~~~~~~~~~~~~~~~~~~~~~~~~~~~~~~~~~~~~~~~~~~~~CCCcCCCCCOCccccCCccC)ccccC)cCc~~~~~~~~~~~~~~~~~~~~~~~~~~~~~~~~~~~~~~~~~~~~~~~~~~~~~~~~~~~~~~~~~~~~~C((^((C(C)c()(CO)cC(H](C(c(C(CO)c)(C(cC(c(c()O)c((C(c(^)~~~~~~~~~~~~~~~~~~~~~~~~~~~~~~~~~~~~~~~~~~~CCCCCC)CCCCCCCCC)C1C111CCC1CCCCC)CCCCCCCCC@@]()CCCCCCCCCCCCC@(CCCCCCC)CCCCC@@]()C~~~~~~~~~~~~~~~~~~C(ccccC()cccccC)ccccccccc(((C(CO)cccccccc(c(c~~~~~~~~~~~~~~~~~~~~~~~~~~~~~~~~~~~~~~~~~~~~~~~~~~~~~~C((c((((F(cF((FO)c(ccccF(F)cF)cF)cF)c)ccccc(c(c~~~~~~~~~~~~~~~~~~~~~~~~~~~~~~~~~~~~~~~~~~~~~~~~~~~~C((=O)c(=(=(=(cO)c(=(cO)c(=(c=)cccccccc=ccc)ccccc)cccc~~~~~~~~~~~~~~~~~~~~~~~~~~~~~~~~~~~~~~~~~~~~~C(cccC(CO)c(c((((c()cccccC(CO)c((c((cccccccccccC(C)cC)c)cccccc~~~~~~~~~~~~~~~~~~~~~~~~~~~~~~~~~~~~~CCCCCcccccccccCCCO)c)ccccC)ccc)ccCCCC)cccccc~~~~~~~~~~~~~~~~~~~~~~~~~~~~~~~~~~~~~~~~~~~~~~~~~~~~~~~O(ccc=(=O)c(cccccccc=)cccccccO)cccc=)ccc(N(~~~~~~~~~~~~~~~~~~~~~~~~~~~~~~~~~~~~~~~~~~~~~~~~~~~~~~~~C)OCCcccccCCCCccccccccc1ccCcCCC)cCCcCCccCc~~~~~~~~~~~~~~~~~~~~~~~~~~~~~~~~~~~~~~~~~~~~~~~~~~~~~~~~~C(Cc((CFcccccF(FO)cC((()cccF)ccF)ccF)ccF)ccc)ccccc((c~~~~~~~~~~~~~~~~~~~~~~~~~~~~~~~~~~~~~~~~~~~~~~C(ccccC(cccc(C)(CO)c(ccccccCcccccccC(CO)c)ccccccc(C)c)~~~~~~~~~~~~~~~~~~~~~~~~~~~~~~~~~~~~~~~~~~~~~O()ccccc=(=O)c=O)c(=(=O)cC(H](=)(cccccccccccccc=()ccccc)(cccc~~~~~~~~~~~~~~~~~~~~~~~~~~~~~~~~~~~~~~C((-(cccccccc-(-O)c)cccc-cc)ccccc)ccnc]ccccccccc~~~~~~~~~~~~~~~~~~~~~~~~~~~~~~~~~~~~~~~~~~~~~~~~~~~C(()ccccc=(=(c=((=O)c)c((=O)c(=ccccccccc(cO)c(=O)c=O)cccccccccccccccccc~~~~~~~~~~~~~~~~~~~~~~~~~~~~C(c^cC((c((cC(c(ccCO)ccccccC)cccc^c~~~~~~~~~~~~~~~~~~~~~~~~~~~~~~~~~~~~~~~~~~~~~~~~~~~~~~~~~~~~~~~~C(()cccCr)cccC)cccc((CO)c(ccccccC)ccc~~~~~~~~~~~~~~~~~~~~~~~~~~~~~~~~~~~~~~~~~~~~~~~~~~~~~~~~~~~~~~C((=(c=(c(=((=O)c)cC(=O)cccccc=C(=O)c()(=O)cc)ccc=Cccc)cccc~~~~~~~~~~~~~~~~~~~~~~~~~~~~~~~~~~~~~~~~CC)ccccccCC)cccCcccccCCCCCCNCcCCcccccccccccccccccccc~~~~~~~~~~~~~~~~~~~~~~~~~~~~~~~~~~~~~~~~~~~~~~~C()ccccCccccccC((Cc)ccccc))c(C(cCO)cO)ccccccC(N(ccC(ccc()~~~~~~~~~~~~~~~~~~~~~~~~~~~~~~~~~~~~~~~~~~CC)CCO)cc^ccc)cCc^cccCCCO)cCCCCcCcc)C^CCCCC^~~~~~~~~~~~~~~~~~~~~~~~~~~~~~~~~~~~~~~~~~~~~~~~~~~~~~~~C)O(C((cccccccc)c(cccccCccccccC)cccccccc~~~~~~~~~~~~~~~~~~~~~~~~~~~~~~~~~~~~~~~~~~~~~~~~~~~~~~~~~~~Cll-)cccccc-ccccccccccccccccccccccccl)~~~~~~~~~~~~~~~~~~~~~~~~~~~~~~~~~~~~~~~~~~~~~~~~~~~~~~~~~~~~~CCccccCcccccCccccccccccccccccccCCCCcccccCcCC)cccccCc~~~~~~~~~~~~~~~~~~~~~~~~~~~~~~~~~~~~~~~~~~~~~~~CCccccCCCCO)ccccccccccCCcCCCCcccccccccCcccccC~~~~~~~~~~~~~~~~~~~~~~~~~~~~~~~~~~~~~~~~~~~~~~~~~~~~~~CCCCCCCcCCO)cccccCCcccccCCCC)CCCCC)ccccccC)ccC)Cccc~~~~~~~~~~~~~~~~~~~~~~~~~~~~~~~~~~~~~~~~~~~~~~~~CCccccc-ccccc-ccccccc-cc)cccc-)C)CCC)cc)cccccc-CcccccccC~~~~~~~~~~~~~~~~~~~~~~~~~~~~~~~~~~~~~~~~~~~C(ccccNccccccN(ccccN()ccccc(cccc()cHnH]cc~~~~~~~~~~~~~~~~~~~~~~~~~~~~~~~~~~~~~~~~~~~~~~~~~~~~~~~~~~CCCCCCO)cccccccccCCCcCCO)ccccccCC)cccc~~~~~~~~~~~~~~~~~~~~~~~~~~~~~~~~~~~~~~~~~~~~~~~~~~~~~~~~~~~~~CCCCH](CCcCCCCCccCC)cC)cccccccc)cCcccccccCCCC)~~~~~~~~~~~~~~~~~~~~~~~~~~~~~~~~~~~~~~~~~~~~~~~~~~~~~CllFlcllFO)cClll)1c1F)c1F)c1F)c1F)c1c)~~~~~~~~~~~~~~~~~~~~~~~~~~~~~~~~~~~~~~~~~~~~~~~~~~~~~~~~~~~~~C((CO)c(cC(CO)c((C(()((C)(C)cC)c)c((()(c(CO)c)c(((c~~~~~~~~~~~~~~~~~~~~~~~~~~~~~~~~~~~~~~~~~~~~~~~~C)O(=)cccccc=(=O)c(((ccHnH]cccccccccccccc~~~~~~~~~~~~~~~~~~~~~~~~~~~~~~~~~~~~~~~~~~~~~~~~~~~~~~~~~~CCCCCcCCc)CCO)cCcCCCCCcccccCcccccC)C)CCCC)ccccc)cccccCc~~~~~~~~~~~~~~~~~~~~~~~~~~~~~~~~~~~~~~~~~~~~CC)ccccccccCCcCCCCCCc)cccCCccc)cCcccnc]cccc~~~~~~~~~~~~~~~~~~~~~~~~~~~~~~~~~~~~~~~~~~~~~~~~~~~~~~~~C((c(FO)c(F(cccF()ccFccccccccccccc(cccccccF(F)cF)c)cccc~~~~~~~~~~~~~~~~~~~~~~~~~~~~~~~~~~~~~~~~~~~~CCnnncCcccncCccncccccnCcnncncnnnccncccnCCCCc~~~~~~~~~~~~~~~~~~~~~~~~~~~~~~~~~~~~~~~~~~~~~~~~~~~~~~~C()ccccc=ccccHc)nH](ccc)cc)cc=(=((=O)c)c(=(c=O)cO)ccc~~~~~~~~~~~~~~~~~~~~~~~~~~~~~~~~~~~~~~~~~~~~~~CCCCCCCCO)C)CCCCCCCNCCCCCCCCCC)CCC~~~~~~~~~~~~~~~~~~~~~~~~~~~~~~~~~~~~~~~~~~~~~~~~~~~~~~~~~~~~~~~~~C(NlccccF(lFO)cccccccFcccccccFl)cccl)ccccccF)ccc)~~~~~~~~~~~~~~~~~~~~~~~~~~~~~~~~~~~~~~~~~~~~~~~~~~C(((C(ccccccccc)CccccC(ccccc(c)CO)cCO)ccccccC)(cccc~~~~~~~~~~~~~~~~~~~~~~~~~~~~~~~~~~~~~~~~~~~~~~~~CC)CCO)CCC^CCCC1)11C)CCc1CCCCCCCc)CCC^~~~~~~~~~~~~~~~~~~~~~~~~~~~~~~~~~~~~~~~~~~~~~~~~~~~~~~~~~~~~~CCCCcCCCO)c)ccccccccccccccCCCCCc~~~~~~~~~~~~~~~~~~~~~~~~~~~~~~~~~~~~~~~~~~~~~~~~~~~~~~~~~~~~~~~~~~~O()cccccO(OO)cOO)c(O(OO)ccccO)(cccccc)(cccccO()ccccc)(cccc~~~~~~~~~~~~~~~~~~~~~~~~~~~~~~~~~~~~~~~~~CCcccccC)CCCC)CC)cCCCcCCO)cc)ccCcc)ccccc)ccCO)ccCCNCcc)Ccccc~~~~~~~~~~~~~~~~~~~~~~~~~~~~~~~~~~~~~~~Cl)cccccClC)cCcccccCcc)cccC)ccc)ccc(clClClcO)ccccCl)cccccl)cccc~~~~~~~~~~~~~~~~~~~~~~~~~~~~~~~~~~~~CC)CCHcc=O)cCH](cccc=C=O)cCc)ccc=C)CCCC)O)ccc)C)CCCC)O)cccccccO)~~~~~~~~~~~~~~~~~~~~~~~~~~~~~~~~~~~C()(CO)cccccC(cccC((ccccCcc)ccccC()cc)ccccccc~~~~~~~~~~~~~~~~~~~~~~~~~~~~~~~~~~~~~~~~~~~~~~~~~~~~~~ClccccF(ccccF)ccF)cccc)ccccc)~~~~~~~~~~~~~~~~~~~~~~~~~~~~~~~~~~~~~~~~~~~~~~~~~~~~~~~~~~~~~~~~~~~~~~O((=(c=(c)(=O)c(n(@@](=((=O)c(=(c(((c(=(cc)(()cc(=O)c=O)c(c(((ccc(cc(cc(=O)c)~~~~~~~~~~~~~~~~~~~~~~C(((C((c(CO)cccccC(c)ccccC(C(c(CO)c)(cc)ccC)ccC)(ccc~~~~~~~~~~~~~~~~~~~~~~~~~~~~~~~~~~~~~~~~~~~~~~~O(ll)cccF)ccF)ccF)ccF)ccc(FccccccccccccccccFO)cFO)ccccccccc)~~~~~~~~~~~~~~~~~~~~~~~~~~~~~~~~~~~~~~~C)OCCCCCHH]1cCCCCH]1C)cCcccccccccccccccc~~~~~~~~~~~~~~~~~~~~~~~~~~~~~~~~~~~~~~~~~~~~~~~~~~~~~~~~~~~CCCCCCCCC)CCO)CCC^CCCO)Cc)cc)cCc)CCCCC)CCCOCC^~~~~~~~~~~~~~~~~~~~~~~~~~~~~~~~~~~~~~~~~~~~~~~~~~~~~~C((=O)ccccc=cc)ccc=(=O)c=O)c(((c)ccc=(cc)ccc)ccc=(=)c=)c)ccc~~~~~~~~~~~~~~~~~~~~~~~~~~~~~~~~~~~~~~~CCcccccCccccccCCCO)cCCCc)ccccc)cC)CC)cccccccccccccccC~~~~~~~~~~~~~~~~~~~~~~~~~~~~~~~~~~~~~~~~~~~~~~CCCCCcCCc)CCO)cCCCccccccccCcc)cccCCC)CCCC)CCO)c)ccc)cccccc~~~~~~~~~~~~~~~~~~~~~~~~~~~~~~~~~~~~~~~~~C()(FO)c(F(cF((FO)c1^cc1F(c1^c(F)cF)c)~~~~~~~~~~~~~~~~~~~~~~~~~~~~~~~~~~~~~~~~~~~~~~~~~~~~~~~~~~~~~CCOC=CCCCH1CCCCCCH]1=CCCCCH]1=C=OCCC1C111=CCCCCCCOCC11CCCCCCCCOCCCCC1C11111C~~~~~~~~~~~~~~~~~~~~~~~CCC)CCO)CCCCCCCCCCCCCC1C1C)C1C)CCC11Cr)C1Cr)CCCCCCCC~~~~~~~~~~~~~~~~~~~~~~~~~~~~~~~~~~~~~~~~~~~~~~~C)OC=)cCCccc=C)C=O)cCCccccc=c=O)c=O)cCcCCCc)ccccc)cccccccccccccccc~~~~~~~~~~~~~~~~~~~~~~~~~~~~~~~~~C(cccC)ccC)cccC)ccc(C(c((ccccccC(CO)c)ccc~~~~~~~~~~~~~~~~~~~~~~~~~~~~~~~~~~~~~~~~~~~~~~~~~~~~~~~~~~CCc^cccC)Cc)ccCCCCCCcCCO)cC)CCCCCcOC)ccc)ccCCcc^~~~~~~~~~~~~~~~~~~~~~~~~~~~~~~~~~~~~~~~~~~~~~~~~~~~CCCCO)cccccccCCcCCCCC)cccccCCCO)cC)CC)CC)cccccCCccccCC)cC)c)~~~~~~~~~~~~~~~~~~~~~~~~~~~~~~~~~~~~~~~C(cccccC)(ccccC(((C(c(CO)c(C(c(c)cnc]cc)ccC)cccc))ccccccC(ccc~~~~~~~~~~~~~~~~~~~~~~~~~~~~~~~~~~~~~~C(c=O)c=O)c(=(ccccc=ccccccnH]cHcccccc)ccccccccccccc)~~~~~~~~~~~~~~~~~~~~~~~~~~~~~~~~~~~~~~~~~~~~~~~C)O(CCccccCO)cCH](cCC(c(((((ccHccccccC()cccC()ccc~~~~~~~~~~~~~~~~~~~~~~~~~~~~~~~~~~~~~~~~~~~~~~~~~~CCC)CCO)CcCc1Cc1)111CC)C11)C11CCCCCCC)CCCCCCCCCO)C)CCCCCCCCCC)~~~~~~~~~~~~~~~~~~~~~~~~~~~~~~~~~~~~~C()ccccCccccccC((Cc)ccccc))c(C(cCO)cO)ccccccC(N(ccC(ccc()~~~~~~~~~~~~~~~~~~~~~~~~~~~~~~~~~~~~~~~~~~C((ccccCC(CO)cccccccCccccccC(cccc)ccccccc()~~~~~~~~~~~~~~~~~~~~~~~~~~~~~~~~~~~~~~~~~~~~~~~~~~~~~~~~CCc^cnc](cCCcc^CCCCO)cCc^cccCC)CCCCCCO)cc)ccccc)cCC)cc^~~~~~~~~~~~~~~~~~~~~~~~~~~~~~~~~~~~~~~~~~~~~C()cccccC()ccC(CO)c)(CcccccC)ccccccccccC(N(ccccccc~~~~~~~~~~~~~~~~~~~~~~~~~~~~~~~~~~~~~~~~~~~~~~~~~C)Oc^ccCCccccHcccCC)c)cHcCCCcCCCCCccnH](^~~~~~~~~~~~~~~~~~~~~~~~~~~~~~~~~~~~~~~~~~~~~~~~~~~~~~~~~~~C((-(c-(ccccccccc-ccccccc)ccc-)cccc)cc-)ccccc~~~~~~~~~~~~~~~~~~~~~~~~~~~~~~~~~~~~~~~~~~~~~~~~~~~~~~C)O(=)cccccccc=r)ccccccccccccc=(c=O)c=O)c(cccccccc)ccc~~~~~~~~~~~~~~~~~~~~~~~~~~~~~~~~~~~~~~~~~~~~~CCCCCCCO)cccccCCccccccccccccCCHH](cCCCCCCH](c)~~~~~~~~~~~~~~~~~~~~~~~~~~~~~~~~~~~~~~~~~~~~~~~~~~~~~CCCCCCCCCCCO)CCc^ccccc^C)CCO)CC^Cc)cccc)CCCCCC^~~~~~~~~~~~~~~~~~~~~~~~~~~~~~~~~~~~~~~~~~~~~~~~~~~~~CCCCCCcCC)CCccCcCCCCccccCCCCO)ccccccccc)cccccC)cCc~~~~~~~~~~~~~~~~~~~~~~~~~~~~~~~~~~~~~~~~~~~~~~~~~OCccccCCOO)OO)OO)OO)OcccccccccccCr)ccc)~~~~~~~~~~~~~~~~~~~~~~~~~~~~~~~~~~~~~~~~~~~~~~~~~~~~~~~~~~~~C((FO)cFO)c(F(c(((F(FO)c)c(F(F)cF)c)c(cc(c(F()c((F(N(c((c()~~~~~~~~~~~~~~~~~~~~~~~~~~~~~~~~~~~~~~~~CCCCcccccccc)CCCcCCCCCCCO)ccccccCcccccccC)CccccccCcCc~~~~~~~~~~~~~~~~~~~~~~~~~~~~~~~~~~~~~~~~~~~~~~CCC=O)cCccccc=C=O)cC=CcccccccccCcCCccccc~~~~~~~~~~~~~~~~~~~~~~~~~~~~~~~~~~~~~~~~~~~~~~~~~~~~~~~~~~~CCCcCCNCCcC)cCCO)cCCCCO)cccccccccccccc)cCccccCCCC)cC)Cc~~~~~~~~~~~~~~~~~~~~~~~~~~~~~~~~~~~~~~~~~~~~C(ccccc-(((c-O)c-O)cccccc-cccccc)ccccc)ccccccccc~~~~~~~~~~~~~~~~~~~~~~~~~~~~~~~~~~~~~~~~~~~~~~~~~~~CCccccccCCcCCCCc)ccCCC)cCH]cH)cCccccCNC~~~~~~~~~~~~~~~~~~~~~~~~~~~~~~~~~~~~~~~~~~~~~~~~~~~~~~~~~~~~C(()(CO)c(C(CO)c)((cC(CO)ccccccCcccccC(ccccc)ccccccccccccccccccC)(cccc~~~~~~~~~~~~~~~~~~~~~~~~~~~~~CO)1c11CCcOOC)cCO)OO)cOcc1C)Oc1C)Occc~~~~~~~~~~~~~~~~~~~~~~~~~~~~~~~~~~~~~~~~~~~~~~~~~~~~~~~~~~~~~~CC)C=O)cCCCHH]1^CCCC^C=O)c=O)c1^1111^~~~~~~~~~~~~~~~~~~~~~~~~~~~~~~~~~~~~~~~~~~~~~~~~~~~~~~~~~~~~~~CCC^CCCCCCCCCCCO)CCc)ccccCCCO)C)CCCCCCCCCc)CC^~~~~~~~~~~~~~~~~~~~~~~~~~~~~~~~~~~~~~~~~~~~~~~~~~~~~~C((((=O)ccccccccccccccc=)=O)c=O)c(((ccccc=(ccccccc~~~~~~~~~~~~~~~~~~~~~~~~~~~~~~~~~~~~~~~~~~~~~~~~~OOO)ccccc-ccccc-ccccc-)cc-ccccc)Occccccccccccccccccccccc~~~~~~~~~~~~~~~~~~~~~~~~~~~~~~~~~~~~~~~~~~~O((-(-O)c)cccccc-cccccccccc-)ccccccc-)ccc~~~~~~~~~~~~~~~~~~~~~~~~~~~~~~~~~~~~~~~~~~~~~~~~~~~~~~~~~~CCccccc=)=O)c=O)cCcccccc=C=O)cCc)ccc=C)CCCC)O)ccc)C)CCCC)O)cccCcccc~~~~~~~~~~~~~~~~~~~~~~~~~~~~~~~~CC)CCCcccccCCcCCccccCcc)cccCCccc)ccccCcccc~~~~~~~~~~~~~~~~~~~~~~~~~~~~~~~~~~~~~~~~~~~~~~~~~~~~~~~~~CC)CCO)cCcccccCCccccCCCcCCccccCCCccccccc)~~~~~~~~~~~~~~~~~~~~~~~~~~~~~~~~~~~~~~~~~~~~~~~~~~~~~~~~~~CCC)CC)cccccCccccccCCCCCO)c)CCcCCO)c)CCccccCCcccc~~~~~~~~~~~~~~~~~~~~~~~~~~~~~~~~~~~~~~~~~~~~~~~~~~C()(=O)c((((=O)c(=ccccc=(=O)c)cccc(c)=O)c=O)cccccc=(cccc~~~~~~~~~~~~~~~~~~~~~~~~~~~~~~~~~~~~~~~~~~~C((cncccC(CO)c(c((cncCcCcc)ccCcc)ccccC)cc)ccc)cccn(c(cccn~~~~~~~~~~~~~~~~~~~~~~~~~~~~~~~~~~~~~~~~~~CCCCCCC)CCCCCCCO)CCCH](CCCCCCCCCCCO)C1C11CC)C1CC)C11CCCO)CCCC~~~~~~~~~~~~~~~~~~~~~~~~~~~~~~~~~~~~~~CC)1^111CCCO)CCCCCH]1C)CCC)CC)CC)C1C)CCOCCCCCCCC1^~~~~~~~~~~~~~~~~~~~~~~~~~~~~~~~~~~~~~~~~~~~~~~~~~C((ccccc=(=cccccc=(c((=(=O)c)c((cO)ccccc=O)c=O)cccccccccccccccccc~~~~~~~~~~~~~~~~~~~~~~~~~~~~~~~~~~C()(=O)c(=(c=(=O)c(=(c=)c)c(=(^((((=(c(^c(=(c=O)cO)~~~~~~~~~~~~~~~~~~~~~~~~~~~~~~~~~~~~~~~~~~~~~~~~C()(=O)c(ccccc=(cccc(O(c(O((=O)cccc=)cccc=)cccc~~~~~~~~~~~~~~~~~~~~~~~~~~~~~~~~~~~~~~~~~~~~~~~~~~~~CCNCCCCCcCCO)cCC)cCCCCCO)ccccccccccCC)ccccccC)CCCCcO)ccCC)ccccccccccccc~~~~~~~~~~~~~~~~~~~~~~~~~~~~C)OCCccccccCcccCCCCcccccccccc)~~~~~~~~~~~~~~~~~~~~~~~~~~~~~~~~~~~~~~~~~~~~~~~~~~~~~~~~~~~~~~~~~~~~~CC)CCO)ccccccCccccccccc)CcccCcccccCCCCCCCO)c)CCCcCCcCccC)ccc~~~~~~~~~~~~~~~~~~~~~~~~~~~~~~~~~~~~~~~CCCCcCcccccC)CCCCCCCCCCCO)CcCcccCCCCCCCCCCCCCCcCCCC~~~~~~~~~~~~~~~~~~~~~~~~~~~~~~~~~~~~~~~~~~~~~~~~C((((cccCO)cnc]cccccC(ccC(Cc)cccC)ccc)cc)cccC(NCccc)cccccO)~~~~~~~~~~~~~~~~~~~~~~~~~~~~~~~~~~~~~~~~CC)cccccC)CcCCCO)c)cccc)ccccc)cccCcCCCCCccccc~~~~~~~~~~~~~~~~~~~~~~~~~~~~~~~~~~~~~~~~~~~~~~~~~~~~~~C((((c(CO)c(C)cC((CO)ccccccCcccccccC)(ccc(ccccccccCr)cccccc~~~~~~~~~~~~~~~~~~~~~~~~~~~~~~~~~~~~~~~~CCc^ccCCNCcccc^cc^cccccCc^cccccCCCCCO)c)CCCcCCcC~~~~~~~~~~~~~~~~~~~~~~~~~~~~~~~~~~~~~~~~~~~~~~~~~~~C)OC=CC=O)c=O)cccccc=)cccc)cCCC)CC)CC)CC)Ccccccccc~~~~~~~~~~~~~~~~~~~~~~~~~~~~~~~~~~~~~~~~~~~~~~~~~C((=(c=(c)(=O)c(n(@](c(n(@@](=(=O)c(=ccccc)c=ccc)(())c(=O)c=O)cccccc)cccc)ccc(c~~~~~~~~~~~~~~~~~~~~C(((F(c((F)c(((c(F)cF)c)c(FO)cFO)c(c((()(F(cc(FO)ccF(c(FO)cc)(~~~~~~~~~~~~~~~~~~~~~~~~~~~~~~~~~~~~~C)OC=CCc=ccccccccCCccCcCCC=C=O)c=O)ccccccccccCCc~~~~~~~~~~~~~~~~~~~~~~~~~~~~~~~~~~~~~~~~~~~~~~~~~~~CCCCCCCH]cCCCcccccccccCCO)c)cccccccCr)cccCNC~~~~~~~~~~~~~~~~~~~~~~~~~~~~~~~~~~~~~~~~~~~~~~~~~~~~~~~C)O(=((c((=((=)c)c(ccccccccCH](c=(=O)c)cHcccc~~~~~~~~~~~~~~~~~~~~~~~~~~~~~~~~~~~~~~~~~~~~~~~~~~~~~~Cl)ccccc-)cccccccccccccccccccccccc~~~~~~~~~~~~~~~~~~~~~~~~~~~~~~~~~~~~~~~~~~~~~~~~~~~~~~~~~~~~~~~~~C((C(nnnccCcccccncC(nncnccccC(cnnccCr)ncnnncccn~~~~~~~~~~~~~~~~~~~~~~~~~~~~~~~~~~~~~~~~~~~~~~~~~~~~C(ccccCccccccccccccccC(CO)c(c)ccC()(((C)cC)c)ccC(cc)cccccc~~~~~~~~~~~~~~~~~~~~~~~~~~~~~~~~~~~~~~~~~C((C((CO)c(ccccC()ccccc(c(cccccCcccccC(C)cC)c)ccccc(C(c(cccc~~~~~~~~~~~~~~~~~~~~~~~~~~~~~~~~~~~~~~~CCCCCCCCCCCCCCCCC)CCCCCCCCCCcCccCCCCCCCCCCCcccC~~~~~~~~~~~~~~~~~~~~~~~~~~~~~~~~~~~~~~~~~~~~~~~~~~~~C()(=O)c((=ccccc=ccccc=(cc=(cccc(ccccc)=O)c=O)ccccccccc~~~~~~~~~~~~~~~~~~~~~~~~~~~~~~~~~~~~~~~~~~~~C(((=(=O)c)cccc=(=(cO)ccc=(=(cO)cccc(=ccccc=(cc=()cccc)=(c=O)cO)~~~~~~~~~~~~~~~~~~~~~~~~~~~~~~~~~~~CCCCcCCCCCccccccCCccccccccccCC)ccccCccccccCCccc~~~~~~~~~~~~~~~~~~~~~~~~~~~~~~~~~~~~~~~~~~~~~~~~~~~~C(()cnccC(CO)ccccccC(ccccccC)((ccnccncccC)(cccn~~~~~~~~~~~~~~~~~~~~~~~~~~~~~~~~~~~~~~~~~~~~~~~~~~~~CCCc^cccCCCCCO)cCCHH](C)cCCCCcCcc)HcCCccCCCccCO)cCH]()ccc^~~~~~~~~~~~~~~~~~~~~~~~~~~~~~~~~~~~~~~~~~OCccccCCOO)OO)OO)OO)OcccccccccccCr)ccc)~~~~~~~~~~~~~~~~~~~~~~~~~~~~~~~~~~~~~~~~~~~~~~~~~~~~~~~~~~~~C)O(F()cccccF()ccccc(ccc1cF(F)cF)c)ccc~~~~~~~~~~~~~~~~~~~~~~~~~~~~~~~~~~~~~~~~~~~~~~~~~~~~~~~~~~~~~C((ccccccC(ccccccC()cccC(ccccccccc~~~~~~~~~~~~~~~~~~~~~~~~~~~~~~~~~~~~~~~~~~~~~~~~~~~~~~~~~~~~~~~~~C(ccccCcccccC)ccC)cccc(CO)c)cccC()cccO)~~~~~~~~~~~~~~~~~~~~~~~~~~~~~~~~~~~~~~~~~~~~~~~~~~~~~~~~~~~~C()(CO)cC(H](c((C(CO)c1c11C)c1C)c11cr)c(()c~~~~~~~~~~~~~~~~~~~~~~~~~~~~~~~~~~~~~~~~~~~~~~~~~~~~~~~~CCC)C=O)cccccc=CC=O)cCcCcCOC=c)HCH]cc)c=Cccccc))cC=CccCcC=O)c)cccc~~~~~~~~~~~~~~~~~~~~~~~~~~~~~~~~~CCC)C=O)cCCcC=O)cC=CC=O)cccccccccc=Ccccc=Cccc=CCccccccccccccc~~~~~~~~~~~~~~~~~~~~~~~~~~~~~~~~~~~~~~CCc^ccCCCO)cCCcCCCCCC)c)cCcccc^C~~~~~~~~~~~~~~~~~~~~~~~~~~~~~~~~~~~~~~~~~~~~~~~~~~~~~~~~~~~~~~~~~~~CC(cccc-ccccccc-cc)ccc-(-Cc()ccc)ccccccc~~~~~~~~~~~~~~~~~~~~~~~~~~~~~~~~~~~~~~~~~~~~~~~~~~~~~~~~~~~CCC^CCCCCCCCCCCO)CCc)ccccCCCO)C)CCCCCCCCCc)CC^~~~~~~~~~~~~~~~~~~~~~~~~~~~~~~~~~~~~~~~~~~~~~~~~~~~~~CCC)CC)cccccCcccccCCccCCNCccCCccccccc~~~~~~~~~~~~~~~~~~~~~~~~~~~~~~~~~~~~~~~~~~~~~~~~~~~~~~~~~~~~~~COOCOcccccccccCOCO)c)COHH](cOOO)COH](CO)cCOH](c)cccccc~~~~~~~~~~~~~~~~~~~~~~~~~~~~~~~~~~~~~~~~~~~~~Cr)c^ccCCccccccccCCCCccccc^CC^CC^~~~~~~~~~~~~~~~~~~~~~~~~~~~~~~~~~~~~~~~~~~~~~~~~~~~~~~~~~~~~~~~~~~C(ccccccccCr)ccC(c(((C(CO)cc)cc)ccccc)c)(c((cccccc~~~~~~~~~~~~~~~~~~~~~~~~~~~~~~~~~~~~~~~~~~~~~~~~~C()c^cccc=)cc^(=(c(=O)c(C(H](=((=O)c)(=(c=(c(c(=O)c)~~~~~~~~~~~~~~~~~~~~~~~~~~~~~~~~~~~~~~~~~~~~~~~C)O(-)cccc-cccccccccccnc](ccccccc-ccccc-(-O)c)cccccccc~~~~~~~~~~~~~~~~~~~~~~~~~~~~~~~~~~~~~~~~~~~~~OOO)1C1CCOCCOOCO)O)OCOHH](C)OCOHH](C)OO)OOOOOCO1CO)O1CO)~~~~~~~~~~~~~~~~~~~~~~~~~~~~~~~~~~~~~~~~~~~CCCC@@](CCCCO)CCC@@](CCCCCCO)C)CCCO)CCCC1Cc1CC)CC)C11CCCCCCCCCCCCCCCCCC~~~~~~~~~~~~~~~~~~~~~~~~~~~~C(ccccCcccccC(c((ccc3cccccc(((CcccccCcCO)cCO)cccccccccccccc(c~~~~~~~~~~~~~~~~~~~~~~~~~~~~~~~~~~~~~~C)OC=C1c1CH]11c11111cccCc=)cCCC)CcO)~~~~~~~~~~~~~~~~~~~~~~~~~~~~~~~~~~~~~~~~~~~~~~~~~~~~~~~~~~~~~~~C()cccccC()cccc(CccccC(cccccccC)(ccccc(CO)cCO)ccccccC)cccc~~~~~~~~~~~~~~~~~~~~~~~~~~~~~~~~~~~~~~~~~CclNO)cccccccccNcccccNcccNl)cccc)ccccccc~~~~~~~~~~~~~~~~~~~~~~~~~~~~~~~~~~~~~~~~~~~~~~~~~~~~~~~~~~~C)O(C(cccc1Cc1c11111c)1c111C()c11c()cccc(c((C)cC(c((cc(c~~~~~~~~~~~~~~~~~~~~~~~~~~~~~~~~~~~~~~~~~~~C(((CO)c(C(c((CO)cc^ccCcc)cccC()ccc)ccc^(~~~~~~~~~~~~~~~~~~~~~~~~~~~~~~~~~~~~~~~~~~~~~~~~~~~~~~~~~~C((C(CC(C)(CO)C(C(((C((CO)C)(()(((Cr)C(C()C()C(C)CC)C(C~~~~~~~~~~~~~~~~~~~~~~~~~~~~~~~~~~~~~~~~~~~~C()(=O)c(=(c=((=O)ccccccHc=)(cccccnH](cc(=)c=)c)~~~~~~~~~~~~~~~~~~~~~~~~~~~~~~~~~~~~~~~~~~~~~~~~~~~C()ccccc=cccccc=ccccc)cc=(cccc)cccccccc=(=((=O)c)cc=(c=O)cO)ccc~~~~~~~~~~~~~~~~~~~~~~~~~~~~~~~~~~~~C()c^cccc=)cc^(=(c(=O)c(C(H](=((=O)c)(=(c=(c(c(=O)c)~~~~~~~~~~~~~~~~~~~~~~~~~~~~~~~~~~~~~~~~~~~~~~~CC)CC)cccccCcccccccC)CcccCccCr)ccc~~~~~~~~~~~~~~~~~~~~~~~~~~~~~~~~~~~~~~~~~~~~~~~~~~~~~~~~~~~~~~~~~C)OCcCOC=)cCC=ccccc=C=O)cccccccccccccCc~~~~~~~~~~~~~~~~~~~~~~~~~~~~~~~~~~~~~~~~~~~~~~~~~~~~~~~~~~~~C)O(c()ccccc=)(=O)c((=(ccc=)cccccc()c(=O)c=O)cccccc=()cccccccc(c~~~~~~~~~~~~~~~~~~~~~~~~~~~~~~~~~~~CCC)C=O)CCC=C=CC=)CCcOCCC=OC)c)ccc=C)c(Cc=CCc)CCOC=C)CCcO)CCCCC~~~~~~~~~~~~~~~~~~~~~~~~~~~~~~~~~~~~CCCCcCCCCCH]1cCCcCC)cccccCCCCc)ccccCc~~~~~~~~~~~~~~~~~~~~~~~~~~~~~~~~~~~~~~~~~~~~~~~~~~~~~~~~~~~~~~CCC)CCO)ccccccccCcc)cccCCCO)cC)CCCC)ccc)CcccCCccccc~~~~~~~~~~~~~~~~~~~~~~~~~~~~~~~~~~~~~~~~~~~~~~~~C((ccccC(CO)c(ccccC)ccC(cccc)ccC(ccc~~~~~~~~~~~~~~~~~~~~~~~~~~~~~~~~~~~~~~~~~~~~~~~~~~~~~~~~~~~~~~~OO)OOO)cccccO)ccO(cccccccOO)ccO)ccOccccccO)ccO)cccccOOcccccccO)ccc~~~~~~~~~~~~~~~~~~~~~~~~~~~~~~~~~C((=(=O)ccccc=cccccc=(ccccccccc)ccccccc=ccc(=O)ccccccccc(cO)~~~~~~~~~~~~~~~~~~~~~~~~~~~~~~~~~~~~~~~C)OCCCcccccCC)ccCC)ccccccccccccCCO)cCcCCCcCC)CCcCc~~~~~~~~~~~~~~~~~~~~~~~~~~~~~~~~~~~~~~~~~~~~~~~~~C(()(=O)c((ccccc=)cc=ccccc=(=O)c)ccc=)ccc(ccc~~~~~~~~~~~~~~~~~~~~~~~~~~~~~~~~~~~~~~~~~~~~~~~~~~~~~~CC)CCO)ccccccCccccccccc)CcccCcccccCCCCCCCO)c)CCCcCCcCccC)ccc~~~~~~~~~~~~~~~~~~~~~~~~~~~~~~~~~~~~~~~C(((=cccccccnc](ccccc)(c(=O)c=O)cccccccc=cccc=O)cc=(cc=O)ccc(~~~~~~~~~~~~~~~~~~~~~~~~~~~~~~~~~~~~~~CCCCCCCCCCCC)CC)CCO)CCCCCCO)CCCCCCCCCcCcccccC~~~~~~~~~~~~~~~~~~~~~~~~~~~~~~~~~~~~~~~~~~~~~~~~~~~~~~CCCCccccCcccccccccccnc]cccCCC)ccccccC)ccccCcCCc~~~~~~~~~~~~~~~~~~~~~~~~~~~~~~~~~~~~~~~~~~~~~~~~~~~~C(()(CO)ccccccCccccccC(C(c(c)ccC(ccc)()ccC()cccccc(~~~~~~~~~~~~~~~~~~~~~~~~~~~~~~~~~~~~~~~~~~~~~~~~CcN(ccccNcccccNcccN()cccc)cccccnc]ccccc~~~~~~~~~~~~~~~~~~~~~~~~~~~~~~~~~~~~~~~~~~~~~~~~~~~~~~~~~~~~C(cccccC(ccC(C((((CO)c(C(c)Hc)cccC()ccc)CH]()c(C(c(c)C(cCO)cO)ccc~~~~~~~~~~~~~~~~~~~~~~~~~~~~~~~~~~O(()cccccccccC(CO)c)ccC)(CO)ccccc)ccCr)ccC(ccc)ccccccc~~~~~~~~~~~~~~~~~~~~~~~~~~~~~~~~~~~~~~~~~~~~~C)OCC)cCcCCCCCcccCC)cccccccccccCC)cccccCCc~~~~~~~~~~~~~~~~~~~~~~~~~~~~~~~~~~~~~~~~~~~~~~~~~~~~~~~~~C()(=O)cccccc=cccccc=((=O)cccccc=r)cc=)(ccccccccccc)~~~~~~~~~~~~~~~~~~~~~~~~~~~~~~~~~~~~~~~~~~~~~~~C((C(c((()CO)cCO)cc^cccC(C(((c(c)ccC()(()ccc)cc)c1cc^)~~~~~~~~~~~~~~~~~~~~~~~~~~~~~~~~~~~~~~~~~~~~~C(()(-O)ccccc-cccccc-cc)c-()ccccc))cccccccc(~~~~~~~~~~~~~~~~~~~~~~~~~~~~~~~~~~~~~~~~~~~~~~~~~~~~~~~C((=O)c(=()(((=(=O)c)c(=(=)c=)c)c()c(=(c=O)cO)(((((c)((CcC(=(c()~~~~~~~~~~~~~~~~~~~~~~~~~~~~~~~~~~~C((=(c=(cc(=O)cccccc=cccccc=r)ccccc(=O)ccccccccccccccccccc~~~~~~~~~~~~~~~~~~~~~~~~~~~~~~~~~~~~~~~~~CC)ccccccccCCO)c)ccccccccCcCccccccc~~~~~~~~~~~~~~~~~~~~~~~~~~~~~~~~~~~~~~~~~~~~~~~~~~~~~~~~~~~~~~~~CCCccccccCccccccCCCCCO)c)CcccccccCNC~~~~~~~~~~~~~~~~~~~~~~~~~~~~~~~~~~~~~~~~~~~~~~~~~~~~~~~~~~~~~~~CCccccccccccC)c)ccCCccCCCO)cC)CCCCCC)CCCCCCcC)cCC)cc)ccccc~~~~~~~~~~~~~~~~~~~~~~~~~~~~~~~~~~~~~~~~~CCC)CCO)CCcCc1CCC)CC)CCCCCCCCCCCCCCCCCCC11CC~~~~~~~~~~~~~~~~~~~~~~~~~~~~~~~~~~~~~~~~~~~~~~~~~~~~~~~CCC^OCCCCcCCcCCCCO)c)CCCcCCcCccccccCcc)ccccc)cccc^~~~~~~~~~~~~~~~~~~~~~~~~~~~~~~~~~~~~~~~~~~~~~~~~~C()ccccC(ccC(C(cC)c((CO)ccccccC)cccc)ccccr)~~~~~~~~~~~~~~~~~~~~~~~~~~~~~~~~~~~~~~~~~~~~~~~~~~~~~~~~C)OCCCcccC)ccccccC)cCCCcccccccccCcCCc~~~~~~~~~~~~~~~~~~~~~~~~~~~~~~~~~~~~~~~~~~~~~~~~~~~~~~~~~~~~~~C(()(=O)cc^cccnc](cc=(=O)c(c)cc)ccc=(=(c(ccc)c)cc=O)cccc^(~~~~~~~~~~~~~~~~~~~~~~~~~~~~~~~~~~~~~~~~~C((C(cC(c)(CO)c(c(((C((CO)c)()(((C)c(C(N(c()(N(c(C)cC)c(c~~~~~~~~~~~~~~~~~~~~~~~~~~~~~~~~~~~~~~~~~~C)O(=cccccc=ccccc=(cccccccccnc]cccccccccccc=c(=O)cccccccccccc~~~~~~~~~~~~~~~~~~~~~~~~~~~~~~~~~~~~~~CCCCcccccCCccccCCCO)cCCCcCCcccccccC)ccc~~~~~~~~~~~~~~~~~~~~~~~~~~~~~~~~~~~~~~~~~~~~~~~~~~~~~~~~~~~~CCcccccCCCCO)cCcCCcccCcCC)c)cccC)ccc)ccccCcCcccc~~~~~~~~~~~~~~~~~~~~~~~~~~~~~~~~~~~~~~~~~~~~~~~~~~~CSc=O)c=O)cS=SSSS=O)c)ccccccc=cccccc=S)ccccScSS=O)cSccccccccccccc~~~~~~~~~~~~~~~~~~~~~~~~~~~~~~~~~~C)CF)cF)cccccccFC)CcFCcCCccCCCcccc~~~~~~~~~~~~~~~~~~~~~~~~~~~~~~~~~~~~~~~~~~~~~~~~~~~~~~~~~~~~~~~~~CCcccccCCcCCC)cCC)CC)cCcccCccccccCCccccccc~~~~~~~~~~~~~~~~~~~~~~~~~~~~~~~~~~~~~~~~~~~~~~~~~~~~~~~~~C(cccccCclccccCl)ccccccccccCllCO)c)cccccl)ccc~~~~~~~~~~~~~~~~~~~~~~~~~~~~~~~~~~~~~~~~~~~~~~~~~~~~~~C@)@=C)[3C33=C)[3=33=CC@)@C@C@HH3)=@[@=C@)[@=C)[@C@HH]3)C@HH]3)@@C@H3)=@[@=C)[@@C@HH]3))[333=CH]3C~C(c^ccC(C)cC)c)ccc)ccC(CO)cC)((((C(C)((CC(c(()c()ccCCcc^)~~~~~~~~~~~~~~~~~~~~~~~~~~~~~~~~~~~~~~~~~~CCCcCCCCCCcCCccccCCccccc)CcccccccccCc~~~~~~~~~~~~~~~~~~~~~~~~~~~~~~~~~~~~~~~~~~~~~~~~~~~~~~~~~~~~~~ClcccccBllclllCBccccBC~c(r)cccB)ccc)clccccc~~~~~~~~~~~~~~~~~~~~~~~~~~~~~~~~~~~~~~~~~~~~~~~~~~~~~~~~C)OC^Cccccc=cccccc=C)CCC)cccccccC=O)cC^~~~~~~~~~~~~~~~~~~~~~~~~~~~~~~~~~~~~~~~~~~~~~~~~~~~~~~~~~~~~CCCCC)ccccccCCccccCCO)cCCcCccccccccCCc~~~~~~~~~~~~~~~~~~~~~~~~~~~~~~~~~~~~~~~~~~~~~~~~~~~~~~~~~~~~~C(cccc=(ccc=(=cccccc)cccccc)cc=O)c=O)ccccccccc)ccc(N(~~~~~~~~~~~~~~~~~~~~~~~~~~~~~~~~~~~~~~~~~~~~~~CCCCCCCCCCccccC)cccC)cccccCO)cCO)ccccccccccCCccccc~~~~~~~~~~~~~~~~~~~~~~~~~~~~~~~~~~~~~~~~~~~~~~~~~C()cccccccCcc((CO)c(ccccccC)cccc(CO)c((c~~~~~~~~~~~~~~~~~~~~~~~~~~~~~~~~~~~~~~~~~~~~~~~~~~~~~~~~~~~C()(((((=(c(=O)c(=ccccc=(=O)c)cccc(c)=O)c=O)ccccccccc~~~~~~~~~~~~~~~~~~~~~~~~~~~~~~~~~~~~~~~~~~~~~~CCccccccCCCCCCO)ccccccC)Cccccccccccccccc~~~~~~~~~~~~~~~~~~~~~~~~~~~~~~~~~~~~~~~~~~~~~~~~~~~~~~~~~~~CCNCC^CCCCCCCCO)cCcccccCCCCO)cc)cccc)cccccCC^~~~~~~~~~~~~~~~~~~~~~~~~~~~~~~~~~~~~~~~~~~~~~~~~~~~~~~CCCCCcCCcCCCCCO)c)cCCCO)cc^cccCCcCC)CCcccCC)cc^~~~~~~~~~~~~~~~~~~~~~~~~~~~~~~~~~~~~~~~~~~~~~~~~~~~~CCC)CCO)cccccccCCcCCCCcCCCO)c)ccccccccccccccccc~~~~~~~~~~~~~~~~~~~~~~~~~~~~~~~~~~~~~~~~~~~~~~~~~~~~CC)CCO)cCCCccccccCCCCCccccccccCcCC)CCccccc~~~~~~~~~~~~~~~~~~~~~~~~~~~~~~~~~~~~~~~~~~~~~~~~~~~~~~~~~CC)CCCCHH](^CCCCCO)cCc)cccCCccc)CcCCC^CCO)c)CCCcCCcC~~~~~~~~~~~~~~~~~~~~~~~~~~~~~~~~~~~~~~~~~~~~~~~O()cccccccccccc-ccccnc]ccccccc-(ccccccc)~~~~~~~~~~~~~~~~~~~~~~~~~~~~~~~~~~~~~~~~~~~~~~~~~~~~~~~~~~~CCCCCCcCC)CCccCcCCCCccccCC)cccCccccccCCNCccC)cccccccCc~~~~~~~~~~~~~~~~~~~~~~~~~~~~~~~~~~~~~~~~~~~~~C(ccccCr)cccC(N(((c(CO)c(C)cC((CO)cccccc)cCccc)(())ccccccccccccc~~~~~~~~~~~~~~~~~~~~~~~~~~~~~~~~~~~C#N##cO#c#ccccccccc#cC###C)cC)c##c#N#c#c~~~~~~~~~~~~~~~~~~~~~~~~~~~~~~~~~~~~~~~~~~~~~~~~~~~~~~~~~~~C(()(CO)ccccccC(CcccccC()cccccccccC(ccccc)(cccccC(ccc(cccc(~~~~~~~~~~~~~~~~~~~~~~~~~~~~~~~~~~~~~~~~C()(=O)ccccccccc=r)cccccc((=O)ccccccccc(=(c(~~~~~~~~~~~~~~~~~~~~~~~~~~~~~~~~~~~~~~~~~~~~~~~~~~~~~~~C((cccc=(=O)c(=c)ccc=(=O)c)ccc)(c)=O)c=O)cc)ccc=(ccc)cc=O)cc)ccc=(ccc)c~~~~~~~~~~~~~~~~~~~~~~~~~~~~C((C(cC(cccccCccccccC(CO)cc)ccC()ccc)()(()cccccc1c~~~~~~~~~~~~~~~~~~~~~~~~~~~~~~~~~~~~~~~~~~~~~~~~~C)CcCCcCCccCCCccccCC)cccccCCcccccccc)cCc~~~~~~~~~~~~~~~~~~~~~~~~~~~~~~~~~~~~~~~~~~~~~~~~~~~~~~~~~~~CCCc^ccCCcccccCCC)CC)ccCr)ccccccCCCCCcCcc^~~~~~~~~~~~~~~~~~~~~~~~~~~~~~~~~~~~~~~~~~~~~~~~~~~~~~~~~~CCccccC)CCcccccC)ccccccccccCCNCcccccccCCCCcCccc~~~~~~~~~~~~~~~~~~~~~~~~~~~~~~~~~~~~~~~~~~~~~~~~~~~~C()(-O)cccccc-cccccc-((-O)cccccc-cc)cc-(N(cccc)cccccccccccc)~~~~~~~~~~~~~~~~~~~~~~~~~~~~~~~~~~~~~~~C((((CO)c(c^ccC)(ccc^(CO)cc^cC()cc)ccC(cccc)c^(CO)c)(C(cC(c(~~~~~~~~~~~~~~~~~~~~~~~~~~~~~~~~~~~~~~~C)OlF)clF(cccccFccccccccF(F)cF)cF)cF)c)cccccnc](ccccccccccccF)ccc~~~~~~~~~~~~~~~~~~~~~~~~~~~~~~~~~~O(()cccB(ccccBr)ccBr)cccc(cccB(BO)c)cccc)(~~~~~~~~~~~~~~~~~~~~~~~~~~~~~~~~~~~~~~~~~~~~~~~~~~~~~~~~~C()ccc=(c(((=ccccc=()cccc(=O)c(c((=O)c(=c)ccccc)()c(cc((ccc=O)cccO)~~~~~~~~~~~~~~~~~~~~~~~~~~~~~~~~O()cccccccC(CO)c(ccccC()(((C)cC)c)ccC(ccccccC)(cccccc)(~~~~~~~~~~~~~~~~~~~~~~~~~~~~~~~~~~~~~~~~~~~~C()cccccC((CO)ccccccccc(C)cC)c(cccccC()cccc(cccc~~~~~~~~~~~~~~~~~~~~~~~~~~~~~~~~~~~~~~~~~~~~~~~~~~~CCc^ccCCccCcccccccccC)CCCcCcccCCcccccCcc^~~~~~~~~~~~~~~~~~~~~~~~~~~~~~~~~~~~~~~~~~~~~~~~~~~~~~~~~~~C(c^cccc=(=((=O)c(C(HH]()((C(H](=)c()c)=(c=O)cO)cc^~~~~~~~~~~~~~~~~~~~~~~~~~~~~~~~~~~~~~~~~~~~~~~~~C()(=O)c(=(c=(=O)c(c((=(()((((()c((=)c=)c(c)c(=(c((((=(c(cc(=(c=O)cO)~~~~~~~~~~~~~~~~~~~~~~~~~~~~~~C(cccccC(C((c((c(c(CO)cCO)cccccc)cccc)cccccc)~~~~~~~~~~~~~~~~~~~~~~~~~~~~~~~~~~~~~~~~~~~~~~~~~~~~~~CCCCO)cc^ccCCCcCCCCcCCcCcCCccccccccCCccc^~~~~~~~~~~~~~~~~~~~~~~~~~~~~~~~~~~~~~~~~~~~~~~~~~~~~~~~~~~C(ccccccF(lFO)cccccF)cccccccccccF)cccc)ccc~~~~~~~~~~~~~~~~~~~~~~~~~~~~~~~~~~~~~~~~~~~~~~~~~~~~~~~~~C((c(CO)c(C((CO)ccccccccccCcccC(CO)c)(C(cC(c(ccc)cccC(ccc)ccccccccccc~~~~~~~~~~~~~~~~~~~~~~~~~~~~~~CCCCCCCO)cCcccccCCcCCCCCCO)cc)ccccc)cCCccccccccccCC)cccc~~~~~~~~~~~~~~~~~~~~~~~~~~~~~~~~~~~~~~~~~~~CCCCCCCCCCCCCO)CCCCCCCCcCccCcccccCcCCC~~~~~~~~~~~~~~~~~~~~~~~~~~~~~~~~~~~~~~~~~~~~~~~~~~~~~~~~~~~~~CCC^CCCCO)cCcCCCC)cCCccCCccccCr)ccccc^~~~~~~~~~~~~~~~~~~~~~~~~~~~~~~~~~~~~~~~~~~~~~~~~~~~~~~~~~~~~~C)O(c()cccccc=cc)ccc=((=O)c=O)c()(((=(=O)c)c(()ccc)ccc(c~~~~~~~~~~~~~~~~~~~~~~~~~~~~~~~~~~~~~~~~~~~COOCOcccccccccCOCO)c)COHH](cOOO)COH](CO)cCOH](c)cccccc~~~~~~~~~~~~~~~~~~~~~~~~~~~~~~~~~~~~~~~~~~~~~C#ccccccccccccccCcccccccccC#N#cccccccccccc~~~~~~~~~~~~~~~~~~~~~~~~~~~~~~~~~~~~~~~~~~~~~~~~~~~~~~~~~CCC)CCO)cccccccccCCcCCCCC)c)cccCCCO)cCC)CC)ccc)cCCcccccccC~~~~~~~~~~~~~~~~~~~~~~~~~~~~~~~~~~~~~~~~~CC)CCO)CCCCO)C1c111CCC)CC)CCC)CCCCCCCCCCCCC)C11c~~~~~~~~~~~~~~~~~~~~~~~~~~~~~~~~~~~~~~~~~~~~~~~~~~~C()(=O)ccccc=)cc=(cccc=(=O)c)ccc=ccccccccc(=(cO)ccccc=)ccc~~~~~~~~~~~~~~~~~~~~~~~~~~~~~~~~~~~~~~~~~C((=cccccc=ccc(=O)ccccccccc(cO)cccccccccccc=(=O)c)cccc~~~~~~~~~~~~~~~~~~~~~~~~~~~~~~~~~~~~~~~~~~~~~CCCC=O)cC=CcCC=O)cCC=CCcccccccccC=O)cCccccccccCNC~~~~~~~~~~~~~~~~~~~~~~~~~~~~~~~~~~~~~~~~~~~~~~~~~~Clc=O)c=O)c(=lccccc=cccccc=cccccc=)cccc)ccccl=O)c)ccccccccccccc)~~~~~~~~~~~~~~~~~~~~~~~~~~~~~~~~~~~CCC=O)cCCC)ccccc=Ccccc=r)cccccccccccccc)CCCC=CcO)~~~~~~~~~~~~~~~~~~~~~~~~~~~~~~~~~~~~~~~~~~~~~~~~~~C((=O)c1^c11=(=O)c)cc^()O(=O)c=((((1^111=)c11^c(^(((((^~~~~~~~~~~~~~~~~~~~~~~~~~~~~~~~~~~~~~~~~~~~~C(cccccCccccccCccccC(ccccC)ccc(ccC()cccccC(CO)c)ccc~~~~~~~~~~~~~~~~~~~~~~~~~~~~~~~~~~~~~~~~~~~~~~~~C(cccccC(C((CO)c)c((CO)c(ccccC()(((C)cC)c)ccC(ccccccc~~~~~~~~~~~~~~~~~~~~~~~~~~~~~~~~~~~~~~~~~~~~~~CC)C=O)cC^CCC=ccccc=cc)ccc)c=c)cC=O)cCC=O)cC)cccccCC^~~~~~~~~~~~~~~~~~~~~~~~~~~~~~~~~~~~~~~~~~~~~~~C((^((=(=O)c)(=(c=(c(c(((^(=O)c1^11)1=O)cCH](CH](1=O)c1)c^~~~~~~~~~~~~~~~~~~~~~~~~~~~~~~~~~~~~~~~~~C)OCB)1c1Br)c1111cr)cCcBcc1111ccCCCCCc~~~~~~~~~~~~~~~~~~~~~~~~~~~~~~~~~~~~~~~~~~~~~~~~~~~~~~~~~~~~~CCCCFCCCCCCCCF)CC)CF)CF)CCF)CC)~~~~~~~~~~~~~~~~~~~~~~~~~~~~~~~~~~~~~~~~~~~~~~~~~~~~~~~~~~~~~~~~~~~~C(ooo=O)ococooo=(((=O)o((((=O)o(ocooo=((=O)oo)oooc)ooocoooco~~~~~~~~~~~~~~~~~~~~~~~~~~~~~~~~~~~~~~~CCC)CCO)CCCCNCC1^c11CCC)CC)C)C11^CC^CCCCCCCCCCCC^~~~~~~~~~~~~~~~~~~~~~~~~~~~~~~~~~~~~~~~~~~~~~~~~~~C(cccc=(cc=(=O)cc)cccc)(=(c)=O)c=O)cc)ccc=cc)ccc=(=O)c)ccc)(ccc)ccc~~~~~~~~~~~~~~~~~~~~~~~~~~~~~~~~C)OCCO)cCCCCC^CCCH]1cCOCCCHH]1^Ccc1^1111^~~~~~~~~~~~~~~~~~~~~~~~~~~~~~~~~~~~~~~~~~~~~~~~~~~~~~~~~~~CCNCCcCCCC)CCO)cCCcccccccccCcccccCC)ccccccCCc~~~~~~~~~~~~~~~~~~~~~~~~~~~~~~~~~~~~~~~~~~~~~~~~~~~~~~CCC)CCO)ccccccCCCCCO)ccccccCC)CCCCCC)ccCCccccccccccccCcccc~~~~~~~~~~~~~~~~~~~~~~~~~~~~~~~~~~~~~~~~~CCC)CCO)cc^cccccCCcccccc^C^CCCCcC)cC^~~~~~~~~~~~~~~~~~~~~~~~~~~~~~~~~~~~~~~~~~~~~~~~~~~~~~~~~~~~~~~C(()(CO)ccccccccCccccccC)(ccC)ccccccC(ccccc~~~~~~~~~~~~~~~~~~~~~~~~~~~~~~~~~~~~~~~~~~~~~~~~~~~~~~~~CCCCHH]cCCccccccCCCCcCCcccccCC)ccccc)cCcccCCC)ccccccc)~~~~~~~~~~~~~~~~~~~~~~~~~~~~~~~~~~~~~~~~~~~~~CCCCCcCCCNCcc^cccCC)ccCCCCCC)CCCCC)cCCCcCO)cO)cc^~~~~~~~~~~~~~~~~~~~~~~~~~~~~~~~~~~~~~~~~~~~~~~~~~~C(()ccccc=(=((=O)c)c(=O)c=O)cccccc=cc)cc=(=O)c)(cc=(cc)cccccccc~~~~~~~~~~~~~~~~~~~~~~~~~~~~~~~~~~~~CC)1c11111cCCCCCCCO)cCcCCC)cCC)CC)cCccCCCcCO)cO)~~~~~~~~~~~~~~~~~~~~~~~~~~~~~~~~~~~~~~~~~~~~~~~~~~~CC)C=O)cccccc=)ccccCCcOC=CNCcccccccccCc~~~~~~~~~~~~~~~~~~~~~~~~~~~~~~~~~~~~~~~~~~~~~~~~~~~~~~~~~~~~CCCCCCCCCCCCCCCOCCCcCccccCCCCcCCCCCC~~~~~~~~~~~~~~~~~~~~~~~~~~~~~~~~~~~~~~~~~~~~~~~~~~~~~~~~~~~~~~~CCccCCO)cCCCCCO)ccccccccccCccccccCC)ccC)Cccccccccccccccccccccc~~~~~~~~~~~~~~~~~~~~~~~~~~~~~~~~~~~~~O()cccc-cccccc-)cc-)(-O)ccccccc-)ccc)cccccccccccccc~~~~~~~~~~~~~~~~~~~~~~~~~~~~~~~~~~~~~~~~~~~~~~~~CCCCCCCCC)CCO)CC^CCCCCCO)CCCH](CC1)1CH](1H)CCCCO)C)C1)11111)CCC^CCCC~~~~~~~~~~~~~~~~~~~~~~~~~~~~~~~CC)CCO)ccccccCCcccCC)cccccc)Ccccc~~~~~~~~~~~~~~~~~~~~~~~~~~~~~~~~~~~~~~~~~~~~~~~~~~~~~~~~~~~~~~~~~~C((C(CO)C()(ccC(C()C(CO)C(C(C(C(CC)C()(((C)(O()(CO)C((C(CC(C(()O)C(()~~~~~~~~~~~~~~~~~~~~~~~~~~~~~~C()(=O)c(=(=O)cccccccc=(=)c=)c)ccccccc(c(=cccccccc)(c(=(c=O)cO)~~~~~~~~~~~~~~~~~~~~~~~~~~~~~~~~~~~~C)O(F((cF(F)cF)c)c(((ccccccccccF()ccccccc~~~~~~~~~~~~~~~~~~~~~~~~~~~~~~~~~~~~~~~~~~~~~~~~~~~~~~~~~~C(((()ccccC)ccCC(CO)cccccC((ccccCccC)ccc~~~~~~~~~~~~~~~~~~~~~~~~~~~~~~~~~~~~~~~~~~~~~~~~~~~~~~~~~~~C(cccc-ccccc-cc)ccccc)ccccccccc(((-cccccc-()ccc((-O(c(c(c~~~~~~~~~~~~~~~~~~~~~~~~~~~~~~~~~~~~~~~~~~C((-(c-(ccccccccc-ccccccccc)(-O)cccccccccr)cc-)ccccc~~~~~~~~~~~~~~~~~~~~~~~~~~~~~~~~~~~~~~~~~~~~~~~C)CCccccCCcCCCCcccccC)ccC)ccccCccHCH]1c~~~~~~~~~~~~~~~~~~~~~~~~~~~~~~~~~~~~~~~~~~~~~~~~~~~~~~~~~~~~C(cccc-ccccc-cc)ccccc)ccccccccc(((-cccccc-()ccc((-O(c(c(c~~~~~~~~~~~~~~~~~~~~~~~~~~~~~~~~~~~~~~~~~~CCCcOC=C=)cccccccccCNCCCCCCcC=O)cccccccccCcO)cC=O)cC)c~~~~~~~~~~~~~~~~~~~~~~~~~~~~~~~~~~~~~~~~~~~~~C()(CO)cccccccCcccccC(ccc)ccccc)ccccccnc]cc~~~~~~~~~~~~~~~~~~~~~~~~~~~~~~~~~~~~~~~~~~~~~~~~~~~~~~~~C((=O)c=O)c(=(((cccc=(=(cO)cc1cccccc=()ccccc()~~~~~~~~~~~~~~~~~~~~~~~~~~~~~~~~~~~~~~~~~~~~~~~~~~~~~C()ccccC)(C(c(cccCcccccC(CO)c)cccC)ccc(ccc~~~~~~~~~~~~~~~~~~~~~~~~~~~~~~~~~~~~~~~~~~~~~~~~~~~~~~~~~CC)ccccc=)Ccc=CC=O)cCCC=O)cCCH](=CcccCH](c)cccccc)cCC=O)cCCccc~~~~~~~~~~~~~~~~~~~~~~~~~~~~~~~~~~~~~Cll)ccccc=(=cccc=r)ccc=)ccclcc=O)c=O)cccccccccccccccccc~~~~~~~~~~~~~~~~~~~~~~~~~~~~~~~~~~~~~~~~~~~~C()(CO)cccccccccC(Cc)ccC(ccC(ccCO)cCc]c)cc)ccccC(cc)(cccccc~~~~~~~~~~~~~~~~~~~~~~~~~~~~~~~~~~~~~~~~C()(=O)c((((=cccccc=cc)ccc=(cc=(cc)cccc)=(c=O)cO)~~~~~~~~~~~~~~~~~~~~~~~~~~~~~~~~~~~~~~~~~~~~~~~~~~C(ccccCcccccCcccccccC)ccccc3cccccc(((CccccccC(c((CO)cc)cccC(ccc)(ccccc(c~~~~~~~~~~~~~~~~~~~~~~~~~~~C(ccccc=()ccc(((=O)c(=ccccccc=ccc)(()cc(=O)c=O)cccccccccccccc~~~~~~~~~~~~~~~~~~~~~~~~~~~~~~~~~~~~~~OO)cccccccc-O)chccc-)Occc)O-O)cOccccc-ccccccc-)Occccccccccccccc~~~~~~~~~~~~~~~~~~~~~~~~~~~~~~~~~~~~CCCCCCcCCO)cCC)CCO)cCcccCC)ccHHcCCCcCcCcccCH]cccccccccccccccccccc~~~~~~~~~~~~~~~~~~~~~~~~~~~~~~~~~~\n"
          ],
          "name": "stdout"
        }
      ]
    },
    {
      "cell_type": "code",
      "metadata": {
        "id": "fJ-6CLnXpGX5",
        "colab_type": "code",
        "outputId": "636984b1-3c29-4ddb-9641-788d48b9dbbb",
        "colab": {
          "base_uri": "https://localhost:8080/",
          "height": 54
        }
      },
      "source": [
        "print(Y_val_str)"
      ],
      "execution_count": 0,
      "outputs": [
        {
          "output_type": "stream",
          "text": [
            "COc1cccc(F)c1N(C)CC(=O)OC(C)(C)C^~~~~~~~~~~~~~~~~~~~~~~~~~~~~~~~~~~~~~~~~~~~~~~~~~~~~~~~~~~~~~~~~~~Cn1nc(-c2nc(-c3cccc(F)c3)no2)c2c1CCN(C(=O)[C@@H]1[C@H]3CC[C@H](C3)[C@@H]1N)C2^~~~~~~~~~~~~~~~~~~~~~COc1cc(F)c(CN)c(NC2(C(C)(C)C)CC2)c1^~~~~~~~~~~~~~~~~~~~~~~~~~~~~~~~~~~~~~~~~~~~~~~~~~~~~~~~~~~~~~~~O=C(NC(Cc1ccccc1)c1ccc(Br)cc1)C1CCC(O)CC1^~~~~~~~~~~~~~~~~~~~~~~~~~~~~~~~~~~~~~~~~~~~~~~~~~~~~~~~~~CC(C)(C)OC(=O)N[C@H](CCOC(=O)CCC1CCCN1C(=O)OC(C)(C)C)c1ccccc1^~~~~~~~~~~~~~~~~~~~~~~~~~~~~~~~~~~~~~CCOC(=O)c1oc2cc(-c3ccc(N4CC(C(=O)O)CC4=O)cc3C)ccc2c1N^~~~~~~~~~~~~~~~~~~~~~~~~~~~~~~~~~~~~~~~~~~~~~Nc1nnc(CNC(=O)c2ccc(Cl)cc2Cl)s1^~~~~~~~~~~~~~~~~~~~~~~~~~~~~~~~~~~~~~~~~~~~~~~~~~~~~~~~~~~~~~~~~~~~O=C(CCC(=O)N1CCC2(CC1)CN(c1ccc(Cl)cc1F)C(=O)O2)c1ccc(Br)cc1^~~~~~~~~~~~~~~~~~~~~~~~~~~~~~~~~~~~~~~~COc1cc(Br)c(F)cc1Nc1cccc(CCO)c1^~~~~~~~~~~~~~~~~~~~~~~~~~~~~~~~~~~~~~~~~~~~~~~~~~~~~~~~~~~~~~~~~~~~CCCCCC(N)CC(=O)OCc1cccc(OC)c1OC^~~~~~~~~~~~~~~~~~~~~~~~~~~~~~~~~~~~~~~~~~~~~~~~~~~~~~~~~~~~~~~~~~~~CC1CCCN(CC2CCN(C(=O)CN3C(=O)C(O)(CC(=O)c4ccncc4)c4ccccc43)CC2)C1^~~~~~~~~~~~~~~~~~~~~~~~~~~~~~~~~~~Cc1nc(-c2ccc(Nc3n[nH]c(CN)n3)cc2)cs1^~~~~~~~~~~~~~~~~~~~~~~~~~~~~~~~~~~~~~~~~~~~~~~~~~~~~~~~~~~~~~~COCCC1CN(C2=CC(=O)c3ccccc3C2=O)CCN1^~~~~~~~~~~~~~~~~~~~~~~~~~~~~~~~~~~~~~~~~~~~~~~~~~~~~~~~~~~~~~~~OCc1csc(-c2cc3ncn(C4CCCCC4)c3cc2F)c1^~~~~~~~~~~~~~~~~~~~~~~~~~~~~~~~~~~~~~~~~~~~~~~~~~~~~~~~~~~~~~~COc1nc(C)c(C(C)(O)C2CCCCC2=O)cc1Br^~~~~~~~~~~~~~~~~~~~~~~~~~~~~~~~~~~~~~~~~~~~~~~~~~~~~~~~~~~~~~~~~Cc1ccc(C)c(N(CCCC(=O)N(Cc2nc3ccc(Cl)cc3[nH]2)C(C)C)S(C)(=O)=O)c1^~~~~~~~~~~~~~~~~~~~~~~~~~~~~~~~~~~O=C1CCOCC1C(=O)N1CCCC1C(=O)N1CCCC1^~~~~~~~~~~~~~~~~~~~~~~~~~~~~~~~~~~~~~~~~~~~~~~~~~~~~~~~~~~~~~~~~Cc1c(F)cc(C(=O)O)cc1-c1ccnc(N2CCC(O)CC2)n1^~~~~~~~~~~~~~~~~~~~~~~~~~~~~~~~~~~~~~~~~~~~~~~~~~~~~~~~~CCOC(=O)c1ccc(N(C(=O)CCn2cc(CN3CCOCC3)c3ccccc32)c2ncccc2N)cc1^~~~~~~~~~~~~~~~~~~~~~~~~~~~~~~~~~~~~~CC(N)c1c(Cl)ccc(F)c1N1CCCCC/C1=C1/N=C(c2ccccc2)OC1=O^~~~~~~~~~~~~~~~~~~~~~~~~~~~~~~~~~~~~~~~~~~~~~~COc1ccc(S(=O)(=O)N(c2ccc(C3CCC(=O)N3)cc2)c2ccc(Cl)cc2C)cc1^~~~~~~~~~~~~~~~~~~~~~~~~~~~~~~~~~~~~~~~~Oc1ncnc2c(Br)cc(N3CCCC34CCC4)c(Cl)c12^~~~~~~~~~~~~~~~~~~~~~~~~~~~~~~~~~~~~~~~~~~~~~~~~~~~~~~~~~~~~~CC(=O)N1CCCC(C(=O)NC2(CC(=O)O)CCCCCC2)CC1^~~~~~~~~~~~~~~~~~~~~~~~~~~~~~~~~~~~~~~~~~~~~~~~~~~~~~~~~~CCOC(=O)c1cc2c(c(C(=O)N3CCN4CCOCC4C3)c1O)CCCC2^~~~~~~~~~~~~~~~~~~~~~~~~~~~~~~~~~~~~~~~~~~~~~~~~~~~~O=C(COc1ccc(Cl)cc1)Nc1noc(C(F)(F)F)n1^~~~~~~~~~~~~~~~~~~~~~~~~~~~~~~~~~~~~~~~~~~~~~~~~~~~~~~~~~~~~~Cc1ccccc1NCCN(C)C(=O)c1cnc(N2CCc3ccccc3C2)nc1C^~~~~~~~~~~~~~~~~~~~~~~~~~~~~~~~~~~~~~~~~~~~~~~~~~~~~CCCCOc1cc(F)c(NC(=O)c2ccc(-c3cccs3)nc2)c(F)c1^~~~~~~~~~~~~~~~~~~~~~~~~~~~~~~~~~~~~~~~~~~~~~~~~~~~~~Cc1c(NC2CC2(C)C)c(=O)oc2cc(O)ccc12^~~~~~~~~~~~~~~~~~~~~~~~~~~~~~~~~~~~~~~~~~~~~~~~~~~~~~~~~~~~~~~~~CC(=O)c1c(F)ccc(F)c1C(=O)N(c1ccc(Cl)c(C(=O)O)c1)S(=O)(=O)c1ccc(C)cc1^~~~~~~~~~~~~~~~~~~~~~~~~~~~~~~CC(C)(C)NC(=O)c1ccc(-c2ccn3nncc3c2)c2ccccc12^~~~~~~~~~~~~~~~~~~~~~~~~~~~~~~~~~~~~~~~~~~~~~~~~~~~~~~COC(=O)CN(c1cccc(-c2ccc(C3(C(=O)O)CCCC3)cc2)c1)S(=O)(=O)c1ccc(C)cc1^~~~~~~~~~~~~~~~~~~~~~~~~~~~~~~~CCN(C(=O)c1csc(Oc2cccc(Cl)c2)n1)[C@@H]1CCCC[C@H]1O^~~~~~~~~~~~~~~~~~~~~~~~~~~~~~~~~~~~~~~~~~~~~~~~~CCCCCC(=O)Nc1ccc(O)c(Cl)c1Cl^~~~~~~~~~~~~~~~~~~~~~~~~~~~~~~~~~~~~~~~~~~~~~~~~~~~~~~~~~~~~~~~~~~~~~~Cc1c2ncnc(Nc3cccc(C(=O)NC4(C)CCCN(C)C4)c3)c2nn1C^~~~~~~~~~~~~~~~~~~~~~~~~~~~~~~~~~~~~~~~~~~~~~~~~~~CC(N)(C(=O)c1ccc(-c2cc(CN)n[nH]2)s1)c1ccc(F)cc1^~~~~~~~~~~~~~~~~~~~~~~~~~~~~~~~~~~~~~~~~~~~~~~~~~~~CC1=NNC(=O)C(OC(=O)c2cc(-c3nccs3)on2)C12CCCCC2^~~~~~~~~~~~~~~~~~~~~~~~~~~~~~~~~~~~~~~~~~~~~~~~~~~~~Cc1nc(OC(C)(C)C)c(C(C)C)nc1NC1CC1^~~~~~~~~~~~~~~~~~~~~~~~~~~~~~~~~~~~~~~~~~~~~~~~~~~~~~~~~~~~~~~~~~CCC(=O)c1cc(O)ccc1OC(=O)C1(Oc2ccc(OC)cc2)CCCCC1^~~~~~~~~~~~~~~~~~~~~~~~~~~~~~~~~~~~~~~~~~~~~~~~~~~~COc1ncc(Nc2nc3c(Cl)cc(C)cn3n2)c(C)c1N^~~~~~~~~~~~~~~~~~~~~~~~~~~~~~~~~~~~~~~~~~~~~~~~~~~~~~~~~~~~~~COC(=O)c1nnn(-c2ccccc2OC)c1NCc1c(OC)ccc(F)c1F^~~~~~~~~~~~~~~~~~~~~~~~~~~~~~~~~~~~~~~~~~~~~~~~~~~~~~CC(F)(F)c1ccccc1N1CCC(F)(F)C(CO)C1^~~~~~~~~~~~~~~~~~~~~~~~~~~~~~~~~~~~~~~~~~~~~~~~~~~~~~~~~~~~~~~~~O=C(CNc1ccc2[nH]c3c(=S)[nH]cnc3c2c1)Nc1ccc(NC(=O)c2ccco2)cc1^~~~~~~~~~~~~~~~~~~~~~~~~~~~~~~~~~~~~~~CC(C)(C)OC(=O)N1C(=O)CC(=O)C1(C)C(C)(O)C(=O)c1ccccc1^~~~~~~~~~~~~~~~~~~~~~~~~~~~~~~~~~~~~~~~~~~~~~~Cc1cc(-c2cccc(F)c2CN(CC(=O)O)S(=O)(=O)c2ccc(Cl)cc2)nc(C)c1C#N^~~~~~~~~~~~~~~~~~~~~~~~~~~~~~~~~~~~~~CC(C)(C)OC(=O)N1CC2(CCC(OCc3csc(Cl)c3)CC2)C1^~~~~~~~~~~~~~~~~~~~~~~~~~~~~~~~~~~~~~~~~~~~~~~~~~~~~~~Cc1ccc2nc(NCCC(N)c3cccc(Br)c3)n(C)c2c1^~~~~~~~~~~~~~~~~~~~~~~~~~~~~~~~~~~~~~~~~~~~~~~~~~~~~~~~~~~~~Cn1c2ccccc2c2cc(-c3nc4ccc(C#N)cc4o3)ccc21^~~~~~~~~~~~~~~~~~~~~~~~~~~~~~~~~~~~~~~~~~~~~~~~~~~~~~~~~~CCOC(=O)c1cncc(N(c2cccc(F)c2)S(=O)(=O)c2ccc3nncn3c2)c1^~~~~~~~~~~~~~~~~~~~~~~~~~~~~~~~~~~~~~~~~~~~~CN(C)c1ccc(N2CCC(c3cc(CCO)[nH]n3)C2)cc1^~~~~~~~~~~~~~~~~~~~~~~~~~~~~~~~~~~~~~~~~~~~~~~~~~~~~~~~~~~~CCOCCOc1ccc(C(=O)c2cn(C)nc2C(F)(F)F)cc1^~~~~~~~~~~~~~~~~~~~~~~~~~~~~~~~~~~~~~~~~~~~~~~~~~~~~~~~~~~~CCOC(=O)CN1C(=O)C(CC(=O)c2ccncc2)(N(C)CC2CCN(C(C)C)CC2)c2ccccc21^~~~~~~~~~~~~~~~~~~~~~~~~~~~~~~~~~~CC(C)Oc1cc(-c2ccc(CS(C)(=O)=O)cc2Cl)ccc1C(F)(F)F^~~~~~~~~~~~~~~~~~~~~~~~~~~~~~~~~~~~~~~~~~~~~~~~~~~COc1ncnc2c1c(-c1ccc(NC(C)=O)c(C(F)(F)F)c1)cn2C^~~~~~~~~~~~~~~~~~~~~~~~~~~~~~~~~~~~~~~~~~~~~~~~~~~~~COc1cc(C)cc(-c2cnc(OCc3ccccc3)c(C)c2)c1F^~~~~~~~~~~~~~~~~~~~~~~~~~~~~~~~~~~~~~~~~~~~~~~~~~~~~~~~~~~Cn1nc(COCc2ccccc2F)c2c1CCN(C(=O)c1cn[nH]c1COc1cccc3ccccc13)C2^~~~~~~~~~~~~~~~~~~~~~~~~~~~~~~~~~~~~~Cc1nccc(CCNC(=O)c2ccc(OCc3ccccc3)cc2)n1^~~~~~~~~~~~~~~~~~~~~~~~~~~~~~~~~~~~~~~~~~~~~~~~~~~~~~~~~~~~Cc1nc(-c2ccc(-c3ccccc3)cc2)sc1-c1ncc2nccnc2n1^~~~~~~~~~~~~~~~~~~~~~~~~~~~~~~~~~~~~~~~~~~~~~~~~~~~~~COC(=O)c1ccc(-c2cc(Nc3ccc(C#N)cc3O)ccc2OC)cc1^~~~~~~~~~~~~~~~~~~~~~~~~~~~~~~~~~~~~~~~~~~~~~~~~~~~~~CN1CCCC(C)(NC(=O)c2ccc3c(c2)CNC(=O)N3)C1^~~~~~~~~~~~~~~~~~~~~~~~~~~~~~~~~~~~~~~~~~~~~~~~~~~~~~~~~~~O=C(O)c1cc(N2CCCC23CCC3)ccc1-c1ccc(Cl)cc1Cl^~~~~~~~~~~~~~~~~~~~~~~~~~~~~~~~~~~~~~~~~~~~~~~~~~~~~~~~CCCNC(=O)c1ccccc1N1CCN(CC(=O)OC)CC1^~~~~~~~~~~~~~~~~~~~~~~~~~~~~~~~~~~~~~~~~~~~~~~~~~~~~~~~~~~~~~~~N#Cc1ccc(C(NCCc2n[nH]c(=O)[nH]2)c2cccc(F)c2)cc1^~~~~~~~~~~~~~~~~~~~~~~~~~~~~~~~~~~~~~~~~~~~~~~~~~~~CN1CCN(Cc2ccc(NC(=O)c3ccc(NC(=O)c4cccc5c4ccn5C)c(N)c3)cc2)CC1^~~~~~~~~~~~~~~~~~~~~~~~~~~~~~~~~~~~~~CC(C)(C)CNC(=O)c1c(O)ccc2ccccc12^~~~~~~~~~~~~~~~~~~~~~~~~~~~~~~~~~~~~~~~~~~~~~~~~~~~~~~~~~~~~~~~~~~CN(CCc1cccc(C(=O)O)c1)c1ccc(O)cc1O^~~~~~~~~~~~~~~~~~~~~~~~~~~~~~~~~~~~~~~~~~~~~~~~~~~~~~~~~~~~~~~~~Cc1nc(-c2ccc(-c3ccccc3)cc2)sc1-c1ncccc1S(N)(=O)=O^~~~~~~~~~~~~~~~~~~~~~~~~~~~~~~~~~~~~~~~~~~~~~~~~~Cc1ccc(N(C2CCCCCCC2)S(=O)(=O)c2ccc3nncn3c2)cc1F^~~~~~~~~~~~~~~~~~~~~~~~~~~~~~~~~~~~~~~~~~~~~~~~~~~~Cc1ccc(C(=O)Nc2ccc(C)cc2-c2cccc(C(=O)N(C)C)c2)cc1^~~~~~~~~~~~~~~~~~~~~~~~~~~~~~~~~~~~~~~~~~~~~~~~~~CCOc1c(NC2(C)CCCN(C)C2)ccc(CC#N)c1F^~~~~~~~~~~~~~~~~~~~~~~~~~~~~~~~~~~~~~~~~~~~~~~~~~~~~~~~~~~~~~~~CCc1nnc2c(S(=O)(=O)N(C(=O)C(O)CC#N)c3ccc(C(C)C)cc3)cccn12^~~~~~~~~~~~~~~~~~~~~~~~~~~~~~~~~~~~~~~~~~Cc1ncc(N)n1CC(C)OCc1cccc2ccccc12^~~~~~~~~~~~~~~~~~~~~~~~~~~~~~~~~~~~~~~~~~~~~~~~~~~~~~~~~~~~~~~~~~~CN1CCN(CC2CCCN(C(=O)COC3(Cc4ccccc4)CCCCC3)C2)CC1^~~~~~~~~~~~~~~~~~~~~~~~~~~~~~~~~~~~~~~~~~~~~~~~~~~CCOc1ccc(N(CC(=O)O)S(=O)(=O)c2ccc(-c3cc(Cl)ccc3NC(C)=O)cc2)cc1^~~~~~~~~~~~~~~~~~~~~~~~~~~~~~~~~~~~~CCOC(=O)CC(Nc1ccc2c(c1)CNCCN2)c1ccc(Br)cc1C^~~~~~~~~~~~~~~~~~~~~~~~~~~~~~~~~~~~~~~~~~~~~~~~~~~~~~~~Nc1cc2ccc(-n3c(=O)cnc4ccc(Cl)cc43)cc2oc1=O^~~~~~~~~~~~~~~~~~~~~~~~~~~~~~~~~~~~~~~~~~~~~~~~~~~~~~~~~Cc1ncc(N)n1CC(C)OCCn1c(=O)[nH]c2ccccc2c1=O^~~~~~~~~~~~~~~~~~~~~~~~~~~~~~~~~~~~~~~~~~~~~~~~~~~~~~~~~CC(=O)Nc1cc(Cl)ccc1-c1ccc(S(=O)(=O)NCCc2nnc(N)s2)cc1^~~~~~~~~~~~~~~~~~~~~~~~~~~~~~~~~~~~~~~~~~~~~~~CCN(CC)C(=O)c1cc(Nc2ccc(N3CCOCC3)nc2C)c(O)c(OC)c1^~~~~~~~~~~~~~~~~~~~~~~~~~~~~~~~~~~~~~~~~~~~~~~~~~CCc1ccc(N(c2cc(Cl)ccc2CC(=O)O)S(=O)(=O)c2ccc3nncn3c2)cc1^~~~~~~~~~~~~~~~~~~~~~~~~~~~~~~~~~~~~~~~~~~CC(NC(=O)OCc1ccccc1)c1ncc(-c2nc(C(N)=O)no2)s1^~~~~~~~~~~~~~~~~~~~~~~~~~~~~~~~~~~~~~~~~~~~~~~~~~~~~~CCOc1cc(Br)ccc1C(=O)C(C)Oc1ccc(C)c(C)c1^~~~~~~~~~~~~~~~~~~~~~~~~~~~~~~~~~~~~~~~~~~~~~~~~~~~~~~~~~~~C#CC12CCC(C(=O)Oc3ccc(C(=O)O)cc3CNC(=O)OCC)(CC1)CC2^~~~~~~~~~~~~~~~~~~~~~~~~~~~~~~~~~~~~~~~~~~~~~~~COC(=O)c1ccc(N(C(=O)c2ccc(F)c(C)c2)C2CCCCC2)c(N)c1^~~~~~~~~~~~~~~~~~~~~~~~~~~~~~~~~~~~~~~~~~~~~~~~~CCOc1ccc(N(C(C)=O)S(=O)(=O)c2ccccc2N)cc1^~~~~~~~~~~~~~~~~~~~~~~~~~~~~~~~~~~~~~~~~~~~~~~~~~~~~~~~~~~COC(=O)c1ccc(OCC2COC3(CCNCC3)C2)c(C)c1C^~~~~~~~~~~~~~~~~~~~~~~~~~~~~~~~~~~~~~~~~~~~~~~~~~~~~~~~~~~~CN(CCc1noc(COc2ccc3c(c2)CCC3)n1)c1ccc(F)cc1CO^~~~~~~~~~~~~~~~~~~~~~~~~~~~~~~~~~~~~~~~~~~~~~~~~~~~~~CCc1nnc2c(S(=O)(=O)N(c3cc(F)cc(F)c3)c3cccc(C(=O)Nc4ccccc4)c3)cccn12^~~~~~~~~~~~~~~~~~~~~~~~~~~~~~~~CN1C2CCC1CN(C(=O)COc1ccc(C3CCCCC3)cc1)C2^~~~~~~~~~~~~~~~~~~~~~~~~~~~~~~~~~~~~~~~~~~~~~~~~~~~~~~~~~~Nc1cc(NC(C(=O)O)c2cccc(O)c2)ccc1Oc1ccccc1^~~~~~~~~~~~~~~~~~~~~~~~~~~~~~~~~~~~~~~~~~~~~~~~~~~~~~~~~~NCCOc1c(F)c(F)c(F)c(F)c1N(c1cccc2cccnc12)S(=O)(=O)c1ccccc1O^~~~~~~~~~~~~~~~~~~~~~~~~~~~~~~~~~~~~~~~CS(=O)(=O)N(c1ccc(C(=O)O)c(C(F)(F)F)c1)c1cc(Cl)ccc1S(=O)(=O)CC#N^~~~~~~~~~~~~~~~~~~~~~~~~~~~~~~~~~~O=C(CNC(=O)OCc1ccccc1)OCc1nc(C2CC2)cs1^~~~~~~~~~~~~~~~~~~~~~~~~~~~~~~~~~~~~~~~~~~~~~~~~~~~~~~~~~~~~C=C1C2C(OCC(=O)OC)=C(C(=O)Nc3ccccc3)C(c3ccccc32)C1(C)C^~~~~~~~~~~~~~~~~~~~~~~~~~~~~~~~~~~~~~~~~~~~~Nc1c(O)cccc1-c1cnc2c(c1)C(=O)NC(=O)C2^~~~~~~~~~~~~~~~~~~~~~~~~~~~~~~~~~~~~~~~~~~~~~~~~~~~~~~~~~~~~~CC(C)Oc1cc(-c2cnc3c(c2CO)OCCO3)ccc1C(F)(F)F^~~~~~~~~~~~~~~~~~~~~~~~~~~~~~~~~~~~~~~~~~~~~~~~~~~~~~~~C[C@](N)(Cc1ccc(O)c(O)c1)C(=O)N(Cc1ccccc1)C1CC1^~~~~~~~~~~~~~~~~~~~~~~~~~~~~~~~~~~~~~~~~~~~~~~~~~~~CCOC(=O)c1ccc(NC(=O)C2C3CC(C=C3c3cc(F)cc(F)c3F)C2C(=O)O)cc1^~~~~~~~~~~~~~~~~~~~~~~~~~~~~~~~~~~~~~~~CCOC(=O)C(C#N)c1ncc(C(F)(F)F)cc1NC1(C(C)(C)C)CC1^~~~~~~~~~~~~~~~~~~~~~~~~~~~~~~~~~~~~~~~~~~~~~~~~~~CC(C)(C)OC(=O)N[C@H](COCc1ccccc1)CC(=O)N1CCN2CCOCC2C1^~~~~~~~~~~~~~~~~~~~~~~~~~~~~~~~~~~~~~~~~~~~~~O=C(Oc1nccnc1-c1ccccc1)c1c(Cl)cnc2c1OCCO2^~~~~~~~~~~~~~~~~~~~~~~~~~~~~~~~~~~~~~~~~~~~~~~~~~~~~~~~~~O=C(Oc1ncc(C(=O)O)c(O)n1)c1ccc(C(F)(F)C(F)(F)F)cc1^~~~~~~~~~~~~~~~~~~~~~~~~~~~~~~~~~~~~~~~~~~~~~~~~OCC1CN(c2cc(O)c3c(n2)CCCO3)CCC1(F)F^~~~~~~~~~~~~~~~~~~~~~~~~~~~~~~~~~~~~~~~~~~~~~~~~~~~~~~~~~~~~~~~O=C(c1cc2cc(Br)ccc2o1)N1CCC2(CC1)CN(c1ccc(Cl)cc1F)C(=O)O2^~~~~~~~~~~~~~~~~~~~~~~~~~~~~~~~~~~~~~~~~~CC(C)(C)c1cnc(C(=O)Nc2cc(CO)ccc2N)cn1^~~~~~~~~~~~~~~~~~~~~~~~~~~~~~~~~~~~~~~~~~~~~~~~~~~~~~~~~~~~~~Nc1cccc2c(-c3ccc(Br)cc3Cc3ccc(O)cc3)ccnc12^~~~~~~~~~~~~~~~~~~~~~~~~~~~~~~~~~~~~~~~~~~~~~~~~~~~~~~~~COC(=O)C(C(=O)C1(N)CNC1)N(c1cccc(C)c1)S(=O)(=O)c1ccc(C)cc1^~~~~~~~~~~~~~~~~~~~~~~~~~~~~~~~~~~~~~~~~Cc1cccc(N(C(=O)CN)S(=O)(=O)c2ccc3nncn3c2)c1^~~~~~~~~~~~~~~~~~~~~~~~~~~~~~~~~~~~~~~~~~~~~~~~~~~~~~~~NCC(c1ccccc1)c1ccc(NCC(=O)Nc2ccc(NC(=O)c3ccco3)cc2)cc1^~~~~~~~~~~~~~~~~~~~~~~~~~~~~~~~~~~~~~~~~~~~~NC(=NC1(CC(=O)c2ccco2)C(=O)Nc2ccc(Cl)cc21)SCc1ccc(OC(F)(F)F)cc1^~~~~~~~~~~~~~~~~~~~~~~~~~~~~~~~~~~~CC(C)N(c1ccc2nc(CC(=O)O)cn2n1)c1cccc(Br)c1C#N^~~~~~~~~~~~~~~~~~~~~~~~~~~~~~~~~~~~~~~~~~~~~~~~~~~~~~CCc1ccc(N(c2cccc3ccc(=O)[nH]c23)S(=O)(=O)c2ccc3nnc(C)n3c2)cc1^~~~~~~~~~~~~~~~~~~~~~~~~~~~~~~~~~~~~~COc1ccccc1NC(=O)C1C(C(=O)Cc2cccc3scnc23)C(=O)OC12CCCCC2^~~~~~~~~~~~~~~~~~~~~~~~~~~~~~~~~~~~~~~~~~~~CCOc1c(N(CCO)C(=O)C2C(C)(C)C2(C)C)c(=O)c1=O^~~~~~~~~~~~~~~~~~~~~~~~~~~~~~~~~~~~~~~~~~~~~~~~~~~~~~~~COc1ccc(OC)c(NC(=O)CNC(=O)Cc2ccc(-c3cc(F)cc(C(=O)O)c3)cc2)c1^~~~~~~~~~~~~~~~~~~~~~~~~~~~~~~~~~~~~~~CN1C2CCC1CN(C(=O)CSc1nc[nH]n1)C2^~~~~~~~~~~~~~~~~~~~~~~~~~~~~~~~~~~~~~~~~~~~~~~~~~~~~~~~~~~~~~~~~~~CCOc1c(N(CCO)C(=O)C2C(C)(C)C2(C)C)c(=O)c1=O^~~~~~~~~~~~~~~~~~~~~~~~~~~~~~~~~~~~~~~~~~~~~~~~~~~~~~~~CCN(C(=O)c1cc(C)nc2ccccc12)[C@@H]1CCCC[C@H]1O^~~~~~~~~~~~~~~~~~~~~~~~~~~~~~~~~~~~~~~~~~~~~~~~~~~~~~COCc1ccnc(Nc2ccc(OCCNC(C)=O)c(OCCNC(C)=O)c2)c1^~~~~~~~~~~~~~~~~~~~~~~~~~~~~~~~~~~~~~~~~~~~~~~~~~~~~CCC(=O)c1cc(Cl)ccc1OC(=O)c1cn(-c2ccc(OC)c(OC)c2)c(=O)c2ccccc12^~~~~~~~~~~~~~~~~~~~~~~~~~~~~~~~~~~~~Nc1cc(Br)c(Br)cc1Nc1ccc(-c2nnsc2N)cc1^~~~~~~~~~~~~~~~~~~~~~~~~~~~~~~~~~~~~~~~~~~~~~~~~~~~~~~~~~~~~~CC(C)N(Cc1nc2ccc(Cl)cc2[nH]1)C(=O)c1cc(F)cc(-c2ncccc2F)c1^~~~~~~~~~~~~~~~~~~~~~~~~~~~~~~~~~~~~~~~~~CCCCC(CC)C(=O)Nc1cc(Br)c(F)cc1Cl^~~~~~~~~~~~~~~~~~~~~~~~~~~~~~~~~~~~~~~~~~~~~~~~~~~~~~~~~~~~~~~~~~~CCc1ccc2cc(C(=O)Oc3nc(C)nc4c(Br)c(C)nn34)[nH]c2c1^~~~~~~~~~~~~~~~~~~~~~~~~~~~~~~~~~~~~~~~~~~~~~~~~~CC(=O)n1ncc2c(C(=O)NCCC3CC3)cc(Br)cc21^~~~~~~~~~~~~~~~~~~~~~~~~~~~~~~~~~~~~~~~~~~~~~~~~~~~~~~~~~~~~CCOc1cc(OC(F)(F)F)cc(-c2cccc(CNC(=O)c3cccc(=O)[nH]3)c2)c1F^~~~~~~~~~~~~~~~~~~~~~~~~~~~~~~~~~~~~~~~~CC(C)(C)OC(=O)N1CCCC1CCC(=O)Oc1nccc2cc(C(=O)O)ccc12^~~~~~~~~~~~~~~~~~~~~~~~~~~~~~~~~~~~~~~~~~~~~~~~O=C([C@@H]1NCCc2ccccc21)N1CC(Oc2ccc(C(F)(F)F)cn2)C1^~~~~~~~~~~~~~~~~~~~~~~~~~~~~~~~~~~~~~~~~~~~~~~~CCCCCC(=O)Nc1cc(F)c(N2CCN(C(=O)OC(C)(C)C)CC2)c(F)c1^~~~~~~~~~~~~~~~~~~~~~~~~~~~~~~~~~~~~~~~~~~~~~~~Cc1ccc(CC2CCCN(c3cc([Zn]Br)cc(F)c3F)C2)nc1^~~~~~~~~~~~~~~~~~~~~~~~~~~~~~~~~~~~~~~~~~~~~~~~~~~~~~~~~CC(C)c1ccc(C2CC(=O)c3cnc(NC(=O)c4cc(=O)[nH]c5nn(CC(F)F)cc45)nc3C2)cc1^~~~~~~~~~~~~~~~~~~~~~~~~~~~~~CN(C(=O)OC(C)(C)C)c1cccc(NC(=O)CCc2csc(N)n2)c1^~~~~~~~~~~~~~~~~~~~~~~~~~~~~~~~~~~~~~~~~~~~~~~~~~~~~CC(C)(C)OC(=O)N1CCCC2(C=C(N3CCC(N4CC5CCC(C4)O5)CC3)C2)C1^~~~~~~~~~~~~~~~~~~~~~~~~~~~~~~~~~~~~~~~~~~COc1c(N2CCN(c3ccc(Cl)c(-c4ccc(N5CCN(c6ccccc6)CC5)nn4)c3)CC2)c(=O)c1=O^~~~~~~~~~~~~~~~~~~~~~~~~~~~~~Cc1cc(C(=O)O)c2cc(N3CC(O)(C4CC4)C3)c(Cl)cc2n1^~~~~~~~~~~~~~~~~~~~~~~~~~~~~~~~~~~~~~~~~~~~~~~~~~~~~~CC(C)(O)c1ccncc1NCc1nc(-c2cccc(Cl)c2)cs1^~~~~~~~~~~~~~~~~~~~~~~~~~~~~~~~~~~~~~~~~~~~~~~~~~~~~~~~~~~CCOC(=O)CC(O)(Cc1ccc(Cl)cc1Cl)C(C(C)=O)N(C(C)=O)C(C)=O^~~~~~~~~~~~~~~~~~~~~~~~~~~~~~~~~~~~~~~~~~~~~CCOc1c(NC(Cc2ccc(O)cc2)C(=O)NCC2(c3cccc(Br)c3)CC2)c(=O)c1=O^~~~~~~~~~~~~~~~~~~~~~~~~~~~~~~~~~~~~~~~COC(=O)c1nnn(-c2ccccc2F)c1Nc1cc(F)c(O)c(F)c1C^~~~~~~~~~~~~~~~~~~~~~~~~~~~~~~~~~~~~~~~~~~~~~~~~~~~~~N#Cc1ccc(N)c(-n2c3ccccc3c3cc(Br)ccc32)c1^~~~~~~~~~~~~~~~~~~~~~~~~~~~~~~~~~~~~~~~~~~~~~~~~~~~~~~~~~~CCOc1ccc(N(CC(=O)O)S(=O)(=O)c2ccc(-c3cccc(N4CCNCC4=O)c3)cc2)cc1^~~~~~~~~~~~~~~~~~~~~~~~~~~~~~~~~~~~Cc1cncc(CNCC2(N(Cc3ccccc3)Cc3ccccc3)COC2)c1^~~~~~~~~~~~~~~~~~~~~~~~~~~~~~~~~~~~~~~~~~~~~~~~~~~~~~~~Cc1cc(-c2ccc(-c3n[nH]cc3N)cc2)c2nccn2c1^~~~~~~~~~~~~~~~~~~~~~~~~~~~~~~~~~~~~~~~~~~~~~~~~~~~~~~~~~~~O=C(NC1CN(CC(F)F)C1)c1ccc2[nH]c(C(=O)O)nc2c1^~~~~~~~~~~~~~~~~~~~~~~~~~~~~~~~~~~~~~~~~~~~~~~~~~~~~~~CC1(F)CN(c2ccc(CN(CC(=O)O)S(=O)(=O)c3ccccc3)cc2)C1^~~~~~~~~~~~~~~~~~~~~~~~~~~~~~~~~~~~~~~~~~~~~~~~~COc1ccc2scc(-c3cnc4cc(F)cc(F)c4c3Br)c2c1^~~~~~~~~~~~~~~~~~~~~~~~~~~~~~~~~~~~~~~~~~~~~~~~~~~~~~~~~~~CCCC(=O)c1ccc(N[C@]23C[C@H]4C[C@H](C[C@](C)(C4)C2)C3)cc1^~~~~~~~~~~~~~~~~~~~~~~~~~~~~~~~~~~~~~~~~~~CCOC(=O)CCC(=O)c1ccc(-c2cc(CN)n[nH]2)s1^~~~~~~~~~~~~~~~~~~~~~~~~~~~~~~~~~~~~~~~~~~~~~~~~~~~~~~~~~~~CNC(=O)C1CN(C(=O)OC(C)(C)C)CCN1c1cccc([C@@H](C)NC)c1^~~~~~~~~~~~~~~~~~~~~~~~~~~~~~~~~~~~~~~~~~~~~~~CCNC(=O)c1ccccc1-c1ccc(S(=O)(=O)NCCc2nnc(N)s2)cc1^~~~~~~~~~~~~~~~~~~~~~~~~~~~~~~~~~~~~~~~~~~~~~~~~~COC(=O)c1ccc2c(c1)nc(-c1c(-c3ccc(F)cc3)csc1N)n2C1CCCCC1^~~~~~~~~~~~~~~~~~~~~~~~~~~~~~~~~~~~~~~~~~~~O=C1C=C(O)CC(c2ccc(C(=O)c3cc(C(=O)O)ccc3F)o2)C1^~~~~~~~~~~~~~~~~~~~~~~~~~~~~~~~~~~~~~~~~~~~~~~~~~~~Nc1nccc(Cl)c1C(=O)N1CC(C(=O)N2CCOCC2)C1^~~~~~~~~~~~~~~~~~~~~~~~~~~~~~~~~~~~~~~~~~~~~~~~~~~~~~~~~~~~O=C(O)c1cc2c(s1)CCN(C(=O)C(c1ccccc1)c1ccccc1)C2^~~~~~~~~~~~~~~~~~~~~~~~~~~~~~~~~~~~~~~~~~~~~~~~~~~~CC[C@@H]1CN2CC[C@H]1C[C@@H]2[C@H](NC(=O)c1cc(N)cc(C(=O)OC)c1)c1ccnc2ccc(OC)cc12^~~~~~~~~~~~~~~~~~~~Cc1cccc(CNC(=O)c2ccc(NC3C(=O)N(C)c4c3cccc4C(F)(F)F)cc2)c1^~~~~~~~~~~~~~~~~~~~~~~~~~~~~~~~~~~~~~~~~~O=C(O)c1ccc(N(c2ccc3nc(CCO)[nH]c3c2)S(=O)(=O)c2ccccc2)cc1Cl^~~~~~~~~~~~~~~~~~~~~~~~~~~~~~~~~~~~~~~~O=C(c1sc(Cl)cc1CO)C1CC1C(F)(F)F^~~~~~~~~~~~~~~~~~~~~~~~~~~~~~~~~~~~~~~~~~~~~~~~~~~~~~~~~~~~~~~~~~~~CCOC(=O)c1ccc2cc(C(=O)Nc3cc(Br)cnc3NCCO)[nH]c2n1^~~~~~~~~~~~~~~~~~~~~~~~~~~~~~~~~~~~~~~~~~~~~~~~~~~COc1cccc(Cl)c1NC(=O)COc1ccccc1^~~~~~~~~~~~~~~~~~~~~~~~~~~~~~~~~~~~~~~~~~~~~~~~~~~~~~~~~~~~~~~~~~~~~COCCC1CN(Cc2ccc(N3CCCC3)cc2)CCN1^~~~~~~~~~~~~~~~~~~~~~~~~~~~~~~~~~~~~~~~~~~~~~~~~~~~~~~~~~~~~~~~~~~CCn1nc(NC(=O)[C@@H](N)Cc2ccc(OC(C)(C)C)cc2)cc1CO^~~~~~~~~~~~~~~~~~~~~~~~~~~~~~~~~~~~~~~~~~~~~~~~~~~CC(C)(C)OC(=O)Nc1c(C(=O)c2c[nH]c3ncc(Br)cc23)[nH]c2ccccc12^~~~~~~~~~~~~~~~~~~~~~~~~~~~~~~~~~~~~~~~~CC(C(=O)c1cnn(C)c1)C(=O)C(C)C(O)c1ccc(OC(=O)c2cccc3ccccc23)cc1^~~~~~~~~~~~~~~~~~~~~~~~~~~~~~~~~~~~~CC1=CC(=O)C(C(O)[C@H]2CCCCCC[C@H]2NC(=O)OC(C)(C)C)O1^~~~~~~~~~~~~~~~~~~~~~~~~~~~~~~~~~~~~~~~~~~~~~~CC1(F)CN(c2ccc(CN(CC(=O)O)S(=O)(=O)c3ccccc3)cc2)C1^~~~~~~~~~~~~~~~~~~~~~~~~~~~~~~~~~~~~~~~~~~~~~~~~O=C(C1CC1)[C@H]1CCN(C(=O)C2(O)CCCOC2=O)C1^~~~~~~~~~~~~~~~~~~~~~~~~~~~~~~~~~~~~~~~~~~~~~~~~~~~~~~~~~CCOC(=O)c1c(C)[nH]c(C(=O)NCC(=O)Nc2ccc(NC(=O)c3ccco3)cc2)c1C^~~~~~~~~~~~~~~~~~~~~~~~~~~~~~~~~~~~~~~CC(c1cccc(NC(=O)[C@H]2CN(C(=O)OC(C)(C)C)C[C@@H]2c2cccs2)c1)S(C)(=O)=O^~~~~~~~~~~~~~~~~~~~~~~~~~~~~~CCOC(=O)c1cn2c(N3CCCC3(C(=O)O)c3ccccc3)cccc2n1^~~~~~~~~~~~~~~~~~~~~~~~~~~~~~~~~~~~~~~~~~~~~~~~~~~~~CCOc1c(Cl)ccc(C(=O)N(C)c2nc3c(s2)C(=O)c2ccccc2C3=O)c1F^~~~~~~~~~~~~~~~~~~~~~~~~~~~~~~~~~~~~~~~~~~~~N#Cc1ccc(Nc2ccc(-c3cncc(C(=O)O)c3)c(F)c2)c(O)c1^~~~~~~~~~~~~~~~~~~~~~~~~~~~~~~~~~~~~~~~~~~~~~~~~~~~O=S(=O)(NCCN1C[C@H]2C=C[C@@H]1C2)c1ccoc1^~~~~~~~~~~~~~~~~~~~~~~~~~~~~~~~~~~~~~~~~~~~~~~~~~~~~~~~~~~CC1=CC(=NCC2(N(Cc3ccccc3)Cc3ccccc3)COC2)CCC1^~~~~~~~~~~~~~~~~~~~~~~~~~~~~~~~~~~~~~~~~~~~~~~~~~~~~~~Cc1onc(O)c1-c1ccc(CN(CC(=O)O)S(=O)(=O)c2ccc(Cl)cc2)cc1Cl^~~~~~~~~~~~~~~~~~~~~~~~~~~~~~~~~~~~~~~~~~~CC(=O)Nc1cccc(OC(=O)C2(n3cccc3)CCCCC2)c1^~~~~~~~~~~~~~~~~~~~~~~~~~~~~~~~~~~~~~~~~~~~~~~~~~~~~~~~~~~CCOc1cc(Br)c(Br)c(CN(CCO)C(=O)c2ccc(-n3ccnc3)cc2)c1O^~~~~~~~~~~~~~~~~~~~~~~~~~~~~~~~~~~~~~~~~~~~~~~CNC(=O)N1CCCN(C2(CC(=O)c3cccs3)C(=O)N(C(C)C)c3ccccc32)CC1^~~~~~~~~~~~~~~~~~~~~~~~~~~~~~~~~~~~~~~~~~CC(C)c1ccc(C(N)CC(=O)N[C@@H]2CC[C@H](O)C2)cc1^~~~~~~~~~~~~~~~~~~~~~~~~~~~~~~~~~~~~~~~~~~~~~~~~~~~~~CCc1ccc(N(C(=O)c2cc(O)c3c(c2)OC(C)(C)C3)c2nc(C)c(CC)c(=O)[nH]2)cc1^~~~~~~~~~~~~~~~~~~~~~~~~~~~~~~~~Cc1c(Br)ccc(C(=O)Nc2cc(CCCO)cnc2C#N)c1F^~~~~~~~~~~~~~~~~~~~~~~~~~~~~~~~~~~~~~~~~~~~~~~~~~~~~~~~~~~~CC(=O)Nc1ccc(-c2cccc(N(CCCC(=O)O)S(C)(=O)=O)c2)c(F)c1^~~~~~~~~~~~~~~~~~~~~~~~~~~~~~~~~~~~~~~~~~~~~~CC(=O)c1ccc(N2CCN(C3(CC(=O)c4ccc5c(c4)OCCO5)C(=O)N(C)c4ccccc43)CC2)cc1^~~~~~~~~~~~~~~~~~~~~~~~~~~~~COC(=O)C1(NC(=O)C2CCC(O)CC2)COC(C)C2CN3CCc4c([nH]c5ccccc45)C3CC21^~~~~~~~~~~~~~~~~~~~~~~~~~~~~~~~~~CCOC(=O)CNc1ccc(F)c(-c2cc(C(=O)O)cc(F)c2C)c1^~~~~~~~~~~~~~~~~~~~~~~~~~~~~~~~~~~~~~~~~~~~~~~~~~~~~~~COC(=O)c1snc(-c2cccc(OC)c2)c1Nc1nc(C(F)(F)F)ccc1S(N)(=O)=O^~~~~~~~~~~~~~~~~~~~~~~~~~~~~~~~~~~~~~~~~N#Cc1ccc(N)c(Nc2ccn(Cc3ccc(C(=O)O)o3)n2)c1^~~~~~~~~~~~~~~~~~~~~~~~~~~~~~~~~~~~~~~~~~~~~~~~~~~~~~~~~CC1Cc2ccc(N3CCN(C(=O)c4cc5ccccc5n4C)CC3)cc2C1=O^~~~~~~~~~~~~~~~~~~~~~~~~~~~~~~~~~~~~~~~~~~~~~~~~~~~Cc1nc(Nc2cc(Cl)cc(-c3cncc(C4CCCN4)c3)c2)[nH]c(=O)c1C^~~~~~~~~~~~~~~~~~~~~~~~~~~~~~~~~~~~~~~~~~~~~~~O=C(CNC(=O)c1cc2cc(F)ccc2[nH]1)Nc1ccc(NC(=O)c2ccco2)cc1^~~~~~~~~~~~~~~~~~~~~~~~~~~~~~~~~~~~~~~~~~~~O=C(c1ccccc1S(=O)(=O)C1CCNCC1)N1CCC2(CC1)CN(c1ccc(Cl)cc1F)C(=O)O2^~~~~~~~~~~~~~~~~~~~~~~~~~~~~~~~~~COC(=O)C(C)(C(=O)CN1C(=O)N(C)Cc2ccccc21)N(c1ccc(OC)cc1)S(C)(=O)=O^~~~~~~~~~~~~~~~~~~~~~~~~~~~~~~~~~O=C(Nc1cc(=O)[nH]c(NC2CCCCC2)n1)c1cc(Cl)cc(Cl)c1^~~~~~~~~~~~~~~~~~~~~~~~~~~~~~~~~~~~~~~~~~~~~~~~~~~COC(=O)c1ccc(N2CCOCC2)c(-c2cccc(O)c2)c1^~~~~~~~~~~~~~~~~~~~~~~~~~~~~~~~~~~~~~~~~~~~~~~~~~~~~~~~~~~~CCc1sc(C(=O)Nc2nc(C)cc(COC)n2)c(N)c1C#N^~~~~~~~~~~~~~~~~~~~~~~~~~~~~~~~~~~~~~~~~~~~~~~~~~~~~~~~~~~~O=C(NCC(=O)N1CCC(COc2ccc(C(=O)N3CCOCC3)cc2)CC1)c1ccc(F)cc1^~~~~~~~~~~~~~~~~~~~~~~~~~~~~~~~~~~~~~~~~Cc1cc(C(=O)OC2CCC(C#N)CC2)ccc1N(C)S(C)(=O)=O^~~~~~~~~~~~~~~~~~~~~~~~~~~~~~~~~~~~~~~~~~~~~~~~~~~~~~~Cn1nc(-c2ccc(Br)cc2)cc1C(=O)N1CCc2c(c(COCc3ccccc3F)nn2C)C1^~~~~~~~~~~~~~~~~~~~~~~~~~~~~~~~~~~~~~~~~CSc1nc(NC(C)C)cc(N(c2ccc(C(=O)O)c(C(F)(F)F)c2)S(C)(=O)=O)n1^~~~~~~~~~~~~~~~~~~~~~~~~~~~~~~~~~~~~~~~CC(C)C(N)C(=O)Nc1noc(C(F)(F)F)n1^~~~~~~~~~~~~~~~~~~~~~~~~~~~~~~~~~~~~~~~~~~~~~~~~~~~~~~~~~~~~~~~~~~COc1ccc(C(C)Nc2nnc(Oc3ccc(C#N)cc3)s2)c(F)c1^~~~~~~~~~~~~~~~~~~~~~~~~~~~~~~~~~~~~~~~~~~~~~~~~~~~~~~~CCCCSc1ccccc1C(=O)OC1(CC(=O)c2ccco2)C(=O)N(C)c2ccccc21^~~~~~~~~~~~~~~~~~~~~~~~~~~~~~~~~~~~~~~~~~~~~CCOc1cccc(C(=O)N[C@H](CN(C)C)c2ccccc2)c1F^~~~~~~~~~~~~~~~~~~~~~~~~~~~~~~~~~~~~~~~~~~~~~~~~~~~~~~~~~c1ccc(-c2ncc(CCc3cncc4ccccc34)s2)cc1^~~~~~~~~~~~~~~~~~~~~~~~~~~~~~~~~~~~~~~~~~~~~~~~~~~~~~~~~~~~~~~CN(C)CCNS(=O)(=O)c1ccc(N(CCN)Cc2nc(C3CC3)cs2)c2nonc12^~~~~~~~~~~~~~~~~~~~~~~~~~~~~~~~~~~~~~~~~~~~~~COc1ccc(CC(N)C(=O)Nc2ccc(OC3COC3)c(OC)c2)cc1^~~~~~~~~~~~~~~~~~~~~~~~~~~~~~~~~~~~~~~~~~~~~~~~~~~~~~~CCCCCn1c(COC(=O)CCCN(c2cccc(Cl)c2C)S(C)(=O)=O)cnc1S(C)(=O)=O^~~~~~~~~~~~~~~~~~~~~~~~~~~~~~~~~~~~~~~Cc1ccc(S(=O)(=O)N(CC(=O)N2CC(O)(C3CC3)C2)c2cc(Cl)ccc2C)cc1^~~~~~~~~~~~~~~~~~~~~~~~~~~~~~~~~~~~~~~~~Nc1nnc(SCc2cc(Cl)ccc2-c2ccncc2)s1^~~~~~~~~~~~~~~~~~~~~~~~~~~~~~~~~~~~~~~~~~~~~~~~~~~~~~~~~~~~~~~~~~CC(O)c1ccc2c(c1)CN(Cc1ccc(F)cc1OC(F)(F)F)CCO2^~~~~~~~~~~~~~~~~~~~~~~~~~~~~~~~~~~~~~~~~~~~~~~~~~~~~~COC(=O)C1NCCc2cc(Oc3nc(C)nc4c(Br)c(C)nn34)ccc21^~~~~~~~~~~~~~~~~~~~~~~~~~~~~~~~~~~~~~~~~~~~~~~~~~~~CCN(c1cc(-c2cccc(C(=O)OC)c2)ccc1C#N)S(=O)(=O)c1ccc2c(c1)c(=O)n(C)c(=O)n2C^~~~~~~~~~~~~~~~~~~~~~~~~~CC[C@]12C=CC3=C4CCC(=O)C=C4CC[C@H]3[C@@H]1CC[C@@]2(O)C#Cc1cc(CO)cs1^~~~~~~~~~~~~~~~~~~~~~~~~~~~~~~~O=[Se](O)c1ccc(-c2cc3ncnc(O)c3s2)cc1^~~~~~~~~~~~~~~~~~~~~~~~~~~~~~~~~~~~~~~~~~~~~~~~~~~~~~~~~~~~~~~CCc1cc(C(=O)Nc2nc(C)cc(COC)n2)c(NC(=O)c2ccccc2)s1^~~~~~~~~~~~~~~~~~~~~~~~~~~~~~~~~~~~~~~~~~~~~~~~~~Cc1c(CO)[nH]c2ccc(N(c3cccc(Br)c3C#N)C3CC3)cc12^~~~~~~~~~~~~~~~~~~~~~~~~~~~~~~~~~~~~~~~~~~~~~~~~~~~~Cc1ccn2c(Br)c(C(=O)NC(CC(=O)O)C(C)(C)C)nc2c1^~~~~~~~~~~~~~~~~~~~~~~~~~~~~~~~~~~~~~~~~~~~~~~~~~~~~~~Cc1ccc(OCc2cnc(C)c(F)c2)c2c1CCC2=O^~~~~~~~~~~~~~~~~~~~~~~~~~~~~~~~~~~~~~~~~~~~~~~~~~~~~~~~~~~~~~~~~COC(=O)c1sc2ccc(Br)cc2c1NC(=O)[C@H](COC(C)(C)C)NC(C)=O^~~~~~~~~~~~~~~~~~~~~~~~~~~~~~~~~~~~~~~~~~~~~CSc1ccc(C(=O)C(C)(C)N(CCO)CCc2ccc3ncc4c(c3c2)CCCC4)cc1^~~~~~~~~~~~~~~~~~~~~~~~~~~~~~~~~~~~~~~~~~~~~COc1cccc(-c2cc(C(F)(F)F)n3ncc(C(=O)Nc4cncc(N)n4)c3n2)c1^~~~~~~~~~~~~~~~~~~~~~~~~~~~~~~~~~~~~~~~~~~~Cc1cc(N2CCc3c(c(-c4nc(-c5ccccc5)no4)nn3C)C2)n(-c2ccccc2)n1^~~~~~~~~~~~~~~~~~~~~~~~~~~~~~~~~~~~~~~~~Cc1[nH]c2ccc(C(=O)c3ccc(C4CC(=O)C=C(O)C4)o3)cc2c1C^~~~~~~~~~~~~~~~~~~~~~~~~~~~~~~~~~~~~~~~~~~~~~~~~CC(C)c1ccc(C(=O)c2nccn2C(C)(C)C)cc1^~~~~~~~~~~~~~~~~~~~~~~~~~~~~~~~~~~~~~~~~~~~~~~~~~~~~~~~~~~~~~~~CC(=O)c1c(F)c(F)c(F)c(-c2cc3nnnn3c3ccccc23)c1F^~~~~~~~~~~~~~~~~~~~~~~~~~~~~~~~~~~~~~~~~~~~~~~~~~~~~COc1ccc(F)c(CC(=O)OCc2cnc(C)c(F)c2)c1F^~~~~~~~~~~~~~~~~~~~~~~~~~~~~~~~~~~~~~~~~~~~~~~~~~~~~~~~~~~~~CCC(=O)c1cc(-c2ccc3c(c2)ncn3CCNC(=O)OC(C)(C)C)ccc1O^~~~~~~~~~~~~~~~~~~~~~~~~~~~~~~~~~~~~~~~~~~~~~~~CC(C)(C)CNC(=O)Cc1ccc(Br)cc1^~~~~~~~~~~~~~~~~~~~~~~~~~~~~~~~~~~~~~~~~~~~~~~~~~~~~~~~~~~~~~~~~~~~~~~COc1ccc(C2=NOC(C)(C(=O)c3c(CO)c4cc(C)cnc4n3C(=O)OC(C)(C)C)C2)cc1^~~~~~~~~~~~~~~~~~~~~~~~~~~~~~~~~~~CCNc1ncc(C)cc1NC(=O)C[C@@H](C)C(=O)O^~~~~~~~~~~~~~~~~~~~~~~~~~~~~~~~~~~~~~~~~~~~~~~~~~~~~~~~~~~~~~~N#Cc1cc(NC(=O)c2cc(Cl)cc(CO)c2)cc(F)c1F^~~~~~~~~~~~~~~~~~~~~~~~~~~~~~~~~~~~~~~~~~~~~~~~~~~~~~~~~~~~COc1ccc(-c2cc(C)nc3cc(Cl)c(F)cc23)c2cccnc12^~~~~~~~~~~~~~~~~~~~~~~~~~~~~~~~~~~~~~~~~~~~~~~~~~~~~~~~CCOc1c(Nc2cc(Br)c(Br)cc2N)cc(C(=O)O)cc1OC^~~~~~~~~~~~~~~~~~~~~~~~~~~~~~~~~~~~~~~~~~~~~~~~~~~~~~~~~~Cc1ccc(Cl)c(-c2ccc(NC(=O)c3c(C4COc5ccccc5O4)csc3N)nc2)c1^~~~~~~~~~~~~~~~~~~~~~~~~~~~~~~~~~~~~~~~~~~COc1ccc(C(=O)O)cc1NC(=S)NC(=O)c1ccc(Cl)c(Nc2[nH]nc(C)c2C(C)=O)c1^~~~~~~~~~~~~~~~~~~~~~~~~~~~~~~~~~~Cc1nc(-c2ccc(CS(=O)(=O)N3CCCC(C(=O)O)C3)cc2)nn1C^~~~~~~~~~~~~~~~~~~~~~~~~~~~~~~~~~~~~~~~~~~~~~~~~~~Cc1csc(Nc2ccc(N(CC(=O)O)S(C)(=O)=O)cc2C(F)(F)F)c1^~~~~~~~~~~~~~~~~~~~~~~~~~~~~~~~~~~~~~~~~~~~~~~~~~COC(=O)C(N)c1ccc(N(C(=O)c2cccc(F)c2)C2(C(=O)O)CCCCCC2)cc1^~~~~~~~~~~~~~~~~~~~~~~~~~~~~~~~~~~~~~~~~~CC1(C)CC1NCC(O)COC(F)(F)C(F)Cl^~~~~~~~~~~~~~~~~~~~~~~~~~~~~~~~~~~~~~~~~~~~~~~~~~~~~~~~~~~~~~~~~~~~~Cc1ccc(OCc2ccc(C(=O)N3CC(C(=O)N4CCOCC4)C3)o2)c(N)c1^~~~~~~~~~~~~~~~~~~~~~~~~~~~~~~~~~~~~~~~~~~~~~~~COc1cc(CCOC(=O)c2ccc3c(ccn3C(C)C)c2)ccc1O^~~~~~~~~~~~~~~~~~~~~~~~~~~~~~~~~~~~~~~~~~~~~~~~~~~~~~~~~~Cc1cccc(NC(=O)c2ccccc2-c2ccc(Br)c(CC(=O)O)c2)c1C^~~~~~~~~~~~~~~~~~~~~~~~~~~~~~~~~~~~~~~~~~~~~~~~~~~COC(=O)c1ccc(NC2CCCCC2)c(NC(=O)CCC(=O)N2CCc3ccccc32)c1^~~~~~~~~~~~~~~~~~~~~~~~~~~~~~~~~~~~~~~~~~~~~Oc1ncnc2c(Br)cc(N3CCCC34CCC4)c(Cl)c12^~~~~~~~~~~~~~~~~~~~~~~~~~~~~~~~~~~~~~~~~~~~~~~~~~~~~~~~~~~~~~COc1ccc(CNc2ncc(Br)cc2NC(CN)c2ccccc2F)cc1^~~~~~~~~~~~~~~~~~~~~~~~~~~~~~~~~~~~~~~~~~~~~~~~~~~~~~~~~~CCOC(=O)n1nc(-c2ccc(Cl)cc2)cc1NC(c1ccccc1)C1CC1^~~~~~~~~~~~~~~~~~~~~~~~~~~~~~~~~~~~~~~~~~~~~~~~~~~~CN(C(=O)OC(C)(C)C)c1cccc(NC(=O)c2cncc(Br)c2N)c1^~~~~~~~~~~~~~~~~~~~~~~~~~~~~~~~~~~~~~~~~~~~~~~~~~~~Cc1cc(-c2ncc(Br)cc2S(N)(=O)=O)c2cc(F)c(Cl)cc2n1^~~~~~~~~~~~~~~~~~~~~~~~~~~~~~~~~~~~~~~~~~~~~~~~~~~~O=C(CNc1ccc(C(=O)c2cccc(F)c2)cc1)Nc1ccc(NC(=O)c2ccco2)cc1^~~~~~~~~~~~~~~~~~~~~~~~~~~~~~~~~~~~~~~~~~CCOc1cc(OC(F)(F)F)cc(-c2cccc(Cl)c2NC(=O)c2ccccc2N)c1F^~~~~~~~~~~~~~~~~~~~~~~~~~~~~~~~~~~~~~~~~~~~~~OCCCCCNc1nnc(SCc2ccccc2)s1^~~~~~~~~~~~~~~~~~~~~~~~~~~~~~~~~~~~~~~~~~~~~~~~~~~~~~~~~~~~~~~~~~~~~~~~~CCC1NC(C(=O)N(c2ccc(OC)cc2)S(=O)(=O)c2ccc3nnc(C)n3c2)Cc2c1[nH]c1ccccc21^~~~~~~~~~~~~~~~~~~~~~~~~~~~COC(=O)c1ccc2c(c1-c1c(C)ccc(O)c1N)CCN(Cc1ccccc1)C2^~~~~~~~~~~~~~~~~~~~~~~~~~~~~~~~~~~~~~~~~~~~~~~~~N#Cc1ncc(CCCO)cc1NC(=O)[C@@H]1CCCN1C(=O)OCc1ccccc1^~~~~~~~~~~~~~~~~~~~~~~~~~~~~~~~~~~~~~~~~~~~~~~~~CCCc1c(C)sc(N)c1C(=O)N1CCC(CN2CCCC(C)C2)CC1^~~~~~~~~~~~~~~~~~~~~~~~~~~~~~~~~~~~~~~~~~~~~~~~~~~~~~~~CN(C(=O)c1ccc(-c2cc(Br)c(Cl)c3c(O)ncnc23)cc1)c1ccccc1^~~~~~~~~~~~~~~~~~~~~~~~~~~~~~~~~~~~~~~~~~~~~~CC1(C(=O)Nc2ccc(-c3nc(Cn4cccn4)n[nH]3)cc2)CNC1^~~~~~~~~~~~~~~~~~~~~~~~~~~~~~~~~~~~~~~~~~~~~~~~~~~~~Cc1cc(F)cc(NC(=S)OC(=O)c2ccc(N(Cc3ccccc3)S(C)(=O)=O)cc2)c1^~~~~~~~~~~~~~~~~~~~~~~~~~~~~~~~~~~~~~~~~Cc1nc(OC(=O)Cc2c(Cl)cnn2C(C)C)n2nc(C)c(Br)c2n1^~~~~~~~~~~~~~~~~~~~~~~~~~~~~~~~~~~~~~~~~~~~~~~~~~~~~COC(=O)c1ccc(N(C(=O)c2ccc(F)c(C)c2)C2CCCCC2)c(N)c1^~~~~~~~~~~~~~~~~~~~~~~~~~~~~~~~~~~~~~~~~~~~~~~~~COc1cccc(C2(c3nc4ccc(C#N)cc4o3)CCOCC2)c1^~~~~~~~~~~~~~~~~~~~~~~~~~~~~~~~~~~~~~~~~~~~~~~~~~~~~~~~~~~COC(=O)c1ccccc1-c1cccc(C(=O)N(c2ccc(C(=O)O)c(C(F)(F)F)c2)S(C)(=O)=O)c1^~~~~~~~~~~~~~~~~~~~~~~~~~~~~O=c1[nH]c2ccc(Nc3nc(O)c4nccnc4n3)cc2c(=O)o1^~~~~~~~~~~~~~~~~~~~~~~~~~~~~~~~~~~~~~~~~~~~~~~~~~~~~~~~CCCCCN1CC(Oc2ccc(F)c(F)c2)C1^~~~~~~~~~~~~~~~~~~~~~~~~~~~~~~~~~~~~~~~~~~~~~~~~~~~~~~~~~~~~~~~~~~~~~~CCOC(=O)c1c(NC(=O)c2ccccc2Cl)sc2c1CCCC2(O)C1=C(C)OCC1=O^~~~~~~~~~~~~~~~~~~~~~~~~~~~~~~~~~~~~~~~~~~~Cc1ccc(CNCc2ccc(NC3CN(C(C)(C)C)C3)cc2)cc1^~~~~~~~~~~~~~~~~~~~~~~~~~~~~~~~~~~~~~~~~~~~~~~~~~~~~~~~~~COc1cccc(F)c1N(C)C(=O)c1cccc(-c2cc(C(F)(F)F)cc(N(C)C)n2)c1^~~~~~~~~~~~~~~~~~~~~~~~~~~~~~~~~~~~~~~~~COC(=O)C(C(=O)C(N)c1ccncc1)N(c1cc(Cl)ccc1C)S(=O)(=O)c1ccc(C)cc1^~~~~~~~~~~~~~~~~~~~~~~~~~~~~~~~~~~~CC(C)(C)OC(=O)N1CCCC1CCC(=O)Oc1nccc2cc(C(=O)O)ccc12^~~~~~~~~~~~~~~~~~~~~~~~~~~~~~~~~~~~~~~~~~~~~~~~CCOc1cc(Br)ccc1-c1cccc(NC(=O)c2ccccc2OC)c1^~~~~~~~~~~~~~~~~~~~~~~~~~~~~~~~~~~~~~~~~~~~~~~~~~~~~~~~~CCc1nnc2c(S(=O)(=O)N(c3cc(F)cc(F)c3)c3cc(C(=O)OC)cc4nn[nH]c34)cccn12^~~~~~~~~~~~~~~~~~~~~~~~~~~~~~~Cc1nnc2ccc(S(=O)(=O)Nc3ccc(-c4cc(CO)cs4)cc3)cn12^~~~~~~~~~~~~~~~~~~~~~~~~~~~~~~~~~~~~~~~~~~~~~~~~~~c1cnc(NCC2COC3(CCNCC3)C2)c(NC2CCCCC2)c1^~~~~~~~~~~~~~~~~~~~~~~~~~~~~~~~~~~~~~~~~~~~~~~~~~~~~~~~~~~~CCCCCC(N)CC(=O)N1CCCC1c1nc2ccccc2n1CC^~~~~~~~~~~~~~~~~~~~~~~~~~~~~~~~~~~~~~~~~~~~~~~~~~~~~~~~~~~~~~CCOC(=O)c1sc2[nH]cc(C(=O)N3CCN(C(=O)OC(C)(C)C)[C@H](CCOC)C3)c(=O)c2c1C^~~~~~~~~~~~~~~~~~~~~~~~~~~~~NC(=O)Cc1ncc(C(F)(F)F)cc1N(c1ccc(F)cc1)c1nc2c(s1)C(=O)c1ccccc1C2=O^~~~~~~~~~~~~~~~~~~~~~~~~~~~~~~~~COc1ccc(-c2ccc(-c3nc4cc(N)ccc4o3)cc2)c(N(CC(=O)O)S(C)(=O)=O)c1^~~~~~~~~~~~~~~~~~~~~~~~~~~~~~~~~~~~~O=C(O)C1CCN(S(=O)(=O)Cc2ccc(Cl)c(N3CC(O)(C4CC4)C3)c2)CC1^~~~~~~~~~~~~~~~~~~~~~~~~~~~~~~~~~~~~~~~~~~COc1ccc(C(=O)O)cc1NC(=S)NC(=O)c1ccc(Cl)c(Nc2[nH]nc(C)c2C(C)=O)c1^~~~~~~~~~~~~~~~~~~~~~~~~~~~~~~~~~~COc1cccc(OC)c1-c1cc(OC(=O)CC2CCN(C(=O)OC(C)(C)C)CC2(F)F)on1^~~~~~~~~~~~~~~~~~~~~~~~~~~~~~~~~~~~~~~~Cc1ccc(NC(=O)c2cc(F)cc(-c3cccc4c3CC(=O)N4)c2)c(Br)c1^~~~~~~~~~~~~~~~~~~~~~~~~~~~~~~~~~~~~~~~~~~~~~~COC(=O)C(C(=O)CCCCCO)N(c1cc(Cl)ccc1C)S(=O)(=O)c1ccc(C)cc1^~~~~~~~~~~~~~~~~~~~~~~~~~~~~~~~~~~~~~~~~~Cc1ccc(C(F)(F)F)c(COC(=O)CCC2CCCN2C(=O)OC(C)(C)C)c1^~~~~~~~~~~~~~~~~~~~~~~~~~~~~~~~~~~~~~~~~~~~~~~~Cc1ncc(N)n1CC(C)OCc1ccc(F)c(F)c1^~~~~~~~~~~~~~~~~~~~~~~~~~~~~~~~~~~~~~~~~~~~~~~~~~~~~~~~~~~~~~~~~~~Cc1nc2c(C)cccc2c(-n2cccn2)c1Br^~~~~~~~~~~~~~~~~~~~~~~~~~~~~~~~~~~~~~~~~~~~~~~~~~~~~~~~~~~~~~~~~~~~~CCOC(=O)[C@@H]1[C@H]2CCC[C@H]2CN1CC(=O)N1CCN(c2cncnc2)CC1^~~~~~~~~~~~~~~~~~~~~~~~~~~~~~~~~~~~~~~~~~Cc1ccc(C(=O)Nc2ccc(C)cc2-c2ccc3c(c2)CCN3S(C)(=O)=O)cc1^~~~~~~~~~~~~~~~~~~~~~~~~~~~~~~~~~~~~~~~~~~~~CNc1nc2ncc(-c3ccccc3CSC(=N)N)cc2cc1C#N^~~~~~~~~~~~~~~~~~~~~~~~~~~~~~~~~~~~~~~~~~~~~~~~~~~~~~~~~~~~~CCOC(=O)C1(C(=O)[C@@H]2CNC(=O)CN2C(=O)OC(C)(C)C)CCCN(C(C)C)C1^~~~~~~~~~~~~~~~~~~~~~~~~~~~~~~~~~~~~~CC(=O)c1ccccc1OCC(=O)N(c1ccc2c(c1)OCCO2)S(=O)(=O)c1ccc2nncn2c1^~~~~~~~~~~~~~~~~~~~~~~~~~~~~~~~~~~~~CCN(CC)C(=O)c1cc(Nc2ccc([C@H]3SC[C@@H](C(=O)O)N3C(C)=O)cc2)c(O)c(OC)c1^~~~~~~~~~~~~~~~~~~~~~~~~~~~~N#Cc1ccc(NC(=O)c2ccccc2SCc2ccc(F)cc2)c(C(=O)O)c1^~~~~~~~~~~~~~~~~~~~~~~~~~~~~~~~~~~~~~~~~~~~~~~~~~~CCOc1c(NC2(CC(=O)OCCOCCOC)CCCC2)c(=O)c1=O^~~~~~~~~~~~~~~~~~~~~~~~~~~~~~~~~~~~~~~~~~~~~~~~~~~~~~~~~~O=C(CC1(n2ncc(C(=O)O)c2Cc2cccc(F)c2)C(=O)Nc2ccc(Cl)cc21)c1ccco1^~~~~~~~~~~~~~~~~~~~~~~~~~~~~~~~~~~~N#Cc1ncc(CCCO)cc1NC(=O)[C@H](CC(=O)O)NC(=O)OCc1ccccc1^~~~~~~~~~~~~~~~~~~~~~~~~~~~~~~~~~~~~~~~~~~~~~CCc1nnc2c(S(=O)(=O)N(C(=O)C(O)CC#N)c3ccc(C(C)C)cc3)cccn12^~~~~~~~~~~~~~~~~~~~~~~~~~~~~~~~~~~~~~~~~~Nc1nnc(CCNS(=O)(=O)c2ccc(-c3ccc4c(F)cccc4n3)cc2)s1^~~~~~~~~~~~~~~~~~~~~~~~~~~~~~~~~~~~~~~~~~~~~~~~~CCOC(=O)c1sc(N)c(C(=O)N[C@@H]2CC[C@H](O)C2)c1C^~~~~~~~~~~~~~~~~~~~~~~~~~~~~~~~~~~~~~~~~~~~~~~~~~~~~CCOc1ccc(N(CC(=O)O)S(=O)(=O)c2ccc(-c3cc(C(=O)OC)n(C)c3)cc2)cc1^~~~~~~~~~~~~~~~~~~~~~~~~~~~~~~~~~~~~Cc1cn(C)nc1C(=O)Nc1ncc2c(n1)CC(c1ccc(C(C)C)cc1)CC2=O^~~~~~~~~~~~~~~~~~~~~~~~~~~~~~~~~~~~~~~~~~~~~~~Cc1ccccc1CN(c1ccc(-c2cc(C(=O)C(F)(F)F)ccc2F)cc1)S(C)(=O)=O^~~~~~~~~~~~~~~~~~~~~~~~~~~~~~~~~~~~~~~~~CC(C)(C)OC(=O)NC(CC(F)(F)F)C(=O)N1CCCC(CCN2CCCc3ccccc32)C1^~~~~~~~~~~~~~~~~~~~~~~~~~~~~~~~~~~~~~~~~Cc1ccc(OC(F)(F)F)cc1CC(NC(=O)[C@@H]1CC=C[C@@H]1N)C(=O)O^~~~~~~~~~~~~~~~~~~~~~~~~~~~~~~~~~~~~~~~~~~~CS(=O)(=O)N(c1ccc(C(=O)O)c(C(F)(F)F)c1)c1cnc2cccc(Br)c2n1^~~~~~~~~~~~~~~~~~~~~~~~~~~~~~~~~~~~~~~~~~Cc1cc(NC(=O)c2cccs2)c(-n2ncc3ccc(C(=O)O)cc32)cc1C^~~~~~~~~~~~~~~~~~~~~~~~~~~~~~~~~~~~~~~~~~~~~~~~~~Oc1ccc(O)c(-c2cc(Br)c(Cl)c3c(O)ncnc23)c1^~~~~~~~~~~~~~~~~~~~~~~~~~~~~~~~~~~~~~~~~~~~~~~~~~~~~~~~~~~Cc1ccc2nc(N(C)Cc3nn(C)cc3Cl)cc(Cl)c2c1^~~~~~~~~~~~~~~~~~~~~~~~~~~~~~~~~~~~~~~~~~~~~~~~~~~~~~~~~~~~~CC(=O)c1cc(F)cnc1N1CC(Oc2ccc(F)c(F)c2)C1^~~~~~~~~~~~~~~~~~~~~~~~~~~~~~~~~~~~~~~~~~~~~~~~~~~~~~~~~~~COC(=O)c1c[nH]c(=O)c(Nc2cc(F)c(Br)cc2OC)c1^~~~~~~~~~~~~~~~~~~~~~~~~~~~~~~~~~~~~~~~~~~~~~~~~~~~~~~~~Cc1cccc(N(C(=O)c2c(C)nc(C)nc2C)S(=O)(=O)c2ccc3nncn3c2)c1^~~~~~~~~~~~~~~~~~~~~~~~~~~~~~~~~~~~~~~~~~~Cc1nc(C(=O)O)ccc1Nc1ncc(Cl)cc1S(=O)(=O)N1CCOCC1^~~~~~~~~~~~~~~~~~~~~~~~~~~~~~~~~~~~~~~~~~~~~~~~~~~~CSc1cccc(NC(=O)Cn2nncc2CCCCNC(=O)OC(C)(C)C)c1^~~~~~~~~~~~~~~~~~~~~~~~~~~~~~~~~~~~~~~~~~~~~~~~~~~~~~CC(=O)Nc1ccc(Oc2ccccc2C)cc1C(F)(F)F^~~~~~~~~~~~~~~~~~~~~~~~~~~~~~~~~~~~~~~~~~~~~~~~~~~~~~~~~~~~~~~~CS(=O)(=O)N(CC(=O)O)c1ccc(Nc2ccc(N3CCCC3=O)cc2N2CCCC2=O)cc1^~~~~~~~~~~~~~~~~~~~~~~~~~~~~~~~~~~~~~~~CC(C(=O)Nc1nc(N)c(N)c(=O)[nH]1)c1ccccc1^~~~~~~~~~~~~~~~~~~~~~~~~~~~~~~~~~~~~~~~~~~~~~~~~~~~~~~~~~~~O=C(Oc1cc(O)ccc1C(=O)O)c1cc(-c2nccs2)on1^~~~~~~~~~~~~~~~~~~~~~~~~~~~~~~~~~~~~~~~~~~~~~~~~~~~~~~~~~~COc1ccc(OC)c(NC(=O)CNC(=O)CC(C(=O)OC(C)C)N2CCCCC2)c1^~~~~~~~~~~~~~~~~~~~~~~~~~~~~~~~~~~~~~~~~~~~~~~COC(=O)C1=C(CNC2=C(C#N)c3ccccc3C2)NC(=O)NC1c1ccc(C)cc1^~~~~~~~~~~~~~~~~~~~~~~~~~~~~~~~~~~~~~~~~~~~~C#CC[C@@H]1CCN(C(=O)OC(C)(C)C)[C@@H]1C(=O)O[C@H](C(=O)O)[C@@H](C)CC^~~~~~~~~~~~~~~~~~~~~~~~~~~~~~~~COc1cc(Br)c(F)cc1Nc1ccc(Sc2c(CO)c(C(F)(F)F)nn2C)cc1^~~~~~~~~~~~~~~~~~~~~~~~~~~~~~~~~~~~~~~~~~~~~~~~CCC(C(=O)O)N(c1ccc(F)c(-c2cc(C)cc(OC)c2F)c1)S(C)(=O)=O^~~~~~~~~~~~~~~~~~~~~~~~~~~~~~~~~~~~~~~~~~~~~CC(=O)NCCNC1(CC(=O)Nc2ccc(-c3cc(C)ccc3Cl)cn2)COC1^~~~~~~~~~~~~~~~~~~~~~~~~~~~~~~~~~~~~~~~~~~~~~~~~~CC(C)C[C@@H](C(=O)N(c1ccc(C(=O)O)c(C(F)(F)F)c1)S(C)(=O)=O)N(C)C(=O)OCc1ccccc1^~~~~~~~~~~~~~~~~~~~~~COc1ccc(OC)c2c1c(C)cc(=O)n2CC(=O)Nc1cc(COCCC(F)(F)F)n(C)n1^~~~~~~~~~~~~~~~~~~~~~~~~~~~~~~~~~~~~~~~~CCCCN(c1ccc(OC2CCNC2)cc1C)S(=O)(=O)c1ccccc1N^~~~~~~~~~~~~~~~~~~~~~~~~~~~~~~~~~~~~~~~~~~~~~~~~~~~~~~O=C(Oc1nccnc1-c1ccccc1)c1c(Cl)cnc2c1OCCO2^~~~~~~~~~~~~~~~~~~~~~~~~~~~~~~~~~~~~~~~~~~~~~~~~~~~~~~~~~COC(=O)[C@@H]1CC(Nc2ccc(O)c(Cl)c2Cl)CCN1C(=O)OC(C)(C)C^~~~~~~~~~~~~~~~~~~~~~~~~~~~~~~~~~~~~~~~~~~~~CCCOc1cc(Br)c(C(=O)N(C)CC(F)(F)C(=O)O)cc1OC^~~~~~~~~~~~~~~~~~~~~~~~~~~~~~~~~~~~~~~~~~~~~~~~~~~~~~~~N[C@@H](Cc1ccc2ccccc2c1)C(=O)N1CCCC1(C(=O)O)c1ccccc1^~~~~~~~~~~~~~~~~~~~~~~~~~~~~~~~~~~~~~~~~~~~~~~CN(c1cc(O)cc(OC(F)(F)F)c1)c1nc2c(s1)C(=O)c1ccccc1C2=O^~~~~~~~~~~~~~~~~~~~~~~~~~~~~~~~~~~~~~~~~~~~~~Cc1cccc(NC(=O)c2ccccc2-c2ccc3c(c2)C(N)CCO3)c1C^~~~~~~~~~~~~~~~~~~~~~~~~~~~~~~~~~~~~~~~~~~~~~~~~~~~~CCOc1c(N(CCO)C(=O)C2CC(=O)N(C(C)CC)C2)c(=O)c1=O^~~~~~~~~~~~~~~~~~~~~~~~~~~~~~~~~~~~~~~~~~~~~~~~~~~~CCOC(=O)CC(O)(Cc1ccc(Cl)cc1Cl)C(C(C)=O)N(C(C)=O)C(C)=O^~~~~~~~~~~~~~~~~~~~~~~~~~~~~~~~~~~~~~~~~~~~~CCn1c(C2CCCN2C(=O)C2(n3cccc3)CCCCC2)nc2ccccc21^~~~~~~~~~~~~~~~~~~~~~~~~~~~~~~~~~~~~~~~~~~~~~~~~~~~~CSc1cccc(NC(=O)Cn2nncc2CCCCNC(=O)OC(C)(C)C)c1^~~~~~~~~~~~~~~~~~~~~~~~~~~~~~~~~~~~~~~~~~~~~~~~~~~~~~N#Cc1ccc(C(=O)Nc2cccc(C(=O)CC(O)c3ccc(-c4ncon4)cc3)c2)c(F)c1^~~~~~~~~~~~~~~~~~~~~~~~~~~~~~~~~~~~~~~CC1(C)COc2ccccc2N(C(c2ccc(F)cc2)c2ccc(C#N)cc2)C1=O^~~~~~~~~~~~~~~~~~~~~~~~~~~~~~~~~~~~~~~~~~~~~~~~~CCC(=O)c1cccc(-c2ccc(N(CC(=O)OC)S(=O)(=O)c3ccccc3)cc2)c1^~~~~~~~~~~~~~~~~~~~~~~~~~~~~~~~~~~~~~~~~~~CCc1nc(NC2=CC(=O)N(C(=O)OC(C)(C)C)[C@H]2C)sc1C^~~~~~~~~~~~~~~~~~~~~~~~~~~~~~~~~~~~~~~~~~~~~~~~~~~~~Cc1c(Br)ccc(C(=O)Nc2cc(CCCO)cnc2C#N)c1F^~~~~~~~~~~~~~~~~~~~~~~~~~~~~~~~~~~~~~~~~~~~~~~~~~~~~~~~~~~~CCc1ccc(C(=O)O)cc1-c1cccc(NS(=O)(=O)c2ccccc2)c1C^~~~~~~~~~~~~~~~~~~~~~~~~~~~~~~~~~~~~~~~~~~~~~~~~~~CCOc1c(NC2(CC(=O)OC3CCC(O)CC3)CCCC2)c(=O)c1=O^~~~~~~~~~~~~~~~~~~~~~~~~~~~~~~~~~~~~~~~~~~~~~~~~~~~~~CCOC(=O)c1sc2ccc(N3CCC(COc4ccc(C(=O)NC5CC5)cc4)CC3)cc2c1N^~~~~~~~~~~~~~~~~~~~~~~~~~~~~~~~~~~~~~~~~~CCOC(=O)C(C(=O)NCC1(N)CC1)(C(=O)OCC)c1ccc(OC)nc1^~~~~~~~~~~~~~~~~~~~~~~~~~~~~~~~~~~~~~~~~~~~~~~~~~~NCCCOc1ccc(-c2cc(F)c(Br)cc2N)cc1^~~~~~~~~~~~~~~~~~~~~~~~~~~~~~~~~~~~~~~~~~~~~~~~~~~~~~~~~~~~~~~~~~~COC(=O)c1ccc(NC(=O)C(C)(C)C)c(NCC2(N(Cc3ccccc3)Cc3ccccc3)COC2)n1^~~~~~~~~~~~~~~~~~~~~~~~~~~~~~~~~~~O=C1CNC(=O)c2cccc(Nc3ncc(Br)s3)c2N1^~~~~~~~~~~~~~~~~~~~~~~~~~~~~~~~~~~~~~~~~~~~~~~~~~~~~~~~~~~~~~~~CCOC(=O)C[C@H]1CCCN(c2ccc3cc(N)c(=O)oc3c2)C1^~~~~~~~~~~~~~~~~~~~~~~~~~~~~~~~~~~~~~~~~~~~~~~~~~~~~~~COc1ccc(N(C(=O)c2c(O)cccc2O)S(=O)(=O)c2ccc3nnc(C)n3c2)cc1^~~~~~~~~~~~~~~~~~~~~~~~~~~~~~~~~~~~~~~~~~Cc1cc(C)n(-c2nnc(NC(CO)(CO)CN3CCCCC3CCc3nccn3C)nn2)n1^~~~~~~~~~~~~~~~~~~~~~~~~~~~~~~~~~~~~~~~~~~~~~Cc1ccc(-c2cc3ncnc(O)c3s2)cc1N^~~~~~~~~~~~~~~~~~~~~~~~~~~~~~~~~~~~~~~~~~~~~~~~~~~~~~~~~~~~~~~~~~~~~~COC(=O)C(C)(C(=O)c1c(N)n[nH]c1-c1cccc(Cl)c1)N(c1cc(OC)ccc1OC)S(C)(=O)=O^~~~~~~~~~~~~~~~~~~~~~~~~~~~Cc1n[nH]cc1C(=O)N1CCN(C(=O)OC(C)(C)C)C(C)(C)C1^~~~~~~~~~~~~~~~~~~~~~~~~~~~~~~~~~~~~~~~~~~~~~~~~~~~~CCOC(=O)C1(C(=O)COc2cccnc2)CCCN(C(C)C)C1^~~~~~~~~~~~~~~~~~~~~~~~~~~~~~~~~~~~~~~~~~~~~~~~~~~~~~~~~~~CCc1ccc(N(c2ccc(C(=O)O)c(OC)c2)S(=O)(=O)c2ccc3nnc(C)n3c2)cc1^~~~~~~~~~~~~~~~~~~~~~~~~~~~~~~~~~~~~~~Cn1nc(-c2nc(-c3ccccc3)no2)c2c1CCN(c1ccc(SCCl)cc1)C2^~~~~~~~~~~~~~~~~~~~~~~~~~~~~~~~~~~~~~~~~~~~~~~~CCCC(=O)N(c1ccc(CC)cc1)c1nc(C)c(CC)c(=O)[nH]1^~~~~~~~~~~~~~~~~~~~~~~~~~~~~~~~~~~~~~~~~~~~~~~~~~~~~~COC(=O)c1ccc2c(c1)nc(-c1ccn3c(Cl)cnc3c1)n2CCNC(=O)OC(C)(C)C^~~~~~~~~~~~~~~~~~~~~~~~~~~~~~~~~~~~~~~~NC1=NC(=O)C(Cc2cccc(N3CCCC3(C(=O)O)c3ccccc3)c2)(c2ccccc2)N1^~~~~~~~~~~~~~~~~~~~~~~~~~~~~~~~~~~~~~~~COCCC1CNCCN1C1CCN(c2ncncc2C)C1^~~~~~~~~~~~~~~~~~~~~~~~~~~~~~~~~~~~~~~~~~~~~~~~~~~~~~~~~~~~~~~~~~~~~O=C(Cc1cc(Br)ccc1Br)Nc1ccc(-c2nc(Cn3cccn3)n[nH]2)cc1^~~~~~~~~~~~~~~~~~~~~~~~~~~~~~~~~~~~~~~~~~~~~~~CCOc1c(NC2(CC(=O)OC3CCC(O)CC3)CCCC2)c(=O)c1=O^~~~~~~~~~~~~~~~~~~~~~~~~~~~~~~~~~~~~~~~~~~~~~~~~~~~~~Cn1cc(-c2cc(Cl)ccc2-c2ccc(F)c(C(=O)O)c2)c(CC#N)n1^~~~~~~~~~~~~~~~~~~~~~~~~~~~~~~~~~~~~~~~~~~~~~~~~~COC(=O)C(C)(C(=O)C(F)F)N(c1ccc(OC)cc1)S(C)(=O)=O^~~~~~~~~~~~~~~~~~~~~~~~~~~~~~~~~~~~~~~~~~~~~~~~~~~CC(O)c1ccc2c(c1)CN(CC1CCC(C(F)(F)F)CC1)CCO2^~~~~~~~~~~~~~~~~~~~~~~~~~~~~~~~~~~~~~~~~~~~~~~~~~~~~~~~O=C(NC1CC1)c1cccc(OCC2CCCN(c3ccc(Br)c4ncccc34)C2)c1^~~~~~~~~~~~~~~~~~~~~~~~~~~~~~~~~~~~~~~~~~~~~~~~COc1cc(-n2cnnn2)ccc1OCC(=O)NCc1ccc2[nH]c(C)nc2c1^~~~~~~~~~~~~~~~~~~~~~~~~~~~~~~~~~~~~~~~~~~~~~~~~~~CCn1c(Br)nc(Br)c1N1CCCC(COc2cccc(C(=O)NC3CC3)c2)C1^~~~~~~~~~~~~~~~~~~~~~~~~~~~~~~~~~~~~~~~~~~~~~~~~Cn1nc(COc2ccc(F)cc2)c2c1CCN(C(=O)c1ccc(Cn3c(=O)[nH]c4ccsc4c3=O)cc1)C2^~~~~~~~~~~~~~~~~~~~~~~~~~~~~~Cc1nnc2ccc(S(=O)(=O)N(Cc3ccccc3OCCN(C)C)c3cc(F)cc(F)c3)cn12^~~~~~~~~~~~~~~~~~~~~~~~~~~~~~~~~~~~~~~~CCOc1cc2[nH]c(=S)n(Cc3ccc(-c4ncc(C(=O)O)cc4C#N)cc3)c(=O)c2cc1OCC^~~~~~~~~~~~~~~~~~~~~~~~~~~~~~~~~~~CC(C)(C)C(CC(=O)O)NC(=O)c1ccc(NC(=O)COC(=O)c2ccc(N)cc2)cc1^~~~~~~~~~~~~~~~~~~~~~~~~~~~~~~~~~~~~~~~~NC(=S)Nc1ccc(NC2=CCc3ncc(C(=O)O)n3C2)c(Cl)c1^~~~~~~~~~~~~~~~~~~~~~~~~~~~~~~~~~~~~~~~~~~~~~~~~~~~~~~COCCNc1cc(Nc2c(C(=O)OC)nnn2-c2ccccc2F)ncn1^~~~~~~~~~~~~~~~~~~~~~~~~~~~~~~~~~~~~~~~~~~~~~~~~~~~~~~~~Nc1cc(=O)[nH]c(N(C(=O)C2=Cc3ccccc3C2)C2CCCCC2)n1^~~~~~~~~~~~~~~~~~~~~~~~~~~~~~~~~~~~~~~~~~~~~~~~~~~Cc1noc2nc(C3CC3)c(Cl)c(C(=O)N3CCC(N(C)Cc4ccccc4)C3)c12^~~~~~~~~~~~~~~~~~~~~~~~~~~~~~~~~~~~~~~~~~~~~Oc1nc(Nc2ncccc2-c2cncc(Br)c2)nc2nccnc12^~~~~~~~~~~~~~~~~~~~~~~~~~~~~~~~~~~~~~~~~~~~~~~~~~~~~~~~~~~~CN(C)c1ccc(-c2nc(CCOCCC#N)n[nH]2)cc1^~~~~~~~~~~~~~~~~~~~~~~~~~~~~~~~~~~~~~~~~~~~~~~~~~~~~~~~~~~~~~~CSc1nc2ccc(NCC(=O)Nc3ccc(NC(=O)c4ccco4)cc3)cc2s1^~~~~~~~~~~~~~~~~~~~~~~~~~~~~~~~~~~~~~~~~~~~~~~~~~~CCc1ccc(N(c2cccc(N3CC(C(=O)O)CC3=O)c2)S(=O)(=O)c2ccc3nncn3c2)cc1^~~~~~~~~~~~~~~~~~~~~~~~~~~~~~~~~~~COc1ccc(C(=O)O)cc1OC(=O)c1ccc(CN(c2ccccc2)S(=O)(=O)c2ccccc2)cc1^~~~~~~~~~~~~~~~~~~~~~~~~~~~~~~~~~~~CCCCN(c1cc2c(cc1Br)OCCO2)S(=O)(=O)c1ccccc1N^~~~~~~~~~~~~~~~~~~~~~~~~~~~~~~~~~~~~~~~~~~~~~~~~~~~~~~~CS(=O)(=O)N(c1ccc(C(=O)O)c(C(F)(F)F)c1)c1c(Cl)cc(C#N)cc1Cl^~~~~~~~~~~~~~~~~~~~~~~~~~~~~~~~~~~~~~~~~COc1nccc(-c2ccc3c(c2)C(C)=CC(C)(C)N3C(=O)OC(C)(C)C)c1C#N^~~~~~~~~~~~~~~~~~~~~~~~~~~~~~~~~~~~~~~~~~~CN(CCc1cccc(C(=O)O)c1)c1cc(O)ccc1OC(F)(F)F^~~~~~~~~~~~~~~~~~~~~~~~~~~~~~~~~~~~~~~~~~~~~~~~~~~~~~~~~CCOc1ccc(NS(=O)(=O)c2ccc3nnc(C(=O)c4cc(OC)c(OC)c(OC)c4)n3c2)cc1^~~~~~~~~~~~~~~~~~~~~~~~~~~~~~~~~~~~NC(Cc1ccc(F)cc1)(C(=O)CCn1cc(C(F)(F)F)ccc1=O)C(=O)OCc1ccccc1^~~~~~~~~~~~~~~~~~~~~~~~~~~~~~~~~~~~~~~CCOC(=N)c1ccc(F)c(N2CCN(C(=O)c3cc4ccccc4n3C)CC2)c1^~~~~~~~~~~~~~~~~~~~~~~~~~~~~~~~~~~~~~~~~~~~~~~~~CS(=O)(=O)N(c1ccc(C(=O)O)c(C(F)(F)F)c1)c1cc(CN2CCNCC2)ccc1Cl^~~~~~~~~~~~~~~~~~~~~~~~~~~~~~~~~~~~~~~CNc1cccc(-c2cccc(C(CCO)NC(=O)OC(C)(C)C)c2)c1C#N^~~~~~~~~~~~~~~~~~~~~~~~~~~~~~~~~~~~~~~~~~~~~~~~~~~~CC(C)(C)OC(=O)N1CCC(C(=O)Nc2nc(N)c(N)c(=O)[nH]2)(c2ccc(Cl)cc2)CC1^~~~~~~~~~~~~~~~~~~~~~~~~~~~~~~~~~O=C1CCCc2cccc(-c3cccnc3OC3CCCCC3)c21^~~~~~~~~~~~~~~~~~~~~~~~~~~~~~~~~~~~~~~~~~~~~~~~~~~~~~~~~~~~~~~COCCC1CN(CCOc2ccccc2)CCN1^~~~~~~~~~~~~~~~~~~~~~~~~~~~~~~~~~~~~~~~~~~~~~~~~~~~~~~~~~~~~~~~~~~~~~~~~~NCCc1ccccc1-c1ccc(Br)cc1Cc1ccc(O)cc1^~~~~~~~~~~~~~~~~~~~~~~~~~~~~~~~~~~~~~~~~~~~~~~~~~~~~~~~~~~~~~~CC(C)(C)C[C@H](N)C(=O)OCC1COC2(CCNCC2)C1^~~~~~~~~~~~~~~~~~~~~~~~~~~~~~~~~~~~~~~~~~~~~~~~~~~~~~~~~~~Cc1c(Cl)cccc1N(CCCC(=O)OCCCCCC(=O)O)S(C)(=O)=O^~~~~~~~~~~~~~~~~~~~~~~~~~~~~~~~~~~~~~~~~~~~~~~~~~~~~CC(NC(=O)OCc1ccccc1)c1ncc(C(=O)Nc2ccc(N3CCCC3=O)cc2N2CCCC2=O)s1^~~~~~~~~~~~~~~~~~~~~~~~~~~~~~~~~~~~CCOC(=O)c1oc2cc(-c3ccccc3C(O)CNC(C)(C)C)ccc2c1N^~~~~~~~~~~~~~~~~~~~~~~~~~~~~~~~~~~~~~~~~~~~~~~~~~~~CCCN(CCC)C(=O)c1cccc(N(c2ccc(C(=O)O)c(Cl)c2)S(=O)(=O)c2ccccc2)c1^~~~~~~~~~~~~~~~~~~~~~~~~~~~~~~~~~~CC(Sc1ncc(C(F)(F)F)cc1N(C)c1nc2c(s1)C(=O)c1ccccc1C2=O)C(=O)O^~~~~~~~~~~~~~~~~~~~~~~~~~~~~~~~~~~~~~~OCc1csc(-c2cccc(-c3noc(O)n3)c2)c1^~~~~~~~~~~~~~~~~~~~~~~~~~~~~~~~~~~~~~~~~~~~~~~~~~~~~~~~~~~~~~~~~~CCOc1ccc(N(C(=O)CC(C)(C)C)S(=O)(=O)c2ccccc2N)cc1^~~~~~~~~~~~~~~~~~~~~~~~~~~~~~~~~~~~~~~~~~~~~~~~~~~COC(=O)C(C)(NC(=O)c1ccc(-c2ccco2)cc1)C(F)(F)F^~~~~~~~~~~~~~~~~~~~~~~~~~~~~~~~~~~~~~~~~~~~~~~~~~~~~~Cc1ccc(O)c(N)c1-c1ccc2oc(CCN)nc2c1^~~~~~~~~~~~~~~~~~~~~~~~~~~~~~~~~~~~~~~~~~~~~~~~~~~~~~~~~~~~~~~~~O=C(Oc1cccc(Cl)c1)c1ccc(CS(=O)(=O)Cc2ccccc2F)o1^~~~~~~~~~~~~~~~~~~~~~~~~~~~~~~~~~~~~~~~~~~~~~~~~~~~COC(=O)C(C)(C(C)=O)N(c1ccc(OC)c(Cl)c1)S(C)(=O)=O^~~~~~~~~~~~~~~~~~~~~~~~~~~~~~~~~~~~~~~~~~~~~~~~~~~Cc1c(CC#N)cccc1-c1cccc(NS(=O)(=O)c2ccccc2)c1C^~~~~~~~~~~~~~~~~~~~~~~~~~~~~~~~~~~~~~~~~~~~~~~~~~~~~~COc1ccc(C)cc1N1CC(C(=O)N[C@]23C[C@H]4C[C@H](C[C@](C)(C4)C2)C3)CC1=O^~~~~~~~~~~~~~~~~~~~~~~~~~~~~~~~CCOc1ccc(C(=O)N2CC(O)(C(F)(F)F)C2)nc1^~~~~~~~~~~~~~~~~~~~~~~~~~~~~~~~~~~~~~~~~~~~~~~~~~~~~~~~~~~~~~CC(C)(O)c1ccncc1NCc1nc(-c2cccc(Cl)c2)cs1^~~~~~~~~~~~~~~~~~~~~~~~~~~~~~~~~~~~~~~~~~~~~~~~~~~~~~~~~~~CCN(c1cc(F)ccc1C(F)(F)F)S(=O)(=O)c1ccc2c(c1)c(=O)n(C)c(=O)n2C^~~~~~~~~~~~~~~~~~~~~~~~~~~~~~~~~~~~~~CCOc1cc(Br)ccc1-c1ccc(C(=O)Nc2ccccc2CC)cc1^~~~~~~~~~~~~~~~~~~~~~~~~~~~~~~~~~~~~~~~~~~~~~~~~~~~~~~~~CCOC(=O)C(C(=O)NCC1(N)CC1)(C(=O)OCC)c1ccc(OC)nc1^~~~~~~~~~~~~~~~~~~~~~~~~~~~~~~~~~~~~~~~~~~~~~~~~~~COCCC1CN(CCOc2ccccc2)CCN1^~~~~~~~~~~~~~~~~~~~~~~~~~~~~~~~~~~~~~~~~~~~~~~~~~~~~~~~~~~~~~~~~~~~~~~~~~CCCNC(=O)c1ccc(N(c2cccc(Br)c2C#N)C(C)C)c(N)c1^~~~~~~~~~~~~~~~~~~~~~~~~~~~~~~~~~~~~~~~~~~~~~~~~~~~~~CCOc1cc(Br)ccc1-c1cccc(N(C)C)c1^~~~~~~~~~~~~~~~~~~~~~~~~~~~~~~~~~~~~~~~~~~~~~~~~~~~~~~~~~~~~~~~~~~~NCCOc1ccccc1-c1cncc(OC2CNC2)n1^~~~~~~~~~~~~~~~~~~~~~~~~~~~~~~~~~~~~~~~~~~~~~~~~~~~~~~~~~~~~~~~~~~~~Cc1cc(Br)c(O)c(-c2ccc(S(=O)(=O)NCCc3nnc(N)s3)cc2)c1^~~~~~~~~~~~~~~~~~~~~~~~~~~~~~~~~~~~~~~~~~~~~~~~CCN(CC)C(=O)c1cc(Nc2cccc3nc(O)ccc23)c(O)c(OC)c1^~~~~~~~~~~~~~~~~~~~~~~~~~~~~~~~~~~~~~~~~~~~~~~~~~~~CCC(NC(C)=O)C(=O)N(C)CCc1noc(COc2ccc(C)cc2C)n1^~~~~~~~~~~~~~~~~~~~~~~~~~~~~~~~~~~~~~~~~~~~~~~~~~~~~Cc1ccc(N(CC(=O)O)S(C)(=O)=O)cc1-c1ccc(C(=O)NC(C)(C)C)c2ccccc12^~~~~~~~~~~~~~~~~~~~~~~~~~~~~~~~~~~~~Cc1nnc2ccc(S(=O)(=O)N(c3cc(F)cc(F)c3)C3(CC(=O)O)CCCCC3)cn12^~~~~~~~~~~~~~~~~~~~~~~~~~~~~~~~~~~~~~~~Cc1cc(C(=O)O)ccc1N(C(=O)c1cccc(C)c1O)S(=O)(=O)c1ccccc1^~~~~~~~~~~~~~~~~~~~~~~~~~~~~~~~~~~~~~~~~~~~~O=C(NC1CC1)c1ccc(OCC2CCCN2C(=O)c2ncc3cc[nH]c3n2)cc1^~~~~~~~~~~~~~~~~~~~~~~~~~~~~~~~~~~~~~~~~~~~~~~~COc1ccc(N(C(=O)[C@@H](N)Cc2cscn2)S(=O)(=O)c2ccc3nnc(C)n3c2)cc1^~~~~~~~~~~~~~~~~~~~~~~~~~~~~~~~~~~~~CS(=O)(=O)N(CCC1CCCNC1)c1cccc(Cl)c1^~~~~~~~~~~~~~~~~~~~~~~~~~~~~~~~~~~~~~~~~~~~~~~~~~~~~~~~~~~~~~~~COc1ccc(C(C)Nc2nnc(Oc3ccc(C#N)cc3)s2)c(F)c1^~~~~~~~~~~~~~~~~~~~~~~~~~~~~~~~~~~~~~~~~~~~~~~~~~~~~~~~Cc1cccc(N(C(=O)c2cnc(N)cc2C)S(=O)(=O)c2ccc3nncn3c2)c1^~~~~~~~~~~~~~~~~~~~~~~~~~~~~~~~~~~~~~~~~~~~~~COC(=O)CN(c1cccc(Cl)c1N1CC(O)(C2CC2)C1)S(=O)(=O)c1ccccc1^~~~~~~~~~~~~~~~~~~~~~~~~~~~~~~~~~~~~~~~~~~CN(CC(=O)O)Cc1ccc(-c2cc(C(F)(F)Cc3cncc4ccccc34)cc(N(C)C)n2)cc1^~~~~~~~~~~~~~~~~~~~~~~~~~~~~~~~~~~~~CNC(=O)C1CN(C(=O)OC(C)(C)C)CCN1c1cc(Br)c(Br)cc1C^~~~~~~~~~~~~~~~~~~~~~~~~~~~~~~~~~~~~~~~~~~~~~~~~~~CCOc1cc(C(=O)NC2CCOC3(CCN(Cc4ccccc4)CC3)C2)nc2c(C)cc(F)cc12^~~~~~~~~~~~~~~~~~~~~~~~~~~~~~~~~~~~~~~~CCCOc1c(OC)cc(Br)cc1-c1ccc2ncc(C(=O)O)n2c1^~~~~~~~~~~~~~~~~~~~~~~~~~~~~~~~~~~~~~~~~~~~~~~~~~~~~~~~~O=C(CCC(=O)c1ccccc1)N[C@H]1CCCC[C@H]1C(=O)O^~~~~~~~~~~~~~~~~~~~~~~~~~~~~~~~~~~~~~~~~~~~~~~~~~~~~~~~O=C(O)CC(NC(=O)C1CCC(O)CC1)c1c(F)ccc(F)c1Cl^~~~~~~~~~~~~~~~~~~~~~~~~~~~~~~~~~~~~~~~~~~~~~~~~~~~~~~~Cn1nc(-c2ccc(Br)cc2)cc1C(=O)N1CCc2c(c(COCc3ccccc3F)nn2C)C1^~~~~~~~~~~~~~~~~~~~~~~~~~~~~~~~~~~~~~~~~O=C(Cc1c[nH]c2ccccc12)N[C@@H]1CC[C@H](O)C1^~~~~~~~~~~~~~~~~~~~~~~~~~~~~~~~~~~~~~~~~~~~~~~~~~~~~~~~~Nc1cc(=O)[nH]c(Nc2ccc(-c3ccnc(OC4CCCCC4)c3Cl)cc2Cl)n1^~~~~~~~~~~~~~~~~~~~~~~~~~~~~~~~~~~~~~~~~~~~~~CN1CCC(N(c2ccc3cc(N)c(=O)oc3c2)C2CC2)CC1^~~~~~~~~~~~~~~~~~~~~~~~~~~~~~~~~~~~~~~~~~~~~~~~~~~~~~~~~~~CC(OC(=O)C1N2C(=O)C(NC(=O)C(N)c3ccc(O)cc3)C2SC1(C)C)c1ccc(O)cc1^~~~~~~~~~~~~~~~~~~~~~~~~~~~~~~~~~~~CCc1c(C(=O)NC[C@H](O)CN2CCOCC2)nnn1-c1ccc2c(c1)OCCO2^~~~~~~~~~~~~~~~~~~~~~~~~~~~~~~~~~~~~~~~~~~~~~~CC(C)(C)C(CC(=O)O)NC(=O)CC(N)c1ccc(OCc2ccccc2)cc1^~~~~~~~~~~~~~~~~~~~~~~~~~~~~~~~~~~~~~~~~~~~~~~~~~CCOC(=O)c1oc2cc(-c3cccc4c(C(=O)O)n[nH]c34)ccc2c1N^~~~~~~~~~~~~~~~~~~~~~~~~~~~~~~~~~~~~~~~~~~~~~~~~~COC(=O)C(C(=O)Cc1ccccc1)N(c1cc(C)ccc1C)S(=O)(=O)c1ccc(C)cc1^~~~~~~~~~~~~~~~~~~~~~~~~~~~~~~~~~~~~~~~O=C(Nc1ccc(-c2nc(Cn3cccn3)n[nH]2)cc1)c1ccc(NC(=O)c2ccco2)cc1^~~~~~~~~~~~~~~~~~~~~~~~~~~~~~~~~~~~~~~CNc1cc(C(F)(F)F)cc(Nc2nc3c(Cl)cc(C)cn3n2)n1^~~~~~~~~~~~~~~~~~~~~~~~~~~~~~~~~~~~~~~~~~~~~~~~~~~~~~~~COc1cc(-c2ccc(NCC(O)c3ccccc3)cc2)c(OC)nc1OC^~~~~~~~~~~~~~~~~~~~~~~~~~~~~~~~~~~~~~~~~~~~~~~~~~~~~~~~COc1ccc(S(=O)(=O)Nc2cccc(-c3ccc(N)cc3CO)c2C)cc1^~~~~~~~~~~~~~~~~~~~~~~~~~~~~~~~~~~~~~~~~~~~~~~~~~~~COC(=O)COC1=C(C(=O)Nc2ccccc2)C2c3ccccc3C1C1(OC)CCC=CC21^~~~~~~~~~~~~~~~~~~~~~~~~~~~~~~~~~~~~~~~~~~~Cc1ccc2nc(NCC3CC4(CCN(C(=O)OC(C)(C)C)CC4)O3)n(C)c2c1^~~~~~~~~~~~~~~~~~~~~~~~~~~~~~~~~~~~~~~~~~~~~~~Cc1ccc(-c2ccccc2Cc2c(C)n[nH]c2O)cc1N^~~~~~~~~~~~~~~~~~~~~~~~~~~~~~~~~~~~~~~~~~~~~~~~~~~~~~~~~~~~~~~COc1cc(OC(C)C)cc(-c2cc(C(=O)O)cc(F)c2C)c1^~~~~~~~~~~~~~~~~~~~~~~~~~~~~~~~~~~~~~~~~~~~~~~~~~~~~~~~~~CN(CC1CCOCC1)C1CCN(c2cccc(C3CC3N)c2)C1^~~~~~~~~~~~~~~~~~~~~~~~~~~~~~~~~~~~~~~~~~~~~~~~~~~~~~~~~~~~~CC(=O)c1cc(C(=O)NCc2cnc(C)c(F)c2)n(C)c1^~~~~~~~~~~~~~~~~~~~~~~~~~~~~~~~~~~~~~~~~~~~~~~~~~~~~~~~~~~~Cc1csc(Nc2ccc(N(CC(=O)O)S(C)(=O)=O)cc2C(F)(F)F)c1^~~~~~~~~~~~~~~~~~~~~~~~~~~~~~~~~~~~~~~~~~~~~~~~~~CSc1ccccc1Nc1[nH]nc(C)c1C(C)=O^~~~~~~~~~~~~~~~~~~~~~~~~~~~~~~~~~~~~~~~~~~~~~~~~~~~~~~~~~~~~~~~~~~~~CCOC(=O)c1cn2cc(-c3ccc(C(C#N)N(CC)CC)cc3Cl)cc(C)c2n1^~~~~~~~~~~~~~~~~~~~~~~~~~~~~~~~~~~~~~~~~~~~~~~CN(C(=O)CCC(=O)NC1CCOC2(CCN(Cc3ccccc3)CC2)C1)c1ccccc1^~~~~~~~~~~~~~~~~~~~~~~~~~~~~~~~~~~~~~~~~~~~~~CC(C)(C)OC(=O)NC1CCC(C(=O)NC2(c3ccsc3)CC2)CC1^~~~~~~~~~~~~~~~~~~~~~~~~~~~~~~~~~~~~~~~~~~~~~~~~~~~~~CCOC(=O)C(C(=O)OCC)c1c(F)cc(F)cc1N(C)CCc1noc(COc2ccc3c(c2)CCC3)n1^~~~~~~~~~~~~~~~~~~~~~~~~~~~~~~~~~CN(C1=CCC2(C)C(=O)CCCC2=C1)c1cc(CC2CCCNC2)ncn1^~~~~~~~~~~~~~~~~~~~~~~~~~~~~~~~~~~~~~~~~~~~~~~~~~~~~O=C(c1ccccc1C(=O)N1CC(O)CO1)N1CC(C(=O)N2CCOCC2)C1^~~~~~~~~~~~~~~~~~~~~~~~~~~~~~~~~~~~~~~~~~~~~~~~~~O=C(Nc1ccc(-c2nc(Cn3cccn3)n[nH]2)cc1)c1ccc2nc(C(F)(F)F)sc2c1^~~~~~~~~~~~~~~~~~~~~~~~~~~~~~~~~~~~~~~CSc1ccc(OCCNc2cnc(N)s2)cc1^~~~~~~~~~~~~~~~~~~~~~~~~~~~~~~~~~~~~~~~~~~~~~~~~~~~~~~~~~~~~~~~~~~~~~~~~CCOC(=O)Cc1ccc(-c2cc(OC)c(OC)nc2OC)c(Cl)c1^~~~~~~~~~~~~~~~~~~~~~~~~~~~~~~~~~~~~~~~~~~~~~~~~~~~~~~~~O=C(O)c1cnc2n1CC(Nc1ccc(O)cc1C(F)(F)F)=CC2^~~~~~~~~~~~~~~~~~~~~~~~~~~~~~~~~~~~~~~~~~~~~~~~~~~~~~~~~N#Cc1ccc(NC(=O)c2ccccc2SCc2ccc(F)cc2)c(C(=O)O)c1^~~~~~~~~~~~~~~~~~~~~~~~~~~~~~~~~~~~~~~~~~~~~~~~~~~COC(=O)COC1=C(C(=O)Nc2ccccc2)C2c3ccccc3C1CC2(C)C1CCC(C)C(O)C1^~~~~~~~~~~~~~~~~~~~~~~~~~~~~~~~~~~~~~Cn1nc(-c2ccc(Nc3nc4cc(C(F)(F)F)ccc4n3C)cc2)cc1C(=O)O^~~~~~~~~~~~~~~~~~~~~~~~~~~~~~~~~~~~~~~~~~~~~~~CCN(CC)c1ccc(-c2cn(CC(=O)Nc3cccc(SC)c3)nn2)cc1^~~~~~~~~~~~~~~~~~~~~~~~~~~~~~~~~~~~~~~~~~~~~~~~~~~~~COC(=O)C(CCN(c1ccc(F)cc1)S(C)(=O)=O)C(=O)C(C)Oc1ccc(Cl)cc1Cl^~~~~~~~~~~~~~~~~~~~~~~~~~~~~~~~~~~~~~~COC(=O)c1ccc(COc2ccccc2Nc2cc(F)c(Br)cc2OC)o1^~~~~~~~~~~~~~~~~~~~~~~~~~~~~~~~~~~~~~~~~~~~~~~~~~~~~~~NC(=O)CCc1ccc(-c2nc3ccccc3[nH]2)o1^~~~~~~~~~~~~~~~~~~~~~~~~~~~~~~~~~~~~~~~~~~~~~~~~~~~~~~~~~~~~~~~~CCCCn1c(=S)[nH]c2cc(C)n(C(c3ccc(F)cc3)c3ccc(C#N)cc3)c2c1=O^~~~~~~~~~~~~~~~~~~~~~~~~~~~~~~~~~~~~~~~~Cc1cc(Cl)c2nc(Nc3cc(Cl)ccc3C#CC(=O)O)nn2c1^~~~~~~~~~~~~~~~~~~~~~~~~~~~~~~~~~~~~~~~~~~~~~~~~~~~~~~~~Cc1nnc(SCc2noc(C(=O)N[C@H](CN(C)C)c3ccccc3)n2)s1^~~~~~~~~~~~~~~~~~~~~~~~~~~~~~~~~~~~~~~~~~~~~~~~~~~COC(=O)c1cc(C(=O)N(Cc2ccc3c(ccn3C)c2)Cc2ccc3c(ccn3C)c2)n(Cc2ccccc2)n1^~~~~~~~~~~~~~~~~~~~~~~~~~~~~~CCOC(=O)C1(C(=O)Cc2ccccc2)CCCN(C(C)C)C1^~~~~~~~~~~~~~~~~~~~~~~~~~~~~~~~~~~~~~~~~~~~~~~~~~~~~~~~~~~~Cc1c(C(=O)Nc2nnc(C3CCN(C(=O)c4ccccc4)CC3)s2)cccc1-n1cccc1^~~~~~~~~~~~~~~~~~~~~~~~~~~~~~~~~~~~~~~~~~CN(c1nc(-c2cccnc2)n[nH]1)C(COc1cccc(F)c1)C1CC1^~~~~~~~~~~~~~~~~~~~~~~~~~~~~~~~~~~~~~~~~~~~~~~~~~~~~CC(C)(C)OC(=O)c1ncc(CC(=O)N2CCC(OCc3ccc(F)cc3F)CC2)s1^~~~~~~~~~~~~~~~~~~~~~~~~~~~~~~~~~~~~~~~~~~~~~COC(=O)c1sc2ccc(Br)cc2c1NC(=O)c1ccccc1N(C)C^~~~~~~~~~~~~~~~~~~~~~~~~~~~~~~~~~~~~~~~~~~~~~~~~~~~~~~~O=S(=O)(Nc1c(O)cccc1Cl)c1ccoc1^~~~~~~~~~~~~~~~~~~~~~~~~~~~~~~~~~~~~~~~~~~~~~~~~~~~~~~~~~~~~~~~~~~~~CC(=O)Nc1ccc(Oc2ccccc2Cc2ccccc2)cc1C(F)(F)F^~~~~~~~~~~~~~~~~~~~~~~~~~~~~~~~~~~~~~~~~~~~~~~~~~~~~~~~CC1(C#CC(O)(Nc2cncc3nc(C(C)(C)C)oc23)OC(C)(C)C)COC1^~~~~~~~~~~~~~~~~~~~~~~~~~~~~~~~~~~~~~~~~~~~~~~~CC(=O)c1ccc(Nc2ccc(C#N)cc2O)cc1C^~~~~~~~~~~~~~~~~~~~~~~~~~~~~~~~~~~~~~~~~~~~~~~~~~~~~~~~~~~~~~~~~~~Cc1cc(C#N)c(N(C)Cc2nn(C)cc2Cl)cc1C(F)(F)F^~~~~~~~~~~~~~~~~~~~~~~~~~~~~~~~~~~~~~~~~~~~~~~~~~~~~~~~~~COc1ccc(C(NC(=O)CC[C@H](N)C(=O)Nc2ccc(OC3COC3)cc2)c2ccc(OC)cc2)cc1^~~~~~~~~~~~~~~~~~~~~~~~~~~~~~~~~COC(=O)C(C(=O)CCCCCO)N(c1cc(Cl)ccc1C)S(=O)(=O)c1ccc(C)cc1^~~~~~~~~~~~~~~~~~~~~~~~~~~~~~~~~~~~~~~~~~OCc1c(O)c(Br)cc(Cl)c1C(F)(F)F^~~~~~~~~~~~~~~~~~~~~~~~~~~~~~~~~~~~~~~~~~~~~~~~~~~~~~~~~~~~~~~~~~~~~~CCOC(=O)c1cnc(N(c2ccc(Cl)cc2)c2ccccc2CCO)nc1C^~~~~~~~~~~~~~~~~~~~~~~~~~~~~~~~~~~~~~~~~~~~~~~~~~~~~~Nc1ccc2nc(-c3ccc(N4CCC(COc5ccc(C(=O)N6CCOCC6)cc5)CC4)cc3)cn2c1^~~~~~~~~~~~~~~~~~~~~~~~~~~~~~~~~~~~~CCOC(=O)c1cc(O)c(OCc2cnc(C)c(F)c2)c(O)c1^~~~~~~~~~~~~~~~~~~~~~~~~~~~~~~~~~~~~~~~~~~~~~~~~~~~~~~~~~~Cc1ccc(S(=O)(=O)N(C(=O)Cc2cscn2)c2ccc(Cl)c(C(=O)O)c2)cc1^~~~~~~~~~~~~~~~~~~~~~~~~~~~~~~~~~~~~~~~~~~N#CC1=C(NC[C@@H](O)CC(=O)O)Cc2ccccc21^~~~~~~~~~~~~~~~~~~~~~~~~~~~~~~~~~~~~~~~~~~~~~~~~~~~~~~~~~~~~~CCC(C)N(c1cc(F)cc(F)c1)S(=O)(=O)c1ccc2nnc(C)n2c1^~~~~~~~~~~~~~~~~~~~~~~~~~~~~~~~~~~~~~~~~~~~~~~~~~~CC(C)(C)N1CC(Nc2cc(Cl)cc(-c3ccc(C(=O)O)cc3)c2)C1^~~~~~~~~~~~~~~~~~~~~~~~~~~~~~~~~~~~~~~~~~~~~~~~~~~Cc1nc(-n2cccc2)sc1COC(c1ccc(C#N)cc1)c1cccc(F)c1^~~~~~~~~~~~~~~~~~~~~~~~~~~~~~~~~~~~~~~~~~~~~~~~~~~~N#Cc1ccc(-c2ccc(Cl)cc2CSc2nnc(N)s2)cc1^~~~~~~~~~~~~~~~~~~~~~~~~~~~~~~~~~~~~~~~~~~~~~~~~~~~~~~~~~~~~O=C(C1CCCN1C(=O)CC1CC(F)(F)C1)N1CCCC1^~~~~~~~~~~~~~~~~~~~~~~~~~~~~~~~~~~~~~~~~~~~~~~~~~~~~~~~~~~~~~O=C(O)C1C2CCC(C2)C1C(=O)N(Cc1ccccc1)C1CC1^~~~~~~~~~~~~~~~~~~~~~~~~~~~~~~~~~~~~~~~~~~~~~~~~~~~~~~~~~N#CCc1nccnc1-c1ccc(Br)cc1Cc1ccc(O)cc1^~~~~~~~~~~~~~~~~~~~~~~~~~~~~~~~~~~~~~~~~~~~~~~~~~~~~~~~~~~~~~O=C(OCc1ccc2ccccc2c1)c1ccc(CS(=O)(=O)Cc2ccccc2F)o1^~~~~~~~~~~~~~~~~~~~~~~~~~~~~~~~~~~~~~~~~~~~~~~~~C#CCCC(=O)N(c1ccc(C(=O)O)cc1C)S(=O)(=O)c1ccc(C)cc1^~~~~~~~~~~~~~~~~~~~~~~~~~~~~~~~~~~~~~~~~~~~~~~~~Cc1nnc2ccc(S(=O)(=O)Nc3cccc(-c4cccc(F)c4CNC(C)(C)C)c3)cn12^~~~~~~~~~~~~~~~~~~~~~~~~~~~~~~~~~~~~~~~~CCOc1ncc(Br)cc1-c1nc2cc(C(=O)OC)ccc2n1CCNC(=O)OC(C)(C)C^~~~~~~~~~~~~~~~~~~~~~~~~~~~~~~~~~~~~~~~~~~~Cc1csc(Nc2cc(-n3nnc(C(=O)O)c3-c3ccncc3)ccc2C)c1^~~~~~~~~~~~~~~~~~~~~~~~~~~~~~~~~~~~~~~~~~~~~~~~~~~~COc1ccc(C(C)Nc2ccccc2C2(CN)CCCC2)c(F)c1^~~~~~~~~~~~~~~~~~~~~~~~~~~~~~~~~~~~~~~~~~~~~~~~~~~~~~~~~~~~CC(O)c1cccc(Nc2ccc(N3CCN(c4ccc(N)cc4Cl)CC3)c(Cl)c2)c1F^~~~~~~~~~~~~~~~~~~~~~~~~~~~~~~~~~~~~~~~~~~~~Cc1cccc2nc(C(=O)c3[nH]c4ccccc4c3NC(=O)OC(C)(C)C)c(F)n12^~~~~~~~~~~~~~~~~~~~~~~~~~~~~~~~~~~~~~~~~~~~O=C(N1CC(Oc2ccc(C(F)(F)F)cn2)C1)C1(c2ccccc2)CCCN1^~~~~~~~~~~~~~~~~~~~~~~~~~~~~~~~~~~~~~~~~~~~~~~~~~CCOC(=O)C1(C(=O)c2ccc(C#N)cc2)CCCN(C(C)C)C1^~~~~~~~~~~~~~~~~~~~~~~~~~~~~~~~~~~~~~~~~~~~~~~~~~~~~~~~CCCc1sc(C(=O)Nc2cncc(N)n2)cc1Br^~~~~~~~~~~~~~~~~~~~~~~~~~~~~~~~~~~~~~~~~~~~~~~~~~~~~~~~~~~~~~~~~~~~CNC(=O)C(C)NC(=O)c1cc2cccc(F)c2s1^~~~~~~~~~~~~~~~~~~~~~~~~~~~~~~~~~~~~~~~~~~~~~~~~~~~~~~~~~~~~~~~~~CNc1nc(Cc2ccc(Cl)cc2OC(F)(F)F)c(O)nc1C^~~~~~~~~~~~~~~~~~~~~~~~~~~~~~~~~~~~~~~~~~~~~~~~~~~~~~~~~~~~~CCCCN(c1ccc2[nH]c3c(=S)[nH]cnc3c2c1)S(=O)(=O)c1ccccc1N^~~~~~~~~~~~~~~~~~~~~~~~~~~~~~~~~~~~~~~~~~~~~Cc1nccc(CCNC(=O)Cc2ccc(-c3ccc(F)cc3)cc2)n1^~~~~~~~~~~~~~~~~~~~~~~~~~~~~~~~~~~~~~~~~~~~~~~~~~~~~~~~~CCOc1ccc(N(c2cc(Br)cc(F)c2C)S(=O)(=O)c2ccc3nncn3c2)cc1^~~~~~~~~~~~~~~~~~~~~~~~~~~~~~~~~~~~~~~~~~~~~O=C(NC1CCCN(c2cnccn2)C1)c1ccccc1F^~~~~~~~~~~~~~~~~~~~~~~~~~~~~~~~~~~~~~~~~~~~~~~~~~~~~~~~~~~~~~~~~~Cc1ccc(O)c(N)c1-c1ccc(C(=O)O)c(N2CCCC2)c1^~~~~~~~~~~~~~~~~~~~~~~~~~~~~~~~~~~~~~~~~~~~~~~~~~~~~~~~~~COCCNCC(C)C(=O)N(c1ccc(C(=O)O)cc1C)S(=O)(=O)c1ccccc1^~~~~~~~~~~~~~~~~~~~~~~~~~~~~~~~~~~~~~~~~~~~~~~COC(=O)c1cc(S(=O)(=O)c2ccc3c4c(cccc24)C(=O)N3)[nH]n1^~~~~~~~~~~~~~~~~~~~~~~~~~~~~~~~~~~~~~~~~~~~~~~Cc1cccc(C(=O)NCc2ccc(N3CCC(F)(F)C(CO)C3)cc2)c1^~~~~~~~~~~~~~~~~~~~~~~~~~~~~~~~~~~~~~~~~~~~~~~~~~~~~Nc1cc2ccc(OCCCCN3CCCCCC3)cc2oc1=O^~~~~~~~~~~~~~~~~~~~~~~~~~~~~~~~~~~~~~~~~~~~~~~~~~~~~~~~~~~~~~~~~~CCOC(=O)CC(O)(CC(=O)c1cccc(NC(=O)c2ccc(C#N)cc2F)c1)c1ccccc1^~~~~~~~~~~~~~~~~~~~~~~~~~~~~~~~~~~~~~~~COc1ccc2scc(-c3cc(F)c(N)cc3N)c2c1^~~~~~~~~~~~~~~~~~~~~~~~~~~~~~~~~~~~~~~~~~~~~~~~~~~~~~~~~~~~~~~~~~COc1ccc(OC)c(NC(=O)CNC(=O)Cc2ccc(-c3ccc(C(=O)N4CCCCC4)cc3)cc2)c1^~~~~~~~~~~~~~~~~~~~~~~~~~~~~~~~~~~COC(=O)c1ccc(N(C(=O)C2(c3ccccc3)CCCN2)C2CCCCC2)c(N)c1^~~~~~~~~~~~~~~~~~~~~~~~~~~~~~~~~~~~~~~~~~~~~~CCNC(=O)C1CCC(C)(C(=O)Nc2cc(F)c(F)c(C#N)c2)C1(C)C^~~~~~~~~~~~~~~~~~~~~~~~~~~~~~~~~~~~~~~~~~~~~~~~~~CCN(C(=O)c1cc2oc(-c3ccc(Cl)c(Cl)c3)cc2[nH]1)[C@@H]1CCCC[C@H]1O^~~~~~~~~~~~~~~~~~~~~~~~~~~~~~~~~~~~~COc1cc(F)cc(-c2ccc(C(=O)N3CC(O)(C(F)(F)F)C3)c(F)c2)c1^~~~~~~~~~~~~~~~~~~~~~~~~~~~~~~~~~~~~~~~~~~~~~Cc1[nH]c2ccccc2c1C1(OC(=O)CN2CCC(C(=O)O)CC2)C(=O)Nc2ccc(Cl)cc21^~~~~~~~~~~~~~~~~~~~~~~~~~~~~~~~~~~~CCC1(C(=O)Oc2cnc3ccsc3c2)CCCNC1^~~~~~~~~~~~~~~~~~~~~~~~~~~~~~~~~~~~~~~~~~~~~~~~~~~~~~~~~~~~~~~~~~~~COC(=O)CCc1n[nH]c(OC(c2cccc(F)c2)C(F)(F)F)n1^~~~~~~~~~~~~~~~~~~~~~~~~~~~~~~~~~~~~~~~~~~~~~~~~~~~~~~Cc1ccc(NS(=O)(=O)c2c(C(=O)NCCC3CC3)sc3ccccc23)cc1C^~~~~~~~~~~~~~~~~~~~~~~~~~~~~~~~~~~~~~~~~~~~~~~~~CS(=O)(=O)N(CC(=O)O)c1ccc(Nc2ccc(N3CCCC3=O)cc2N2CCCC2=O)cc1^~~~~~~~~~~~~~~~~~~~~~~~~~~~~~~~~~~~~~~~Cc1c(C(=O)N2C[C@@H](F)C[C@H]2C(=O)O)cnc2cc(O)nn12^~~~~~~~~~~~~~~~~~~~~~~~~~~~~~~~~~~~~~~~~~~~~~~~~~CC(C(=O)Nc1nc(N)c(N)c(=O)[nH]1)c1ccccc1^~~~~~~~~~~~~~~~~~~~~~~~~~~~~~~~~~~~~~~~~~~~~~~~~~~~~~~~~~~~COC(=O)c1n[nH]c2cccc(-c3cc4ncnc(O)c4s3)c12^~~~~~~~~~~~~~~~~~~~~~~~~~~~~~~~~~~~~~~~~~~~~~~~~~~~~~~~~Clc1cccc(-c2csc(CNc3ccccc3CNC3CCCC3)n2)c1^~~~~~~~~~~~~~~~~~~~~~~~~~~~~~~~~~~~~~~~~~~~~~~~~~~~~~~~~~Nc1ccc2nc(-c3ccc(N4CCC(COc5ccc(C(=O)N6CCOCC6)cc5)CC4)cc3)cn2c1^~~~~~~~~~~~~~~~~~~~~~~~~~~~~~~~~~~~~COc1ccc2[nH]c3c(N4CCN(c5ccc(N6N=C(N)CC6=O)cc5)CC4)ncnc3c2c1^~~~~~~~~~~~~~~~~~~~~~~~~~~~~~~~~~~~~~~~COC(=O)C(C(=O)[C@@H](N)CC#N)N(c1cc(C)ccc1C)S(=O)(=O)c1ccc(C)cc1^~~~~~~~~~~~~~~~~~~~~~~~~~~~~~~~~~~~CC(C)(C)C(=O)Nc1ccc(F)c(F)c1C(=O)Nc1cc(Br)c(Br)cc1N^~~~~~~~~~~~~~~~~~~~~~~~~~~~~~~~~~~~~~~~~~~~~~~~CC(C)c1ccc(O)c(C(C)(O)CC(=O)c2cccc(NC(=O)c3ccc(C#N)cc3F)c2)c1^~~~~~~~~~~~~~~~~~~~~~~~~~~~~~~~~~~~~~CCC(C(=O)O)C(=O)NC(C)(C(=O)OC)C(F)(F)F^~~~~~~~~~~~~~~~~~~~~~~~~~~~~~~~~~~~~~~~~~~~~~~~~~~~~~~~~~~~~COc1cc(F)c(F)cc1COC(=O)c1c(Cl)cnc2c1OCCO2^~~~~~~~~~~~~~~~~~~~~~~~~~~~~~~~~~~~~~~~~~~~~~~~~~~~~~~~~~CSc1ccc(OCCNc2cc(O)ncn2)cc1^~~~~~~~~~~~~~~~~~~~~~~~~~~~~~~~~~~~~~~~~~~~~~~~~~~~~~~~~~~~~~~~~~~~~~~~CCCCNC(=O)c1cc(F)ccc1-c1ccc(S(=O)(=O)N(CC(=O)O)c2ccc(OCC)cc2)cc1^~~~~~~~~~~~~~~~~~~~~~~~~~~~~~~~~~~Cc1cc(OC(c2ccc(F)cc2)c2ccc(C#N)cc2)nc(C(C)C)n1^~~~~~~~~~~~~~~~~~~~~~~~~~~~~~~~~~~~~~~~~~~~~~~~~~~~~CC1CCCC(=Nc2cc(N)c(F)cc2Cl)C1^~~~~~~~~~~~~~~~~~~~~~~~~~~~~~~~~~~~~~~~~~~~~~~~~~~~~~~~~~~~~~~~~~~~~~Cc1cc(C(O)C2C(=O)[C@H](C)N(C(=O)OC(C)(C)C)C2=O)cc(C)c1O^~~~~~~~~~~~~~~~~~~~~~~~~~~~~~~~~~~~~~~~~~~~CCC(=O)C(C)(C(=O)c1cnn(C)c1)C1(O)C=C2CC[C@@H]3C(=C2CC1)CC[C@]1(C)C(=O)CC[C@@H]31^~~~~~~~~~~~~~~~~~~Cn1nc(COc2ccc(F)cc2)c2c1CCN(C(=O)c1nnsc1N)C2^~~~~~~~~~~~~~~~~~~~~~~~~~~~~~~~~~~~~~~~~~~~~~~~~~~~~~~CN1CCCC(C)(NC(=O)Cc2cc(S(F)(F)(F)(F)F)ccc2N)C1^~~~~~~~~~~~~~~~~~~~~~~~~~~~~~~~~~~~~~~~~~~~~~~~~~~~~CC(=O)C(N(C(C)=O)C(C)=O)C(C)(O)c1ccc2c(ccc3ccccc32)c1^~~~~~~~~~~~~~~~~~~~~~~~~~~~~~~~~~~~~~~~~~~~~~Nc1c(C(=O)N2CCCC2COc2ccc(C(=O)NC3CC3)cc2)sc2cc(C(F)(F)F)cnc12^~~~~~~~~~~~~~~~~~~~~~~~~~~~~~~~~~~~~~CC(C)n1ccc2cc(C(=O)Oc3nc(O)cc4c3CCCC4)ccc21^~~~~~~~~~~~~~~~~~~~~~~~~~~~~~~~~~~~~~~~~~~~~~~~~~~~~~~~Cc1c(C(=O)Nc2cc3ccc(O)cc3oc2=O)cnc(O)c1C#N^~~~~~~~~~~~~~~~~~~~~~~~~~~~~~~~~~~~~~~~~~~~~~~~~~~~~~~~~O=C(c1ccc(CNCc2ccccc2)o1)N1CC(O)(C2CC2)C1^~~~~~~~~~~~~~~~~~~~~~~~~~~~~~~~~~~~~~~~~~~~~~~~~~~~~~~~~~CN1CCN(c2ccc(C(=O)NCCCOc3c(F)c(F)c(F)c(F)c3F)cc2)CC1^~~~~~~~~~~~~~~~~~~~~~~~~~~~~~~~~~~~~~~~~~~~~~~Cc1nn(C)cc1C(OC(=O)Cc1cccc(-c2cccc(C(=O)O)c2)c1)C(F)F^~~~~~~~~~~~~~~~~~~~~~~~~~~~~~~~~~~~~~~~~~~~~~COc1ccc(S(=O)(=O)N(C(=O)[C@H](OC)c2ccccc2)c2cc(Cl)ccc2OC)cc1^~~~~~~~~~~~~~~~~~~~~~~~~~~~~~~~~~~~~~~CC(C)n1ccc2c(C(=O)Oc3nc(-c4cccnc4)n[nH]3)cccc21^~~~~~~~~~~~~~~~~~~~~~~~~~~~~~~~~~~~~~~~~~~~~~~~~~~~CCOc1ccc(N(C2(CC(=O)O)CC(=O)N(c3ccccc3)C2=O)S(=O)(=O)c2ccc3nncn3c2)cc1^~~~~~~~~~~~~~~~~~~~~~~~~~~~~Cc1c(NC2CC2(C)C)c(=O)oc2cc(O)ccc12^~~~~~~~~~~~~~~~~~~~~~~~~~~~~~~~~~~~~~~~~~~~~~~~~~~~~~~~~~~~~~~~~CCOc1c(Br)cc(F)cc1NC(=O)Cc1cccc(O)c1^~~~~~~~~~~~~~~~~~~~~~~~~~~~~~~~~~~~~~~~~~~~~~~~~~~~~~~~~~~~~~~CC(C)(C)C(CC(=O)O)NC(=O)c1ccc(NC(=O)COC(=O)c2ccc(N)cc2)cc1^~~~~~~~~~~~~~~~~~~~~~~~~~~~~~~~~~~~~~~~~COc1cccc(Cl)c1Nc1ccc(CCC(C#N)(Cn2cncn2)c2ccccc2)cc1^~~~~~~~~~~~~~~~~~~~~~~~~~~~~~~~~~~~~~~~~~~~~~~~COc1nc(-c2ccc(CN(c3ccccc3F)S(C)(=O)=O)cc2)c(C#N)c(C)c1Cl^~~~~~~~~~~~~~~~~~~~~~~~~~~~~~~~~~~~~~~~~~~COC(=O)c1ccc2c(c1)nc(C(=O)CC(C)C)n2C1CCCCC1^~~~~~~~~~~~~~~~~~~~~~~~~~~~~~~~~~~~~~~~~~~~~~~~~~~~~~~~O=C(CCc1ccccc1O)Nc1cnc(-c2ccc(O)cc2)nc1^~~~~~~~~~~~~~~~~~~~~~~~~~~~~~~~~~~~~~~~~~~~~~~~~~~~~~~~~~~~CC(O)c1ccc(-c2cc3nnnn3c3ccccc23)cc1Cl^~~~~~~~~~~~~~~~~~~~~~~~~~~~~~~~~~~~~~~~~~~~~~~~~~~~~~~~~~~~~~Cn1nc(-c2nc(-c3ccccc3)no2)c2c1CCN(c1ccc(SCCl)cc1)C2^~~~~~~~~~~~~~~~~~~~~~~~~~~~~~~~~~~~~~~~~~~~~~~~Cc1cc(NC(=O)c2cccs2)c(N2CCC(c3cccnc3)C2)cc1C^~~~~~~~~~~~~~~~~~~~~~~~~~~~~~~~~~~~~~~~~~~~~~~~~~~~~~~CCN(CC)C(=O)c1cc(Nc2ccc(CNC3CCCCC3)cc2)c(O)c(OC)c1^~~~~~~~~~~~~~~~~~~~~~~~~~~~~~~~~~~~~~~~~~~~~~~~~Cc1ccc(-c2cc(-c3cccc(-c4cncc(OC5CNC5)n4)c3)nc(N)n2)cc1C^~~~~~~~~~~~~~~~~~~~~~~~~~~~~~~~~~~~~~~~~~~~Nc1cc(-c2ccc(Nc3cc(CO)ccc3N)cc2Cl)n[nH]1^~~~~~~~~~~~~~~~~~~~~~~~~~~~~~~~~~~~~~~~~~~~~~~~~~~~~~~~~~~CCCC(=O)c1ccccc1N(C)C(=O)c1ccc(Cl)cc1^~~~~~~~~~~~~~~~~~~~~~~~~~~~~~~~~~~~~~~~~~~~~~~~~~~~~~~~~~~~~~N[C@H](C1CCCCC1)C(F)(F)c1ccc2c3c(cnc2c1)CCCC3^~~~~~~~~~~~~~~~~~~~~~~~~~~~~~~~~~~~~~~~~~~~~~~~~~~~~~CC(C)CC(=O)NCCCOc1c(F)c(F)c(F)c(F)c1F^~~~~~~~~~~~~~~~~~~~~~~~~~~~~~~~~~~~~~~~~~~~~~~~~~~~~~~~~~~~~~CC(=O)C1(C(=O)NC(Cc2cc(OC(F)(F)F)ccc2C)C(=O)O)CCC1^~~~~~~~~~~~~~~~~~~~~~~~~~~~~~~~~~~~~~~~~~~~~~~~~O=C(O)c1ccc(C(=O)NCCc2n[nH]c3ccccc23)cc1^~~~~~~~~~~~~~~~~~~~~~~~~~~~~~~~~~~~~~~~~~~~~~~~~~~~~~~~~~~CC(C)(C)OC(=O)N1CCNC(c2ccc(-c3cc(OC4CCNC4)ccc3F)cc2)C1^~~~~~~~~~~~~~~~~~~~~~~~~~~~~~~~~~~~~~~~~~~~~COc1nccc2c(N3CCCC(Cc4ccc(C)cn4)C3)c[nH]c12^~~~~~~~~~~~~~~~~~~~~~~~~~~~~~~~~~~~~~~~~~~~~~~~~~~~~~~~~CN1C(=O)C(Nc2c(CO)c(-c3ccccc3)nn2C)c2cccc(C(F)(F)F)c21^~~~~~~~~~~~~~~~~~~~~~~~~~~~~~~~~~~~~~~~~~~~~Cn1nc(-c2nc(-c3ccccc3Nc3ncns3)no2)c2c1CCNC2^~~~~~~~~~~~~~~~~~~~~~~~~~~~~~~~~~~~~~~~~~~~~~~~~~~~~~~~COc1ccc(-c2cnc3[nH]ccc3c2F)c(N(CC(=O)O)S(C)(=O)=O)c1^~~~~~~~~~~~~~~~~~~~~~~~~~~~~~~~~~~~~~~~~~~~~~~CC(CCC(=O)OC1CCC(C#N)CC1)N1CCOCC1^~~~~~~~~~~~~~~~~~~~~~~~~~~~~~~~~~~~~~~~~~~~~~~~~~~~~~~~~~~~~~~~~~N#Cc1cc(NC(=O)c2cccc(-c3cccc(Cl)c3Cl)c2)cc(F)c1F^~~~~~~~~~~~~~~~~~~~~~~~~~~~~~~~~~~~~~~~~~~~~~~~~~~CCC(C)c1ncncc1N(c1cc(C)ccc1C)S(=O)(=O)c1ccc(OC)cc1^~~~~~~~~~~~~~~~~~~~~~~~~~~~~~~~~~~~~~~~~~~~~~~~~COC(=O)CN1CCN(c2cc(OC)nc(N(C)C)n2)CC1^~~~~~~~~~~~~~~~~~~~~~~~~~~~~~~~~~~~~~~~~~~~~~~~~~~~~~~~~~~~~~CCC1(C(=O)Oc2cnc3ccsc3c2)CCCNC1^~~~~~~~~~~~~~~~~~~~~~~~~~~~~~~~~~~~~~~~~~~~~~~~~~~~~~~~~~~~~~~~~~~~COc1ccc(S(=O)(=O)N(C(=O)c2c(OC)cccc2OC)c2cc(Cl)ccc2OC)cc1^~~~~~~~~~~~~~~~~~~~~~~~~~~~~~~~~~~~~~~~~~Cc1ccc(SCC(C2CC2)N(C)C(=O)c2nn(-c3ccccc3)c(=O)c(C#N)c2C)cc1^~~~~~~~~~~~~~~~~~~~~~~~~~~~~~~~~~~~~~~~COc1ccc(C(O)(c2cnn(-c3ccc(F)cc3)c2N)C(C(C)=O)n2c(Cl)nnc2Cl)cc1^~~~~~~~~~~~~~~~~~~~~~~~~~~~~~~~~~~~~COCCn1c(=O)[nH]c2cc(C(=O)Nc3ccc(N4CCCC4=O)cc3N3CCCC3=O)ccc2c1=O^~~~~~~~~~~~~~~~~~~~~~~~~~~~~~~~~~~~COC(=O)c1cc(N)nc(NCc2nc(-c3cccc(Cl)c3)cs2)n1^~~~~~~~~~~~~~~~~~~~~~~~~~~~~~~~~~~~~~~~~~~~~~~~~~~~~~~Cc1cc(Nc2cc(F)c(O)cc2F)ccc1F^~~~~~~~~~~~~~~~~~~~~~~~~~~~~~~~~~~~~~~~~~~~~~~~~~~~~~~~~~~~~~~~~~~~~~~CC(C)(C)OC(=O)N[C@@H](CC(=O)N(c1ccc2c(c1)OCCO2)S(=O)(=O)c1ccc2nncn2c1)C(=O)O^~~~~~~~~~~~~~~~~~~~~~~CCN(CC)C(=O)c1cc(Nc2cccc(C(N)C(=O)OC)c2)c(O)c(OC)c1^~~~~~~~~~~~~~~~~~~~~~~~~~~~~~~~~~~~~~~~~~~~~~~~NCCOc1c(F)c(F)c(F)c(F)c1N(c1cccc2cccnc12)S(=O)(=O)c1ccccc1O^~~~~~~~~~~~~~~~~~~~~~~~~~~~~~~~~~~~~~~~O=C(N[C@@H]1CC[C@H](O)C1)c1cccc2nccnc12^~~~~~~~~~~~~~~~~~~~~~~~~~~~~~~~~~~~~~~~~~~~~~~~~~~~~~~~~~~~CC(C)(C)OC(=O)NC1(C(=O)c2cc3c(s2)CCCC3)CC=CC1^~~~~~~~~~~~~~~~~~~~~~~~~~~~~~~~~~~~~~~~~~~~~~~~~~~~~~CC(=O)c1cc(-c2ccc(S(=O)(=O)NCCc3nnc(N)s3)cc2)cc(C(F)(F)F)c1^~~~~~~~~~~~~~~~~~~~~~~~~~~~~~~~~~~~~~~~Cc1ccc(-n2ncc(C(=O)N(Cc3ccccc3)C3CC3)c2-n2cccc2)cc1C^~~~~~~~~~~~~~~~~~~~~~~~~~~~~~~~~~~~~~~~~~~~~~~CC(C)(C)OC(=O)NCCn1cnc2cc(-c3ccc(CN4CCCC4C(=O)O)cc3)ccc21^~~~~~~~~~~~~~~~~~~~~~~~~~~~~~~~~~~~~~~~~~COC(=O)C(C)(NC(=O)c1nnc(C)s1)C(F)(F)F^~~~~~~~~~~~~~~~~~~~~~~~~~~~~~~~~~~~~~~~~~~~~~~~~~~~~~~~~~~~~~O=C(OC[C@]12CC[C@H](O1)[C@H](C(=O)Nc1ccc(N3CCCC3=O)cc1N1CCCC1=O)C2)c1ccccc1^~~~~~~~~~~~~~~~~~~~~~~~CCOC(=O)C1CCN(C2CCN(Cc3c(O)c(OCC)cc(Br)c3Br)CC2)CC1^~~~~~~~~~~~~~~~~~~~~~~~~~~~~~~~~~~~~~~~~~~~~~~~O=C(O)CCn1c(COC(=O)CCc2ccc(S(=O)(=O)N3CCCc4ccccc43)cc2)nc2ccccc21^~~~~~~~~~~~~~~~~~~~~~~~~~~~~~~~~~Cc1c(F)c(F)cc(F)c1N(C)CCc1cccc(C(=O)O)c1^~~~~~~~~~~~~~~~~~~~~~~~~~~~~~~~~~~~~~~~~~~~~~~~~~~~~~~~~~~Cc1ccc(OCc2nc(CCN(C)C(=O)C3CSC(N)=N3)no2)c(C)c1^~~~~~~~~~~~~~~~~~~~~~~~~~~~~~~~~~~~~~~~~~~~~~~~~~~~NC(=O)c1cccc(N2CCC(COc3ccc(C(=O)N4CCOCC4)cc3)CC2)c1C(F)(F)F^~~~~~~~~~~~~~~~~~~~~~~~~~~~~~~~~~~~~~~~Cc1ccc(OCc2nc(CCN(C)C(=O)C(N)Cc3c[nH]c4cc(F)ccc34)no2)c(C)c1^~~~~~~~~~~~~~~~~~~~~~~~~~~~~~~~~~~~~~~CS(=O)(=O)N(Cc1ccc(-c2cc3[nH]ncc3cc2F)cc1)c1ccccc1F^~~~~~~~~~~~~~~~~~~~~~~~~~~~~~~~~~~~~~~~~~~~~~~~O=C(Nc1cc(=O)[nH]c(NC2CCCCC2)n1)c1cc(Cl)cc(Cl)c1^~~~~~~~~~~~~~~~~~~~~~~~~~~~~~~~~~~~~~~~~~~~~~~~~~~CCOC(=O)n1nc(-c2ccc(Cl)cc2)cc1NC1CCC2(C1)CN(C(=O)OC(C)(C)C)C2^~~~~~~~~~~~~~~~~~~~~~~~~~~~~~~~~~~~~~COc1nc(-c2ccc(CN(c3ccccc3F)S(C)(=O)=O)cc2)c(C#N)c(C)c1Cl^~~~~~~~~~~~~~~~~~~~~~~~~~~~~~~~~~~~~~~~~~~CCn1nc(NC(=O)c2cccc(-c3ccc(C)cc3F)c2)cc1CO^~~~~~~~~~~~~~~~~~~~~~~~~~~~~~~~~~~~~~~~~~~~~~~~~~~~~~~~~Cc1c[nH]c(C)c1CCC(=O)Nc1nnc(C2CCN(C(=O)c3ccccc3)CC2)s1^~~~~~~~~~~~~~~~~~~~~~~~~~~~~~~~~~~~~~~~~~~~~COc1ccc(Cl)c(C(=O)OC(c2ccc(F)cc2)c2ccc(C#N)cc2)c1^~~~~~~~~~~~~~~~~~~~~~~~~~~~~~~~~~~~~~~~~~~~~~~~~~O=c1cc(Nc2ccncc2C(F)F)nc(NC2CCCCC2)[nH]1^~~~~~~~~~~~~~~~~~~~~~~~~~~~~~~~~~~~~~~~~~~~~~~~~~~~~~~~~~~CC(C)(C)n1nnc2cc(-c3ccnc4ccc(F)cc34)c(F)cc21^~~~~~~~~~~~~~~~~~~~~~~~~~~~~~~~~~~~~~~~~~~~~~~~~~~~~~~O=C(Oc1ccc2cc(Br)ccc2c1)c1ccc(CS(=O)(=O)Cc2ccccc2F)o1^~~~~~~~~~~~~~~~~~~~~~~~~~~~~~~~~~~~~~~~~~~~~~CCN(C(=O)c1cc(C)nc2ccccc12)[C@@H]1CCCC[C@H]1O^~~~~~~~~~~~~~~~~~~~~~~~~~~~~~~~~~~~~~~~~~~~~~~~~~~~~~CC(C)(C)C(=O)Nc1cnccc1COC(=O)C1(n2cccc2)CCCCC1^~~~~~~~~~~~~~~~~~~~~~~~~~~~~~~~~~~~~~~~~~~~~~~~~~~~~CN(CC1CCOCC1)C1CCN(c2cc(NC(=O)c3ccccc3O)ccc2Cl)C1^~~~~~~~~~~~~~~~~~~~~~~~~~~~~~~~~~~~~~~~~~~~~~~~~~Nc1cc(NCCOCCOCCOCCOCc2ccccc2)cc(Br)c1O^~~~~~~~~~~~~~~~~~~~~~~~~~~~~~~~~~~~~~~~~~~~~~~~~~~~~~~~~~~~~CS(=O)(=O)N(c1ccc(C(=O)O)c(C(F)(F)F)c1)c1c(Cl)cc(C#N)cc1Cl^~~~~~~~~~~~~~~~~~~~~~~~~~~~~~~~~~~~~~~~~CCCc1ccccc1OCCC1CCCN(C(=O)c2snc(-c3cccc(OC)c3)c2N)C1^~~~~~~~~~~~~~~~~~~~~~~~~~~~~~~~~~~~~~~~~~~~~~~CC(=O)Nc1ccc(C(=O)N(Cc2ccccc2)C2CC2)cn1^~~~~~~~~~~~~~~~~~~~~~~~~~~~~~~~~~~~~~~~~~~~~~~~~~~~~~~~~~~~CC1(C#CC2(O)C(=O)N(C(=O)c3ccccc3)c3sc4c(c32)CCCC4)COC1^~~~~~~~~~~~~~~~~~~~~~~~~~~~~~~~~~~~~~~~~~~~~Nc1nnc(CCNS(=O)(=O)c2ccc(-c3ccc4ccncc4n3)cc2)s1^~~~~~~~~~~~~~~~~~~~~~~~~~~~~~~~~~~~~~~~~~~~~~~~~~~~Cc1cccc(N2CCC(c3cc(CCO)[nH]n3)C2)c1C#N^~~~~~~~~~~~~~~~~~~~~~~~~~~~~~~~~~~~~~~~~~~~~~~~~~~~~~~~~~~~~CCOC(=O)C(C(=O)OCC)(C(=O)c1nnn(-c2cc(C)ccc2F)c1-c1cccnc1)c1ccc(OC)nc1^~~~~~~~~~~~~~~~~~~~~~~~~~~~~~COc1cc(N2CC(O)(C3CC3)C2)c(OC)c(OC)n1^~~~~~~~~~~~~~~~~~~~~~~~~~~~~~~~~~~~~~~~~~~~~~~~~~~~~~~~~~~~~~~COC(=O)C[C@@H]1CCCN1S(=O)(=O)c1ccoc1^~~~~~~~~~~~~~~~~~~~~~~~~~~~~~~~~~~~~~~~~~~~~~~~~~~~~~~~~~~~~~~CN1CCCC(C)(NC(=O)Cc2cccc(C(=O)OC(C)(C)C)n2)C1^~~~~~~~~~~~~~~~~~~~~~~~~~~~~~~~~~~~~~~~~~~~~~~~~~~~~~CCNC(=O)c1ccccc1-c1ccc(S(=O)(=O)NCCc2nnc(N)s2)cc1^~~~~~~~~~~~~~~~~~~~~~~~~~~~~~~~~~~~~~~~~~~~~~~~~~CCOc1ccc(Nc2nc(-c3cc(O)c(N)cc3OC)nc3c2cnn3-c2ccccc2)cc1^~~~~~~~~~~~~~~~~~~~~~~~~~~~~~~~~~~~~~~~~~~~NC(C(=O)O)c1ccc(-c2cc3ncnc(O)c3s2)c(F)c1^~~~~~~~~~~~~~~~~~~~~~~~~~~~~~~~~~~~~~~~~~~~~~~~~~~~~~~~~~~Cc1ccc(S(=O)(=O)Nc2cccc(C(=O)Nc3ccc(N4CCCC4=O)cc3N3CCCC3=O)c2C)cc1^~~~~~~~~~~~~~~~~~~~~~~~~~~~~~~~~COCCSc1nsc(N2CCc3nc(-c4ccc(C)cc4)sc3C2)n1^~~~~~~~~~~~~~~~~~~~~~~~~~~~~~~~~~~~~~~~~~~~~~~~~~~~~~~~~~COC(=O)Cc1ccc(Nc2cc(NC3CC3)nc(SC)n2)cc1F^~~~~~~~~~~~~~~~~~~~~~~~~~~~~~~~~~~~~~~~~~~~~~~~~~~~~~~~~~~CCOCCOc1ccc(-c2ccc(C(C(=O)OCC)C(=O)OCC)cc2Cl)cc1^~~~~~~~~~~~~~~~~~~~~~~~~~~~~~~~~~~~~~~~~~~~~~~~~~~COC(=O)CCCC(=O)N(c1ccc(C(=O)O)cc1C)S(=O)(=O)c1ccc(C)cc1^~~~~~~~~~~~~~~~~~~~~~~~~~~~~~~~~~~~~~~~~~~~CCc1csc(C(=O)N2CCc3c(c(-c4nc(-c5cccc(F)c5)no4)nn3C)C2)n1^~~~~~~~~~~~~~~~~~~~~~~~~~~~~~~~~~~~~~~~~~~CCC1(CO)CCN(C(=O)[C@H](C(C)C)N2C(=O)c3cc(Cl)c(Cl)cc3C2=O)CC1^~~~~~~~~~~~~~~~~~~~~~~~~~~~~~~~~~~~~~~COc1ccc(C(=O)NC[C@H](O)CN2CCOCC2)c(OC(=S)N(C)C)c1^~~~~~~~~~~~~~~~~~~~~~~~~~~~~~~~~~~~~~~~~~~~~~~~~~CCc1ccc(N(c2cccc(N3CC(C(=O)O)CC3=O)c2)S(=O)(=O)c2ccc3nncn3c2)cc1^~~~~~~~~~~~~~~~~~~~~~~~~~~~~~~~~~~COC(=O)C(C)(C(=O)C(C)(F)F)N(c1cccc(C)c1)S(C)(=O)=O^~~~~~~~~~~~~~~~~~~~~~~~~~~~~~~~~~~~~~~~~~~~~~~~~COC(=O)Cc1ccc(N)cc1N=C1C=CC(=O)c2c(O)ccc(O)c21^~~~~~~~~~~~~~~~~~~~~~~~~~~~~~~~~~~~~~~~~~~~~~~~~~~~~N#CCCCN1C(=O)C(O)(C(C(=O)c2ccccn2)C(O)c2ccc(OCC(N)=O)c(Cl)c2)c2ccccc21^~~~~~~~~~~~~~~~~~~~~~~~~~~~~O=C(c1cc2c(s1)CCCC2)c1ccccc1O^~~~~~~~~~~~~~~~~~~~~~~~~~~~~~~~~~~~~~~~~~~~~~~~~~~~~~~~~~~~~~~~~~~~~~COC(=O)c1nnn(-c2ccccc2OC)c1Nc1ccc(CCCNC(=O)OC(C)(C)C)c(F)c1^~~~~~~~~~~~~~~~~~~~~~~~~~~~~~~~~~~~~~~~CCCc1ccccc1OCCC1CCCN(C(=O)c2ccc(C(C)N3CCCCC3)o2)C1^~~~~~~~~~~~~~~~~~~~~~~~~~~~~~~~~~~~~~~~~~~~~~~~~CCCCn1c(=S)[nH]c2cc(C)n(C(c3ccc(F)cc3)c3ccc(C#N)cc3)c2c1=O^~~~~~~~~~~~~~~~~~~~~~~~~~~~~~~~~~~~~~~~~COc1ccc(OC2(C(=O)Oc3nc4ccccc4nc3C)CCCCC2)cc1^~~~~~~~~~~~~~~~~~~~~~~~~~~~~~~~~~~~~~~~~~~~~~~~~~~~~~~CCCN1C(=O)C(O)(CC(=O)c2ccc(-c3cccc(OC)c3N)s2)c2cc(Br)ccc21^~~~~~~~~~~~~~~~~~~~~~~~~~~~~~~~~~~~~~~~~Cc1cc(C#N)ccc1-c1ccc2c(c1)ncn2CCNC(=O)OC(C)(C)C^~~~~~~~~~~~~~~~~~~~~~~~~~~~~~~~~~~~~~~~~~~~~~~~~~~~O=C(CS(=O)(=O)c1ccc(F)cc1F)NCCOCCOCCOCCOCc1ccccc1^~~~~~~~~~~~~~~~~~~~~~~~~~~~~~~~~~~~~~~~~~~~~~~~~~CC(C)(C)OC(=O)N[C@H]1C[C@@H](C(=O)N(c2ccc3c(c2)OCCO3)S(=O)(=O)c2ccc3nncn3c2)C1^~~~~~~~~~~~~~~~~~~~~CCN(c1cc(F)ccc1C(F)(F)F)S(=O)(=O)c1ccc2c(c1)c(=O)n(C)c(=O)n2C^~~~~~~~~~~~~~~~~~~~~~~~~~~~~~~~~~~~~~O=C(NC1(c2ccsc2)CC1)C1CCN(S(=O)(=O)c2ccccc2)CC1^~~~~~~~~~~~~~~~~~~~~~~~~~~~~~~~~~~~~~~~~~~~~~~~~~~~CN(C[C@H](NCc1ccccc1)C(=O)O)c1cccc(Br)c1C#N^~~~~~~~~~~~~~~~~~~~~~~~~~~~~~~~~~~~~~~~~~~~~~~~~~~~~~~~O=C(NC1CN(CC(F)F)C1)c1ccc2[nH]c(C(=O)O)nc2c1^~~~~~~~~~~~~~~~~~~~~~~~~~~~~~~~~~~~~~~~~~~~~~~~~~~~~~~COc1ccc(F)cc1-c1cc2nnnn2c2ccccc12^~~~~~~~~~~~~~~~~~~~~~~~~~~~~~~~~~~~~~~~~~~~~~~~~~~~~~~~~~~~~~~~~~CC(C)n1cc(-c2ccnc(N)n2)c2cc(Nc3ncc(Br)s3)ncc21^~~~~~~~~~~~~~~~~~~~~~~~~~~~~~~~~~~~~~~~~~~~~~~~~~~~~Cc1cc(-c2ccccc2)n2nc(C(=O)Nc3cc(COCCC(F)(F)F)n(C)n3)cc2n1^~~~~~~~~~~~~~~~~~~~~~~~~~~~~~~~~~~~~~~~~~CN(CC(=O)Nc1cc(CO)ccc1N)Cc1ccc(-c2cc(C(F)(F)F)cnc2N(C)C)cc1^~~~~~~~~~~~~~~~~~~~~~~~~~~~~~~~~~~~~~~~CN(C1=CCC2(C)C(=O)CCCC2=C1)c1cc(CC2CCCNC2)ncn1^~~~~~~~~~~~~~~~~~~~~~~~~~~~~~~~~~~~~~~~~~~~~~~~~~~~~COC(=O)CN(c1ccc(-c2cc(C)c(C)cc2C)cc1)S(=O)(=O)c1ccccc1^~~~~~~~~~~~~~~~~~~~~~~~~~~~~~~~~~~~~~~~~~~~~CCC(C(=O)Oc1cc(C(N)=O)cc(C(N)=O)c1)N(c1ccc(C)c(Cl)c1)S(C)(=O)=O^~~~~~~~~~~~~~~~~~~~~~~~~~~~~~~~~~~~CCC1CCCCN1c1ccc(N)cc1-c1ccc(Cl)cc1CSc1nnc(N)s1^~~~~~~~~~~~~~~~~~~~~~~~~~~~~~~~~~~~~~~~~~~~~~~~~~~~~CCOc1nn(C(=O)c2cnc(C)cn2)c(OCC)c1-c1ccc(OC)nc1^~~~~~~~~~~~~~~~~~~~~~~~~~~~~~~~~~~~~~~~~~~~~~~~~~~~~CCc1ccc(N(C(=O)[C@@H](O)CC(C)C)c2nc(C)c(CC)c(=O)[nH]2)cc1^~~~~~~~~~~~~~~~~~~~~~~~~~~~~~~~~~~~~~~~~~Nc1cc(NCCOCCOCCOCCOCc2ccccc2)cc(Br)c1O^~~~~~~~~~~~~~~~~~~~~~~~~~~~~~~~~~~~~~~~~~~~~~~~~~~~~~~~~~~~~O=C(COc1ccc(Cl)cc1)Nc1noc(C(F)(F)F)n1^~~~~~~~~~~~~~~~~~~~~~~~~~~~~~~~~~~~~~~~~~~~~~~~~~~~~~~~~~~~~~CNc1cccc(Nc2nc3c(Cl)cc(C)cn3n2)n1^~~~~~~~~~~~~~~~~~~~~~~~~~~~~~~~~~~~~~~~~~~~~~~~~~~~~~~~~~~~~~~~~~Cn1nc(-c2cc(F)c(O)cc2C(=O)O)cc(Cl)c1=O^~~~~~~~~~~~~~~~~~~~~~~~~~~~~~~~~~~~~~~~~~~~~~~~~~~~~~~~~~~~~COC(=O)[C@H]1CN(C(=O)c2cc(O)c(F)cc2Br)CCO1^~~~~~~~~~~~~~~~~~~~~~~~~~~~~~~~~~~~~~~~~~~~~~~~~~~~~~~~~CCOC(=O)c1ccc(NC(=O)C2C3C=C(c4n[nH]c5c(N)cccc45)C(C3)C2C(=O)O)cc1^~~~~~~~~~~~~~~~~~~~~~~~~~~~~~~~~~CCOC(=O)CN1C(=O)C(CC(=O)c2ccncc2)(Nc2cc(N)nc(SC)n2)c2ccccc21^~~~~~~~~~~~~~~~~~~~~~~~~~~~~~~~~~~~~~~Cc1sc(C(=O)NC2CN(CC(F)F)C2)cc1N^~~~~~~~~~~~~~~~~~~~~~~~~~~~~~~~~~~~~~~~~~~~~~~~~~~~~~~~~~~~~~~~~~~~NCc1nc(-c2cccc(-c3ccc(C(N)CO)cc3)c2)cs1^~~~~~~~~~~~~~~~~~~~~~~~~~~~~~~~~~~~~~~~~~~~~~~~~~~~~~~~~~~~CN1CCCC(C)(NC(=O)Cc2cccc(C(=O)OC(C)(C)C)n2)C1^~~~~~~~~~~~~~~~~~~~~~~~~~~~~~~~~~~~~~~~~~~~~~~~~~~~~~CCOCCOc1ccc(-c2cc(C)c(C#N)c(C)c2)cc1^~~~~~~~~~~~~~~~~~~~~~~~~~~~~~~~~~~~~~~~~~~~~~~~~~~~~~~~~~~~~~~CC(C)n1ccc2cc(C(=O)O[C@@H]3C=CO[C@H](CO)[C@H]3O)ccc21^~~~~~~~~~~~~~~~~~~~~~~~~~~~~~~~~~~~~~~~~~~~~~Brc1cc(Nc2nnc3n2CCNC3)cnc1NC1CC1^~~~~~~~~~~~~~~~~~~~~~~~~~~~~~~~~~~~~~~~~~~~~~~~~~~~~~~~~~~~~~~~~~~Cn1cnc2cc(Br)c(N3CCN(C(=O)c4cc5ccccc5n4C)CC3)cc21^~~~~~~~~~~~~~~~~~~~~~~~~~~~~~~~~~~~~~~~~~~~~~~~~~COc1cccc(F)c1N(C)C(=O)C[C@H](NC(=O)OC(C)(C)C)C(=O)O^~~~~~~~~~~~~~~~~~~~~~~~~~~~~~~~~~~~~~~~~~~~~~~~O=C(Oc1nc(-c2cccnc2)n[nH]1)c1ccc(-c2cc(C(=O)O)no2)cc1^~~~~~~~~~~~~~~~~~~~~~~~~~~~~~~~~~~~~~~~~~~~~~CCOc1c(NC2(CC(=O)OC[C@@H](O)[C@@H](O)CO)CCCC2)c(=O)c1=O^~~~~~~~~~~~~~~~~~~~~~~~~~~~~~~~~~~~~~~~~~~~C[C@@H](NC(=O)[C@@H](N)CC(=O)O)C(=O)N(Cc1nc(C2CC2)cs1)C1C(C)(C)SC1(C)C^~~~~~~~~~~~~~~~~~~~~~~~~~~~~Cn1nc(-c2nc(C3CC3)no2)c2c1CCN(c1ccc(S(=O)(=O)c3ccccc3)cc1)C2^~~~~~~~~~~~~~~~~~~~~~~~~~~~~~~~~~~~~~~O=C(Cc1c[nH]c2ccccc12)C1(O)CCCOC1=O^~~~~~~~~~~~~~~~~~~~~~~~~~~~~~~~~~~~~~~~~~~~~~~~~~~~~~~~~~~~~~~~COc1ccc(Cl)cc1N(c1cn(C)c2ncnc(OC)c12)S(=O)(=O)c1ccc(F)cc1^~~~~~~~~~~~~~~~~~~~~~~~~~~~~~~~~~~~~~~~~~NC(=O)c1cccc2c(Nc3cc(N)c(Cl)cc3F)cccc12^~~~~~~~~~~~~~~~~~~~~~~~~~~~~~~~~~~~~~~~~~~~~~~~~~~~~~~~~~~~O=C(Cn1nnc(-c2ccccc2Oc2ccc(Cl)cc2Cl)n1)N1CC(O)(C2CC2)C1^~~~~~~~~~~~~~~~~~~~~~~~~~~~~~~~~~~~~~~~~~~~CNC(=O)C(C)NC(=O)c1cc(-c2ccc(Cl)cc2)nn1C^~~~~~~~~~~~~~~~~~~~~~~~~~~~~~~~~~~~~~~~~~~~~~~~~~~~~~~~~~~CC(C)(C)OC(=O)N1CCC(CC(=O)OCc2ccc(Br)c(Cl)c2)C(F)(F)C1^~~~~~~~~~~~~~~~~~~~~~~~~~~~~~~~~~~~~~~~~~~~~COC(=O)C(C)(NC(=O)c1cc2nc(OC)ccc2[nH]1)C(F)(F)F^~~~~~~~~~~~~~~~~~~~~~~~~~~~~~~~~~~~~~~~~~~~~~~~~~~~COc1ccc(-c2ccc(-c3nc4cc(N)ccc4o3)cc2)c(N(CC(=O)O)S(C)(=O)=O)c1^~~~~~~~~~~~~~~~~~~~~~~~~~~~~~~~~~~~~COc1cccc(F)c1N(C)C(=O)C[C@H](NC(=O)OC(C)(C)C)C(=O)O^~~~~~~~~~~~~~~~~~~~~~~~~~~~~~~~~~~~~~~~~~~~~~~~COCCOc1ccc(-c2cccc(OC)c2N)c(Br)c1^~~~~~~~~~~~~~~~~~~~~~~~~~~~~~~~~~~~~~~~~~~~~~~~~~~~~~~~~~~~~~~~~~O=C1C=C(O)CC(c2ccc(C(=O)c3ccccn3)o2)C1^~~~~~~~~~~~~~~~~~~~~~~~~~~~~~~~~~~~~~~~~~~~~~~~~~~~~~~~~~~~~O=C1COc2ccc(OC(=O)CN(Cc3c(F)cccc3Cl)S(=O)(=O)c3ccc(Cl)cc3)cc2N1^~~~~~~~~~~~~~~~~~~~~~~~~~~~~~~~~~~~CCOC(=O)C1(C(C)(O)C2=C/C(=N\\c3ccc([O-])c(C)c3)C=C(Cl)C2=O)CCC1^~~~~~~~~~~~~~~~~~~~~~~~~~~~~~~~~~~~~CCN1CCC[C@H]1CN1CCOc2ccc(C(C)O)cc2C1^~~~~~~~~~~~~~~~~~~~~~~~~~~~~~~~~~~~~~~~~~~~~~~~~~~~~~~~~~~~~~~CCOC(=O)c1cn2cc(-c3ccc(C(=O)N4CCCC4)cc3C)cc(C)c2n1^~~~~~~~~~~~~~~~~~~~~~~~~~~~~~~~~~~~~~~~~~~~~~~~~CCc1cc(C(=O)Nc2cc(F)c(N)cc2F)n(C)n1^~~~~~~~~~~~~~~~~~~~~~~~~~~~~~~~~~~~~~~~~~~~~~~~~~~~~~~~~~~~~~~~COC(=O)c1cc(F)c(Nc2ccc3c(=O)c(O)c(-c4ccc(O)c(O)c4)n(C)c3c2)c(F)c1^~~~~~~~~~~~~~~~~~~~~~~~~~~~~~~~~~CN(C(=O)c1cc(-c2ccc(N)nc2)ccc1F)c1nc2c(s1)C(=O)c1ccccc1C2=O^~~~~~~~~~~~~~~~~~~~~~~~~~~~~~~~~~~~~~~~O=C(Nc1ccc(Cl)c(Cl)c1)c1ccccc1C(=O)N1CCN2CCOCC2C1^~~~~~~~~~~~~~~~~~~~~~~~~~~~~~~~~~~~~~~~~~~~~~~~~~CCOC(=O)CNc1ccc(F)c(-c2cc(C(=O)O)cc(F)c2C)c1^~~~~~~~~~~~~~~~~~~~~~~~~~~~~~~~~~~~~~~~~~~~~~~~~~~~~~~COC(=O)c1nnn(-c2ccccc2OC)c1Nc1ccc(CCCNC(=O)OC(C)(C)C)c(F)c1^~~~~~~~~~~~~~~~~~~~~~~~~~~~~~~~~~~~~~~~CCN(c1cc2cn[nH]c2cc1OC)S(=O)(=O)c1ccc2c(c1)c(=O)n(C)c(=O)n2C^~~~~~~~~~~~~~~~~~~~~~~~~~~~~~~~~~~~~~~CC(C)(C)C(CO)COC(=O)CC1C(=O)NCCN1CCCc1ccccc1^~~~~~~~~~~~~~~~~~~~~~~~~~~~~~~~~~~~~~~~~~~~~~~~~~~~~~~CN(c1nc(-c2cccnc2)n[nH]1)C(COc1cccc(F)c1)C1CC1^~~~~~~~~~~~~~~~~~~~~~~~~~~~~~~~~~~~~~~~~~~~~~~~~~~~~CCOC(=O)c1cnn(-c2ccc(N(C)Cc3nn(C)cc3Cl)c(Cl)c2)c1N^~~~~~~~~~~~~~~~~~~~~~~~~~~~~~~~~~~~~~~~~~~~~~~~~N#Cc1cc(Nc2cc(N)c(Cl)cc2F)c2cc[nH]c2c1^~~~~~~~~~~~~~~~~~~~~~~~~~~~~~~~~~~~~~~~~~~~~~~~~~~~~~~~~~~~~Cc1ccc(C)c(N(CCCC(=O)N(Cc2nc3ccc(Cl)cc3[nH]2)C(C)C)S(C)(=O)=O)c1^~~~~~~~~~~~~~~~~~~~~~~~~~~~~~~~~~~CCOc1ccc2ncc(C(=O)O)c(OC(=O)c3cn4cc(Br)c(C)cc4n3)c2c1^~~~~~~~~~~~~~~~~~~~~~~~~~~~~~~~~~~~~~~~~~~~~~O=C(O)C1CCN(Cc2c(Cl)cccc2-c2cc(CO)cs2)CC1^~~~~~~~~~~~~~~~~~~~~~~~~~~~~~~~~~~~~~~~~~~~~~~~~~~~~~~~~~COC(=O)c1ccc(-c2ccc(NC(=O)c3ccc(Br)c(OC)c3)cc2)cc1F^~~~~~~~~~~~~~~~~~~~~~~~~~~~~~~~~~~~~~~~~~~~~~~~CN(C)CCNS(=O)(=O)c1ccc(N(CCN)Cc2nc(C3CC3)cs2)c2nonc12^~~~~~~~~~~~~~~~~~~~~~~~~~~~~~~~~~~~~~~~~~~~~~CCOC(=O)n1nc(-c2ccc(-c3c(Cl)cnnc3O)cc2)cc1N^~~~~~~~~~~~~~~~~~~~~~~~~~~~~~~~~~~~~~~~~~~~~~~~~~~~~~~~CC(=O)N(c1ccc(C(=O)O)c(C(F)(F)F)c1)S(C)(=O)=O.CCCCn1cc[n+](C)c1^~~~~~~~~~~~~~~~~~~~~~~~~~~~~~~~~~~~CC(C)(C)NC(=O)c1ccc(-c2ccc(Br)cc2NC(=O)c2ccccc2)c2ccccc12^~~~~~~~~~~~~~~~~~~~~~~~~~~~~~~~~~~~~~~~~~COc1ccccc1C(=O)Oc1ccc2nc(SC)ncc2c1^~~~~~~~~~~~~~~~~~~~~~~~~~~~~~~~~~~~~~~~~~~~~~~~~~~~~~~~~~~~~~~~~CNc1cccc(-c2ccc(NCC(=O)OC)cc2)c1C#N^~~~~~~~~~~~~~~~~~~~~~~~~~~~~~~~~~~~~~~~~~~~~~~~~~~~~~~~~~~~~~~~Cc1ccc2cccc(Oc3nc(C)c(C(=O)N4CCC(CN5CCCC(C)C5)CC4)s3)c2n1^~~~~~~~~~~~~~~~~~~~~~~~~~~~~~~~~~~~~~~~~~CCOC(=O)Cn1nc(C(F)(F)NC2CN(C(C)(C)C)C2)cc1C^~~~~~~~~~~~~~~~~~~~~~~~~~~~~~~~~~~~~~~~~~~~~~~~~~~~~~~~CC1=CC(C)(C)N(C(=O)OC(C)(C)C)c2ccc(-c3cccnc3)cc21^~~~~~~~~~~~~~~~~~~~~~~~~~~~~~~~~~~~~~~~~~~~~~~~~~COc1nc(C)c(C(C)(O)CC(=O)c2ccc(F)cc2F)cc1Br^~~~~~~~~~~~~~~~~~~~~~~~~~~~~~~~~~~~~~~~~~~~~~~~~~~~~~~~~O=C(Cc1c(F)cccc1Cl)N(Cc1ccccc1)C1CC1^~~~~~~~~~~~~~~~~~~~~~~~~~~~~~~~~~~~~~~~~~~~~~~~~~~~~~~~~~~~~~~CCOC(=O)c1sc2[nH]cc(C(=O)Nc3nc4ncc(C(C)C)cn4n3)c(=O)c2c1C^~~~~~~~~~~~~~~~~~~~~~~~~~~~~~~~~~~~~~~~~~CC(C)(C)OC(=O)N1CCC(CC(=O)Oc2ccc(O)c(C#N)c2C#N)C(F)(F)C1^~~~~~~~~~~~~~~~~~~~~~~~~~~~~~~~~~~~~~~~~~~O=C(Nc1ccc(-c2nc(Cn3cccn3)n[nH]2)cc1)c1ccc(NC(=O)c2ccco2)cc1^~~~~~~~~~~~~~~~~~~~~~~~~~~~~~~~~~~~~~~CCNc1ncc(C)cc1NC(=O)C(C)(C)c1cccc(F)c1^~~~~~~~~~~~~~~~~~~~~~~~~~~~~~~~~~~~~~~~~~~~~~~~~~~~~~~~~~~~~Cc1ccc(CC(=O)N2CCc3c(c(COc4ccc(F)cc4)nn3C)C2)s1^~~~~~~~~~~~~~~~~~~~~~~~~~~~~~~~~~~~~~~~~~~~~~~~~~~~CS(=O)(=O)N(CCCC(=O)O)c1cccc(-c2ccc(Cl)cc2C2CC(=O)Nc3ccccc3S2)c1^~~~~~~~~~~~~~~~~~~~~~~~~~~~~~~~~~~FC(F)(F)c1cccc(COC2(C3CC3)CNC2)c1^~~~~~~~~~~~~~~~~~~~~~~~~~~~~~~~~~~~~~~~~~~~~~~~~~~~~~~~~~~~~~~~~~Cc1ccc(N2CC(O)(C3CC3)C2)c(-c2ccc(N)nc2)c1^~~~~~~~~~~~~~~~~~~~~~~~~~~~~~~~~~~~~~~~~~~~~~~~~~~~~~~~~~Nc1nnc(SCc2cc(Cl)ccc2-c2cc(CC(=O)O)ccc2Cl)s1^~~~~~~~~~~~~~~~~~~~~~~~~~~~~~~~~~~~~~~~~~~~~~~~~~~~~~~COC(=O)c1cc(=O)c2cc(N=C3C=C[C@@]4(C)C(=C3)C(=O)C[C@@H]3[C@@H]4CC[C@]4(C)C(=O)CC[C@@H]34)ccc2[nH]1^~Cc1cc(C(F)(F)F)nc2sc(C(=O)N3CCCC(CN4CCN(C)CC4)C3)c(N)c12^~~~~~~~~~~~~~~~~~~~~~~~~~~~~~~~~~~~~~~~~~~CN1CCCC(C)(Nc2cc(N)ccc2OCc2ccccc2)C1^~~~~~~~~~~~~~~~~~~~~~~~~~~~~~~~~~~~~~~~~~~~~~~~~~~~~~~~~~~~~~~Cc1ccc(CC2CCCN(c3cc([Zn]Br)cc(F)c3F)C2)nc1^~~~~~~~~~~~~~~~~~~~~~~~~~~~~~~~~~~~~~~~~~~~~~~~~~~~~~~~~O=C1Cc2ncc(-c3cnn(C4CCC4)c3)cc2C(=O)N1^~~~~~~~~~~~~~~~~~~~~~~~~~~~~~~~~~~~~~~~~~~~~~~~~~~~~~~~~~~~~CCC(Oc1cccc(C)c1)C(=O)NC1(c2ccsc2)CC1^~~~~~~~~~~~~~~~~~~~~~~~~~~~~~~~~~~~~~~~~~~~~~~~~~~~~~~~~~~~~~Cc1nc(N)nc(N(c2cccc3cccnc23)S(=O)(=O)c2ccccc2O)c1C#N^~~~~~~~~~~~~~~~~~~~~~~~~~~~~~~~~~~~~~~~~~~~~~~CCCCCCCN(c1cc(F)cc(F)c1)S(=O)(=O)c1ccc2nnc(C)n2c1^~~~~~~~~~~~~~~~~~~~~~~~~~~~~~~~~~~~~~~~~~~~~~~~~~COc1ccc2c(c1NC(=O)Cc1cccc(O)c1)C(=O)CC2^~~~~~~~~~~~~~~~~~~~~~~~~~~~~~~~~~~~~~~~~~~~~~~~~~~~~~~~~~~~COCCNCC(C)C(=O)N(c1ccc(C(=O)O)cc1C)S(=O)(=O)c1ccccc1^~~~~~~~~~~~~~~~~~~~~~~~~~~~~~~~~~~~~~~~~~~~~~~Cc1nccc(CCNC(=O)c2ccc(OCc3ccccc3)cc2)n1^~~~~~~~~~~~~~~~~~~~~~~~~~~~~~~~~~~~~~~~~~~~~~~~~~~~~~~~~~~~N#CC1CCC(NCC(=O)Nc2ccc(NC(=O)c3ccco3)cc2)CC1^~~~~~~~~~~~~~~~~~~~~~~~~~~~~~~~~~~~~~~~~~~~~~~~~~~~~~~CC(C)(C)C(CC(=O)O)NC(=O)c1ccc(N2CCOCC2)c(Cl)c1^~~~~~~~~~~~~~~~~~~~~~~~~~~~~~~~~~~~~~~~~~~~~~~~~~~~~CCOC(=O)c1cn2c(N3CCCC3(C(=O)O)c3ccccc3)cccc2n1^~~~~~~~~~~~~~~~~~~~~~~~~~~~~~~~~~~~~~~~~~~~~~~~~~~~~COC(=O)C(N)c1ccc(NCC(c2ccco2)N2CCOCC2)cc1^~~~~~~~~~~~~~~~~~~~~~~~~~~~~~~~~~~~~~~~~~~~~~~~~~~~~~~~~~COCC[C@@H]1CN(C(=O)Cc2ccc(N)cc2N)CCN1C(=O)OC(C)(C)C^~~~~~~~~~~~~~~~~~~~~~~~~~~~~~~~~~~~~~~~~~~~~~~~COc1cc2ccccc2c(-c2c[nH]c3ncnc(N)c23)c1O^~~~~~~~~~~~~~~~~~~~~~~~~~~~~~~~~~~~~~~~~~~~~~~~~~~~~~~~~~~~CN(CC1CCOCC1)C1CCN(c2cc(Cl)cc(-c3ccc(C#N)c(F)c3)c2)C1^~~~~~~~~~~~~~~~~~~~~~~~~~~~~~~~~~~~~~~~~~~~~~Cc1cc(Br)cc(C#CCN2C(=O)C(O)(CC(=O)c3ccc4c(c3)OCCO4)c3ccccc32)n1^~~~~~~~~~~~~~~~~~~~~~~~~~~~~~~~~~~~N#CC1=C2Cc3c1cccc3C1(CCC(F)(F)CC1C#N)N2^~~~~~~~~~~~~~~~~~~~~~~~~~~~~~~~~~~~~~~~~~~~~~~~~~~~~~~~~~~~CCOC(=O)c1cnc(N(c2ccc(Cl)cc2)c2cc(N)ccc2OCc2cnn(C)c2C)nc1C^~~~~~~~~~~~~~~~~~~~~~~~~~~~~~~~~~~~~~~~~COC(=O)c1sc2ccc(Br)cc2c1NC(=O)c1ccccc1N(C)C^~~~~~~~~~~~~~~~~~~~~~~~~~~~~~~~~~~~~~~~~~~~~~~~~~~~~~~~CCn1cc(C(=O)N(c2ccc(C(=O)O)cc2C)S(=O)(=O)c2ccc(C)cc2)c(=O)c2ccc(C)nc21^~~~~~~~~~~~~~~~~~~~~~~~~~~~~CC(C)(C)c1nc(-c2ccc(C(=O)c3sc(CO)nc3C3CC3)cc2)no1^~~~~~~~~~~~~~~~~~~~~~~~~~~~~~~~~~~~~~~~~~~~~~~~~~OC1(C2CC2)CN(c2cc(Cl)ccc2NCc2ccccc2F)C1^~~~~~~~~~~~~~~~~~~~~~~~~~~~~~~~~~~~~~~~~~~~~~~~~~~~~~~~~~~~CSc1nc(Nc2cnc(NC3CC3)c(Br)c2)cc(NC(C)C)n1^~~~~~~~~~~~~~~~~~~~~~~~~~~~~~~~~~~~~~~~~~~~~~~~~~~~~~~~~~Cc1cc(OC(c2ccc(F)cc2)c2ccc(C#N)cc2)nc(C(C)C)n1^~~~~~~~~~~~~~~~~~~~~~~~~~~~~~~~~~~~~~~~~~~~~~~~~~~~~COC(=O)c1ccc(-c2ccc(NC(=O)c3ccc(-c4cc(C#N)ccn4)cc3)cc2)cc1F^~~~~~~~~~~~~~~~~~~~~~~~~~~~~~~~~~~~~~~~CCNC(=O)Nc1nc(SC)sc1C(=O)c1c(CO)c2cc(C)cnc2n1C(=O)OC(C)(C)C^~~~~~~~~~~~~~~~~~~~~~~~~~~~~~~~~~~~~~~~O=C(O)C(Nc1ccc(-c2nc3cc(S(F)(F)(F)(F)F)ccc3[nH]2)cc1)c1cccc(O)c1^~~~~~~~~~~~~~~~~~~~~~~~~~~~~~~~~~~CCOc1c(Nc2cc(Br)c(Br)cc2N)cc(C(=O)O)cc1OC^~~~~~~~~~~~~~~~~~~~~~~~~~~~~~~~~~~~~~~~~~~~~~~~~~~~~~~~~~COc1c(N2CCN(c3ccc(Cl)cc3C(=O)C3CC(=O)N(c4ccccc4Cl)C3)CC2)c(=O)c1=O^~~~~~~~~~~~~~~~~~~~~~~~~~~~~~~~~COc1cc2nc(C(=O)Nc3cc(COCCC(F)(F)F)n(C)n3)cc(OC)c2cc1OC^~~~~~~~~~~~~~~~~~~~~~~~~~~~~~~~~~~~~~~~~~~~~COc1ccc(NC(=O)c2ccccc2C(F)(F)Nc2ccc(CO)cc2N)cc1^~~~~~~~~~~~~~~~~~~~~~~~~~~~~~~~~~~~~~~~~~~~~~~~~~~~Cc1cc(C)n(-c2ccccc2COC(C)Cn2c(N)cnc2C)n1^~~~~~~~~~~~~~~~~~~~~~~~~~~~~~~~~~~~~~~~~~~~~~~~~~~~~~~~~~~Cc1cccc(N(CC(=O)N[C@@H]2CC[C@H](O)C2)S(C)(=O)=O)c1^~~~~~~~~~~~~~~~~~~~~~~~~~~~~~~~~~~~~~~~~~~~~~~~~COC(=O)C(C)(C(=O)C1CN(Cc2ccccc2)CC(F)(F)C1O)N(c1cccc(C)c1)S(C)(=O)=O^~~~~~~~~~~~~~~~~~~~~~~~~~~~~~~Cc1ccc(N(CC2CC2C)S(=O)(=O)c2ccc3nncn3c2)cc1F^~~~~~~~~~~~~~~~~~~~~~~~~~~~~~~~~~~~~~~~~~~~~~~~~~~~~~~CC(=O)n1cc(NC2(C(C)(C)C)CC2)c2cccc(C)c21^~~~~~~~~~~~~~~~~~~~~~~~~~~~~~~~~~~~~~~~~~~~~~~~~~~~~~~~~~~Nc1cncc(NC(=O)c2cc(F)ccc2-c2ccc(F)cc2F)n1^~~~~~~~~~~~~~~~~~~~~~~~~~~~~~~~~~~~~~~~~~~~~~~~~~~~~~~~~~CN1C(=O)C(CC(=O)c2ccncc2)(n2c(C(=O)OC(C)(C)C)nc3ccc(N)cc32)c2ccccc21^~~~~~~~~~~~~~~~~~~~~~~~~~~~~~~NCC(C(=O)Nc1nnc(C2CCN(C(=O)c3ccccc3)CC2)s1)c1ccc(Cl)cc1^~~~~~~~~~~~~~~~~~~~~~~~~~~~~~~~~~~~~~~~~~~~CCCCCC(N)CC(=O)N1CCCC1c1nc2ccccc2n1CC^~~~~~~~~~~~~~~~~~~~~~~~~~~~~~~~~~~~~~~~~~~~~~~~~~~~~~~~~~~~~~CC1(NC(=O)C2CCC(O)CC2)CCc2cc(Br)ccc21^~~~~~~~~~~~~~~~~~~~~~~~~~~~~~~~~~~~~~~~~~~~~~~~~~~~~~~~~~~~~~O=C1COc2ccnc(-c3ccc(CS(=O)(=O)N4CCC(C(=O)O)CC4)cc3)c2N1^~~~~~~~~~~~~~~~~~~~~~~~~~~~~~~~~~~~~~~~~~~~CC(C)n1ccc2cc(C(=O)O[C@@H]3C=CO[C@H](CO)[C@H]3O)ccc21^~~~~~~~~~~~~~~~~~~~~~~~~~~~~~~~~~~~~~~~~~~~~~Cn1c2ccccc2c2cc(-c3nc4ccc(C#N)cc4o3)ccc21^~~~~~~~~~~~~~~~~~~~~~~~~~~~~~~~~~~~~~~~~~~~~~~~~~~~~~~~~~CCOC(=O)c1sc2ccc(N3CCC(COc4ccc(C(=O)NC5CC5)cc4)CC3)cc2c1N^~~~~~~~~~~~~~~~~~~~~~~~~~~~~~~~~~~~~~~~~~COC(=O)CC(=O)c1ccc(C(F)(F)NC2CN(C(C)(C)C)C2)cc1^~~~~~~~~~~~~~~~~~~~~~~~~~~~~~~~~~~~~~~~~~~~~~~~~~~~COC(=O)c1cc(F)c(Nc2cc(C(=O)O)cc(-c3ccccc3C(C)=O)c2)c(F)c1^~~~~~~~~~~~~~~~~~~~~~~~~~~~~~~~~~~~~~~~~~CN(c1nc2c(s1)C(=O)c1ccccc1C2=O)c1cccc2cccc(C(=O)O)c12^~~~~~~~~~~~~~~~~~~~~~~~~~~~~~~~~~~~~~~~~~~~~~CNC(=O)C(C)NC(=O)CC(NCc1ccccc1)C(=O)Nc1ccccc1C#N^~~~~~~~~~~~~~~~~~~~~~~~~~~~~~~~~~~~~~~~~~~~~~~~~~~CS(=O)(=O)N(Cc1ccc(-c2ccc(-c3ccc(F)cc3F)cc2C(=O)O)cc1)c1ccccc1F^~~~~~~~~~~~~~~~~~~~~~~~~~~~~~~~~~~~CC(=O)NCCOc1ccc(Nc2cc(Br)c3nsnc3c2)cc1OCCNC(C)=O^~~~~~~~~~~~~~~~~~~~~~~~~~~~~~~~~~~~~~~~~~~~~~~~~~~NC(=O)c1noc(C(=O)O)n1.O=S(=O)(CCNCc1ccc(O)cc1)N1CCCCC1^~~~~~~~~~~~~~~~~~~~~~~~~~~~~~~~~~~~~~~~~~~~~Cc1ccc(-c2ccc(-c3c(C)ccc(O)c3N)c(Cl)c2)c(C(=O)O)c1^~~~~~~~~~~~~~~~~~~~~~~~~~~~~~~~~~~~~~~~~~~~~~~~~Cc1ccc(N(CC(=O)O)CC(=O)Nc2cc(COCCC(F)(F)F)n(C)n2)cc1^~~~~~~~~~~~~~~~~~~~~~~~~~~~~~~~~~~~~~~~~~~~~~~COC(=O)N1CCN(c2ccc(-c3cnc4c(c3)C(=O)NC(=O)C4)cc2)CC1^~~~~~~~~~~~~~~~~~~~~~~~~~~~~~~~~~~~~~~~~~~~~~~CC1CN(C(=O)OC(C)(C)C)CCC1C(=O)c1cc2c(=O)[nH][nH]c(=O)c2s1^~~~~~~~~~~~~~~~~~~~~~~~~~~~~~~~~~~~~~~~~~O=C(Oc1c(Br)cccc1Br)C1(n2cccc2)CCCCC1^~~~~~~~~~~~~~~~~~~~~~~~~~~~~~~~~~~~~~~~~~~~~~~~~~~~~~~~~~~~~~CC1(C)CC1NCC(O)COC(F)(F)C(F)Cl^~~~~~~~~~~~~~~~~~~~~~~~~~~~~~~~~~~~~~~~~~~~~~~~~~~~~~~~~~~~~~~~~~~~~Cn1c(=O)oc2ccc(CNC(=O)CNCC(=O)Nc3ccc(NC(=O)c4ccco4)cc3)cc21^~~~~~~~~~~~~~~~~~~~~~~~~~~~~~~~~~~~~~~~CCOC(=O)C(C#N)c1ncc(C(F)(F)F)cc1NC1(C(C)(C)C)CC1^~~~~~~~~~~~~~~~~~~~~~~~~~~~~~~~~~~~~~~~~~~~~~~~~~~Cc1cc(C)n(C(=O)c2sccc2N(C)S(=O)(=O)c2ccc(-c3ccc(C(=O)O)cc3N)cc2)n1^~~~~~~~~~~~~~~~~~~~~~~~~~~~~~~~~O=S(=O)(NCCN1C[C@H]2C=C[C@@H]1C2)c1ccoc1^~~~~~~~~~~~~~~~~~~~~~~~~~~~~~~~~~~~~~~~~~~~~~~~~~~~~~~~~~~N#CC1CCC(OC(=O)CC2c3ccccc3Sc3ccc(Cl)cc32)CC1^~~~~~~~~~~~~~~~~~~~~~~~~~~~~~~~~~~~~~~~~~~~~~~~~~~~~~~CCOC(=O)c1ccc(N(C(=O)c2ccc(N3CCCCCC3)c(N)c2)c2ncccc2N)cc1^~~~~~~~~~~~~~~~~~~~~~~~~~~~~~~~~~~~~~~~~~CCOC(=O)c1nc2cc(C)ccn2c1N1CC(C)(F)C1^~~~~~~~~~~~~~~~~~~~~~~~~~~~~~~~~~~~~~~~~~~~~~~~~~~~~~~~~~~~~~~CCOC(=O)c1cn2cc(-c3ccc(OC)c(O)c3)cc(C)c2n1^~~~~~~~~~~~~~~~~~~~~~~~~~~~~~~~~~~~~~~~~~~~~~~~~~~~~~~~~C[C@@H](N)c1ccc(N(C)CCc2noc(COc3ccc4c(c3)CCC4)n2)cc1F^~~~~~~~~~~~~~~~~~~~~~~~~~~~~~~~~~~~~~~~~~~~~~CN(C)C(C#N)c1ccc(Cl)c(N(CCC2CCCNC2)S(C)(=O)=O)c1^~~~~~~~~~~~~~~~~~~~~~~~~~~~~~~~~~~~~~~~~~~~~~~~~~~CCOc1ccc(N(CC(=O)O)S(=O)(=O)c2ccc(-c3cc(C(=O)OC)n(C)c3)cc2)cc1^~~~~~~~~~~~~~~~~~~~~~~~~~~~~~~~~~~~~COc1ccccc1N(CCCC(=O)N1CC(O)(C2CC2)C1)S(C)(=O)=O^~~~~~~~~~~~~~~~~~~~~~~~~~~~~~~~~~~~~~~~~~~~~~~~~~~~COC(=O)c1ncc(F)cc1NC1=C(C#N)c2ccccc2C1^~~~~~~~~~~~~~~~~~~~~~~~~~~~~~~~~~~~~~~~~~~~~~~~~~~~~~~~~~~~~NCCOCCOCCOCCC(=O)Oc1cccc(Cl)c1C1CC1^~~~~~~~~~~~~~~~~~~~~~~~~~~~~~~~~~~~~~~~~~~~~~~~~~~~~~~~~~~~~~~~CN1C(=O)C(CC(=O)c2ccncc2)(Nc2ccc(Cl)c(OCc3ccccc3)c2)c2ccccc21^~~~~~~~~~~~~~~~~~~~~~~~~~~~~~~~~~~~~~COc1cc(-c2ccc(O)c(OC(=O)c3cccc(F)c3F)c2)nc2ccccc12^~~~~~~~~~~~~~~~~~~~~~~~~~~~~~~~~~~~~~~~~~~~~~~~~CC(C)(C)OC(=O)N1CCN(C(=O)[C@H](Cc2c[nH]cn2)NC(=O)OCc2ccccc2)CC1(C)C^~~~~~~~~~~~~~~~~~~~~~~~~~~~~~~~COC(=O)c1ccc(Nc2c(Cl)cccc2OC)cc1^~~~~~~~~~~~~~~~~~~~~~~~~~~~~~~~~~~~~~~~~~~~~~~~~~~~~~~~~~~~~~~~~~~CC(C(=O)c1cnn(C)c1)C(=O)C(C)C(C)(O)c1ccc(NC=C2C(=O)CC(C)(C)CC2=O)cc1^~~~~~~~~~~~~~~~~~~~~~~~~~~~~~~COC(=O)C(C(=O)c1sc2cc(C(F)(F)F)cnc2c1N)N(c1ccccc1OC)S(C)(=O)=O^~~~~~~~~~~~~~~~~~~~~~~~~~~~~~~~~~~~~O=C(NC1(C(F)(F)F)CNC1)c1cccc2c(Cl)cccc12^~~~~~~~~~~~~~~~~~~~~~~~~~~~~~~~~~~~~~~~~~~~~~~~~~~~~~~~~~~CCCCOc1cc(F)c(NC(=O)c2sc(SC)nc2N)c(F)c1^~~~~~~~~~~~~~~~~~~~~~~~~~~~~~~~~~~~~~~~~~~~~~~~~~~~~~~~~~~~Cn1nc(-c2nc(-c3ccccc3)no2)c2c1CCN(c1cccc(Cl)c1CC(=N)N)C2^~~~~~~~~~~~~~~~~~~~~~~~~~~~~~~~~~~~~~~~~~~CC(C)(C)n1nnc2cc(-c3ccccc3OC(=O)c3ccccc3Br)c(F)cc21^~~~~~~~~~~~~~~~~~~~~~~~~~~~~~~~~~~~~~~~~~~~~~~~OCCc1cc(C2CCN(c3ccc(O)c(F)c3)C2)n[nH]1^~~~~~~~~~~~~~~~~~~~~~~~~~~~~~~~~~~~~~~~~~~~~~~~~~~~~~~~~~~~~Cn1nc(-c2nc(-c3ccccc3)no2)c2c1CCN(c1cccc(Cl)c1CC(=N)N)C2^~~~~~~~~~~~~~~~~~~~~~~~~~~~~~~~~~~~~~~~~~~CC1=C(C(O)c2ccccc2C#CCCCCN2C(=O)c3ccccc3C2=O)C(=O)CO1^~~~~~~~~~~~~~~~~~~~~~~~~~~~~~~~~~~~~~~~~~~~~~COC(=O)c1cc2c(-c3cc(C)cn4ccnc34)ccnc2[nH]1^~~~~~~~~~~~~~~~~~~~~~~~~~~~~~~~~~~~~~~~~~~~~~~~~~~~~~~~~CS(=O)(=O)N(CCCc1nc(C(N)=O)no1)c1cc(Cl)ccc1Cl^~~~~~~~~~~~~~~~~~~~~~~~~~~~~~~~~~~~~~~~~~~~~~~~~~~~~~COc1cc(OC(C)C)cc(-c2cc(C(=O)O)cc(F)c2C)c1^~~~~~~~~~~~~~~~~~~~~~~~~~~~~~~~~~~~~~~~~~~~~~~~~~~~~~~~~~COc1ccc(OC)c(NC(=O)CNC(=O)[C@H](Cc2c[nH]c3ccccc23)NC(=O)CN)c1^~~~~~~~~~~~~~~~~~~~~~~~~~~~~~~~~~~~~~CCOc1ccc(N(c2cc(Br)cc(F)c2C)S(=O)(=O)c2ccc3nncn3c2)cc1^~~~~~~~~~~~~~~~~~~~~~~~~~~~~~~~~~~~~~~~~~~~~COC(=O)c1cc2ccc(N(c3nc(C)c(C)c(=O)[nH]3)c3cccc(C)c3C)cc2o1^~~~~~~~~~~~~~~~~~~~~~~~~~~~~~~~~~~~~~~~~COC(=O)CCCN(c1cccc(-c2ccc(C)c(N)c2)c1)S(C)(=O)=O^~~~~~~~~~~~~~~~~~~~~~~~~~~~~~~~~~~~~~~~~~~~~~~~~~~Cn1nc(-c2nc(-c3cccc(F)c3)no2)c2c1CCN(c1cccc(C3CC(=O)c4cnc(N)nc4C3)c1)C2^~~~~~~~~~~~~~~~~~~~~~~~~~~~Cn1ncc(Cl)c1CCC(=O)N(c1ccc2c(c1)OCCO2)S(=O)(=O)c1ccc2nncn2c1^~~~~~~~~~~~~~~~~~~~~~~~~~~~~~~~~~~~~~~COc1cc2ccc(=O)oc2c(OC)c1OC(=O)Cc1ccc(-c2cccc(OCc3ccccc3)c2)cc1^~~~~~~~~~~~~~~~~~~~~~~~~~~~~~~~~~~~~CCCCN1C(=O)C(OC(=O)Cc2c(Cl)cnn2C(C)C)(c2c[nH]c3ccccc23)c2ccccc21^~~~~~~~~~~~~~~~~~~~~~~~~~~~~~~~~~~\n"
          ],
          "name": "stdout"
        }
      ]
    },
    {
      "cell_type": "code",
      "metadata": {
        "id": "UbAfwhTL3kfj",
        "colab_type": "code",
        "colab": {}
      },
      "source": [
        "encoder_model = Model(encoder_inputs, encoder_states)\n",
        "\n",
        "decoder_state_input_h = Input(shape=(64,))\n",
        "decoder_state_input_c = Input(shape=(64,))\n",
        "decoder_states_inputs = [decoder_state_input_h, decoder_state_input_c]\n",
        "decoder_outputs, state_h, state_c = decoder_lstm(\n",
        "    decoder_inputs, initial_state=decoder_states_inputs)\n",
        "decoder_states = [state_h, state_c]\n",
        "decoder_outputs = decoder_dense(decoder_outputs)\n",
        "decoder_model = Model(\n",
        "    [decoder_inputs] + decoder_states_inputs,\n",
        "    [decoder_outputs] + decoder_states)"
      ],
      "execution_count": 0,
      "outputs": []
    },
    {
      "cell_type": "code",
      "metadata": {
        "id": "YcmbQyI6Vy5B",
        "colab_type": "code",
        "colab": {}
      },
      "source": [
        "def decode_sequence(input_seq):\n",
        "    # Encode the input as state vectors.\n",
        "    states_value = encoder_model.predict(input_seq)\n",
        "\n",
        "    # Generate empty target sequence of length 1.\n",
        "    target_seq = np.zeros((1, 99, 38))\n",
        "    # Populate the first character of target sequence with the start character.\n",
        "    target_seq[0, :, 6] = 1.\n",
        "\n",
        "    # Sampling loop for a batch of sequences\n",
        "    # (to simplify, here we assume a batch of size 1).\n",
        "    stop_condition = False\n",
        "    decoded_sentence = ''\n",
        "    while not stop_condition:\n",
        "        output_tokens, h, c = decoder_model.predict(\n",
        "            [target_seq] + states_value)\n",
        "\n",
        "        # Sample a token\n",
        "        sampled_token_index = np.argmax(output_tokens[0, -1, :])\n",
        "        sampled_char = vocab[sampled_token_index]\n",
        "        decoded_sentence += sampled_char\n",
        "\n",
        "        # Exit condition: either hit max length\n",
        "        # or find stop character.\n",
        "        if (sampled_char == '^' or\n",
        "           len(decoded_sentence) > 99):\n",
        "            stop_condition = True\n",
        "\n",
        "        # Update the target sequence (of length 1).\n",
        "        target_seq = np.zeros((1, 99, 38))\n",
        "        target_seq[0, :, sampled_token_index] = 1.\n",
        "\n",
        "        # Update states\n",
        "        states_value = [h, c]\n",
        "\n",
        "    return decoded_sentence"
      ],
      "execution_count": 0,
      "outputs": []
    },
    {
      "cell_type": "code",
      "metadata": {
        "id": "OAKEmF3NWK0y",
        "colab_type": "code",
        "outputId": "abbf3857-c625-4ead-fdc9-a1ece5ae885a",
        "colab": {
          "base_uri": "https://localhost:8080/",
          "height": 34
        }
      },
      "source": [
        "F_train[0].shape\n",
        "start_chars = np.zeros((1, 38))\n",
        "start_chars[:,vocab.index('%')] = 1\n",
        "test_input = np.concatenate([start_chars, F_train[20][0][np.newaxis,:]], axis=1).reshape(1, 1, 128)\n",
        "decode_sequence(test_input)"
      ],
      "execution_count": 59,
      "outputs": [
        {
          "output_type": "execute_result",
          "data": {
            "text/plain": [
              "')1^'"
            ]
          },
          "metadata": {
            "tags": []
          },
          "execution_count": 59
        }
      ]
    },
    {
      "cell_type": "code",
      "metadata": {
        "id": "yWlw7IcAWk5W",
        "colab_type": "code",
        "outputId": "c31230c7-d247-48de-d47d-9ab8af98e1f7",
        "colab": {
          "base_uri": "https://localhost:8080/",
          "height": 221
        }
      },
      "source": [
        "encoder_model.summary()"
      ],
      "execution_count": 0,
      "outputs": [
        {
          "output_type": "stream",
          "text": [
            "Model: \"model_2\"\n",
            "_________________________________________________________________\n",
            "Layer (type)                 Output Shape              Param #   \n",
            "=================================================================\n",
            "input_1 (InputLayer)         (None, 99, 128)           0         \n",
            "_________________________________________________________________\n",
            "lstm_1 (LSTM)                [(None, 64), (None, 64),  49408     \n",
            "=================================================================\n",
            "Total params: 49,408\n",
            "Trainable params: 49,408\n",
            "Non-trainable params: 0\n",
            "_________________________________________________________________\n"
          ],
          "name": "stdout"
        }
      ]
    },
    {
      "cell_type": "code",
      "metadata": {
        "id": "20tez1LuhJNY",
        "colab_type": "code",
        "outputId": "20178e49-aeb9-4ddd-f231-d5953fd4aac8",
        "colab": {
          "base_uri": "https://localhost:8080/",
          "height": 357
        }
      },
      "source": [
        "decoder_model.summary()"
      ],
      "execution_count": 0,
      "outputs": [
        {
          "output_type": "stream",
          "text": [
            "Model: \"model_3\"\n",
            "__________________________________________________________________________________________________\n",
            "Layer (type)                    Output Shape         Param #     Connected to                     \n",
            "==================================================================================================\n",
            "input_2 (InputLayer)            (None, 99, 38)       0                                            \n",
            "__________________________________________________________________________________________________\n",
            "input_3 (InputLayer)            (None, 64)           0                                            \n",
            "__________________________________________________________________________________________________\n",
            "input_4 (InputLayer)            (None, 64)           0                                            \n",
            "__________________________________________________________________________________________________\n",
            "lstm_2 (LSTM)                   [(None, 99, 64), (No 26368       input_2[0][0]                    \n",
            "                                                                 input_3[0][0]                    \n",
            "                                                                 input_4[0][0]                    \n",
            "__________________________________________________________________________________________________\n",
            "dense_1 (Dense)                 (None, 99, 38)       2470        lstm_2[1][0]                     \n",
            "==================================================================================================\n",
            "Total params: 28,838\n",
            "Trainable params: 28,838\n",
            "Non-trainable params: 0\n",
            "__________________________________________________________________________________________________\n"
          ],
          "name": "stdout"
        }
      ]
    }
  ]
}